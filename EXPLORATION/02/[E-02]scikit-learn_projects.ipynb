{
  "nbformat": 4,
  "nbformat_minor": 5,
  "metadata": {
    "kernelspec": {
      "display_name": "Python 3",
      "language": "python",
      "name": "python3"
    },
    "language_info": {
      "codemirror_mode": {
        "name": "ipython",
        "version": 3
      },
      "file_extension": ".py",
      "mimetype": "text/x-python",
      "name": "python",
      "nbconvert_exporter": "python",
      "pygments_lexer": "ipython3",
      "version": "3.7.9"
    },
    "colab": {
      "name": "toy_projects.ipynb",
      "provenance": [],
      "include_colab_link": true
    }
  },
  "cells": [
    {
      "cell_type": "markdown",
      "metadata": {
        "id": "view-in-github",
        "colab_type": "text"
      },
      "source": [
        "<a href=\"https://colab.research.google.com/github/t1seo/AIFFEL/blob/master/EXPLORATION/02/%5BE-02%5Dscikit-learn_projects.ipynb\" target=\"_parent\"><img src=\"https://colab.research.google.com/assets/colab-badge.svg\" alt=\"Open In Colab\"/></a>"
      ]
    },
    {
      "cell_type": "markdown",
      "metadata": {
        "id": "small-rabbit"
      },
      "source": [
        "# 프로젝트 (1) load_digits : 손글씨를 분류해 봅시다\n",
        "- `load_digits` : 손글씨 이미지 데이터 ([링크](https://scikit-learn.org/stable/modules/generated/sklearn.datasets.load_digits.html#sklearn.datasets.load_digits))"
      ],
      "id": "small-rabbit"
    },
    {
      "cell_type": "markdown",
      "metadata": {
        "id": "center-disease"
      },
      "source": [
        "## (1) 필요한 모듈 import하기"
      ],
      "id": "center-disease"
    },
    {
      "cell_type": "code",
      "metadata": {
        "id": "deadly-dakota"
      },
      "source": [
        "from sklearn.datasets import load_digits\n",
        "from sklearn.model_selection import train_test_split\n",
        "from sklearn.metrics import classification_report\n",
        "from sklearn.metrics import accuracy_score\n",
        "import warnings\n",
        "\n",
        "warnings.filterwarnings(action='ignore')"
      ],
      "id": "deadly-dakota",
      "execution_count": 1,
      "outputs": []
    },
    {
      "cell_type": "markdown",
      "metadata": {
        "id": "behind-simulation"
      },
      "source": [
        "## (2) 데이터 준비"
      ],
      "id": "behind-simulation"
    },
    {
      "cell_type": "code",
      "metadata": {
        "colab": {
          "base_uri": "https://localhost:8080/"
        },
        "id": "signal-sample",
        "outputId": "a6adc5a6-48cf-4b39-baf6-463005a6a482"
      },
      "source": [
        "digits = load_digits()\n",
        "\n",
        "print(dir(digits))"
      ],
      "id": "signal-sample",
      "execution_count": 2,
      "outputs": [
        {
          "output_type": "stream",
          "text": [
            "['DESCR', 'data', 'images', 'target', 'target_names']\n"
          ],
          "name": "stdout"
        }
      ]
    },
    {
      "cell_type": "code",
      "metadata": {
        "id": "irish-temple"
      },
      "source": [
        "def print_data_info(scikit_data, feature_names=False):\n",
        "    print(\"data의 type: \", type(scikit_data))\n",
        "    print(\"data의 shape: \", scikit_data.data.shape)\n",
        "    print()\n",
        "    \n",
        "    if feature_names:\n",
        "        print(\"feature_name 출력: \")\n",
        "        print(scikit_data.feature_names)\n",
        "        print()\n",
        "        print(\"feature_name의 type: \", type(scikit_data.feature_names))\n",
        "        print(\"feature_name의 shape: \", len(scikit_data.feature_names))\n",
        "        print()\n",
        "\n",
        "    print(\"target_name: \", scikit_data.target_names)\n",
        "    print(\"target_name의 type: \", type(scikit_data.target_names))\n",
        "    print(\"target_name의 shape: \", len(scikit_data.target_names))\n",
        "    print()\n",
        "\n",
        "\n",
        "    print(\"target의 type: \", type(scikit_data.target))\n",
        "    print(\"target의 shape: \", scikit_data.target.shape)\n",
        "    print()"
      ],
      "id": "irish-temple",
      "execution_count": 3,
      "outputs": []
    },
    {
      "cell_type": "markdown",
      "metadata": {
        "id": "british-radio"
      },
      "source": [
        "## (3) 데이터 이해하기\n",
        "- Feature Data 지정하기\n",
        "- Label Data 지정하기\n",
        "- Target Names 출력해 보기\n",
        "- 데이터 Describe 해 보기"
      ],
      "id": "british-radio"
    },
    {
      "cell_type": "code",
      "metadata": {
        "colab": {
          "base_uri": "https://localhost:8080/"
        },
        "id": "acquired-behavior",
        "outputId": "df5c8a10-695a-4fac-d888-7dece84b4485"
      },
      "source": [
        "print_data_info(digits)"
      ],
      "id": "acquired-behavior",
      "execution_count": 4,
      "outputs": [
        {
          "output_type": "stream",
          "text": [
            "data의 type:  <class 'sklearn.utils.Bunch'>\n",
            "data의 shape:  (1797, 64)\n",
            "\n",
            "target_name:  [0 1 2 3 4 5 6 7 8 9]\n",
            "target_name의 type:  <class 'numpy.ndarray'>\n",
            "target_name의 shape:  10\n",
            "\n",
            "target의 type:  <class 'numpy.ndarray'>\n",
            "target의 shape:  (1797,)\n",
            "\n"
          ],
          "name": "stdout"
        }
      ]
    },
    {
      "cell_type": "code",
      "metadata": {
        "colab": {
          "base_uri": "https://localhost:8080/"
        },
        "id": "FgNwqD47uuWZ",
        "outputId": "6e89a29e-2252-4e3c-b5e3-f96872b41775"
      },
      "source": [
        "# 0번 데이터의 내용확인\n",
        "digits.data[0]"
      ],
      "id": "FgNwqD47uuWZ",
      "execution_count": 5,
      "outputs": [
        {
          "output_type": "execute_result",
          "data": {
            "text/plain": [
              "array([ 0.,  0.,  5., 13.,  9.,  1.,  0.,  0.,  0.,  0., 13., 15., 10.,\n",
              "       15.,  5.,  0.,  0.,  3., 15.,  2.,  0., 11.,  8.,  0.,  0.,  4.,\n",
              "       12.,  0.,  0.,  8.,  8.,  0.,  0.,  5.,  8.,  0.,  0.,  9.,  8.,\n",
              "        0.,  0.,  4., 11.,  0.,  1., 12.,  7.,  0.,  0.,  2., 14.,  5.,\n",
              "       10., 12.,  0.,  0.,  0.,  0.,  6., 13., 10.,  0.,  0.,  0.])"
            ]
          },
          "metadata": {
            "tags": []
          },
          "execution_count": 5
        }
      ]
    },
    {
      "cell_type": "code",
      "metadata": {
        "colab": {
          "base_uri": "https://localhost:8080/"
        },
        "id": "rHpHK_Cmu1WT",
        "outputId": "edb8078a-76b4-4876-c32c-32c5da138fac"
      },
      "source": [
        "digits.target_names"
      ],
      "id": "rHpHK_Cmu1WT",
      "execution_count": 6,
      "outputs": [
        {
          "output_type": "execute_result",
          "data": {
            "text/plain": [
              "array([0, 1, 2, 3, 4, 5, 6, 7, 8, 9])"
            ]
          },
          "metadata": {
            "tags": []
          },
          "execution_count": 6
        }
      ]
    },
    {
      "cell_type": "code",
      "metadata": {
        "colab": {
          "base_uri": "https://localhost:8080/"
        },
        "id": "O5yf0dFKu5rr",
        "outputId": "2f906194-69dd-44ef-caa8-2fc40375c9b1"
      },
      "source": [
        "digits.target.shape"
      ],
      "id": "O5yf0dFKu5rr",
      "execution_count": 7,
      "outputs": [
        {
          "output_type": "execute_result",
          "data": {
            "text/plain": [
              "(1797,)"
            ]
          },
          "metadata": {
            "tags": []
          },
          "execution_count": 7
        }
      ]
    },
    {
      "cell_type": "markdown",
      "metadata": {
        "id": "ZBKifNnKuHon"
      },
      "source": [
        "- `digit_data`에 feature가 들어 있고, `digit_target`에 target이 들어있다."
      ],
      "id": "ZBKifNnKuHon"
    },
    {
      "cell_type": "code",
      "metadata": {
        "colab": {
          "base_uri": "https://localhost:8080/",
          "height": 141
        },
        "id": "UMn-GBJDrXA4",
        "outputId": "4ec6bef3-df2e-46b2-edac-29034f7e3614"
      },
      "source": [
        "import matplotlib.pyplot as plt\n",
        "\n",
        "# 이미지 확인\n",
        "_, axes = plt.subplots(nrows=1, ncols=10, figsize=(20, 20))\n",
        "for ax, image, label in zip(axes, digits.images, digits.target):\n",
        "    ax.set_axis_off()\n",
        "    ax.imshow(image, cmap=plt.cm.gray_r, interpolation='nearest')\n",
        "    ax.set_title('Training: %i' % label)"
      ],
      "id": "UMn-GBJDrXA4",
      "execution_count": 8,
      "outputs": [
        {
          "output_type": "display_data",
          "data": {
            "image/png": "[encoded data removed]",
            "text/plain": [
              "<Figure size 1440x1440 with 10 Axes>"
            ]
          },
          "metadata": {
            "tags": [],
            "needs_background": "light"
          }
        }
      ]
    },
    {
      "cell_type": "code",
      "metadata": {
        "id": "english-capitol"
      },
      "source": [
        "# feature data와 label data 지정\n",
        "feature_data = digits.data\n",
        "label_data = digits.target"
      ],
      "id": "english-capitol",
      "execution_count": 9,
      "outputs": []
    },
    {
      "cell_type": "markdown",
      "metadata": {
        "id": "departmental-expansion"
      },
      "source": [
        "## (4) train, test 데이터 분리"
      ],
      "id": "departmental-expansion"
    },
    {
      "cell_type": "code",
      "metadata": {
        "id": "intellectual-coupon",
        "colab": {
          "base_uri": "https://localhost:8080/"
        },
        "outputId": "42e0f94c-f813-437e-a47a-eeed9618ab00"
      },
      "source": [
        "from sklearn.model_selection import train_test_split\n",
        "\n",
        "X_train, X_test, y_train, y_test = train_test_split(feature_data, \n",
        "                                                    label_data,\n",
        "                                                    test_size=0.2,\n",
        "                                                    random_state=42)\n",
        "\n",
        "print(f\"학습 데이터: {X_train.shape}, {y_train.shape}\")\n",
        "print(f\"테스트 데이터: {X_test.shape}, {y_test.shape}\")"
      ],
      "id": "intellectual-coupon",
      "execution_count": 10,
      "outputs": [
        {
          "output_type": "stream",
          "text": [
            "학습 데이터: (1437, 64), (1437,)\n",
            "테스트 데이터: (360, 64), (360,)\n"
          ],
          "name": "stdout"
        }
      ]
    },
    {
      "cell_type": "markdown",
      "metadata": {
        "id": "minor-standard"
      },
      "source": [
        "## (5) 다양한 모델로 학습시켜보기\n",
        "- Decision Tree 사용해 보기\n",
        "- Random Forest 사용해 보기\n",
        "- SVM 사용해 보기\n",
        "- SGD Classifier 사용해 보기\n",
        "- Logistic Regression 사용해 보기\n",
        "\n",
        "어떤 모델이 가장 좋은 성능을 보일까?"
      ],
      "id": "minor-standard"
    },
    {
      "cell_type": "markdown",
      "metadata": {
        "id": "comprehensive-costa"
      },
      "source": [
        "### Decision Tree"
      ],
      "id": "comprehensive-costa"
    },
    {
      "cell_type": "code",
      "metadata": {
        "colab": {
          "base_uri": "https://localhost:8080/"
        },
        "id": "conscious-alfred",
        "outputId": "b06de8f5-c134-4f89-8ac7-821742112191"
      },
      "source": [
        "from sklearn.tree import DecisionTreeClassifier\n",
        "from sklearn.model_selection import cross_val_score, cross_validate\n",
        "\n",
        "dt_clf = DecisionTreeClassifier() \n",
        "dt_clf.fit(X_train, y_train)\n",
        "pred = dt_clf.predict(X_test)\n",
        "accuracy = accuracy_score(y_test, pred)\n",
        "\n",
        "print(classification_report(y_test, pred))\n",
        "print(f\"Decision Tree 정확도: {accuracy:.3f}\")"
      ],
      "id": "conscious-alfred",
      "execution_count": 11,
      "outputs": [
        {
          "output_type": "stream",
          "text": [
            "              precision    recall  f1-score   support\n",
            "\n",
            "           0       0.97      0.88      0.92        33\n",
            "           1       0.88      0.79      0.83        28\n",
            "           2       0.81      0.79      0.80        33\n",
            "           3       0.75      0.88      0.81        34\n",
            "           4       0.78      0.83      0.80        46\n",
            "           5       0.89      0.87      0.88        47\n",
            "           6       0.87      0.97      0.92        35\n",
            "           7       0.88      0.85      0.87        34\n",
            "           8       0.91      0.67      0.77        30\n",
            "           9       0.82      0.90      0.86        40\n",
            "\n",
            "    accuracy                           0.85       360\n",
            "   macro avg       0.86      0.84      0.85       360\n",
            "weighted avg       0.85      0.85      0.85       360\n",
            "\n",
            "Decision Tree 정확도: 0.847\n"
          ],
          "name": "stdout"
        }
      ]
    },
    {
      "cell_type": "markdown",
      "metadata": {
        "id": "corresponding-arnold"
      },
      "source": [
        "### Random Forest"
      ],
      "id": "corresponding-arnold"
    },
    {
      "cell_type": "code",
      "metadata": {
        "colab": {
          "base_uri": "https://localhost:8080/"
        },
        "id": "suspected-public",
        "outputId": "bd26d5ad-8b67-4921-ad34-bc154add9317"
      },
      "source": [
        "from sklearn.ensemble import RandomForestClassifier\n",
        "\n",
        "rf_clf = RandomForestClassifier(random_state=32)\n",
        "rf_clf.fit(X_train, y_train)\n",
        "pred = rf_clf.predict(X_test)\n",
        "accuracy = accuracy_score(y_test, pred)\n",
        "\n",
        "print(classification_report(y_test, pred))\n",
        "print(f\"Random Forest 정확도: {accuracy:.3f}\")"
      ],
      "id": "suspected-public",
      "execution_count": 12,
      "outputs": [
        {
          "output_type": "stream",
          "text": [
            "              precision    recall  f1-score   support\n",
            "\n",
            "           0       1.00      1.00      1.00        33\n",
            "           1       0.93      1.00      0.97        28\n",
            "           2       1.00      1.00      1.00        33\n",
            "           3       1.00      1.00      1.00        34\n",
            "           4       1.00      1.00      1.00        46\n",
            "           5       0.96      0.98      0.97        47\n",
            "           6       0.97      0.97      0.97        35\n",
            "           7       0.97      0.97      0.97        34\n",
            "           8       1.00      0.93      0.97        30\n",
            "           9       0.97      0.95      0.96        40\n",
            "\n",
            "    accuracy                           0.98       360\n",
            "   macro avg       0.98      0.98      0.98       360\n",
            "weighted avg       0.98      0.98      0.98       360\n",
            "\n",
            "Random Forest 정확도: 0.981\n"
          ],
          "name": "stdout"
        }
      ]
    },
    {
      "cell_type": "markdown",
      "metadata": {
        "id": "charitable-tennis"
      },
      "source": [
        "### Support Vector Machine (SVM)"
      ],
      "id": "charitable-tennis"
    },
    {
      "cell_type": "code",
      "metadata": {
        "colab": {
          "base_uri": "https://localhost:8080/"
        },
        "id": "grand-database",
        "outputId": "5b8d1650-5451-43ee-b827-954f988744ec"
      },
      "source": [
        "from sklearn import svm\n",
        "from sklearn.preprocessing import StandardScaler\n",
        "\n",
        "scaler = StandardScaler()\n",
        "scaler.fit(X_train)\n",
        "train_scaled = scaler.transform(X_train) # train data 표준화\n",
        "\n",
        "svm_model = svm.SVC()\n",
        "svm_model.fit(train_scaled, y_train)\n",
        "test_scaled = scaler.transform(X_test) # test data 표준화\n",
        "pred = svm_model.predict(test_scaled)\n",
        "accuracy = accuracy_score(y_test, pred)\n",
        "\n",
        "print(classification_report(y_test, pred))\n",
        "print(f\"SVM 정확도: {accuracy:.3f}\")"
      ],
      "id": "grand-database",
      "execution_count": 13,
      "outputs": [
        {
          "output_type": "stream",
          "text": [
            "              precision    recall  f1-score   support\n",
            "\n",
            "           0       1.00      1.00      1.00        33\n",
            "           1       1.00      1.00      1.00        28\n",
            "           2       1.00      1.00      1.00        33\n",
            "           3       1.00      0.97      0.99        34\n",
            "           4       0.96      1.00      0.98        46\n",
            "           5       0.96      0.98      0.97        47\n",
            "           6       0.97      1.00      0.99        35\n",
            "           7       1.00      0.94      0.97        34\n",
            "           8       0.97      0.97      0.97        30\n",
            "           9       0.97      0.95      0.96        40\n",
            "\n",
            "    accuracy                           0.98       360\n",
            "   macro avg       0.98      0.98      0.98       360\n",
            "weighted avg       0.98      0.98      0.98       360\n",
            "\n",
            "SVM 정확도: 0.981\n"
          ],
          "name": "stdout"
        }
      ]
    },
    {
      "cell_type": "markdown",
      "metadata": {
        "id": "ordered-symposium"
      },
      "source": [
        "### Stochastic Gradient Descent Classifier (SGDClassifier)"
      ],
      "id": "ordered-symposium"
    },
    {
      "cell_type": "code",
      "metadata": {
        "colab": {
          "base_uri": "https://localhost:8080/"
        },
        "id": "eight-roads",
        "outputId": "38d7fd43-ab7a-4bab-da2f-44ec84155356"
      },
      "source": [
        "from sklearn.linear_model import SGDClassifier\n",
        "\n",
        "sgc_clf = SGDClassifier()\n",
        "sgc_clf.fit(X_train, y_train)\n",
        "pred = sgc_clf.predict(X_test)\n",
        "accuracy = accuracy_score(y_test, pred)\n",
        "\n",
        "print(classification_report(y_test, pred))\n",
        "print(f\"SGDClassfier 정확도: {accuracy:.3f}\")"
      ],
      "id": "eight-roads",
      "execution_count": 14,
      "outputs": [
        {
          "output_type": "stream",
          "text": [
            "              precision    recall  f1-score   support\n",
            "\n",
            "           0       1.00      0.97      0.98        33\n",
            "           1       0.93      1.00      0.97        28\n",
            "           2       0.97      1.00      0.99        33\n",
            "           3       1.00      0.97      0.99        34\n",
            "           4       0.98      0.98      0.98        46\n",
            "           5       0.94      0.94      0.94        47\n",
            "           6       0.92      0.97      0.94        35\n",
            "           7       1.00      0.97      0.99        34\n",
            "           8       0.90      0.87      0.88        30\n",
            "           9       0.95      0.93      0.94        40\n",
            "\n",
            "    accuracy                           0.96       360\n",
            "   macro avg       0.96      0.96      0.96       360\n",
            "weighted avg       0.96      0.96      0.96       360\n",
            "\n",
            "SGDClassfier 정확도: 0.958\n"
          ],
          "name": "stdout"
        }
      ]
    },
    {
      "cell_type": "markdown",
      "metadata": {
        "id": "looking-complexity"
      },
      "source": [
        "### Logistic Regression"
      ],
      "id": "looking-complexity"
    },
    {
      "cell_type": "code",
      "metadata": {
        "id": "handled-second",
        "colab": {
          "base_uri": "https://localhost:8080/"
        },
        "outputId": "25cf03fa-0514-4537-d34a-c96360acf2ed"
      },
      "source": [
        "from sklearn.linear_model import LogisticRegression\n",
        "from sklearn.preprocessing import StandardScaler\n",
        "\n",
        "scaler = StandardScaler()\n",
        "scaler.fit(X_train)\n",
        "train_scaled = scaler.transform(X_train) # train data 표준화\n",
        "\n",
        "lr = LogisticRegression(max_iter=100)\n",
        "lr.fit(train_scaled, y_train)\n",
        "test_scaled = scaler.transform(X_test) # test data 표준화\n",
        "pred = lr.predict(test_scaled)\n",
        "accuracy = accuracy_score(y_test, pred)\n",
        "\n",
        "print(classification_report(y_test, pred))\n",
        "print(f\"LogisticRegression 정확도: {accuracy:.3f}\")"
      ],
      "id": "handled-second",
      "execution_count": 15,
      "outputs": [
        {
          "output_type": "stream",
          "text": [
            "              precision    recall  f1-score   support\n",
            "\n",
            "           0       1.00      1.00      1.00        33\n",
            "           1       0.97      1.00      0.98        28\n",
            "           2       1.00      1.00      1.00        33\n",
            "           3       0.97      0.97      0.97        34\n",
            "           4       1.00      0.98      0.99        46\n",
            "           5       0.94      0.94      0.94        47\n",
            "           6       0.97      0.97      0.97        35\n",
            "           7       1.00      0.97      0.99        34\n",
            "           8       0.97      0.97      0.97        30\n",
            "           9       0.93      0.95      0.94        40\n",
            "\n",
            "    accuracy                           0.97       360\n",
            "   macro avg       0.97      0.97      0.97       360\n",
            "weighted avg       0.97      0.97      0.97       360\n",
            "\n",
            "LogisticRegression 정확도: 0.972\n"
          ],
          "name": "stdout"
        }
      ]
    },
    {
      "cell_type": "markdown",
      "metadata": {
        "id": "Yq3Df3K2yLIC"
      },
      "source": [
        "## (6) 모델을 평가해 보기\n",
        "\n",
        "**모델별 정확도**\n",
        "- Decision Tree: 0.850\n",
        "- Random Forest: 0.981\n",
        "- SVM: 0.981\n",
        "- SGCClassifier: 0.956\n",
        "- LogisticRegression: 0.972\n",
        "\n",
        "손글씨 분류의 경우 잘 예측을 하는 것이 중요하고 예측이 틀렸다고 하더라고 크게 문제되지 않기 때문에 **정확도(Accuracy)**를 평가 지표로 선택하는 것이 타당할 것이다.\n",
        "\n",
        "정확도를 기준으로 봤을 때 SVM과 Random Forest가 가장 높은 정확도를 보였다."
      ],
      "id": "Yq3Df3K2yLIC"
    },
    {
      "cell_type": "markdown",
      "metadata": {
        "id": "cleared-hypothetical"
      },
      "source": [
        "# 2-12. 프로젝트 (2) load_wine : 와인을 분류해 봅시다\n",
        "- `load_wine` : 와인 데이터 ([링크](https://scikit-learn.org/stable/modules/generated/sklearn.datasets.load_wine.html#sklearn.datasets.load_wine))"
      ],
      "id": "cleared-hypothetical"
    },
    {
      "cell_type": "markdown",
      "metadata": {
        "id": "developmental-worcester"
      },
      "source": [
        "## (1) 필요한 모듈 import하기"
      ],
      "id": "developmental-worcester"
    },
    {
      "cell_type": "code",
      "metadata": {
        "id": "electoral-pixel"
      },
      "source": [
        "from sklearn.datasets import load_wine\n",
        "from sklearn.model_selection import train_test_split\n",
        "from sklearn.metrics import classification_report"
      ],
      "id": "electoral-pixel",
      "execution_count": 16,
      "outputs": []
    },
    {
      "cell_type": "markdown",
      "metadata": {
        "id": "polish-great"
      },
      "source": [
        "## (2) 데이터 준비"
      ],
      "id": "polish-great"
    },
    {
      "cell_type": "code",
      "metadata": {
        "colab": {
          "base_uri": "https://localhost:8080/"
        },
        "id": "auburn-massage",
        "outputId": "3f21c304-4de1-42cf-b8b6-07ef9a8f53c0"
      },
      "source": [
        "wine = load_wine()\n",
        "\n",
        "print(dir(wine))"
      ],
      "id": "auburn-massage",
      "execution_count": 17,
      "outputs": [
        {
          "output_type": "stream",
          "text": [
            "['DESCR', 'data', 'feature_names', 'target', 'target_names']\n"
          ],
          "name": "stdout"
        }
      ]
    },
    {
      "cell_type": "markdown",
      "metadata": {
        "id": "experienced-allen"
      },
      "source": [
        "## (3) 데이터 이해하기\n",
        "- Feature Data 지정하기\n",
        "- Label Data 지정하기\n",
        "- Target Names 출력해 보기\n",
        "- 데이터 Describe 해 보기"
      ],
      "id": "experienced-allen"
    },
    {
      "cell_type": "code",
      "metadata": {
        "colab": {
          "base_uri": "https://localhost:8080/"
        },
        "id": "living-quarter",
        "outputId": "4cd3a247-747d-4bc9-fa05-955008182121"
      },
      "source": [
        "print_data_info(wine, feature_names=True)"
      ],
      "id": "living-quarter",
      "execution_count": 18,
      "outputs": [
        {
          "output_type": "stream",
          "text": [
            "data의 type:  <class 'sklearn.utils.Bunch'>\n",
            "data의 shape:  (178, 13)\n",
            "\n",
            "feature_name 출력: \n",
            "['alcohol', 'malic_acid', 'ash', 'alcalinity_of_ash', 'magnesium', 'total_phenols', 'flavanoids', 'nonflavanoid_phenols', 'proanthocyanins', 'color_intensity', 'hue', 'od280/od315_of_diluted_wines', 'proline']\n",
            "\n",
            "feature_name의 type:  <class 'list'>\n",
            "feature_name의 shape:  13\n",
            "\n",
            "target_name:  ['class_0' 'class_1' 'class_2']\n",
            "target_name의 type:  <class 'numpy.ndarray'>\n",
            "target_name의 shape:  3\n",
            "\n",
            "target의 type:  <class 'numpy.ndarray'>\n",
            "target의 shape:  (178,)\n",
            "\n"
          ],
          "name": "stdout"
        }
      ]
    },
    {
      "cell_type": "markdown",
      "metadata": {
        "id": "C2zjVtsQzmVa"
      },
      "source": [
        "- 와인 데이터는에는 총 178개의 데이터가 있고, target에는 세 가지 종류의 와인이 있는 것을 확인 할 수 있다."
      ],
      "id": "C2zjVtsQzmVa"
    },
    {
      "cell_type": "code",
      "metadata": {
        "id": "identified-panel",
        "colab": {
          "base_uri": "https://localhost:8080/"
        },
        "outputId": "13ff2bee-e5d8-4724-8431-262d8e6b72a0"
      },
      "source": [
        "import pandas as pd\n",
        "\n",
        "wine_df = pd.DataFrame(data=wine.data, columns=wine.feature_names)\n",
        "wine_df['label'] = wine.target\n",
        "wine_df['label'].value_counts()"
      ],
      "id": "identified-panel",
      "execution_count": 19,
      "outputs": [
        {
          "output_type": "execute_result",
          "data": {
            "text/plain": [
              "1    71\n",
              "0    59\n",
              "2    48\n",
              "Name: label, dtype: int64"
            ]
          },
          "metadata": {
            "tags": []
          },
          "execution_count": 19
        }
      ]
    },
    {
      "cell_type": "code",
      "metadata": {
        "id": "cardiac-hanging"
      },
      "source": [
        "# feature data와 label data 지정\n",
        "wine_data = wine.data\n",
        "wine_target = wine.target"
      ],
      "id": "cardiac-hanging",
      "execution_count": 20,
      "outputs": []
    },
    {
      "cell_type": "markdown",
      "metadata": {
        "id": "monthly-blackberry"
      },
      "source": [
        "## (4) train, test 데이터 분리"
      ],
      "id": "monthly-blackberry"
    },
    {
      "cell_type": "code",
      "metadata": {
        "id": "destroyed-reward",
        "colab": {
          "base_uri": "https://localhost:8080/"
        },
        "outputId": "1d5677b2-e308-43e8-b717-ccbfa717e15e"
      },
      "source": [
        "from sklearn.model_selection import train_test_split\n",
        "\n",
        "X_train, X_test, y_train, y_test = train_test_split(wine_data,\n",
        "                                                   wine_target,\n",
        "                                                   test_size=0.2,\n",
        "                                                   random_state=42)\n",
        "\n",
        "print(f\"학습 데이터: {X_train.shape}, {y_train.shape}\")\n",
        "print(f\"테스트 데이터: {X_test.shape}, {y_test.shape}\")"
      ],
      "id": "destroyed-reward",
      "execution_count": 21,
      "outputs": [
        {
          "output_type": "stream",
          "text": [
            "학습 데이터: (142, 13), (142,)\n",
            "테스트 데이터: (36, 13), (36,)\n"
          ],
          "name": "stdout"
        }
      ]
    },
    {
      "cell_type": "markdown",
      "metadata": {
        "id": "after-jackson"
      },
      "source": [
        "## (5) 다양한 모델로 학습시켜보기\n",
        "- Decision Tree 사용해 보기\n",
        "- Random Forest 사용해 보기\n",
        "- SVM 사용해 보기\n",
        "- SGD Classifier 사용해 보기\n",
        "- Logistic Regression 사용해 보기\n",
        "\n",
        "어떤 모델이 가장 좋은 성능을 보일까?"
      ],
      "id": "after-jackson"
    },
    {
      "cell_type": "markdown",
      "metadata": {
        "id": "wireless-twelve"
      },
      "source": [
        "### Decision Tree"
      ],
      "id": "wireless-twelve"
    },
    {
      "cell_type": "code",
      "metadata": {
        "id": "satellite-orleans",
        "colab": {
          "base_uri": "https://localhost:8080/"
        },
        "outputId": "a1bc568f-bef8-4d69-a542-484380bb1832"
      },
      "source": [
        "from sklearn.tree import DecisionTreeClassifier\n",
        "\n",
        "dt_clf = DecisionTreeClassifier() \n",
        "dt_clf.fit(X_train, y_train)\n",
        "pred = dt_clf.predict(X_test)\n",
        "accuracy = accuracy_score(y_test, pred)\n",
        "\n",
        "print(classification_report(y_test, pred))\n",
        "print(f\"Decision Tree 정확도: {accuracy:.3f}\")"
      ],
      "id": "satellite-orleans",
      "execution_count": 22,
      "outputs": [
        {
          "output_type": "stream",
          "text": [
            "              precision    recall  f1-score   support\n",
            "\n",
            "           0       0.93      0.93      0.93        14\n",
            "           1       0.93      1.00      0.97        14\n",
            "           2       1.00      0.88      0.93         8\n",
            "\n",
            "    accuracy                           0.94        36\n",
            "   macro avg       0.95      0.93      0.94        36\n",
            "weighted avg       0.95      0.94      0.94        36\n",
            "\n",
            "Decision Tree 정확도: 0.944\n"
          ],
          "name": "stdout"
        }
      ]
    },
    {
      "cell_type": "markdown",
      "metadata": {
        "id": "recreational-screening"
      },
      "source": [
        "### Random Forest"
      ],
      "id": "recreational-screening"
    },
    {
      "cell_type": "code",
      "metadata": {
        "id": "static-match",
        "colab": {
          "base_uri": "https://localhost:8080/"
        },
        "outputId": "fa6f2a1a-e209-4324-c8ce-64acf448c74f"
      },
      "source": [
        "from sklearn.ensemble import RandomForestClassifier\n",
        "\n",
        "rf_clf = RandomForestClassifier(random_state=32)\n",
        "\n",
        "rf_clf.fit(X_train, y_train)\n",
        "pred = rf_clf.predict(X_test)\n",
        "accuracy = accuracy_score(y_test, pred)\n",
        "accuracy = accuracy_score(y_test, pred)\n",
        "\n",
        "print(classification_report(y_test, pred))\n",
        "print(f\"Random Forest 정확도: {accuracy:.3f}\")"
      ],
      "id": "static-match",
      "execution_count": 23,
      "outputs": [
        {
          "output_type": "stream",
          "text": [
            "              precision    recall  f1-score   support\n",
            "\n",
            "           0       1.00      1.00      1.00        14\n",
            "           1       1.00      1.00      1.00        14\n",
            "           2       1.00      1.00      1.00         8\n",
            "\n",
            "    accuracy                           1.00        36\n",
            "   macro avg       1.00      1.00      1.00        36\n",
            "weighted avg       1.00      1.00      1.00        36\n",
            "\n",
            "Random Forest 정확도: 1.000\n"
          ],
          "name": "stdout"
        }
      ]
    },
    {
      "cell_type": "markdown",
      "metadata": {
        "id": "nutritional-madison"
      },
      "source": [
        "### Support Vector Machine (SVM)"
      ],
      "id": "nutritional-madison"
    },
    {
      "cell_type": "code",
      "metadata": {
        "id": "turned-discipline",
        "colab": {
          "base_uri": "https://localhost:8080/"
        },
        "outputId": "af39db56-0c13-4230-ec30-2e28346b8996"
      },
      "source": [
        "from sklearn import svm\n",
        "from sklearn.preprocessing import StandardScaler\n",
        "\n",
        "scaler = StandardScaler()\n",
        "scaler.fit(X_train)\n",
        "train_scaled = scaler.transform(X_train) # train data 표준화\n",
        "\n",
        "svm_model = svm.SVC()\n",
        "svm_model.fit(train_scaled, y_train)\n",
        "test_scaled = scaler.transform(X_test) # test data 표준화\n",
        "pred = svm_model.predict(test_scaled)\n",
        "accuracy = accuracy_score(y_test, pred)\n",
        "\n",
        "print(classification_report(y_test, pred))\n",
        "print(f\"SVM 정확도: {accuracy:.3f}\")"
      ],
      "id": "turned-discipline",
      "execution_count": 24,
      "outputs": [
        {
          "output_type": "stream",
          "text": [
            "              precision    recall  f1-score   support\n",
            "\n",
            "           0       1.00      1.00      1.00        14\n",
            "           1       1.00      1.00      1.00        14\n",
            "           2       1.00      1.00      1.00         8\n",
            "\n",
            "    accuracy                           1.00        36\n",
            "   macro avg       1.00      1.00      1.00        36\n",
            "weighted avg       1.00      1.00      1.00        36\n",
            "\n",
            "SVM 정확도: 1.000\n"
          ],
          "name": "stdout"
        }
      ]
    },
    {
      "cell_type": "markdown",
      "metadata": {
        "id": "designing-inflation"
      },
      "source": [
        "### Stochastic Gradient Descent Classifier (SGDClassifier)"
      ],
      "id": "designing-inflation"
    },
    {
      "cell_type": "code",
      "metadata": {
        "id": "offensive-swaziland",
        "colab": {
          "base_uri": "https://localhost:8080/"
        },
        "outputId": "71e34801-8af1-4d98-fc3b-eaf7c6b5768b"
      },
      "source": [
        "from sklearn.linear_model import SGDClassifier\n",
        "\n",
        "sgc_clf = SGDClassifier()\n",
        "sgc_clf.fit(X_train, y_train)\n",
        "pred = sgc_clf.predict(X_test)\n",
        "accuracy = accuracy_score(y_test, pred)\n",
        "\n",
        "print(classification_report(y_test, pred))\n",
        "print(f\"SGDClassfier 정확도: {accuracy:.3f}\")"
      ],
      "id": "offensive-swaziland",
      "execution_count": 25,
      "outputs": [
        {
          "output_type": "stream",
          "text": [
            "              precision    recall  f1-score   support\n",
            "\n",
            "           0       1.00      0.21      0.35        14\n",
            "           1       1.00      0.21      0.35        14\n",
            "           2       0.27      1.00      0.42         8\n",
            "\n",
            "    accuracy                           0.39        36\n",
            "   macro avg       0.76      0.48      0.38        36\n",
            "weighted avg       0.84      0.39      0.37        36\n",
            "\n",
            "SGDClassfier 정확도: 0.389\n"
          ],
          "name": "stdout"
        }
      ]
    },
    {
      "cell_type": "markdown",
      "metadata": {
        "id": "looking-sector"
      },
      "source": [
        "### Logistic Regression"
      ],
      "id": "looking-sector"
    },
    {
      "cell_type": "code",
      "metadata": {
        "id": "shaped-spread",
        "colab": {
          "base_uri": "https://localhost:8080/"
        },
        "outputId": "c25e58ed-ed43-447d-947a-97fe8d4ecd61"
      },
      "source": [
        "from sklearn.linear_model import LogisticRegression\n",
        "from sklearn.preprocessing import StandardScaler\n",
        "\n",
        "scaler = StandardScaler()\n",
        "scaler.fit(X_train)\n",
        "train_scaled = scaler.transform(X_train) # train data 표준화\n",
        "\n",
        "lr = LogisticRegression(max_iter=100)\n",
        "lr.fit(train_scaled, y_train)\n",
        "test_scaled = scaler.transform(X_test) # test data 표준화\n",
        "pred = lr.predict(test_scaled)\n",
        "accuracy = accuracy_score(y_test, pred)\n",
        "\n",
        "print(classification_report(y_test, pred))\n",
        "print(f\"LogisticRegression 정확도: {accuracy:.3f}\")"
      ],
      "id": "shaped-spread",
      "execution_count": 26,
      "outputs": [
        {
          "output_type": "stream",
          "text": [
            "              precision    recall  f1-score   support\n",
            "\n",
            "           0       1.00      1.00      1.00        14\n",
            "           1       1.00      1.00      1.00        14\n",
            "           2       1.00      1.00      1.00         8\n",
            "\n",
            "    accuracy                           1.00        36\n",
            "   macro avg       1.00      1.00      1.00        36\n",
            "weighted avg       1.00      1.00      1.00        36\n",
            "\n",
            "LogisticRegression 정확도: 1.000\n"
          ],
          "name": "stdout"
        }
      ]
    },
    {
      "cell_type": "markdown",
      "metadata": {
        "id": "danish-muslim"
      },
      "source": [
        "## (6) 모델을 평가해 보기\n",
        "\n",
        "와인을 분류하는 경우에도 정확도가 가장 중요한 지표가 될 것이다. \n",
        "\n",
        "Random Forest, SVM, Logistic Regression이 세 모델의 정확도가 모두 100%가 나왔으므로 이 세 모델 중 하나로 와인 분류 예측에 사용하면 될 것이다.\n",
        "\n"
      ],
      "id": "danish-muslim"
    },
    {
      "cell_type": "markdown",
      "metadata": {
        "id": "raising-detroit"
      },
      "source": [
        "# 2-13. 프로젝트 (3) load_breast_cancer : 유방암 여부를 진단해 봅시다\n",
        "\n",
        "\n",
        "- `load_breast_cancer` : 유방암 데이터 ([링크](https://scikit-learn.org/stable/modules/generated/sklearn.datasets.load_breast_cancer.html#sklearn.datasets.load_breast_cancer))\n",
        "\n",
        "- 재현율이 중요"
      ],
      "id": "raising-detroit"
    },
    {
      "cell_type": "markdown",
      "metadata": {
        "id": "marine-lodging"
      },
      "source": [
        "## (1) 필요한 모듈 import하기"
      ],
      "id": "marine-lodging"
    },
    {
      "cell_type": "code",
      "metadata": {
        "id": "confident-danger"
      },
      "source": [
        "from sklearn.datasets import load_breast_cancer\n",
        "from sklearn.model_selection import train_test_split\n",
        "from sklearn.metrics import classification_report"
      ],
      "id": "confident-danger",
      "execution_count": 27,
      "outputs": []
    },
    {
      "cell_type": "markdown",
      "metadata": {
        "id": "indie-sheffield"
      },
      "source": [
        "## (2) 데이터 준비"
      ],
      "id": "indie-sheffield"
    },
    {
      "cell_type": "code",
      "metadata": {
        "id": "detailed-irish",
        "colab": {
          "base_uri": "https://localhost:8080/"
        },
        "outputId": "14ec6661-1493-4374-8973-d1a8062bd6e0"
      },
      "source": [
        "breast_cancer = load_breast_cancer()\n",
        "\n",
        "print(dir(breast_cancer))"
      ],
      "id": "detailed-irish",
      "execution_count": 28,
      "outputs": [
        {
          "output_type": "stream",
          "text": [
            "['DESCR', 'data', 'feature_names', 'filename', 'target', 'target_names']\n"
          ],
          "name": "stdout"
        }
      ]
    },
    {
      "cell_type": "markdown",
      "metadata": {
        "id": "crude-yesterday"
      },
      "source": [
        "## (3) 데이터 이해하기\n",
        "- Feature Data 지정하기\n",
        "- Label Data 지정하기\n",
        "- Target Names 출력해 보기\n",
        "- 데이터 Describe 해 보기"
      ],
      "id": "crude-yesterday"
    },
    {
      "cell_type": "code",
      "metadata": {
        "id": "acceptable-luxembourg",
        "colab": {
          "base_uri": "https://localhost:8080/"
        },
        "outputId": "26c6d785-914c-45ba-f841-e47ecf495c1c"
      },
      "source": [
        "print_data_info(breast_cancer, feature_names=True)"
      ],
      "id": "acceptable-luxembourg",
      "execution_count": 29,
      "outputs": [
        {
          "output_type": "stream",
          "text": [
            "data의 type:  <class 'sklearn.utils.Bunch'>\n",
            "data의 shape:  (569, 30)\n",
            "\n",
            "feature_name 출력: \n",
            "['mean radius' 'mean texture' 'mean perimeter' 'mean area'\n",
            " 'mean smoothness' 'mean compactness' 'mean concavity'\n",
            " 'mean concave points' 'mean symmetry' 'mean fractal dimension'\n",
            " 'radius error' 'texture error' 'perimeter error' 'area error'\n",
            " 'smoothness error' 'compactness error' 'concavity error'\n",
            " 'concave points error' 'symmetry error' 'fractal dimension error'\n",
            " 'worst radius' 'worst texture' 'worst perimeter' 'worst area'\n",
            " 'worst smoothness' 'worst compactness' 'worst concavity'\n",
            " 'worst concave points' 'worst symmetry' 'worst fractal dimension']\n",
            "\n",
            "feature_name의 type:  <class 'numpy.ndarray'>\n",
            "feature_name의 shape:  30\n",
            "\n",
            "target_name:  ['malignant' 'benign']\n",
            "target_name의 type:  <class 'numpy.ndarray'>\n",
            "target_name의 shape:  2\n",
            "\n",
            "target의 type:  <class 'numpy.ndarray'>\n",
            "target의 shape:  (569,)\n",
            "\n"
          ],
          "name": "stdout"
        }
      ]
    },
    {
      "cell_type": "markdown",
      "metadata": {
        "id": "DebKYEmg3xdW"
      },
      "source": [
        "- 유방암 데이터 셋에는 총 569개의 데이터가 있다.\n",
        "- feature는 30종류가 있고, target은 양성인지 음성인지의 2가지 종류로 구성되어 있다. "
      ],
      "id": "DebKYEmg3xdW"
    },
    {
      "cell_type": "code",
      "metadata": {
        "id": "dramatic-logging",
        "colab": {
          "base_uri": "https://localhost:8080/"
        },
        "outputId": "3e269bd3-573b-418c-e1ed-ff0845753ff1"
      },
      "source": [
        "cancer_df = pd.DataFrame(data=breast_cancer.data, columns=breast_cancer.feature_names)\n",
        "cancer_df['label'] = breast_cancer.target\n",
        "cancer_df['label'].value_counts()"
      ],
      "id": "dramatic-logging",
      "execution_count": 30,
      "outputs": [
        {
          "output_type": "execute_result",
          "data": {
            "text/plain": [
              "1    357\n",
              "0    212\n",
              "Name: label, dtype: int64"
            ]
          },
          "metadata": {
            "tags": []
          },
          "execution_count": 30
        }
      ]
    },
    {
      "cell_type": "code",
      "metadata": {
        "id": "compliant-subscription"
      },
      "source": [
        "# feature data와 target data 분리\n",
        "cancer_data = breast_cancer.data\n",
        "cancer_target = breast_cancer.target"
      ],
      "id": "compliant-subscription",
      "execution_count": 31,
      "outputs": []
    },
    {
      "cell_type": "markdown",
      "metadata": {
        "id": "sorted-triple"
      },
      "source": [
        "## (4) train, test 데이터 분리"
      ],
      "id": "sorted-triple"
    },
    {
      "cell_type": "code",
      "metadata": {
        "id": "executed-moment",
        "colab": {
          "base_uri": "https://localhost:8080/"
        },
        "outputId": "5399253e-6604-4648-bc2e-8acbf74505ef"
      },
      "source": [
        "from sklearn.model_selection import train_test_split\n",
        "\n",
        "X_train, X_test, y_train, y_test = train_test_split(cancer_data,\n",
        "                                                   cancer_target,\n",
        "                                                   test_size=0.2,\n",
        "                                                   random_state=42)\n",
        "print(f\"학습 데이터: {X_train.shape}, {y_train.shape}\")\n",
        "print(f\"테스트 데이터: {X_test.shape}, {y_test.shape}\")"
      ],
      "id": "executed-moment",
      "execution_count": 32,
      "outputs": [
        {
          "output_type": "stream",
          "text": [
            "학습 데이터: (455, 30), (455,)\n",
            "테스트 데이터: (114, 30), (114,)\n"
          ],
          "name": "stdout"
        }
      ]
    },
    {
      "cell_type": "markdown",
      "metadata": {
        "id": "about-amateur"
      },
      "source": [
        "## (5) 다양한 모델로 학습시켜보기\n",
        "- Decision Tree 사용해 보기\n",
        "- Random Forest 사용해 보기\n",
        "- SVM 사용해 보기\n",
        "- SGD Classifier 사용해 보기\n",
        "- Logistic Regression 사용해 보기\n",
        "\n",
        "어떤 모델이 가장 좋은 성능을 보일까?"
      ],
      "id": "about-amateur"
    },
    {
      "cell_type": "markdown",
      "metadata": {
        "id": "saving-narrative"
      },
      "source": [
        "### Decision Tree"
      ],
      "id": "saving-narrative"
    },
    {
      "cell_type": "code",
      "metadata": {
        "id": "mineral-twelve",
        "colab": {
          "base_uri": "https://localhost:8080/"
        },
        "outputId": "f37e63fb-1975-428b-bcfa-4f6d725f307d"
      },
      "source": [
        "from sklearn.tree import DecisionTreeClassifier\n",
        "from sklearn.metrics import recall_score\n",
        "\n",
        "dt_clf = DecisionTreeClassifier() \n",
        "dt_clf.fit(X_train, y_train)\n",
        "pred = dt_clf.predict(X_test)\n",
        "\n",
        "accuracy = accuracy_score(y_test, pred)\n",
        "recall = recall_score(y_test, pred)\n",
        "\n",
        "print(f\"Decision Tree 정확도: {accuracy:.3f}\")\n",
        "print(f\"Decision Tree 재현율: {recall:.3f}\")"
      ],
      "id": "mineral-twelve",
      "execution_count": 33,
      "outputs": [
        {
          "output_type": "stream",
          "text": [
            "Decision Tree 정확도: 0.930\n",
            "Decision Tree 재현율: 0.944\n"
          ],
          "name": "stdout"
        }
      ]
    },
    {
      "cell_type": "markdown",
      "metadata": {
        "id": "traditional-reputation"
      },
      "source": [
        "### Random Forest"
      ],
      "id": "traditional-reputation"
    },
    {
      "cell_type": "code",
      "metadata": {
        "id": "enormous-vertex",
        "colab": {
          "base_uri": "https://localhost:8080/"
        },
        "outputId": "38ef84ed-7543-4c86-da7d-73e99fa06c35"
      },
      "source": [
        "from sklearn.ensemble import RandomForestClassifier\n",
        "\n",
        "rf_clf = RandomForestClassifier(random_state=32)\n",
        "\n",
        "rf_clf.fit(X_train, y_train)\n",
        "pred = rf_clf.predict(X_test)\n",
        "accuracy = accuracy_score(y_test, pred)\n",
        "recall = recall_score(y_test, pred)\n",
        "\n",
        "print(f\"Random Forest 정확도: {accuracy:.3f}\")\n",
        "print(f\"Random Forest 재현율: {recall:.3f}\")"
      ],
      "id": "enormous-vertex",
      "execution_count": 34,
      "outputs": [
        {
          "output_type": "stream",
          "text": [
            "Random Forest 정확도: 0.965\n",
            "Random Forest 재현율: 0.986\n"
          ],
          "name": "stdout"
        }
      ]
    },
    {
      "cell_type": "markdown",
      "metadata": {
        "id": "binding-comment"
      },
      "source": [
        "### Support Vector Machine (SVM)"
      ],
      "id": "binding-comment"
    },
    {
      "cell_type": "code",
      "metadata": {
        "id": "hearing-interim",
        "colab": {
          "base_uri": "https://localhost:8080/"
        },
        "outputId": "7da10786-c741-47d2-aab4-e55248eea011"
      },
      "source": [
        "from sklearn import svm\n",
        "from sklearn.preprocessing import StandardScaler\n",
        "\n",
        "scaler = StandardScaler()\n",
        "scaler.fit(X_train)\n",
        "train_scaled = scaler.transform(X_train) # train data 표준화\n",
        "\n",
        "svm_model = svm.SVC()\n",
        "svm_model.fit(train_scaled, y_train)\n",
        "test_scaled = scaler.transform(X_test) # test data 표준화\n",
        "pred = svm_model.predict(test_scaled)\n",
        "\n",
        "accuracy = accuracy_score(y_test, pred)\n",
        "recall = recall_score(y_test, pred)\n",
        "\n",
        "print(f\"SVM 정확도: {accuracy:.3f}\")\n",
        "print(f\"SVM 재현율: {recall:.3f}\")"
      ],
      "id": "hearing-interim",
      "execution_count": 35,
      "outputs": [
        {
          "output_type": "stream",
          "text": [
            "SVM 정확도: 0.982\n",
            "SVM 재현율: 1.000\n"
          ],
          "name": "stdout"
        }
      ]
    },
    {
      "cell_type": "markdown",
      "metadata": {
        "id": "english-vietnamese"
      },
      "source": [
        "### Stochastic Gradient Descent Classifier (SGDClassifier)"
      ],
      "id": "english-vietnamese"
    },
    {
      "cell_type": "code",
      "metadata": {
        "id": "bibliographic-honey",
        "colab": {
          "base_uri": "https://localhost:8080/"
        },
        "outputId": "ee523d50-1277-4e54-f8d9-00568d1b0c86"
      },
      "source": [
        "from sklearn.linear_model import SGDClassifier\n",
        "\n",
        "sgc_clf = SGDClassifier()\n",
        "sgc_clf.fit(X_train, y_train)\n",
        "pred = sgc_clf.predict(X_test)\n",
        "\n",
        "accuracy = accuracy_score(y_test, pred)\n",
        "recall = recall_score(y_test, pred)\n",
        "\n",
        "print(f\"SGDClassifier 정확도: {accuracy:.3f}\")\n",
        "print(f\"SGCClassifier 재현율: {recall:.3f}\")"
      ],
      "id": "bibliographic-honey",
      "execution_count": 36,
      "outputs": [
        {
          "output_type": "stream",
          "text": [
            "SGDClassifier 정확도: 0.886\n",
            "SGCClassifier 재현율: 0.817\n"
          ],
          "name": "stdout"
        }
      ]
    },
    {
      "cell_type": "markdown",
      "metadata": {
        "id": "frank-blank"
      },
      "source": [
        "### Logistic Regression"
      ],
      "id": "frank-blank"
    },
    {
      "cell_type": "code",
      "metadata": {
        "id": "differential-assessment",
        "colab": {
          "base_uri": "https://localhost:8080/"
        },
        "outputId": "e9a975b3-d4af-4631-a76b-5f71182713e6"
      },
      "source": [
        "from sklearn.linear_model import LogisticRegression\n",
        "from sklearn.preprocessing import StandardScaler\n",
        "\n",
        "scaler = StandardScaler()\n",
        "scaler.fit(X_train)\n",
        "train_scaled = scaler.transform(X_train) # train data 표준화\n",
        "\n",
        "lr = LogisticRegression(max_iter=100)\n",
        "lr.fit(train_scaled, y_train)\n",
        "test_scaled = scaler.transform(X_test) # test data 표준화\n",
        "pred = lr.predict(test_scaled)\n",
        "accuracy = accuracy_score(y_test, pred)\n",
        "recall = recall_score(y_test, pred)\n",
        "\n",
        "print(f\"SGDClassifier 정확도: {accuracy:.3f}\")\n",
        "print(f\"SGCClassifier 재현율: {recall:.3f}\")"
      ],
      "id": "differential-assessment",
      "execution_count": 37,
      "outputs": [
        {
          "output_type": "stream",
          "text": [
            "SGDClassifier 정확도: 0.974\n",
            "SGCClassifier 재현율: 0.986\n"
          ],
          "name": "stdout"
        }
      ]
    },
    {
      "cell_type": "markdown",
      "metadata": {
        "id": "large-hungarian"
      },
      "source": [
        "## (6) 모델을 평가해 보기\n",
        "\n",
        "유방암을 진단하는데 양성인 환자를 음성이라고 진단을 하면 안된다. 그래서 정확도보다는 **재현율**이 중요하다. \n",
        "\n",
        "재현율이 가장 높게 나오는 모델은 SVM으로 유방암을 예측하는 모델에는 SVM이 가장 적합하다."
      ],
      "id": "large-hungarian"
    },
    {
      "cell_type": "markdown",
      "metadata": {
        "id": "ggRqMC3NsmQS"
      },
      "source": [
        "# 회고\n",
        "\n",
        "- 정확도(Accuracy), 정밀도(Precision), 재현율(Recall)에 대해 많이 헷갈려했었는데 이번 노드를 하면서 확실히 알 수 있었다.\n",
        "- 좀 더 다양한 시도를 하고 싶었는데 시간상의 이유로 좀 더 하지 못한 것이 좀 아쉽다. (ROC-AUC 그래프 그리기 등등..)\n",
        "- SVM과 LogisticRegression 모델을 사용할 때는 `StandardScaler`를 데이터셋에 반드시 적용시켜야 한다는 것을 알게 되었다.\n",
        "    - [[Python] 어떤 스케일러를 쓸 것인가?](https://mkjjo.github.io/python/2019/01/10/scaler.html)\n",
        "    - [로지스틱회귀(Logistic Regression) – 파이썬 코드 예제](http://hleecaster.com/ml-logistic-regression-example/)"
      ],
      "id": "ggRqMC3NsmQS"
    },
    {
      "cell_type": "code",
      "metadata": {
        "id": "DPinZAUo9Gh0"
      },
      "source": [
        ""
      ],
      "id": "DPinZAUo9Gh0",
      "execution_count": 37,
      "outputs": []
    }
  ]
}