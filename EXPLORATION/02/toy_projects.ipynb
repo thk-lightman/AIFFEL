{
  "nbformat": 4,
  "nbformat_minor": 5,
  "metadata": {
    "kernelspec": {
      "display_name": "Python 3",
      "language": "python",
      "name": "python3"
    },
    "language_info": {
      "codemirror_mode": {
        "name": "ipython",
        "version": 3
      },
      "file_extension": ".py",
      "mimetype": "text/x-python",
      "name": "python",
      "nbconvert_exporter": "python",
      "pygments_lexer": "ipython3",
      "version": "3.7.9"
    },
    "colab": {
      "name": "toy_projects.ipynb",
      "provenance": [],
      "include_colab_link": true
    }
  },
  "cells": [
    {
      "cell_type": "markdown",
      "metadata": {
        "id": "view-in-github",
        "colab_type": "text"
      },
      "source": [
        "<a href=\"https://colab.research.google.com/github/t1seo/AIFFEL/blob/master/EXPLORATION/02/toy_projects.ipynb\" target=\"_parent\"><img src=\"https://colab.research.google.com/assets/colab-badge.svg\" alt=\"Open In Colab\"/></a>"
      ]
    },
    {
      "cell_type": "code",
      "metadata": {
        "id": "JMbuej9knBle"
      },
      "source": [
        "from sklearn.metrics import accuracy_score, confusion_matrix, precision_score\n",
        "from sklearn.metrics import recall_score, f1_score, roc_auc_score\n",
        "import numpy as np\n",
        "\n",
        "def get_clf_eval(y_test, pred=None, pred_proba=None):\n",
        "    confusion = confusion_matrix(y_test, pred) # confusion matrix\n",
        "    accuracy = accuracy_score(y_test, pred) # 정확도\n",
        "    precision = precision_score(y_test, pred) # 정밀도\n",
        "    recall = recall_score(y_test, pred) # 재현율\n",
        "    f1 = f1_score(y_test, pred) # f1-score\n",
        "    roc_auc = roc_auc_score(y_test, pred_proba)\n",
        "\n",
        "    print('오차 행렬')\n",
        "    print(confusion)\n",
        "    print(f\"정확도: {0: 4f}, 정밀도: {1: 4f}, 재현율: {2: 4f}, \\\n",
        "        F1: {3: 4f}, AUC: {4: 4f}\".format(accuracy, precision, recall, f1, roc_auc))"
      ],
      "id": "JMbuej9knBle",
      "execution_count": 1,
      "outputs": []
    },
    {
      "cell_type": "code",
      "metadata": {
        "id": "0a4z60lnpOSI"
      },
      "source": [
        "def roc_curve_plot(y_test, pred_proba_c1):\n",
        "    # 임곗값에 따른 FPR, TPR 값을 반환받는다\n",
        "    fprs, tprs, thresholds = roc_curve(y_test, pred_proba_c1)\n",
        "    \n",
        "    plt.plot(fcsprs, tprs, label='ROC')\n",
        "    plt.plot([0, 1], [0, 1], 'k--', label='Random')\n",
        "\n",
        "    start, end = plt.xlim()\n",
        "    plt.xticks(np.round(np.arange(start, end, 0.1), 2))\n",
        "    plt.xlim(0, 1)\n",
        "    plt.ylim(0, 1)\n",
        "    plt.xlabel('FPR(1 - Sensitivity)')\n",
        "    plt.ylabel('TPR(Recall)')\n",
        "    plt.legend()"
      ],
      "id": "0a4z60lnpOSI",
      "execution_count": 2,
      "outputs": []
    },
    {
      "cell_type": "markdown",
      "metadata": {
        "id": "small-rabbit"
      },
      "source": [
        "# 프로젝트 (1) load_digits : 손글씨를 분류해 봅시다\n",
        "- `load_digits` : 손글씨 이미지 데이터 ([링크](https://scikit-learn.org/stable/modules/generated/sklearn.datasets.load_digits.html#sklearn.datasets.load_digits))"
      ],
      "id": "small-rabbit"
    },
    {
      "cell_type": "markdown",
      "metadata": {
        "id": "center-disease"
      },
      "source": [
        "## (1) 필요한 모듈 import하기"
      ],
      "id": "center-disease"
    },
    {
      "cell_type": "code",
      "metadata": {
        "id": "deadly-dakota"
      },
      "source": [
        "from sklearn.datasets import load_digits\n",
        "from sklearn.model_selection import train_test_split\n",
        "from sklearn.metrics import classification_report\n",
        "from sklearn.metrics import accuracy_score\n",
        "import warnings\n",
        "\n",
        "warnings.filterwarnings(action='ignore')"
      ],
      "id": "deadly-dakota",
      "execution_count": 3,
      "outputs": []
    },
    {
      "cell_type": "markdown",
      "metadata": {
        "id": "behind-simulation"
      },
      "source": [
        "## (2) 데이터 준비"
      ],
      "id": "behind-simulation"
    },
    {
      "cell_type": "code",
      "metadata": {
        "colab": {
          "base_uri": "https://localhost:8080/"
        },
        "id": "signal-sample",
        "outputId": "86a94d24-80af-446e-b59c-5e6fc6fff82f"
      },
      "source": [
        "digits = load_digits()\n",
        "\n",
        "print(dir(digits))"
      ],
      "id": "signal-sample",
      "execution_count": 4,
      "outputs": [
        {
          "output_type": "stream",
          "text": [
            "['DESCR', 'data', 'images', 'target', 'target_names']\n"
          ],
          "name": "stdout"
        }
      ]
    },
    {
      "cell_type": "code",
      "metadata": {
        "id": "irish-temple"
      },
      "source": [
        "def print_data_info(scikit_data, feature_names=False):\n",
        "    print(\"data의 type: \", type(scikit_data))\n",
        "    print(\"data의 shape: \", scikit_data.data.shape)\n",
        "    print()\n",
        "    \n",
        "    if feature_names:\n",
        "        print(\"feature_name 출력: \")\n",
        "        print(scikit_data.feature_names)\n",
        "        print()\n",
        "        print(\"feature_name의 type: \", type(scikit_data.feature_names))\n",
        "        print(\"feature_name의 shape: \", len(scikit_data.feature_names))\n",
        "        print()\n",
        "\n",
        "    print(\"target_name: \", scikit_data.target_names)\n",
        "    print(\"target_name의 type: \", type(scikit_data.target_names))\n",
        "    print(\"target_name의 shape: \", len(scikit_data.target_names))\n",
        "    print()\n",
        "\n",
        "\n",
        "    print(\"target의 type: \", type(scikit_data.target))\n",
        "    print(\"target의 shape: \", scikit_data.target.shape)\n",
        "    print()"
      ],
      "id": "irish-temple",
      "execution_count": 5,
      "outputs": []
    },
    {
      "cell_type": "markdown",
      "metadata": {
        "id": "british-radio"
      },
      "source": [
        "## (3) 데이터 이해하기\n",
        "- Feature Data 지정하기\n",
        "- Label Data 지정하기\n",
        "- Target Names 출력해 보기\n",
        "- 데이터 Describe 해 보기"
      ],
      "id": "british-radio"
    },
    {
      "cell_type": "code",
      "metadata": {
        "colab": {
          "base_uri": "https://localhost:8080/"
        },
        "id": "acquired-behavior",
        "outputId": "3f85eeab-6f0d-46cf-9de4-61fa48f8ab91"
      },
      "source": [
        "print_data_info(digits)"
      ],
      "id": "acquired-behavior",
      "execution_count": 6,
      "outputs": [
        {
          "output_type": "stream",
          "text": [
            "data의 type:  <class 'sklearn.utils.Bunch'>\n",
            "data의 shape:  (1797, 64)\n",
            "\n",
            "target_name:  [0 1 2 3 4 5 6 7 8 9]\n",
            "target_name의 type:  <class 'numpy.ndarray'>\n",
            "target_name의 shape:  10\n",
            "\n",
            "target의 type:  <class 'numpy.ndarray'>\n",
            "target의 shape:  (1797,)\n",
            "\n"
          ],
          "name": "stdout"
        }
      ]
    },
    {
      "cell_type": "code",
      "metadata": {
        "colab": {
          "base_uri": "https://localhost:8080/"
        },
        "id": "FgNwqD47uuWZ",
        "outputId": "103e0319-f1be-4ad4-e095-5f2ceae5c10c"
      },
      "source": [
        "# 0번 데이터의 내용확인\n",
        "digits.data[0]"
      ],
      "id": "FgNwqD47uuWZ",
      "execution_count": 7,
      "outputs": [
        {
          "output_type": "execute_result",
          "data": {
            "text/plain": [
              "array([ 0.,  0.,  5., 13.,  9.,  1.,  0.,  0.,  0.,  0., 13., 15., 10.,\n",
              "       15.,  5.,  0.,  0.,  3., 15.,  2.,  0., 11.,  8.,  0.,  0.,  4.,\n",
              "       12.,  0.,  0.,  8.,  8.,  0.,  0.,  5.,  8.,  0.,  0.,  9.,  8.,\n",
              "        0.,  0.,  4., 11.,  0.,  1., 12.,  7.,  0.,  0.,  2., 14.,  5.,\n",
              "       10., 12.,  0.,  0.,  0.,  0.,  6., 13., 10.,  0.,  0.,  0.])"
            ]
          },
          "metadata": {
            "tags": []
          },
          "execution_count": 7
        }
      ]
    },
    {
      "cell_type": "code",
      "metadata": {
        "colab": {
          "base_uri": "https://localhost:8080/"
        },
        "id": "rHpHK_Cmu1WT",
        "outputId": "b0c06166-8968-4f74-8897-86b41a68fa94"
      },
      "source": [
        "digits.target_names"
      ],
      "id": "rHpHK_Cmu1WT",
      "execution_count": 8,
      "outputs": [
        {
          "output_type": "execute_result",
          "data": {
            "text/plain": [
              "array([0, 1, 2, 3, 4, 5, 6, 7, 8, 9])"
            ]
          },
          "metadata": {
            "tags": []
          },
          "execution_count": 8
        }
      ]
    },
    {
      "cell_type": "code",
      "metadata": {
        "colab": {
          "base_uri": "https://localhost:8080/"
        },
        "id": "O5yf0dFKu5rr",
        "outputId": "6f7c752d-9bf7-41cf-a512-ac5f8dad1286"
      },
      "source": [
        "digits.target.shape"
      ],
      "id": "O5yf0dFKu5rr",
      "execution_count": 9,
      "outputs": [
        {
          "output_type": "execute_result",
          "data": {
            "text/plain": [
              "(1797,)"
            ]
          },
          "metadata": {
            "tags": []
          },
          "execution_count": 9
        }
      ]
    },
    {
      "cell_type": "markdown",
      "metadata": {
        "id": "ZBKifNnKuHon"
      },
      "source": [
        "- `digit_data`에 feature가 들어 있고, `digit_target`에 target이 들어있다."
      ],
      "id": "ZBKifNnKuHon"
    },
    {
      "cell_type": "code",
      "metadata": {
        "colab": {
          "base_uri": "https://localhost:8080/",
          "height": 141
        },
        "id": "UMn-GBJDrXA4",
        "outputId": "af90e3cc-1fd6-41f8-8428-0f7fd3e57885"
      },
      "source": [
        "import matplotlib.pyplot as plt\n",
        "\n",
        "# 이미지 확인\n",
        "_, axes = plt.subplots(nrows=1, ncols=10, figsize=(20, 20))\n",
        "for ax, image, label in zip(axes, digits.images, digits.target):\n",
        "    ax.set_axis_off()\n",
        "    ax.imshow(image, cmap=plt.cm.gray_r, interpolation='nearest')\n",
        "    ax.set_title('Training: %i' % label)"
      ],
      "id": "UMn-GBJDrXA4",
      "execution_count": 10,
      "outputs": [
        {
          "output_type": "display_data",
          "data": {
            "image/png": "[encoded data removed]",
            "text/plain": [
              "<Figure size 1440x1440 with 10 Axes>"
            ]
          },
          "metadata": {
            "tags": [],
            "needs_background": "light"
          }
        }
      ]
    },
    {
      "cell_type": "code",
      "metadata": {
        "id": "english-capitol"
      },
      "source": [
        "# feature data와 label data 지정\n",
        "feature_data = digits.data\n",
        "label_data = digits.target"
      ],
      "id": "english-capitol",
      "execution_count": 11,
      "outputs": []
    },
    {
      "cell_type": "markdown",
      "metadata": {
        "id": "departmental-expansion"
      },
      "source": [
        "## (4) train, test 데이터 분리"
      ],
      "id": "departmental-expansion"
    },
    {
      "cell_type": "code",
      "metadata": {
        "id": "intellectual-coupon",
        "colab": {
          "base_uri": "https://localhost:8080/"
        },
        "outputId": "9c505d2d-e77a-4a05-8e5d-2db7fe2f2f53"
      },
      "source": [
        "from sklearn.model_selection import train_test_split\n",
        "\n",
        "X_train, X_test, y_train, y_test = train_test_split(feature_data, \n",
        "                                                    label_data,\n",
        "                                                    test_size=0.2,\n",
        "                                                    random_state=42)\n",
        "\n",
        "print(f\"학습 데이터: {X_train.shape}, {y_train.shape}\")\n",
        "print(f\"테스트 데이터: {X_test.shape}, {y_test.shape}\")"
      ],
      "id": "intellectual-coupon",
      "execution_count": 12,
      "outputs": [
        {
          "output_type": "stream",
          "text": [
            "학습 데이터: (1437, 64), (1437,)\n",
            "테스트 데이터: (360, 64), (360,)\n"
          ],
          "name": "stdout"
        }
      ]
    },
    {
      "cell_type": "markdown",
      "metadata": {
        "id": "minor-standard"
      },
      "source": [
        "## (5) 다양한 모델로 학습시켜보기\n",
        "- Decision Tree 사용해 보기\n",
        "- Random Forest 사용해 보기\n",
        "- SVM 사용해 보기\n",
        "- SGD Classifier 사용해 보기\n",
        "- Logistic Regression 사용해 보기\n",
        "\n",
        "어떤 모델이 가장 좋은 성능을 보일까?"
      ],
      "id": "minor-standard"
    },
    {
      "cell_type": "markdown",
      "metadata": {
        "id": "comprehensive-costa"
      },
      "source": [
        "### Decision Tree"
      ],
      "id": "comprehensive-costa"
    },
    {
      "cell_type": "code",
      "metadata": {
        "colab": {
          "base_uri": "https://localhost:8080/"
        },
        "id": "conscious-alfred",
        "outputId": "a888207e-7310-42b2-d45a-339c9dc9d895"
      },
      "source": [
        "from sklearn.tree import DecisionTreeClassifier\n",
        "from sklearn.model_selection import cross_val_score, cross_validate\n",
        "\n",
        "dt_clf = DecisionTreeClassifier() \n",
        "dt_clf.fit(X_train, y_train)\n",
        "pred = dt_clf.predict(X_test)\n",
        "accuracy = accuracy_score(y_test, pred)\n",
        "\n",
        "print(classification_report(y_test, pred))\n",
        "print(f\"Decision Tree 정확도: {accuracy:.3f}\")"
      ],
      "id": "conscious-alfred",
      "execution_count": 13,
      "outputs": [
        {
          "output_type": "stream",
          "text": [
            "              precision    recall  f1-score   support\n",
            "\n",
            "           0       1.00      0.88      0.94        33\n",
            "           1       0.92      0.79      0.85        28\n",
            "           2       0.96      0.79      0.87        33\n",
            "           3       0.65      0.88      0.75        34\n",
            "           4       0.80      0.89      0.85        46\n",
            "           5       0.94      0.96      0.95        47\n",
            "           6       0.94      0.94      0.94        35\n",
            "           7       0.86      0.88      0.87        34\n",
            "           8       0.75      0.70      0.72        30\n",
            "           9       0.89      0.82      0.86        40\n",
            "\n",
            "    accuracy                           0.86       360\n",
            "   macro avg       0.87      0.85      0.86       360\n",
            "weighted avg       0.87      0.86      0.86       360\n",
            "\n",
            "Decision Tree 정확도: 0.861\n"
          ],
          "name": "stdout"
        }
      ]
    },
    {
      "cell_type": "markdown",
      "metadata": {
        "id": "corresponding-arnold"
      },
      "source": [
        "### Random Forest"
      ],
      "id": "corresponding-arnold"
    },
    {
      "cell_type": "code",
      "metadata": {
        "colab": {
          "base_uri": "https://localhost:8080/"
        },
        "id": "suspected-public",
        "outputId": "9ea7fa31-cf2d-40dc-9328-e3bc32496ab3"
      },
      "source": [
        "from sklearn.ensemble import RandomForestClassifier\n",
        "\n",
        "rf_clf = RandomForestClassifier(random_state=32)\n",
        "rf_clf.fit(X_train, y_train)\n",
        "pred = rf_clf.predict(X_test)\n",
        "accuracy = accuracy_score(y_test, pred)\n",
        "\n",
        "print(classification_report(y_test, pred))\n",
        "print(f\"Random Forest 정확도: {accuracy:.3f}\")"
      ],
      "id": "suspected-public",
      "execution_count": 14,
      "outputs": [
        {
          "output_type": "stream",
          "text": [
            "              precision    recall  f1-score   support\n",
            "\n",
            "           0       1.00      1.00      1.00        33\n",
            "           1       0.93      1.00      0.97        28\n",
            "           2       1.00      1.00      1.00        33\n",
            "           3       1.00      1.00      1.00        34\n",
            "           4       1.00      1.00      1.00        46\n",
            "           5       0.96      0.98      0.97        47\n",
            "           6       0.97      0.97      0.97        35\n",
            "           7       0.97      0.97      0.97        34\n",
            "           8       1.00      0.93      0.97        30\n",
            "           9       0.97      0.95      0.96        40\n",
            "\n",
            "    accuracy                           0.98       360\n",
            "   macro avg       0.98      0.98      0.98       360\n",
            "weighted avg       0.98      0.98      0.98       360\n",
            "\n",
            "Random Forest 정확도: 0.981\n"
          ],
          "name": "stdout"
        }
      ]
    },
    {
      "cell_type": "markdown",
      "metadata": {
        "id": "charitable-tennis"
      },
      "source": [
        "### Support Vector Machine (SVM)"
      ],
      "id": "charitable-tennis"
    },
    {
      "cell_type": "code",
      "metadata": {
        "colab": {
          "base_uri": "https://localhost:8080/"
        },
        "id": "grand-database",
        "outputId": "54c0d0dc-5818-4d79-b08d-257542c2e8f6"
      },
      "source": [
        "from sklearn import svm\n",
        "from sklearn.preprocessing import StandardScaler\n",
        "\n",
        "scaler = StandardScaler()\n",
        "scaler.fit(X_train)\n",
        "train_scaled = scaler.transform(X_train) # train data 표준화\n",
        "\n",
        "svm_model = svm.SVC()\n",
        "svm_model.fit(train_scaled, y_train)\n",
        "test_scaled = scaler.transform(X_test) # test data 표준화\n",
        "pred = svm_model.predict(test_scaled)\n",
        "accuracy = accuracy_score(y_test, pred)\n",
        "\n",
        "print(classification_report(y_test, pred))\n",
        "print(f\"SVM 정확도: {accuracy:.3f}\")"
      ],
      "id": "grand-database",
      "execution_count": 15,
      "outputs": [
        {
          "output_type": "stream",
          "text": [
            "              precision    recall  f1-score   support\n",
            "\n",
            "           0       1.00      1.00      1.00        33\n",
            "           1       1.00      1.00      1.00        28\n",
            "           2       1.00      1.00      1.00        33\n",
            "           3       1.00      0.97      0.99        34\n",
            "           4       0.96      1.00      0.98        46\n",
            "           5       0.96      0.98      0.97        47\n",
            "           6       0.97      1.00      0.99        35\n",
            "           7       1.00      0.94      0.97        34\n",
            "           8       0.97      0.97      0.97        30\n",
            "           9       0.97      0.95      0.96        40\n",
            "\n",
            "    accuracy                           0.98       360\n",
            "   macro avg       0.98      0.98      0.98       360\n",
            "weighted avg       0.98      0.98      0.98       360\n",
            "\n",
            "SVM 정확도: 0.981\n"
          ],
          "name": "stdout"
        }
      ]
    },
    {
      "cell_type": "markdown",
      "metadata": {
        "id": "ordered-symposium"
      },
      "source": [
        "### Stochastic Gradient Descent Classifier (SGDClassifier)"
      ],
      "id": "ordered-symposium"
    },
    {
      "cell_type": "code",
      "metadata": {
        "colab": {
          "base_uri": "https://localhost:8080/"
        },
        "id": "eight-roads",
        "outputId": "d89e8e68-17f2-4e15-cc63-7951f38ab2b8"
      },
      "source": [
        "from sklearn.linear_model import SGDClassifier\n",
        "\n",
        "sgc_clf = SGDClassifier()\n",
        "sgc_clf.fit(X_train, y_train)\n",
        "pred = sgc_clf.predict(X_test)\n",
        "accuracy = accuracy_score(y_test, pred)\n",
        "\n",
        "print(classification_report(y_test, pred))\n",
        "print(f\"SGDClassfier 정확도: {accuracy:.3f}\")"
      ],
      "id": "eight-roads",
      "execution_count": 16,
      "outputs": [
        {
          "output_type": "stream",
          "text": [
            "              precision    recall  f1-score   support\n",
            "\n",
            "           0       1.00      0.97      0.98        33\n",
            "           1       0.93      1.00      0.97        28\n",
            "           2       1.00      1.00      1.00        33\n",
            "           3       1.00      0.94      0.97        34\n",
            "           4       0.98      0.98      0.98        46\n",
            "           5       0.92      0.98      0.95        47\n",
            "           6       1.00      0.97      0.99        35\n",
            "           7       1.00      0.97      0.99        34\n",
            "           8       0.82      0.93      0.87        30\n",
            "           9       0.97      0.88      0.92        40\n",
            "\n",
            "    accuracy                           0.96       360\n",
            "   macro avg       0.96      0.96      0.96       360\n",
            "weighted avg       0.96      0.96      0.96       360\n",
            "\n",
            "SGDClassfier 정확도: 0.961\n"
          ],
          "name": "stdout"
        }
      ]
    },
    {
      "cell_type": "markdown",
      "metadata": {
        "id": "looking-complexity"
      },
      "source": [
        "### Logistic Regression"
      ],
      "id": "looking-complexity"
    },
    {
      "cell_type": "code",
      "metadata": {
        "id": "handled-second",
        "colab": {
          "base_uri": "https://localhost:8080/"
        },
        "outputId": "aa5d3b61-a74f-4b8e-c4d0-528ee9645787"
      },
      "source": [
        "from sklearn.linear_model import LogisticRegression\n",
        "from sklearn.preprocessing import StandardScaler\n",
        "\n",
        "scaler = StandardScaler()\n",
        "scaler.fit(X_train)\n",
        "train_scaled = scaler.transform(X_train) # train data 표준화\n",
        "\n",
        "lr = LogisticRegression(max_iter=100)\n",
        "lr.fit(train_scaled, y_train)\n",
        "test_scaled = scaler.transform(X_test) # test data 표준화\n",
        "pred = lr.predict(test_scaled)\n",
        "accuracy = accuracy_score(y_test, pred)\n",
        "\n",
        "print(classification_report(y_test, pred))\n",
        "print(f\"SGDClassfier 정확도: {accuracy:.3f}\")"
      ],
      "id": "handled-second",
      "execution_count": 17,
      "outputs": [
        {
          "output_type": "stream",
          "text": [
            "              precision    recall  f1-score   support\n",
            "\n",
            "           0       1.00      1.00      1.00        33\n",
            "           1       0.97      1.00      0.98        28\n",
            "           2       1.00      1.00      1.00        33\n",
            "           3       0.97      0.97      0.97        34\n",
            "           4       1.00      0.98      0.99        46\n",
            "           5       0.94      0.94      0.94        47\n",
            "           6       0.97      0.97      0.97        35\n",
            "           7       1.00      0.97      0.99        34\n",
            "           8       0.97      0.97      0.97        30\n",
            "           9       0.93      0.95      0.94        40\n",
            "\n",
            "    accuracy                           0.97       360\n",
            "   macro avg       0.97      0.97      0.97       360\n",
            "weighted avg       0.97      0.97      0.97       360\n",
            "\n",
            "SGDClassfier 정확도: 0.972\n"
          ],
          "name": "stdout"
        }
      ]
    },
    {
      "cell_type": "markdown",
      "metadata": {
        "id": "Yq3Df3K2yLIC"
      },
      "source": [
        "## (6) 모델을 평가해 보기\n",
        "\n",
        "**모델별 정확도**\n",
        "- Decision Tree: 0.850\n",
        "- Random Forest: 0.981\n",
        "- SVM: 0.981\n",
        "- SGCClassifier: 0.956\n",
        "- LogisticRegression: 0.972\n",
        "\n",
        "손글씨 분류의 경우 잘 예측을 하는 것이 중요하고 예측이 틀렸다고 하더라고 크게 문제되지 않기 때문에 **정확도(Accuracy)**를 평가 지표로 선택하는 것이 타당할 것이다.\n",
        "\n",
        "정확도를 기준으로 봤을 때 SVM과 Random Forest가 가장 높은 정확도를 보였다."
      ],
      "id": "Yq3Df3K2yLIC"
    },
    {
      "cell_type": "markdown",
      "metadata": {
        "id": "cleared-hypothetical"
      },
      "source": [
        "# 2-12. 프로젝트 (2) load_wine : 와인을 분류해 봅시다\n",
        "- `load_wine` : 와인 데이터 ([링크](https://scikit-learn.org/stable/modules/generated/sklearn.datasets.load_wine.html#sklearn.datasets.load_wine))"
      ],
      "id": "cleared-hypothetical"
    },
    {
      "cell_type": "markdown",
      "metadata": {
        "id": "developmental-worcester"
      },
      "source": [
        "## (1) 필요한 모듈 import하기"
      ],
      "id": "developmental-worcester"
    },
    {
      "cell_type": "code",
      "metadata": {
        "id": "electoral-pixel"
      },
      "source": [
        "from sklearn.datasets import load_wine\n",
        "from sklearn.model_selection import train_test_split\n",
        "from sklearn.metrics import classification_report"
      ],
      "id": "electoral-pixel",
      "execution_count": 18,
      "outputs": []
    },
    {
      "cell_type": "markdown",
      "metadata": {
        "id": "polish-great"
      },
      "source": [
        "## (2) 데이터 준비"
      ],
      "id": "polish-great"
    },
    {
      "cell_type": "code",
      "metadata": {
        "colab": {
          "base_uri": "https://localhost:8080/"
        },
        "id": "auburn-massage",
        "outputId": "54af1291-4f3d-4b93-dadd-349d41374eaa"
      },
      "source": [
        "wine = load_wine()\n",
        "\n",
        "print(dir(wine))"
      ],
      "id": "auburn-massage",
      "execution_count": 19,
      "outputs": [
        {
          "output_type": "stream",
          "text": [
            "['DESCR', 'data', 'feature_names', 'target', 'target_names']\n"
          ],
          "name": "stdout"
        }
      ]
    },
    {
      "cell_type": "markdown",
      "metadata": {
        "id": "experienced-allen"
      },
      "source": [
        "## (3) 데이터 이해하기\n",
        "- Feature Data 지정하기\n",
        "- Label Data 지정하기\n",
        "- Target Names 출력해 보기\n",
        "- 데이터 Describe 해 보기"
      ],
      "id": "experienced-allen"
    },
    {
      "cell_type": "code",
      "metadata": {
        "colab": {
          "base_uri": "https://localhost:8080/"
        },
        "id": "living-quarter",
        "outputId": "4e6cf0c9-6943-47a9-ffbb-72c4626249f5"
      },
      "source": [
        "print_data_info(wine, feature_names=True)"
      ],
      "id": "living-quarter",
      "execution_count": 20,
      "outputs": [
        {
          "output_type": "stream",
          "text": [
            "data의 type:  <class 'sklearn.utils.Bunch'>\n",
            "data의 shape:  (178, 13)\n",
            "\n",
            "feature_name 출력: \n",
            "['alcohol', 'malic_acid', 'ash', 'alcalinity_of_ash', 'magnesium', 'total_phenols', 'flavanoids', 'nonflavanoid_phenols', 'proanthocyanins', 'color_intensity', 'hue', 'od280/od315_of_diluted_wines', 'proline']\n",
            "\n",
            "feature_name의 type:  <class 'list'>\n",
            "feature_name의 shape:  13\n",
            "\n",
            "target_name:  ['class_0' 'class_1' 'class_2']\n",
            "target_name의 type:  <class 'numpy.ndarray'>\n",
            "target_name의 shape:  3\n",
            "\n",
            "target의 type:  <class 'numpy.ndarray'>\n",
            "target의 shape:  (178,)\n",
            "\n"
          ],
          "name": "stdout"
        }
      ]
    },
    {
      "cell_type": "markdown",
      "metadata": {
        "id": "C2zjVtsQzmVa"
      },
      "source": [
        "- 와인 데이터는에는 총 178개의 데이터가 있고, target에는 세 가지 종류의 와인이 있는 것을 확인 할 수 있다."
      ],
      "id": "C2zjVtsQzmVa"
    },
    {
      "cell_type": "code",
      "metadata": {
        "id": "identified-panel",
        "colab": {
          "base_uri": "https://localhost:8080/"
        },
        "outputId": "4e2ee430-2d0d-49a6-df12-698488a1a58b"
      },
      "source": [
        "import pandas as pd\n",
        "\n",
        "wine_df = pd.DataFrame(data=wine.data, columns=wine.feature_names)\n",
        "wine_df['label'] = wine.target\n",
        "wine_df['label'].value_counts()"
      ],
      "id": "identified-panel",
      "execution_count": 21,
      "outputs": [
        {
          "output_type": "execute_result",
          "data": {
            "text/plain": [
              "1    71\n",
              "0    59\n",
              "2    48\n",
              "Name: label, dtype: int64"
            ]
          },
          "metadata": {
            "tags": []
          },
          "execution_count": 21
        }
      ]
    },
    {
      "cell_type": "code",
      "metadata": {
        "id": "cardiac-hanging"
      },
      "source": [
        "# feature data와 label data 지정\n",
        "wine_data = wine.data\n",
        "wine_target = wine.target"
      ],
      "id": "cardiac-hanging",
      "execution_count": 22,
      "outputs": []
    },
    {
      "cell_type": "markdown",
      "metadata": {
        "id": "monthly-blackberry"
      },
      "source": [
        "## (4) train, test 데이터 분리"
      ],
      "id": "monthly-blackberry"
    },
    {
      "cell_type": "code",
      "metadata": {
        "id": "destroyed-reward",
        "colab": {
          "base_uri": "https://localhost:8080/"
        },
        "outputId": "811f214d-ee28-42d0-c9c4-3615981a1897"
      },
      "source": [
        "from sklearn.model_selection import train_test_split\n",
        "\n",
        "X_train, X_test, y_train, y_test = train_test_split(wine_data,\n",
        "                                                   wine_target,\n",
        "                                                   test_size=0.2,\n",
        "                                                   random_state=42)\n",
        "\n",
        "print(f\"학습 데이터: {X_train.shape}, {y_train.shape}\")\n",
        "print(f\"테스트 데이터: {X_test.shape}, {y_test.shape}\")"
      ],
      "id": "destroyed-reward",
      "execution_count": 23,
      "outputs": [
        {
          "output_type": "stream",
          "text": [
            "학습 데이터: (142, 13), (142,)\n",
            "테스트 데이터: (36, 13), (36,)\n"
          ],
          "name": "stdout"
        }
      ]
    },
    {
      "cell_type": "markdown",
      "metadata": {
        "id": "after-jackson"
      },
      "source": [
        "## (5) 다양한 모델로 학습시켜보기\n",
        "- Decision Tree 사용해 보기\n",
        "- Random Forest 사용해 보기\n",
        "- SVM 사용해 보기\n",
        "- SGD Classifier 사용해 보기\n",
        "- Logistic Regression 사용해 보기\n",
        "\n",
        "어떤 모델이 가장 좋은 성능을 보일까?"
      ],
      "id": "after-jackson"
    },
    {
      "cell_type": "markdown",
      "metadata": {
        "id": "wireless-twelve"
      },
      "source": [
        "### Decision Tree"
      ],
      "id": "wireless-twelve"
    },
    {
      "cell_type": "code",
      "metadata": {
        "id": "satellite-orleans",
        "colab": {
          "base_uri": "https://localhost:8080/"
        },
        "outputId": "f135d135-bc3e-413b-8bec-1c287b00db91"
      },
      "source": [
        "from sklearn.tree import DecisionTreeClassifier\n",
        "\n",
        "dt_clf = DecisionTreeClassifier() \n",
        "dt_clf.fit(X_train, y_train)\n",
        "pred = dt_clf.predict(X_test)\n",
        "accuracy = accuracy_score(y_test, pred)\n",
        "\n",
        "print(classification_report(y_test, pred))\n",
        "print(f\"Decision Tree 정확도: {accuracy:.3f}\")"
      ],
      "id": "satellite-orleans",
      "execution_count": 24,
      "outputs": [
        {
          "output_type": "stream",
          "text": [
            "              precision    recall  f1-score   support\n",
            "\n",
            "           0       0.93      0.93      0.93        14\n",
            "           1       0.93      1.00      0.97        14\n",
            "           2       1.00      0.88      0.93         8\n",
            "\n",
            "    accuracy                           0.94        36\n",
            "   macro avg       0.95      0.93      0.94        36\n",
            "weighted avg       0.95      0.94      0.94        36\n",
            "\n",
            "Decision Tree 정확도: 0.944\n"
          ],
          "name": "stdout"
        }
      ]
    },
    {
      "cell_type": "markdown",
      "metadata": {
        "id": "recreational-screening"
      },
      "source": [
        "### Random Forest"
      ],
      "id": "recreational-screening"
    },
    {
      "cell_type": "code",
      "metadata": {
        "id": "static-match",
        "colab": {
          "base_uri": "https://localhost:8080/"
        },
        "outputId": "e4095410-ecca-483c-8687-b460dc789140"
      },
      "source": [
        "from sklearn.ensemble import RandomForestClassifier\n",
        "\n",
        "rf_clf = RandomForestClassifier(random_state=32)\n",
        "\n",
        "rf_clf.fit(X_train, y_train)\n",
        "pred = rf_clf.predict(X_test)\n",
        "accuracy = accuracy_score(y_test, pred)\n",
        "accuracy = accuracy_score(y_test, pred)\n",
        "\n",
        "print(classification_report(y_test, pred))\n",
        "print(f\"Random Forest 정확도: {accuracy:.3f}\")"
      ],
      "id": "static-match",
      "execution_count": 25,
      "outputs": [
        {
          "output_type": "stream",
          "text": [
            "              precision    recall  f1-score   support\n",
            "\n",
            "           0       1.00      1.00      1.00        14\n",
            "           1       1.00      1.00      1.00        14\n",
            "           2       1.00      1.00      1.00         8\n",
            "\n",
            "    accuracy                           1.00        36\n",
            "   macro avg       1.00      1.00      1.00        36\n",
            "weighted avg       1.00      1.00      1.00        36\n",
            "\n",
            "Random Forest 정확도: 1.000\n"
          ],
          "name": "stdout"
        }
      ]
    },
    {
      "cell_type": "markdown",
      "metadata": {
        "id": "nutritional-madison"
      },
      "source": [
        "### Support Vector Machine (SVM)"
      ],
      "id": "nutritional-madison"
    },
    {
      "cell_type": "code",
      "metadata": {
        "id": "turned-discipline",
        "colab": {
          "base_uri": "https://localhost:8080/"
        },
        "outputId": "e05206f6-2842-4c32-bfe2-d2588b4f4cc0"
      },
      "source": [
        "from sklearn import svm\n",
        "from sklearn.preprocessing import StandardScaler\n",
        "\n",
        "scaler = StandardScaler()\n",
        "scaler.fit(X_train)\n",
        "train_scaled = scaler.transform(X_train) # train data 표준화\n",
        "\n",
        "svm_model = svm.SVC()\n",
        "svm_model.fit(train_scaled, y_train)\n",
        "test_scaled = scaler.transform(X_test) # test data 표준화\n",
        "pred = svm_model.predict(test_scaled)\n",
        "accuracy = accuracy_score(y_test, pred)\n",
        "\n",
        "print(classification_report(y_test, pred))\n",
        "print(f\"SVM 정확도: {accuracy:.3f}\")"
      ],
      "id": "turned-discipline",
      "execution_count": 26,
      "outputs": [
        {
          "output_type": "stream",
          "text": [
            "              precision    recall  f1-score   support\n",
            "\n",
            "           0       1.00      1.00      1.00        14\n",
            "           1       1.00      1.00      1.00        14\n",
            "           2       1.00      1.00      1.00         8\n",
            "\n",
            "    accuracy                           1.00        36\n",
            "   macro avg       1.00      1.00      1.00        36\n",
            "weighted avg       1.00      1.00      1.00        36\n",
            "\n",
            "SVM 정확도: 1.000\n"
          ],
          "name": "stdout"
        }
      ]
    },
    {
      "cell_type": "markdown",
      "metadata": {
        "id": "designing-inflation"
      },
      "source": [
        "### Stochastic Gradient Descent Classifier (SGDClassifier)"
      ],
      "id": "designing-inflation"
    },
    {
      "cell_type": "code",
      "metadata": {
        "id": "offensive-swaziland",
        "colab": {
          "base_uri": "https://localhost:8080/"
        },
        "outputId": "cfb2339a-80c3-4501-f528-376686820a32"
      },
      "source": [
        "from sklearn.linear_model import SGDClassifier\n",
        "\n",
        "sgc_clf = SGDClassifier()\n",
        "sgc_clf.fit(X_train, y_train)\n",
        "pred = sgc_clf.predict(X_test)\n",
        "accuracy = accuracy_score(y_test, pred)\n",
        "\n",
        "print(classification_report(y_test, pred))\n",
        "print(f\"SGDClassfier 정확도: {accuracy:.3f}\")"
      ],
      "id": "offensive-swaziland",
      "execution_count": 27,
      "outputs": [
        {
          "output_type": "stream",
          "text": [
            "              precision    recall  f1-score   support\n",
            "\n",
            "           0       0.00      0.00      0.00        14\n",
            "           1       0.00      0.00      0.00        14\n",
            "           2       0.22      1.00      0.36         8\n",
            "\n",
            "    accuracy                           0.22        36\n",
            "   macro avg       0.07      0.33      0.12        36\n",
            "weighted avg       0.05      0.22      0.08        36\n",
            "\n",
            "SGDClassfier 정확도: 0.222\n"
          ],
          "name": "stdout"
        }
      ]
    },
    {
      "cell_type": "markdown",
      "metadata": {
        "id": "looking-sector"
      },
      "source": [
        "### Logistic Regression"
      ],
      "id": "looking-sector"
    },
    {
      "cell_type": "code",
      "metadata": {
        "id": "shaped-spread",
        "colab": {
          "base_uri": "https://localhost:8080/"
        },
        "outputId": "8bc2e86e-152b-4aae-b11b-7d8788b7f53e"
      },
      "source": [
        "from sklearn.linear_model import LogisticRegression\n",
        "from sklearn.preprocessing import StandardScaler\n",
        "\n",
        "scaler = StandardScaler()\n",
        "scaler.fit(X_train)\n",
        "train_scaled = scaler.transform(X_train) # train data 표준화\n",
        "\n",
        "lr = LogisticRegression(max_iter=100)\n",
        "lr.fit(train_scaled, y_train)\n",
        "test_scaled = scaler.transform(X_test) # test data 표준화\n",
        "pred = lr.predict(test_scaled)\n",
        "accuracy = accuracy_score(y_test, pred)\n",
        "\n",
        "print(classification_report(y_test, pred))\n",
        "print(f\"SGDClassfier 정확도: {accuracy:.3f}\")"
      ],
      "id": "shaped-spread",
      "execution_count": 28,
      "outputs": [
        {
          "output_type": "stream",
          "text": [
            "              precision    recall  f1-score   support\n",
            "\n",
            "           0       1.00      1.00      1.00        14\n",
            "           1       1.00      1.00      1.00        14\n",
            "           2       1.00      1.00      1.00         8\n",
            "\n",
            "    accuracy                           1.00        36\n",
            "   macro avg       1.00      1.00      1.00        36\n",
            "weighted avg       1.00      1.00      1.00        36\n",
            "\n",
            "SGDClassfier 정확도: 1.000\n"
          ],
          "name": "stdout"
        }
      ]
    },
    {
      "cell_type": "markdown",
      "metadata": {
        "id": "danish-muslim"
      },
      "source": [
        "## (6) 모델을 평가해 보기\n",
        "- 학습된 모델들의 테스트데이터 예측 결과를 어떻게 해석해야 할까요? \n",
        "- 모델의 성능을 평가하는 지표로는 무엇이 좋을까요? \n",
        "- sklearn.metrics 에서 제공하는 평가지표 중 적절한 것을 선택해 보세요. 선택하신 이유도 설명해 주세요."
      ],
      "id": "danish-muslim"
    },
    {
      "cell_type": "markdown",
      "metadata": {
        "id": "raising-detroit"
      },
      "source": [
        "# 2-13. 프로젝트 (3) load_breast_cancer : 유방암 여부를 진단해 봅시다\n",
        "\n",
        "\n",
        "- `load_breast_cancer` : 유방암 데이터 ([링크](https://scikit-learn.org/stable/modules/generated/sklearn.datasets.load_breast_cancer.html#sklearn.datasets.load_breast_cancer))\n",
        "\n",
        "- 재현율이 중요"
      ],
      "id": "raising-detroit"
    },
    {
      "cell_type": "markdown",
      "metadata": {
        "id": "marine-lodging"
      },
      "source": [
        "## (1) 필요한 모듈 import하기"
      ],
      "id": "marine-lodging"
    },
    {
      "cell_type": "code",
      "metadata": {
        "id": "confident-danger"
      },
      "source": [
        "from sklearn.datasets import load_breast_cancer\n",
        "from sklearn.model_selection import train_test_split\n",
        "from sklearn.metrics import classification_report"
      ],
      "id": "confident-danger",
      "execution_count": 29,
      "outputs": []
    },
    {
      "cell_type": "markdown",
      "metadata": {
        "id": "indie-sheffield"
      },
      "source": [
        "## (2) 데이터 준비"
      ],
      "id": "indie-sheffield"
    },
    {
      "cell_type": "code",
      "metadata": {
        "id": "detailed-irish"
      },
      "source": [
        "breast_cancer = load_breast_cancer()"
      ],
      "id": "detailed-irish",
      "execution_count": 30,
      "outputs": []
    },
    {
      "cell_type": "markdown",
      "metadata": {
        "id": "crude-yesterday"
      },
      "source": [
        "## (3) 데이터 이해하기\n",
        "- Feature Data 지정하기\n",
        "- Label Data 지정하기\n",
        "- Target Names 출력해 보기\n",
        "- 데이터 Describe 해 보기"
      ],
      "id": "crude-yesterday"
    },
    {
      "cell_type": "code",
      "metadata": {
        "id": "acceptable-luxembourg",
        "colab": {
          "base_uri": "https://localhost:8080/"
        },
        "outputId": "45766c7a-f967-4bc6-afe8-9ce38dddcb50"
      },
      "source": [
        "print_data_info(breast_cancer)"
      ],
      "id": "acceptable-luxembourg",
      "execution_count": 31,
      "outputs": [
        {
          "output_type": "stream",
          "text": [
            "data의 type:  <class 'sklearn.utils.Bunch'>\n",
            "data의 shape:  (569, 30)\n",
            "\n",
            "target_name:  ['malignant' 'benign']\n",
            "target_name의 type:  <class 'numpy.ndarray'>\n",
            "target_name의 shape:  2\n",
            "\n",
            "target의 type:  <class 'numpy.ndarray'>\n",
            "target의 shape:  (569,)\n",
            "\n"
          ],
          "name": "stdout"
        }
      ]
    },
    {
      "cell_type": "code",
      "metadata": {
        "id": "dramatic-logging",
        "colab": {
          "base_uri": "https://localhost:8080/"
        },
        "outputId": "957c83fe-615f-4bd8-df13-84fd03be069e"
      },
      "source": [
        "cancer_df = pd.DataFrame(data=breast_cancer.data, columns=breast_cancer.feature_names)\n",
        "cancer_df['label'] = breast_cancer.target\n",
        "cancer_df['label'].value_counts()"
      ],
      "id": "dramatic-logging",
      "execution_count": 32,
      "outputs": [
        {
          "output_type": "execute_result",
          "data": {
            "text/plain": [
              "1    357\n",
              "0    212\n",
              "Name: label, dtype: int64"
            ]
          },
          "metadata": {
            "tags": []
          },
          "execution_count": 32
        }
      ]
    },
    {
      "cell_type": "code",
      "metadata": {
        "id": "compliant-subscription"
      },
      "source": [
        "cancer_data = breast_cancer.data\n",
        "cancer_target = breast_cancer.target"
      ],
      "id": "compliant-subscription",
      "execution_count": 33,
      "outputs": []
    },
    {
      "cell_type": "markdown",
      "metadata": {
        "id": "sorted-triple"
      },
      "source": [
        "## (4) train, test 데이터 분리"
      ],
      "id": "sorted-triple"
    },
    {
      "cell_type": "code",
      "metadata": {
        "id": "executed-moment"
      },
      "source": [
        "from sklearn.model_selection import train_test_split\n",
        "\n",
        "X_train, X_test, y_train, y_test = train_test_split(cancer_data,\n",
        "                                                   cancer_target,\n",
        "                                                   test_size=0.2,\n",
        "                                                   random_state=42)"
      ],
      "id": "executed-moment",
      "execution_count": 34,
      "outputs": []
    },
    {
      "cell_type": "markdown",
      "metadata": {
        "id": "about-amateur"
      },
      "source": [
        "## (5) 다양한 모델로 학습시켜보기\n",
        "- Decision Tree 사용해 보기\n",
        "- Random Forest 사용해 보기\n",
        "- SVM 사용해 보기\n",
        "- SGD Classifier 사용해 보기\n",
        "- Logistic Regression 사용해 보기\n",
        "\n",
        "어떤 모델이 가장 좋은 성능을 보일까?"
      ],
      "id": "about-amateur"
    },
    {
      "cell_type": "markdown",
      "metadata": {
        "id": "saving-narrative"
      },
      "source": [
        "### Decision Tree"
      ],
      "id": "saving-narrative"
    },
    {
      "cell_type": "code",
      "metadata": {
        "id": "mineral-twelve",
        "colab": {
          "base_uri": "https://localhost:8080/"
        },
        "outputId": "34f220b1-62ae-4147-dfab-a9f812e123fb"
      },
      "source": [
        "from sklearn.tree import DecisionTreeClassifier\n",
        "\n",
        "dt_clf = DecisionTreeClassifier() \n",
        "\n",
        "dt_clf.fit(X_train, y_train)\n",
        "\n",
        "pred = dt_clf.predict(X_test)\n",
        "accuracy = accuracy_score(y_test, pred)\n",
        "accuracy"
      ],
      "id": "mineral-twelve",
      "execution_count": 35,
      "outputs": [
        {
          "output_type": "execute_result",
          "data": {
            "text/plain": [
              "0.9298245614035088"
            ]
          },
          "metadata": {
            "tags": []
          },
          "execution_count": 35
        }
      ]
    },
    {
      "cell_type": "markdown",
      "metadata": {
        "id": "traditional-reputation"
      },
      "source": [
        "### Random Forest"
      ],
      "id": "traditional-reputation"
    },
    {
      "cell_type": "code",
      "metadata": {
        "id": "enormous-vertex",
        "colab": {
          "base_uri": "https://localhost:8080/"
        },
        "outputId": "4d0968e3-b87a-4923-8960-197b9308a484"
      },
      "source": [
        "from sklearn.ensemble import RandomForestClassifier\n",
        "\n",
        "rf_clf = RandomForestClassifier(random_state=32)\n",
        "\n",
        "rf_clf.fit(X_train, y_train)\n",
        "pred = rf_clf.predict(X_test)\n",
        "accuracy = accuracy_score(y_test, pred)\n",
        "accuracy = accuracy_score(y_test, pred)\n",
        "accuracy"
      ],
      "id": "enormous-vertex",
      "execution_count": 36,
      "outputs": [
        {
          "output_type": "execute_result",
          "data": {
            "text/plain": [
              "0.9649122807017544"
            ]
          },
          "metadata": {
            "tags": []
          },
          "execution_count": 36
        }
      ]
    },
    {
      "cell_type": "markdown",
      "metadata": {
        "id": "binding-comment"
      },
      "source": [
        "### Support Vector Machine (SVM)"
      ],
      "id": "binding-comment"
    },
    {
      "cell_type": "code",
      "metadata": {
        "id": "hearing-interim",
        "colab": {
          "base_uri": "https://localhost:8080/"
        },
        "outputId": "61146b94-2c3f-457c-97bd-f75ea2b7a1ad"
      },
      "source": [
        "from sklearn import svm\n",
        "from sklearn.preprocessing import StandardScaler\n",
        "\n",
        "scaler = StandardScaler()\n",
        "scaler.fit(X_train)\n",
        "train_scaled = scaler.transform(X_train) # train data 표준화\n",
        "\n",
        "svm_model = svm.SVC()\n",
        "\n",
        "svm_model.fit(train_scaled, y_train)\n",
        "\n",
        "test_scaled = scaler.transform(X_test) # test data 표준화\n",
        "pred = svm_model.predict(test_scaled)\n",
        "accuracy = accuracy_score(y_test, pred)\n",
        "print(\"예측 정확도: {0:.4f}\".format(accuracy_score(y_test, pred)))"
      ],
      "id": "hearing-interim",
      "execution_count": 37,
      "outputs": [
        {
          "output_type": "stream",
          "text": [
            "예측 정확도: 0.9825\n"
          ],
          "name": "stdout"
        }
      ]
    },
    {
      "cell_type": "markdown",
      "metadata": {
        "id": "english-vietnamese"
      },
      "source": [
        "### Stochastic Gradient Descent Classifier (SGDClassifier)"
      ],
      "id": "english-vietnamese"
    },
    {
      "cell_type": "code",
      "metadata": {
        "id": "bibliographic-honey",
        "colab": {
          "base_uri": "https://localhost:8080/"
        },
        "outputId": "e21093e0-eae9-45f5-ab8a-ff03414fd8c8"
      },
      "source": [
        "from sklearn.linear_model import SGDClassifier\n",
        "\n",
        "sgc_clf = SGDClassifier()\n",
        "\n",
        "sgc_clf.fit(X_train, y_train)\n",
        "\n",
        "pred = sgc_clf.predict(X_test)\n",
        "accuracy = accuracy_score(y_test, pred)\n",
        "print(\"예측 정확도: {0:.4f}\".format(accuracy_score(y_test, pred)))"
      ],
      "id": "bibliographic-honey",
      "execution_count": 38,
      "outputs": [
        {
          "output_type": "stream",
          "text": [
            "예측 정확도: 0.9298\n"
          ],
          "name": "stdout"
        }
      ]
    },
    {
      "cell_type": "markdown",
      "metadata": {
        "id": "frank-blank"
      },
      "source": [
        "### Logistic Regression"
      ],
      "id": "frank-blank"
    },
    {
      "cell_type": "code",
      "metadata": {
        "id": "differential-assessment",
        "colab": {
          "base_uri": "https://localhost:8080/"
        },
        "outputId": "958359de-8dbc-4811-fece-279c5171b653"
      },
      "source": [
        "from sklearn.linear_model import LogisticRegression\n",
        "from sklearn.preprocessing import StandardScaler\n",
        "\n",
        "scaler = StandardScaler()\n",
        "scaler.fit(X_train)\n",
        "train_scaled = scaler.transform(X_train) # train data 표준화\n",
        "\n",
        "lr = LogisticRegression(max_iter=100)\n",
        "lr.fit(train_scaled, y_train)\n",
        "\n",
        "test_scaled = scaler.transform(X_test) # test data 표준화\n",
        "pred = lr.predict(test_scaled)\n",
        "accuracy = accuracy_score(y_test, pred)\n",
        "print(\"예측 정확도: {0:.4f}\".format(accuracy_score(y_test, pred)))"
      ],
      "id": "differential-assessment",
      "execution_count": 39,
      "outputs": [
        {
          "output_type": "stream",
          "text": [
            "예측 정확도: 0.9737\n"
          ],
          "name": "stdout"
        }
      ]
    },
    {
      "cell_type": "markdown",
      "metadata": {
        "id": "large-hungarian"
      },
      "source": [
        "## (6) 모델을 평가해 보기\n",
        "- 학습된 모델들의 테스트데이터 예측 결과를 어떻게 해석해야 할까요? \n",
        "- 모델의 성능을 평가하는 지표로는 무엇이 좋을까요? \n",
        "- sklearn.metrics 에서 제공하는 평가지표 중 적절한 것을 선택해 보세요. 선택하신 이유도 설명해 주세요."
      ],
      "id": "large-hungarian"
    },
    {
      "cell_type": "markdown",
      "metadata": {
        "id": "chemical-championship"
      },
      "source": [
        "## 참고 자료\n",
        "\n",
        "- [[Python] 어떤 스케일러를 쓸 것인가?](https://mkjjo.github.io/python/2019/01/10/scaler.html)\n",
        "- [로지스틱회귀(Logistic Regression) – 파이썬 코드 예제](http://hleecaster.com/ml-logistic-regression-example/)"
      ],
      "id": "chemical-championship"
    },
    {
      "cell_type": "markdown",
      "metadata": {
        "id": "spare-tulsa"
      },
      "source": [
        "- 교차검증(cross_val_score)\n",
        "- GridSearchCV - 교차 검ㅈ으과 최적 하이퍼파라미터 튜닝 한 \n",
        "- 원핫인코딩\n",
        "- 피처 스케일링\n",
        "    - 표준화(Standardization)\n",
        "    - 정규화(Normalization)\n",
        "- 정밀도와 재현율의 임곗값에 따른 값 변화 그래프\n",
        "- confusion, accuracy, precision, recall, f1\n",
        "- ROC 곡선과 AUC\n",
        "- 결정 트리 시각화\n",
        "- XGBoost, LightGBM"
      ],
      "id": "spare-tulsa"
    },
    {
      "cell_type": "markdown",
      "metadata": {
        "id": "qLCk0YhqsY8U"
      },
      "source": [
        "## 평가\n",
        "1. 3가지 데이터셋의 구성이 합리적으로 진행되었는가? - feature와 label 선정을 위한 데이터 분석과정이 체계적으로 전개됨\n",
        "2. 3가지 데이터셋에 대해 각각 5가지 모델을 성공적으로 적용하였는가? - 모델학습 및 테스트가 정상적으로 수행되었음\n",
        "3. 3가지 데이터셋에 대해 모델의 평가지표가 적절히 선택되었는가? - 평가지표 선택 및 이유 설명이 타당함"
      ],
      "id": "qLCk0YhqsY8U"
    },
    {
      "cell_type": "code",
      "metadata": {
        "id": "ggRqMC3NsmQS"
      },
      "source": [
        ""
      ],
      "id": "ggRqMC3NsmQS",
      "execution_count": 39,
      "outputs": []
    }
  ]
}