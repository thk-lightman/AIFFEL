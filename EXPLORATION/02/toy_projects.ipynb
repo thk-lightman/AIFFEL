{
 "cells": [
  {
   "cell_type": "markdown",
   "id": "small-rabbit",
   "metadata": {},
   "source": [
    "# 프로젝트 (1) load_digits : 손글씨를 분류해 봅시다\n",
    "- `load_digits` : 손글씨 이미지 데이터 ([링크](https://scikit-learn.org/stable/modules/generated/sklearn.datasets.load_digits.html#sklearn.datasets.load_digits))"
   ]
  },
  {
   "cell_type": "markdown",
   "id": "center-disease",
   "metadata": {},
   "source": [
    "## (1) 필요한 모듈 import하기"
   ]
  },
  {
   "cell_type": "code",
   "execution_count": 1,
   "id": "deadly-dakota",
   "metadata": {},
   "outputs": [],
   "source": [
    "from sklearn.datasets import load_digits\n",
    "from sklearn.model_selection import train_test_split\n",
    "from sklearn.metrics import classification_report\n",
    "from sklearn.metrics import accuracy_score\n",
    "\n",
    "import pandas as pd\n",
    "import numpy as np"
   ]
  },
  {
   "cell_type": "markdown",
   "id": "behind-simulation",
   "metadata": {},
   "source": [
    "## (2) 데이터 준비"
   ]
  },
  {
   "cell_type": "code",
   "execution_count": 2,
   "id": "signal-sample",
   "metadata": {},
   "outputs": [
    {
     "name": "stdout",
     "output_type": "stream",
     "text": [
      "['DESCR', 'data', 'feature_names', 'frame', 'images', 'target', 'target_names']\n"
     ]
    }
   ],
   "source": [
    "digits = load_digits()\n",
    "\n",
    "print(dir(digits))"
   ]
  },
  {
   "cell_type": "code",
   "execution_count": 3,
   "id": "irish-temple",
   "metadata": {},
   "outputs": [],
   "source": [
    "def print_data_info(scikit_data):\n",
    "    print(\"data의 type: \", type(scikit_data))\n",
    "    print(\"data의 shape: \", scikit_data.data.shape)\n",
    "    print()\n",
    "    \n",
    "    print(\"feature_name 출력: \")\n",
    "    print(scikit_data.feature_names)\n",
    "    print()\n",
    "    print(\"feature_name의 type: \", type(scikit_data.feature_names))\n",
    "    print(\"feature_name의 shape: \", len(scikit_data.feature_names))\n",
    "    print()\n",
    "\n",
    "    print(\"target_name: \", scikit_data.target_names)\n",
    "    print(\"target_name의 type: \", type(scikit_data.target_names))\n",
    "    print(\"target_name의 shape: \", len(scikit_data.target_names))\n",
    "    print()\n",
    "\n",
    "\n",
    "    print(\"target의 type: \", type(scikit_data.target))\n",
    "    print(\"target의 shape: \", scikit_data.target.shape)\n",
    "    print()"
   ]
  },
  {
   "cell_type": "markdown",
   "id": "british-radio",
   "metadata": {},
   "source": [
    "## (3) 데이터 이해하기\n",
    "- Feature Data 지정하기\n",
    "- Label Data 지정하기\n",
    "- Target Names 출력해 보기\n",
    "- 데이터 Describe 해 보기"
   ]
  },
  {
   "cell_type": "code",
   "execution_count": 4,
   "id": "acquired-behavior",
   "metadata": {},
   "outputs": [
    {
     "name": "stdout",
     "output_type": "stream",
     "text": [
      "data의 type:  <class 'sklearn.utils.Bunch'>\n",
      "data의 shape:  (1797, 64)\n",
      "\n",
      "feature_name 출력: \n",
      "['pixel_0_0', 'pixel_0_1', 'pixel_0_2', 'pixel_0_3', 'pixel_0_4', 'pixel_0_5', 'pixel_0_6', 'pixel_0_7', 'pixel_1_0', 'pixel_1_1', 'pixel_1_2', 'pixel_1_3', 'pixel_1_4', 'pixel_1_5', 'pixel_1_6', 'pixel_1_7', 'pixel_2_0', 'pixel_2_1', 'pixel_2_2', 'pixel_2_3', 'pixel_2_4', 'pixel_2_5', 'pixel_2_6', 'pixel_2_7', 'pixel_3_0', 'pixel_3_1', 'pixel_3_2', 'pixel_3_3', 'pixel_3_4', 'pixel_3_5', 'pixel_3_6', 'pixel_3_7', 'pixel_4_0', 'pixel_4_1', 'pixel_4_2', 'pixel_4_3', 'pixel_4_4', 'pixel_4_5', 'pixel_4_6', 'pixel_4_7', 'pixel_5_0', 'pixel_5_1', 'pixel_5_2', 'pixel_5_3', 'pixel_5_4', 'pixel_5_5', 'pixel_5_6', 'pixel_5_7', 'pixel_6_0', 'pixel_6_1', 'pixel_6_2', 'pixel_6_3', 'pixel_6_4', 'pixel_6_5', 'pixel_6_6', 'pixel_6_7', 'pixel_7_0', 'pixel_7_1', 'pixel_7_2', 'pixel_7_3', 'pixel_7_4', 'pixel_7_5', 'pixel_7_6', 'pixel_7_7']\n",
      "\n",
      "feature_name의 type:  <class 'list'>\n",
      "feature_name의 shape:  64\n",
      "\n",
      "target_name:  [0 1 2 3 4 5 6 7 8 9]\n",
      "target_name의 type:  <class 'numpy.ndarray'>\n",
      "target_name의 shape:  10\n",
      "\n",
      "target의 type:  <class 'numpy.ndarray'>\n",
      "target의 shape:  (1797,)\n",
      "\n"
     ]
    }
   ],
   "source": [
    "print_data_info(digits)"
   ]
  },
  {
   "cell_type": "code",
   "execution_count": 5,
   "id": "civil-budapest",
   "metadata": {},
   "outputs": [
    {
     "data": {
      "text/plain": [
       "3    183\n",
       "1    182\n",
       "5    182\n",
       "4    181\n",
       "6    181\n",
       "9    180\n",
       "7    179\n",
       "0    178\n",
       "2    177\n",
       "8    174\n",
       "Name: label, dtype: int64"
      ]
     },
     "execution_count": 5,
     "metadata": {},
     "output_type": "execute_result"
    }
   ],
   "source": [
    "digits_df = pd.DataFrame(data=digits.data, columns=digits.feature_names)\n",
    "digits_df['label'] = digits.target\n",
    "digits_df['label'].value_counts()"
   ]
  },
  {
   "cell_type": "markdown",
   "id": "contained-level",
   "metadata": {},
   "source": [
    "- 레이블 값은 비슷한 분포로 있다."
   ]
  },
  {
   "cell_type": "code",
   "execution_count": 6,
   "id": "english-capitol",
   "metadata": {},
   "outputs": [],
   "source": [
    "# digits_data[0]"
   ]
  },
  {
   "cell_type": "code",
   "execution_count": 7,
   "id": "careful-bottle",
   "metadata": {},
   "outputs": [],
   "source": [
    "# from sklearn.preprocessing import MinMaxScaler\n",
    "\n",
    "# scaler = MinMaxScaler()\n",
    "# scaler.fit(digits_data)\n",
    "# digits_scaled = scaler.transform(digits_data)\n",
    "# digits_scaled[0]"
   ]
  },
  {
   "cell_type": "code",
   "execution_count": 8,
   "id": "promotional-integration",
   "metadata": {},
   "outputs": [],
   "source": [
    "# len(digits_label)"
   ]
  },
  {
   "cell_type": "markdown",
   "id": "departmental-expansion",
   "metadata": {},
   "source": [
    "## (4) train, test 데이터 분리"
   ]
  },
  {
   "cell_type": "code",
   "execution_count": 9,
   "id": "intellectual-coupon",
   "metadata": {},
   "outputs": [],
   "source": [
    "from sklearn.model_selection import train_test_split\n",
    "\n",
    "X_train, X_test, y_train, y_test = train_test_split(digits.data,\n",
    "                                                   digits.target,\n",
    "                                                   test_size=0.2,\n",
    "                                                   random_state=42)"
   ]
  },
  {
   "cell_type": "markdown",
   "id": "minor-standard",
   "metadata": {},
   "source": [
    "## (5) 다양한 모델로 학습시켜보기\n",
    "- Decision Tree 사용해 보기\n",
    "- Random Forest 사용해 보기\n",
    "- SVM 사용해 보기\n",
    "- SGD Classifier 사용해 보기\n",
    "- Logistic Regression 사용해 보기\n",
    "\n",
    "어떤 모델이 가장 좋은 성능을 보일까?"
   ]
  },
  {
   "cell_type": "markdown",
   "id": "comprehensive-costa",
   "metadata": {},
   "source": [
    "### Decision Tree"
   ]
  },
  {
   "cell_type": "code",
   "execution_count": 10,
   "id": "conscious-alfred",
   "metadata": {},
   "outputs": [
    {
     "data": {
      "text/plain": [
       "0.8555555555555555"
      ]
     },
     "execution_count": 10,
     "metadata": {},
     "output_type": "execute_result"
    }
   ],
   "source": [
    "from sklearn.tree import DecisionTreeClassifier\n",
    "from sklearn.model_selection import cross_val_score, cross_validate\n",
    "\n",
    "dt_clf = DecisionTreeClassifier() \n",
    "\n",
    "dt_clf.fit(X_train, y_train)\n",
    "\n",
    "pred = dt_clf.predict(X_test)\n",
    "accuracy = accuracy_score(y_test, pred)\n",
    "accuracy\n",
    "# scores = cross_val_score(dt_clf, data, label, scoring='accuracy', cv=3)\n",
    "# print(\"교차 검증별 정확도: \", np.round(scores, 4))\n",
    "# print(\"평균 검증 정확도: \", np.round(np.mean(scores), 4))"
   ]
  },
  {
   "cell_type": "code",
   "execution_count": 11,
   "id": "polyphonic-confirmation",
   "metadata": {},
   "outputs": [],
   "source": [
    "from sklearn.model_selection import GridSearchCV\n",
    "\n",
    "# hyperparameters\n",
    "parameters = {'max_depth': [8, 9, 10], 'min_samples_split': [8, 9, 10, 11]}\n",
    "\n",
    "grid_dtree = GridSearchCV(dt_clf, param_grid=parameters, cv=3, refit=True)"
   ]
  },
  {
   "cell_type": "code",
   "execution_count": 12,
   "id": "social-registrar",
   "metadata": {},
   "outputs": [
    {
     "data": {
      "text/html": [
       "<div>\n",
       "<style scoped>\n",
       "    .dataframe tbody tr th:only-of-type {\n",
       "        vertical-align: middle;\n",
       "    }\n",
       "\n",
       "    .dataframe tbody tr th {\n",
       "        vertical-align: top;\n",
       "    }\n",
       "\n",
       "    .dataframe thead th {\n",
       "        text-align: right;\n",
       "    }\n",
       "</style>\n",
       "<table border=\"1\" class=\"dataframe\">\n",
       "  <thead>\n",
       "    <tr style=\"text-align: right;\">\n",
       "      <th></th>\n",
       "      <th>params</th>\n",
       "      <th>mean_test_score</th>\n",
       "      <th>rank_test_score</th>\n",
       "      <th>split0_test_score</th>\n",
       "      <th>split1_test_score</th>\n",
       "      <th>split2_test_score</th>\n",
       "    </tr>\n",
       "  </thead>\n",
       "  <tbody>\n",
       "    <tr>\n",
       "      <th>0</th>\n",
       "      <td>{'max_depth': 8, 'min_samples_split': 8}</td>\n",
       "      <td>0.819068</td>\n",
       "      <td>8</td>\n",
       "      <td>0.843424</td>\n",
       "      <td>0.797495</td>\n",
       "      <td>0.816284</td>\n",
       "    </tr>\n",
       "    <tr>\n",
       "      <th>1</th>\n",
       "      <td>{'max_depth': 8, 'min_samples_split': 9}</td>\n",
       "      <td>0.821155</td>\n",
       "      <td>6</td>\n",
       "      <td>0.845511</td>\n",
       "      <td>0.799582</td>\n",
       "      <td>0.818372</td>\n",
       "    </tr>\n",
       "    <tr>\n",
       "      <th>2</th>\n",
       "      <td>{'max_depth': 8, 'min_samples_split': 10}</td>\n",
       "      <td>0.814196</td>\n",
       "      <td>12</td>\n",
       "      <td>0.837161</td>\n",
       "      <td>0.795407</td>\n",
       "      <td>0.810021</td>\n",
       "    </tr>\n",
       "    <tr>\n",
       "      <th>3</th>\n",
       "      <td>{'max_depth': 8, 'min_samples_split': 11}</td>\n",
       "      <td>0.817676</td>\n",
       "      <td>11</td>\n",
       "      <td>0.843424</td>\n",
       "      <td>0.795407</td>\n",
       "      <td>0.814196</td>\n",
       "    </tr>\n",
       "    <tr>\n",
       "      <th>4</th>\n",
       "      <td>{'max_depth': 9, 'min_samples_split': 8}</td>\n",
       "      <td>0.821851</td>\n",
       "      <td>5</td>\n",
       "      <td>0.843424</td>\n",
       "      <td>0.803758</td>\n",
       "      <td>0.818372</td>\n",
       "    </tr>\n",
       "    <tr>\n",
       "      <th>5</th>\n",
       "      <td>{'max_depth': 9, 'min_samples_split': 9}</td>\n",
       "      <td>0.823243</td>\n",
       "      <td>3</td>\n",
       "      <td>0.845511</td>\n",
       "      <td>0.807933</td>\n",
       "      <td>0.816284</td>\n",
       "    </tr>\n",
       "    <tr>\n",
       "      <th>6</th>\n",
       "      <td>{'max_depth': 9, 'min_samples_split': 10}</td>\n",
       "      <td>0.819068</td>\n",
       "      <td>8</td>\n",
       "      <td>0.835073</td>\n",
       "      <td>0.805846</td>\n",
       "      <td>0.816284</td>\n",
       "    </tr>\n",
       "    <tr>\n",
       "      <th>7</th>\n",
       "      <td>{'max_depth': 9, 'min_samples_split': 11}</td>\n",
       "      <td>0.819068</td>\n",
       "      <td>8</td>\n",
       "      <td>0.835073</td>\n",
       "      <td>0.803758</td>\n",
       "      <td>0.818372</td>\n",
       "    </tr>\n",
       "    <tr>\n",
       "      <th>8</th>\n",
       "      <td>{'max_depth': 10, 'min_samples_split': 8}</td>\n",
       "      <td>0.823243</td>\n",
       "      <td>4</td>\n",
       "      <td>0.837161</td>\n",
       "      <td>0.803758</td>\n",
       "      <td>0.828810</td>\n",
       "    </tr>\n",
       "    <tr>\n",
       "      <th>9</th>\n",
       "      <td>{'max_depth': 10, 'min_samples_split': 9}</td>\n",
       "      <td>0.823939</td>\n",
       "      <td>2</td>\n",
       "      <td>0.835073</td>\n",
       "      <td>0.805846</td>\n",
       "      <td>0.830898</td>\n",
       "    </tr>\n",
       "    <tr>\n",
       "      <th>10</th>\n",
       "      <td>{'max_depth': 10, 'min_samples_split': 10}</td>\n",
       "      <td>0.824635</td>\n",
       "      <td>1</td>\n",
       "      <td>0.845511</td>\n",
       "      <td>0.807933</td>\n",
       "      <td>0.820459</td>\n",
       "    </tr>\n",
       "    <tr>\n",
       "      <th>11</th>\n",
       "      <td>{'max_depth': 10, 'min_samples_split': 11}</td>\n",
       "      <td>0.821155</td>\n",
       "      <td>6</td>\n",
       "      <td>0.841336</td>\n",
       "      <td>0.805846</td>\n",
       "      <td>0.816284</td>\n",
       "    </tr>\n",
       "  </tbody>\n",
       "</table>\n",
       "</div>"
      ],
      "text/plain": [
       "                                        params  mean_test_score  \\\n",
       "0     {'max_depth': 8, 'min_samples_split': 8}         0.819068   \n",
       "1     {'max_depth': 8, 'min_samples_split': 9}         0.821155   \n",
       "2    {'max_depth': 8, 'min_samples_split': 10}         0.814196   \n",
       "3    {'max_depth': 8, 'min_samples_split': 11}         0.817676   \n",
       "4     {'max_depth': 9, 'min_samples_split': 8}         0.821851   \n",
       "5     {'max_depth': 9, 'min_samples_split': 9}         0.823243   \n",
       "6    {'max_depth': 9, 'min_samples_split': 10}         0.819068   \n",
       "7    {'max_depth': 9, 'min_samples_split': 11}         0.819068   \n",
       "8    {'max_depth': 10, 'min_samples_split': 8}         0.823243   \n",
       "9    {'max_depth': 10, 'min_samples_split': 9}         0.823939   \n",
       "10  {'max_depth': 10, 'min_samples_split': 10}         0.824635   \n",
       "11  {'max_depth': 10, 'min_samples_split': 11}         0.821155   \n",
       "\n",
       "    rank_test_score  split0_test_score  split1_test_score  split2_test_score  \n",
       "0                 8           0.843424           0.797495           0.816284  \n",
       "1                 6           0.845511           0.799582           0.818372  \n",
       "2                12           0.837161           0.795407           0.810021  \n",
       "3                11           0.843424           0.795407           0.814196  \n",
       "4                 5           0.843424           0.803758           0.818372  \n",
       "5                 3           0.845511           0.807933           0.816284  \n",
       "6                 8           0.835073           0.805846           0.816284  \n",
       "7                 8           0.835073           0.803758           0.818372  \n",
       "8                 4           0.837161           0.803758           0.828810  \n",
       "9                 2           0.835073           0.805846           0.830898  \n",
       "10                1           0.845511           0.807933           0.820459  \n",
       "11                6           0.841336           0.805846           0.816284  "
      ]
     },
     "execution_count": 12,
     "metadata": {},
     "output_type": "execute_result"
    }
   ],
   "source": [
    "# 순차적으로 학습\n",
    "grid_dtree.fit(X_train, y_train)\n",
    "\n",
    "# GridSearchCV 결과 추출해 DataFrame으로 변환\n",
    "scores_df = pd.DataFrame(grid_dtree.cv_results_)\n",
    "scores_df[['params', 'mean_test_score', 'rank_test_score',\n",
    "          'split0_test_score', 'split1_test_score', 'split2_test_score']]"
   ]
  },
  {
   "cell_type": "markdown",
   "id": "corresponding-arnold",
   "metadata": {},
   "source": [
    "### Random Forest"
   ]
  },
  {
   "cell_type": "code",
   "execution_count": 13,
   "id": "suspected-public",
   "metadata": {},
   "outputs": [
    {
     "name": "stdout",
     "output_type": "stream",
     "text": [
      "예측 정확도: 0.9806\n"
     ]
    }
   ],
   "source": [
    "from sklearn.ensemble import RandomForestClassifier\n",
    "\n",
    "rf_clf = RandomForestClassifier(random_state=32)\n",
    "\n",
    "rf_clf.fit(X_train, y_train)\n",
    "pred = rf_clf.predict(X_test)\n",
    "accuracy = accuracy_score(y_test, pred)\n",
    "print(\"예측 정확도: {0:.4f}\".format(accuracy_score(y_test, pred)))"
   ]
  },
  {
   "cell_type": "code",
   "execution_count": 14,
   "id": "cosmetic-revelation",
   "metadata": {},
   "outputs": [
    {
     "name": "stdout",
     "output_type": "stream",
     "text": [
      "교차 검증별 정확도:  [0.9306 0.9083 0.9666 0.961  0.922 ]\n",
      "평균 검증 정확도:  0.9377\n"
     ]
    }
   ],
   "source": [
    "scores = cross_val_score(rf_clf, digits.data, digits.target, scoring='accuracy', cv=5)\n",
    "print(\"교차 검증별 정확도: \", np.round(scores, 4))\n",
    "print(\"평균 검증 정확도: \", np.round(np.mean(scores), 4))"
   ]
  },
  {
   "cell_type": "markdown",
   "id": "charitable-tennis",
   "metadata": {},
   "source": [
    "### Support Vector Machine (SVM)"
   ]
  },
  {
   "cell_type": "code",
   "execution_count": 15,
   "id": "grand-database",
   "metadata": {},
   "outputs": [
    {
     "name": "stdout",
     "output_type": "stream",
     "text": [
      "예측 정확도: 0.9806\n"
     ]
    }
   ],
   "source": [
    "from sklearn import svm\n",
    "from sklearn.preprocessing import StandardScaler\n",
    "\n",
    "scaler = StandardScaler()\n",
    "scaler.fit(X_train)\n",
    "train_scaled = scaler.transform(X_train) # train data 표준화\n",
    "\n",
    "svm_model = svm.SVC()\n",
    "\n",
    "svm_model.fit(train_scaled, y_train)\n",
    "\n",
    "test_scaled = scaler.transform(X_test) # test data 표준화\n",
    "pred = svm_model.predict(test_scaled)\n",
    "accuracy = accuracy_score(y_test, pred)\n",
    "print(\"예측 정확도: {0:.4f}\".format(accuracy_score(y_test, pred)))"
   ]
  },
  {
   "cell_type": "markdown",
   "id": "ordered-symposium",
   "metadata": {},
   "source": [
    "### Stochastic Gradient Descent Classifier (SGDClassifier)"
   ]
  },
  {
   "cell_type": "code",
   "execution_count": 16,
   "id": "eight-roads",
   "metadata": {},
   "outputs": [
    {
     "name": "stdout",
     "output_type": "stream",
     "text": [
      "예측 정확도: 0.9667\n"
     ]
    }
   ],
   "source": [
    "from sklearn.linear_model import SGDClassifier\n",
    "\n",
    "sgc_clf = SGDClassifier()\n",
    "\n",
    "sgc_clf.fit(X_train, y_train)\n",
    "\n",
    "pred = sgc_clf.predict(X_test)\n",
    "accuracy = accuracy_score(y_test, pred)\n",
    "print(\"예측 정확도: {0:.4f}\".format(accuracy_score(y_test, pred)))"
   ]
  },
  {
   "cell_type": "markdown",
   "id": "looking-complexity",
   "metadata": {},
   "source": [
    "### Logistic Regression"
   ]
  },
  {
   "cell_type": "code",
   "execution_count": 17,
   "id": "handled-second",
   "metadata": {},
   "outputs": [
    {
     "name": "stdout",
     "output_type": "stream",
     "text": [
      "예측 정확도: 0.9722\n"
     ]
    }
   ],
   "source": [
    "from sklearn.linear_model import LogisticRegression\n",
    "from sklearn.preprocessing import StandardScaler\n",
    "\n",
    "scaler = StandardScaler()\n",
    "scaler.fit(X_train)\n",
    "train_scaled = scaler.transform(X_train) # train data 표준화\n",
    "\n",
    "lr = LogisticRegression(max_iter=100)\n",
    "lr.fit(train_scaled, y_train)\n",
    "\n",
    "test_scaled = scaler.transform(X_test) # test data 표준화\n",
    "pred = lr.predict(test_scaled)\n",
    "accuracy = accuracy_score(y_test, pred)\n",
    "print(\"예측 정확도: {0:.4f}\".format(accuracy_score(y_test, pred)))"
   ]
  },
  {
   "cell_type": "markdown",
   "id": "wrapped-david",
   "metadata": {},
   "source": [
    "## (6) 모델을 평가해 보기\n",
    "- 학습된 모델들의 테스트데이터 예측 결과를 어떻게 해석해야 할까요? \n",
    "- 모델의 성능을 평가하는 지표로는 무엇이 좋을까요? \n",
    "- sklearn.metrics 에서 제공하는 평가지표 중 적절한 것을 선택해 보세요. 선택하신 이유도 설명해 주세요."
   ]
  },
  {
   "cell_type": "code",
   "execution_count": 18,
   "id": "straight-remedy",
   "metadata": {},
   "outputs": [
    {
     "name": "stdout",
     "output_type": "stream",
     "text": [
      "              precision    recall  f1-score   support\n",
      "\n",
      "           0       1.00      1.00      1.00        33\n",
      "           1       0.97      1.00      0.98        28\n",
      "           2       1.00      1.00      1.00        33\n",
      "           3       0.97      0.97      0.97        34\n",
      "           4       1.00      0.98      0.99        46\n",
      "           5       0.94      0.94      0.94        47\n",
      "           6       0.97      0.97      0.97        35\n",
      "           7       1.00      0.97      0.99        34\n",
      "           8       0.97      0.97      0.97        30\n",
      "           9       0.93      0.95      0.94        40\n",
      "\n",
      "    accuracy                           0.97       360\n",
      "   macro avg       0.97      0.97      0.97       360\n",
      "weighted avg       0.97      0.97      0.97       360\n",
      "\n",
      "\n"
     ]
    },
    {
     "data": {
      "text/plain": [
       "array([[33,  0,  0,  0,  0,  0,  0,  0,  0,  0],\n",
       "       [ 0, 28,  0,  0,  0,  0,  0,  0,  0,  0],\n",
       "       [ 0,  0, 33,  0,  0,  0,  0,  0,  0,  0],\n",
       "       [ 0,  0,  0, 33,  0,  1,  0,  0,  0,  0],\n",
       "       [ 0,  1,  0,  0, 45,  0,  0,  0,  0,  0],\n",
       "       [ 0,  0,  0,  0,  0, 44,  1,  0,  0,  2],\n",
       "       [ 0,  0,  0,  0,  0,  1, 34,  0,  0,  0],\n",
       "       [ 0,  0,  0,  0,  0,  0,  0, 33,  0,  1],\n",
       "       [ 0,  0,  0,  0,  0,  1,  0,  0, 29,  0],\n",
       "       [ 0,  0,  0,  1,  0,  0,  0,  0,  1, 38]])"
      ]
     },
     "execution_count": 18,
     "metadata": {},
     "output_type": "execute_result"
    }
   ],
   "source": [
    "from sklearn.metrics import confusion_matrix\n",
    "\n",
    "print(classification_report(y_test, pred))\n",
    "print()\n",
    "confusion_matrix(y_test, pred)"
   ]
  },
  {
   "cell_type": "markdown",
   "id": "cleared-hypothetical",
   "metadata": {},
   "source": [
    "# 2-12. 프로젝트 (2) load_wine : 와인을 분류해 봅시다\n",
    "- `load_wine` : 와인 데이터 ([링크](https://scikit-learn.org/stable/modules/generated/sklearn.datasets.load_wine.html#sklearn.datasets.load_wine))"
   ]
  },
  {
   "cell_type": "markdown",
   "id": "developmental-worcester",
   "metadata": {},
   "source": [
    "## (1) 필요한 모듈 import하기"
   ]
  },
  {
   "cell_type": "code",
   "execution_count": 19,
   "id": "electoral-pixel",
   "metadata": {},
   "outputs": [],
   "source": [
    "from sklearn.datasets import load_wine\n",
    "from sklearn.model_selection import train_test_split\n",
    "from sklearn.metrics import classification_report"
   ]
  },
  {
   "cell_type": "markdown",
   "id": "polish-great",
   "metadata": {},
   "source": [
    "## (2) 데이터 준비"
   ]
  },
  {
   "cell_type": "code",
   "execution_count": 20,
   "id": "auburn-massage",
   "metadata": {},
   "outputs": [],
   "source": [
    "wine = load_wine()"
   ]
  },
  {
   "cell_type": "markdown",
   "id": "experienced-allen",
   "metadata": {},
   "source": [
    "## (3) 데이터 이해하기\n",
    "- Feature Data 지정하기\n",
    "- Label Data 지정하기\n",
    "- Target Names 출력해 보기\n",
    "- 데이터 Describe 해 보기"
   ]
  },
  {
   "cell_type": "code",
   "execution_count": 21,
   "id": "living-quarter",
   "metadata": {},
   "outputs": [
    {
     "name": "stdout",
     "output_type": "stream",
     "text": [
      "data의 type:  <class 'sklearn.utils.Bunch'>\n",
      "data의 shape:  (178, 13)\n",
      "\n",
      "feature_name 출력: \n",
      "['alcohol', 'malic_acid', 'ash', 'alcalinity_of_ash', 'magnesium', 'total_phenols', 'flavanoids', 'nonflavanoid_phenols', 'proanthocyanins', 'color_intensity', 'hue', 'od280/od315_of_diluted_wines', 'proline']\n",
      "\n",
      "feature_name의 type:  <class 'list'>\n",
      "feature_name의 shape:  13\n",
      "\n",
      "target_name:  ['class_0' 'class_1' 'class_2']\n",
      "target_name의 type:  <class 'numpy.ndarray'>\n",
      "target_name의 shape:  3\n",
      "\n",
      "target의 type:  <class 'numpy.ndarray'>\n",
      "target의 shape:  (178,)\n",
      "\n"
     ]
    }
   ],
   "source": [
    "print_data_info(wine)"
   ]
  },
  {
   "cell_type": "code",
   "execution_count": 22,
   "id": "identified-panel",
   "metadata": {},
   "outputs": [
    {
     "data": {
      "text/plain": [
       "1    71\n",
       "0    59\n",
       "2    48\n",
       "Name: label, dtype: int64"
      ]
     },
     "execution_count": 22,
     "metadata": {},
     "output_type": "execute_result"
    }
   ],
   "source": [
    "wine_df = pd.DataFrame(data=wine.data, columns=wine.feature_names)\n",
    "wine_df['label'] = wine.target\n",
    "wine_df['label'].value_counts()"
   ]
  },
  {
   "cell_type": "code",
   "execution_count": 23,
   "id": "cardiac-hanging",
   "metadata": {},
   "outputs": [],
   "source": [
    "wine_data = wine.data\n",
    "wine_target = wine.target"
   ]
  },
  {
   "cell_type": "markdown",
   "id": "monthly-blackberry",
   "metadata": {},
   "source": [
    "## (4) train, test 데이터 분리"
   ]
  },
  {
   "cell_type": "code",
   "execution_count": 24,
   "id": "destroyed-reward",
   "metadata": {},
   "outputs": [],
   "source": [
    "from sklearn.model_selection import train_test_split\n",
    "\n",
    "X_train, X_test, y_train, y_test = train_test_split(wine_data,\n",
    "                                                   wine_target,\n",
    "                                                   test_size=0.2,\n",
    "                                                   random_state=42)"
   ]
  },
  {
   "cell_type": "markdown",
   "id": "after-jackson",
   "metadata": {},
   "source": [
    "## (5) 다양한 모델로 학습시켜보기\n",
    "- Decision Tree 사용해 보기\n",
    "- Random Forest 사용해 보기\n",
    "- SVM 사용해 보기\n",
    "- SGD Classifier 사용해 보기\n",
    "- Logistic Regression 사용해 보기\n",
    "\n",
    "어떤 모델이 가장 좋은 성능을 보일까?"
   ]
  },
  {
   "cell_type": "markdown",
   "id": "wireless-twelve",
   "metadata": {},
   "source": [
    "### Decision Tree"
   ]
  },
  {
   "cell_type": "code",
   "execution_count": 25,
   "id": "satellite-orleans",
   "metadata": {},
   "outputs": [
    {
     "data": {
      "text/plain": [
       "0.9444444444444444"
      ]
     },
     "execution_count": 25,
     "metadata": {},
     "output_type": "execute_result"
    }
   ],
   "source": [
    "from sklearn.tree import DecisionTreeClassifier\n",
    "\n",
    "dt_clf = DecisionTreeClassifier() \n",
    "\n",
    "dt_clf.fit(X_train, y_train)\n",
    "\n",
    "pred = dt_clf.predict(X_test)\n",
    "accuracy = accuracy_score(y_test, pred)\n",
    "accuracy"
   ]
  },
  {
   "cell_type": "markdown",
   "id": "recreational-screening",
   "metadata": {},
   "source": [
    "### Random Forest"
   ]
  },
  {
   "cell_type": "code",
   "execution_count": 26,
   "id": "static-match",
   "metadata": {},
   "outputs": [
    {
     "data": {
      "text/plain": [
       "1.0"
      ]
     },
     "execution_count": 26,
     "metadata": {},
     "output_type": "execute_result"
    }
   ],
   "source": [
    "from sklearn.ensemble import RandomForestClassifier\n",
    "\n",
    "rf_clf = RandomForestClassifier(random_state=32)\n",
    "\n",
    "rf_clf.fit(X_train, y_train)\n",
    "pred = rf_clf.predict(X_test)\n",
    "accuracy = accuracy_score(y_test, pred)\n",
    "accuracy = accuracy_score(y_test, pred)\n",
    "accuracy"
   ]
  },
  {
   "cell_type": "markdown",
   "id": "nutritional-madison",
   "metadata": {},
   "source": [
    "### Support Vector Machine (SVM)"
   ]
  },
  {
   "cell_type": "code",
   "execution_count": 27,
   "id": "turned-discipline",
   "metadata": {},
   "outputs": [
    {
     "name": "stdout",
     "output_type": "stream",
     "text": [
      "예측 정확도: 1.0000\n"
     ]
    }
   ],
   "source": [
    "from sklearn import svm\n",
    "from sklearn.preprocessing import StandardScaler\n",
    "\n",
    "scaler = StandardScaler()\n",
    "scaler.fit(X_train)\n",
    "train_scaled = scaler.transform(X_train) # train data 표준화\n",
    "\n",
    "svm_model = svm.SVC()\n",
    "\n",
    "svm_model.fit(train_scaled, y_train)\n",
    "\n",
    "test_scaled = scaler.transform(X_test) # test data 표준화\n",
    "pred = svm_model.predict(test_scaled)\n",
    "accuracy = accuracy_score(y_test, pred)\n",
    "print(\"예측 정확도: {0:.4f}\".format(accuracy_score(y_test, pred)))"
   ]
  },
  {
   "cell_type": "markdown",
   "id": "designing-inflation",
   "metadata": {},
   "source": [
    "### Stochastic Gradient Descent Classifier (SGDClassifier)"
   ]
  },
  {
   "cell_type": "code",
   "execution_count": 28,
   "id": "offensive-swaziland",
   "metadata": {},
   "outputs": [
    {
     "name": "stdout",
     "output_type": "stream",
     "text": [
      "예측 정확도: 0.7222\n"
     ]
    }
   ],
   "source": [
    "from sklearn.linear_model import SGDClassifier\n",
    "\n",
    "sgc_clf = SGDClassifier()\n",
    "\n",
    "sgc_clf.fit(X_train, y_train)\n",
    "\n",
    "pred = sgc_clf.predict(X_test)\n",
    "accuracy = accuracy_score(y_test, pred)\n",
    "print(\"예측 정확도: {0:.4f}\".format(accuracy_score(y_test, pred)))"
   ]
  },
  {
   "cell_type": "markdown",
   "id": "looking-sector",
   "metadata": {},
   "source": [
    "### Logistic Regression"
   ]
  },
  {
   "cell_type": "code",
   "execution_count": 29,
   "id": "shaped-spread",
   "metadata": {},
   "outputs": [
    {
     "name": "stdout",
     "output_type": "stream",
     "text": [
      "예측 정확도: 1.0000\n"
     ]
    }
   ],
   "source": [
    "from sklearn.linear_model import LogisticRegression\n",
    "from sklearn.preprocessing import StandardScaler\n",
    "\n",
    "scaler = StandardScaler()\n",
    "scaler.fit(X_train)\n",
    "train_scaled = scaler.transform(X_train) # train data 표준화\n",
    "\n",
    "lr = LogisticRegression(max_iter=100)\n",
    "lr.fit(train_scaled, y_train)\n",
    "\n",
    "test_scaled = scaler.transform(X_test) # test data 표준화\n",
    "pred = lr.predict(test_scaled)\n",
    "accuracy = accuracy_score(y_test, pred)\n",
    "print(\"예측 정확도: {0:.4f}\".format(accuracy_score(y_test, pred)))"
   ]
  },
  {
   "cell_type": "markdown",
   "id": "danish-muslim",
   "metadata": {},
   "source": [
    "## (6) 모델을 평가해 보기\n",
    "- 학습된 모델들의 테스트데이터 예측 결과를 어떻게 해석해야 할까요? \n",
    "- 모델의 성능을 평가하는 지표로는 무엇이 좋을까요? \n",
    "- sklearn.metrics 에서 제공하는 평가지표 중 적절한 것을 선택해 보세요. 선택하신 이유도 설명해 주세요."
   ]
  },
  {
   "cell_type": "markdown",
   "id": "raising-detroit",
   "metadata": {},
   "source": [
    "# 2-13. 프로젝트 (3) load_breast_cancer : 유방암 여부를 진단해 봅시다\n",
    "\n",
    "\n",
    "- `load_breast_cancer` : 유방암 데이터 ([링크](https://scikit-learn.org/stable/modules/generated/sklearn.datasets.load_breast_cancer.html#sklearn.datasets.load_breast_cancer))\n",
    "\n",
    "- 재현율이 중요"
   ]
  },
  {
   "cell_type": "markdown",
   "id": "marine-lodging",
   "metadata": {},
   "source": [
    "## (1) 필요한 모듈 import하기"
   ]
  },
  {
   "cell_type": "code",
   "execution_count": 30,
   "id": "confident-danger",
   "metadata": {},
   "outputs": [],
   "source": [
    "from sklearn.datasets import load_breast_cancer\n",
    "from sklearn.model_selection import train_test_split\n",
    "from sklearn.metrics import classification_report"
   ]
  },
  {
   "cell_type": "markdown",
   "id": "indie-sheffield",
   "metadata": {},
   "source": [
    "## (2) 데이터 준비"
   ]
  },
  {
   "cell_type": "code",
   "execution_count": 31,
   "id": "detailed-irish",
   "metadata": {},
   "outputs": [],
   "source": [
    "breast_cancer = load_breast_cancer()"
   ]
  },
  {
   "cell_type": "markdown",
   "id": "crude-yesterday",
   "metadata": {},
   "source": [
    "## (3) 데이터 이해하기\n",
    "- Feature Data 지정하기\n",
    "- Label Data 지정하기\n",
    "- Target Names 출력해 보기\n",
    "- 데이터 Describe 해 보기"
   ]
  },
  {
   "cell_type": "code",
   "execution_count": 32,
   "id": "acceptable-luxembourg",
   "metadata": {},
   "outputs": [
    {
     "name": "stdout",
     "output_type": "stream",
     "text": [
      "data의 type:  <class 'sklearn.utils.Bunch'>\n",
      "data의 shape:  (569, 30)\n",
      "\n",
      "feature_name 출력: \n",
      "['mean radius' 'mean texture' 'mean perimeter' 'mean area'\n",
      " 'mean smoothness' 'mean compactness' 'mean concavity'\n",
      " 'mean concave points' 'mean symmetry' 'mean fractal dimension'\n",
      " 'radius error' 'texture error' 'perimeter error' 'area error'\n",
      " 'smoothness error' 'compactness error' 'concavity error'\n",
      " 'concave points error' 'symmetry error' 'fractal dimension error'\n",
      " 'worst radius' 'worst texture' 'worst perimeter' 'worst area'\n",
      " 'worst smoothness' 'worst compactness' 'worst concavity'\n",
      " 'worst concave points' 'worst symmetry' 'worst fractal dimension']\n",
      "\n",
      "feature_name의 type:  <class 'numpy.ndarray'>\n",
      "feature_name의 shape:  30\n",
      "\n",
      "target_name:  ['malignant' 'benign']\n",
      "target_name의 type:  <class 'numpy.ndarray'>\n",
      "target_name의 shape:  2\n",
      "\n",
      "target의 type:  <class 'numpy.ndarray'>\n",
      "target의 shape:  (569,)\n",
      "\n"
     ]
    }
   ],
   "source": [
    "print_data_info(breast_cancer)"
   ]
  },
  {
   "cell_type": "code",
   "execution_count": 33,
   "id": "dramatic-logging",
   "metadata": {},
   "outputs": [
    {
     "data": {
      "text/plain": [
       "1    357\n",
       "0    212\n",
       "Name: label, dtype: int64"
      ]
     },
     "execution_count": 33,
     "metadata": {},
     "output_type": "execute_result"
    }
   ],
   "source": [
    "cancer_df = pd.DataFrame(data=breast_cancer.data, columns=breast_cancer.feature_names)\n",
    "cancer_df['label'] = breast_cancer.target\n",
    "cancer_df['label'].value_counts()"
   ]
  },
  {
   "cell_type": "code",
   "execution_count": 34,
   "id": "compliant-subscription",
   "metadata": {},
   "outputs": [],
   "source": [
    "cancer_data = breast_cancer.data\n",
    "cancer_target = breast_cancer.target"
   ]
  },
  {
   "cell_type": "markdown",
   "id": "sorted-triple",
   "metadata": {},
   "source": [
    "## (4) train, test 데이터 분리"
   ]
  },
  {
   "cell_type": "code",
   "execution_count": 35,
   "id": "executed-moment",
   "metadata": {},
   "outputs": [],
   "source": [
    "from sklearn.model_selection import train_test_split\n",
    "\n",
    "X_train, X_test, y_train, y_test = train_test_split(cancer_data,\n",
    "                                                   cancer_target,\n",
    "                                                   test_size=0.2,\n",
    "                                                   random_state=42)"
   ]
  },
  {
   "cell_type": "markdown",
   "id": "about-amateur",
   "metadata": {},
   "source": [
    "## (5) 다양한 모델로 학습시켜보기\n",
    "- Decision Tree 사용해 보기\n",
    "- Random Forest 사용해 보기\n",
    "- SVM 사용해 보기\n",
    "- SGD Classifier 사용해 보기\n",
    "- Logistic Regression 사용해 보기\n",
    "\n",
    "어떤 모델이 가장 좋은 성능을 보일까?"
   ]
  },
  {
   "cell_type": "markdown",
   "id": "saving-narrative",
   "metadata": {},
   "source": [
    "### Decision Tree"
   ]
  },
  {
   "cell_type": "code",
   "execution_count": 36,
   "id": "mineral-twelve",
   "metadata": {},
   "outputs": [
    {
     "data": {
      "text/plain": [
       "0.9473684210526315"
      ]
     },
     "execution_count": 36,
     "metadata": {},
     "output_type": "execute_result"
    }
   ],
   "source": [
    "from sklearn.tree import DecisionTreeClassifier\n",
    "\n",
    "dt_clf = DecisionTreeClassifier() \n",
    "\n",
    "dt_clf.fit(X_train, y_train)\n",
    "\n",
    "pred = dt_clf.predict(X_test)\n",
    "accuracy = accuracy_score(y_test, pred)\n",
    "accuracy"
   ]
  },
  {
   "cell_type": "markdown",
   "id": "traditional-reputation",
   "metadata": {},
   "source": [
    "### Random Forest"
   ]
  },
  {
   "cell_type": "code",
   "execution_count": 37,
   "id": "enormous-vertex",
   "metadata": {},
   "outputs": [
    {
     "data": {
      "text/plain": [
       "0.9649122807017544"
      ]
     },
     "execution_count": 37,
     "metadata": {},
     "output_type": "execute_result"
    }
   ],
   "source": [
    "from sklearn.ensemble import RandomForestClassifier\n",
    "\n",
    "rf_clf = RandomForestClassifier(random_state=32)\n",
    "\n",
    "rf_clf.fit(X_train, y_train)\n",
    "pred = rf_clf.predict(X_test)\n",
    "accuracy = accuracy_score(y_test, pred)\n",
    "accuracy = accuracy_score(y_test, pred)\n",
    "accuracy"
   ]
  },
  {
   "cell_type": "markdown",
   "id": "binding-comment",
   "metadata": {},
   "source": [
    "### Support Vector Machine (SVM)"
   ]
  },
  {
   "cell_type": "code",
   "execution_count": 38,
   "id": "hearing-interim",
   "metadata": {},
   "outputs": [
    {
     "name": "stdout",
     "output_type": "stream",
     "text": [
      "예측 정확도: 0.9825\n"
     ]
    }
   ],
   "source": [
    "from sklearn import svm\n",
    "from sklearn.preprocessing import StandardScaler\n",
    "\n",
    "scaler = StandardScaler()\n",
    "scaler.fit(X_train)\n",
    "train_scaled = scaler.transform(X_train) # train data 표준화\n",
    "\n",
    "svm_model = svm.SVC()\n",
    "\n",
    "svm_model.fit(train_scaled, y_train)\n",
    "\n",
    "test_scaled = scaler.transform(X_test) # test data 표준화\n",
    "pred = svm_model.predict(test_scaled)\n",
    "accuracy = accuracy_score(y_test, pred)\n",
    "print(\"예측 정확도: {0:.4f}\".format(accuracy_score(y_test, pred)))"
   ]
  },
  {
   "cell_type": "markdown",
   "id": "english-vietnamese",
   "metadata": {},
   "source": [
    "### Stochastic Gradient Descent Classifier (SGDClassifier)"
   ]
  },
  {
   "cell_type": "code",
   "execution_count": 39,
   "id": "bibliographic-honey",
   "metadata": {},
   "outputs": [
    {
     "name": "stdout",
     "output_type": "stream",
     "text": [
      "예측 정확도: 0.9474\n"
     ]
    }
   ],
   "source": [
    "from sklearn.linear_model import SGDClassifier\n",
    "\n",
    "sgc_clf = SGDClassifier()\n",
    "\n",
    "sgc_clf.fit(X_train, y_train)\n",
    "\n",
    "pred = sgc_clf.predict(X_test)\n",
    "accuracy = accuracy_score(y_test, pred)\n",
    "print(\"예측 정확도: {0:.4f}\".format(accuracy_score(y_test, pred)))"
   ]
  },
  {
   "cell_type": "markdown",
   "id": "frank-blank",
   "metadata": {},
   "source": [
    "### Logistic Regression"
   ]
  },
  {
   "cell_type": "code",
   "execution_count": 40,
   "id": "differential-assessment",
   "metadata": {},
   "outputs": [
    {
     "name": "stdout",
     "output_type": "stream",
     "text": [
      "예측 정확도: 0.9737\n"
     ]
    }
   ],
   "source": [
    "from sklearn.linear_model import LogisticRegression\n",
    "from sklearn.preprocessing import StandardScaler\n",
    "\n",
    "scaler = StandardScaler()\n",
    "scaler.fit(X_train)\n",
    "train_scaled = scaler.transform(X_train) # train data 표준화\n",
    "\n",
    "lr = LogisticRegression(max_iter=100)\n",
    "lr.fit(train_scaled, y_train)\n",
    "\n",
    "test_scaled = scaler.transform(X_test) # test data 표준화\n",
    "pred = lr.predict(test_scaled)\n",
    "accuracy = accuracy_score(y_test, pred)\n",
    "print(\"예측 정확도: {0:.4f}\".format(accuracy_score(y_test, pred)))"
   ]
  },
  {
   "cell_type": "markdown",
   "id": "large-hungarian",
   "metadata": {},
   "source": [
    "## (6) 모델을 평가해 보기\n",
    "- 학습된 모델들의 테스트데이터 예측 결과를 어떻게 해석해야 할까요? \n",
    "- 모델의 성능을 평가하는 지표로는 무엇이 좋을까요? \n",
    "- sklearn.metrics 에서 제공하는 평가지표 중 적절한 것을 선택해 보세요. 선택하신 이유도 설명해 주세요."
   ]
  },
  {
   "cell_type": "markdown",
   "id": "chemical-championship",
   "metadata": {},
   "source": [
    "## 참고 자료\n",
    "\n",
    "- [[Python] 어떤 스케일러를 쓸 것인가?](https://mkjjo.github.io/python/2019/01/10/scaler.html)\n",
    "- [로지스틱회귀(Logistic Regression) – 파이썬 코드 예제](http://hleecaster.com/ml-logistic-regression-example/)"
   ]
  },
  {
   "cell_type": "code",
   "execution_count": null,
   "id": "spare-tulsa",
   "metadata": {},
   "outputs": [],
   "source": []
  }
 ],
 "metadata": {
  "kernelspec": {
   "display_name": "Python 3",
   "language": "python",
   "name": "python3"
  },
  "language_info": {
   "codemirror_mode": {
    "name": "ipython",
    "version": 3
   },
   "file_extension": ".py",
   "mimetype": "text/x-python",
   "name": "python",
   "nbconvert_exporter": "python",
   "pygments_lexer": "ipython3",
   "version": "3.7.9"
  }
 },
 "nbformat": 4,
 "nbformat_minor": 5
}
