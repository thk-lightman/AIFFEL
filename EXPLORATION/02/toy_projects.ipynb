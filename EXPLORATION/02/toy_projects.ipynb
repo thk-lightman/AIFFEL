{
  "nbformat": 4,
  "nbformat_minor": 5,
  "metadata": {
    "kernelspec": {
      "display_name": "Python 3",
      "language": "python",
      "name": "python3"
    },
    "language_info": {
      "codemirror_mode": {
        "name": "ipython",
        "version": 3
      },
      "file_extension": ".py",
      "mimetype": "text/x-python",
      "name": "python",
      "nbconvert_exporter": "python",
      "pygments_lexer": "ipython3",
      "version": "3.7.9"
    },
    "colab": {
      "name": "toy_projects.ipynb",
      "provenance": [],
      "include_colab_link": true
    }
  },
  "cells": [
    {
      "cell_type": "markdown",
      "metadata": {
        "id": "view-in-github",
        "colab_type": "text"
      },
      "source": [
        "<a href=\"https://colab.research.google.com/github/t1seo/AIFFEL/blob/master/EXPLORATION/02/toy_projects.ipynb\" target=\"_parent\"><img src=\"https://colab.research.google.com/assets/colab-badge.svg\" alt=\"Open In Colab\"/></a>"
      ]
    },
    {
      "cell_type": "code",
      "metadata": {
        "id": "JMbuej9knBle"
      },
      "source": [
        "from sklearn.metrics import accuracy_score, confusion_matrix, precision_score\n",
        "from sklearn.metrics import recall_score, f1_score, roc_auc_score\n",
        "import numpy as np\n",
        "\n",
        "def get_clf_eval(y_test, pred=None, pred_proba=None, avg=None):\n",
        "    confusion = confusion_matrix(y_test, pred) # confusion matrix\n",
        "    accuracy = accuracy_score(y_test, pred) # 정확도\n",
        "    precision = precision_score(y_test, pred, average=avg) # 정밀도\n",
        "    recall = recall_score(y_test, pred, average=avg) # 재현율\n",
        "    # f1 = f1_score(y_test, pred, average=avg) # f1-score\n",
        "    # roc_auc = roc_auc_score(y_test, pred_proba)\n",
        "\n",
        "    print('오차 행렬')\n",
        "    print(confusion)\n",
        "    # print(f\"정확도: {0: 4f}, 정밀도: {1: 4f}, 재현율: {2: 4f}, \\\n",
        "        # F1: {3: 4f}, AUC: {4: 4f}\".format(accuracy, precision, recall, f1, roc_auc))\n",
        "        \n",
        "    print(f\"정확도: {0: 4f}, 정밀도: {1: 4f}, 재현율: {2: 4f}\".format(accuracy, precision, recall))\n"
      ],
      "id": "JMbuej9knBle",
      "execution_count": 100,
      "outputs": []
    },
    {
      "cell_type": "code",
      "metadata": {
        "id": "0a4z60lnpOSI"
      },
      "source": [
        "def roc_curve_plot(y_test, pred_proba_c1):\n",
        "    # 임곗값에 따른 FPR, TPR 값을 반환받는다\n",
        "    fprs, tprs, thresholds = roc_curve(y_test, pred_proba_c1)\n",
        "    \n",
        "    plt.plot(fcsprs, tprs, label='ROC')\n",
        "    plt.plot([0, 1], [0, 1], 'k--', label='Random')\n",
        "\n",
        "    start, end = plt.xlim()\n",
        "    plt.xticks(np.round(np.arange(start, end, 0.1), 2))\n",
        "    plt.xlim(0, 1)\n",
        "    plt.ylim(0, 1)\n",
        "    plt.xlabel('FPR(1 - Sensitivity)')\n",
        "    plt.ylabel('TPR(Recall)')\n",
        "    plt.legend()"
      ],
      "id": "0a4z60lnpOSI",
      "execution_count": 101,
      "outputs": []
    },
    {
      "cell_type": "markdown",
      "metadata": {
        "id": "small-rabbit"
      },
      "source": [
        "# 프로젝트 (1) load_digits : 손글씨를 분류해 봅시다\n",
        "- `load_digits` : 손글씨 이미지 데이터 ([링크](https://scikit-learn.org/stable/modules/generated/sklearn.datasets.load_digits.html#sklearn.datasets.load_digits))"
      ],
      "id": "small-rabbit"
    },
    {
      "cell_type": "markdown",
      "metadata": {
        "id": "center-disease"
      },
      "source": [
        "## (1) 필요한 모듈 import하기"
      ],
      "id": "center-disease"
    },
    {
      "cell_type": "code",
      "metadata": {
        "id": "deadly-dakota"
      },
      "source": [
        "from sklearn.datasets import load_digits\n",
        "from sklearn.model_selection import train_test_split\n",
        "from sklearn.metrics import classification_report\n",
        "from sklearn.metrics import accuracy_score\n",
        "\n",
        "import pandas as pd\n",
        "import numpy as np"
      ],
      "id": "deadly-dakota",
      "execution_count": 102,
      "outputs": []
    },
    {
      "cell_type": "markdown",
      "metadata": {
        "id": "behind-simulation"
      },
      "source": [
        "## (2) 데이터 준비"
      ],
      "id": "behind-simulation"
    },
    {
      "cell_type": "code",
      "metadata": {
        "colab": {
          "base_uri": "https://localhost:8080/"
        },
        "id": "signal-sample",
        "outputId": "f935b66f-ec9a-4f7d-dd59-7378ce1805d8"
      },
      "source": [
        "digits = load_digits()\n",
        "\n",
        "print(dir(digits))"
      ],
      "id": "signal-sample",
      "execution_count": 103,
      "outputs": [
        {
          "output_type": "stream",
          "text": [
            "['DESCR', 'data', 'images', 'target', 'target_names']\n"
          ],
          "name": "stdout"
        }
      ]
    },
    {
      "cell_type": "code",
      "metadata": {
        "id": "irish-temple"
      },
      "source": [
        "def print_data_info(scikit_data, feature_names=False):\n",
        "    print(\"data의 type: \", type(scikit_data))\n",
        "    print(\"data의 shape: \", scikit_data.data.shape)\n",
        "    print()\n",
        "    \n",
        "    if feature_names:\n",
        "        print(\"feature_name 출력: \")\n",
        "        print(scikit_data.feature_names)\n",
        "        print()\n",
        "        print(\"feature_name의 type: \", type(scikit_data.feature_names))\n",
        "        print(\"feature_name의 shape: \", len(scikit_data.feature_names))\n",
        "        print()\n",
        "\n",
        "    print(\"target_name: \", scikit_data.target_names)\n",
        "    print(\"target_name의 type: \", type(scikit_data.target_names))\n",
        "    print(\"target_name의 shape: \", len(scikit_data.target_names))\n",
        "    print()\n",
        "\n",
        "\n",
        "    print(\"target의 type: \", type(scikit_data.target))\n",
        "    print(\"target의 shape: \", scikit_data.target.shape)\n",
        "    print()"
      ],
      "id": "irish-temple",
      "execution_count": 104,
      "outputs": []
    },
    {
      "cell_type": "markdown",
      "metadata": {
        "id": "british-radio"
      },
      "source": [
        "## (3) 데이터 이해하기\n",
        "- Feature Data 지정하기\n",
        "- Label Data 지정하기\n",
        "- Target Names 출력해 보기\n",
        "- 데이터 Describe 해 보기"
      ],
      "id": "british-radio"
    },
    {
      "cell_type": "code",
      "metadata": {
        "colab": {
          "base_uri": "https://localhost:8080/"
        },
        "id": "acquired-behavior",
        "outputId": "eaebb0df-8ebf-4ce2-867e-a614b651cc66"
      },
      "source": [
        "print_data_info(digits)"
      ],
      "id": "acquired-behavior",
      "execution_count": 105,
      "outputs": [
        {
          "output_type": "stream",
          "text": [
            "data의 type:  <class 'sklearn.utils.Bunch'>\n",
            "data의 shape:  (1797, 64)\n",
            "\n",
            "target_name:  [0 1 2 3 4 5 6 7 8 9]\n",
            "target_name의 type:  <class 'numpy.ndarray'>\n",
            "target_name의 shape:  10\n",
            "\n",
            "target의 type:  <class 'numpy.ndarray'>\n",
            "target의 shape:  (1797,)\n",
            "\n"
          ],
          "name": "stdout"
        }
      ]
    },
    {
      "cell_type": "code",
      "metadata": {
        "colab": {
          "base_uri": "https://localhost:8080/",
          "height": 96
        },
        "id": "UMn-GBJDrXA4",
        "outputId": "f81bfaa5-eac0-4e98-dd87-3a8a91b98c4a"
      },
      "source": [
        "import matplotlib.pyplot as plt\n",
        "\n",
        "# 이미지 확인\n",
        "_, axes = plt.subplots(nrows=1, ncols=10, figsize=(20, 20))\n",
        "for ax, image, label in zip(axes, digits.images, digits.target):\n",
        "    ax.set_axis_off()\n",
        "    ax.imshow(image, cmap=plt.cm.gray_r, interpolation='nearest')\n",
        "    ax.set_title('Training: %i' % label)"
      ],
      "id": "UMn-GBJDrXA4",
      "execution_count": 106,
      "outputs": [
        {
          "output_type": "display_data",
          "data": {
            "image/png": "[encoded data removed]",
            "text/plain": [
              "<Figure size 1440x1440 with 10 Axes>"
            ]
          },
          "metadata": {
            "tags": [],
            "needs_background": "light"
          }
        }
      ]
    },
    {
      "cell_type": "code",
      "metadata": {
        "id": "english-capitol"
      },
      "source": [
        "# feature data와 label data 지정\n",
        "feature_data = digits.data\n",
        "label_data = digits.target"
      ],
      "id": "english-capitol",
      "execution_count": 107,
      "outputs": []
    },
    {
      "cell_type": "markdown",
      "metadata": {
        "id": "departmental-expansion"
      },
      "source": [
        "## (4) train, test 데이터 분리"
      ],
      "id": "departmental-expansion"
    },
    {
      "cell_type": "code",
      "metadata": {
        "id": "intellectual-coupon"
      },
      "source": [
        "from sklearn.model_selection import train_test_split\n",
        "\n",
        "X_train, X_test, y_train, y_test = train_test_split(feature_data, \n",
        "                                                    label_data,\n",
        "                                                    test_size=0.2,\n",
        "                                                    random_state=42)"
      ],
      "id": "intellectual-coupon",
      "execution_count": 108,
      "outputs": []
    },
    {
      "cell_type": "markdown",
      "metadata": {
        "id": "minor-standard"
      },
      "source": [
        "## (5) 다양한 모델로 학습시켜보기\n",
        "- Decision Tree 사용해 보기\n",
        "- Random Forest 사용해 보기\n",
        "- SVM 사용해 보기\n",
        "- SGD Classifier 사용해 보기\n",
        "- Logistic Regression 사용해 보기\n",
        "\n",
        "어떤 모델이 가장 좋은 성능을 보일까?"
      ],
      "id": "minor-standard"
    },
    {
      "cell_type": "markdown",
      "metadata": {
        "id": "comprehensive-costa"
      },
      "source": [
        "### Decision Tree"
      ],
      "id": "comprehensive-costa"
    },
    {
      "cell_type": "code",
      "metadata": {
        "colab": {
          "base_uri": "https://localhost:8080/"
        },
        "id": "conscious-alfred",
        "outputId": "3b55dd0a-6760-49bb-f6d9-dc4bf4a95dc7"
      },
      "source": [
        "from sklearn.tree import DecisionTreeClassifier\n",
        "from sklearn.model_selection import cross_val_score, cross_validate\n",
        "\n",
        "dt_clf = DecisionTreeClassifier() \n",
        "\n",
        "dt_clf.fit(X_train, y_train)\n",
        "\n",
        "pred = dt_clf.predict(X_test)\n",
        "accuracy = accuracy_score(y_test, pred)\n",
        "accuracy\n",
        "get_clf_eval(y_test, pred, avg='micro')\n",
        "# scores = cross_val_score(dt_clf, data, label, scoring='accuracy', cv=3)\n",
        "# print(\"교차 검증별 정확도: \", np.round(scores, 4))\n",
        "# print(\"평균 검증 정확도: \", np.round(np.mean(scores), 4))"
      ],
      "id": "conscious-alfred",
      "execution_count": 109,
      "outputs": [
        {
          "output_type": "stream",
          "text": [
            "오차 행렬\n",
            "[[29  0  1  0  1  1  0  1  0  0]\n",
            " [ 0 22  1  0  1  0  1  1  1  1]\n",
            " [ 1  0 27  3  1  0  1  0  0  0]\n",
            " [ 0  0  1 29  0  0  0  1  2  1]\n",
            " [ 0  2  0  0 42  0  0  2  0  0]\n",
            " [ 0  0  0  0  2 44  1  0  0  0]\n",
            " [ 0  0  1  0  2  0 32  0  0  0]\n",
            " [ 0  0  0  2  1  0  0 31  0  0]\n",
            " [ 0  2  0  2  1  2  0  0 20  3]\n",
            " [ 0  1  0  3  2  0  0  1  0 33]]\n",
            "정확도:  0.000000, 정밀도:  1.000000, 재현율:  2.000000\n"
          ],
          "name": "stdout"
        }
      ]
    },
    {
      "cell_type": "code",
      "metadata": {
        "id": "polyphonic-confirmation"
      },
      "source": [
        "from sklearn.model_selection import GridSearchCV\n",
        "\n",
        "# hyperparameters\n",
        "parameters = {'max_depth': [8, 9, 10], 'min_samples_split': [8, 9, 10, 11]}\n",
        "\n",
        "grid_dtree = GridSearchCV(dt_clf, param_grid=parameters, cv=3, refit=True)"
      ],
      "id": "polyphonic-confirmation",
      "execution_count": 110,
      "outputs": []
    },
    {
      "cell_type": "code",
      "metadata": {
        "colab": {
          "base_uri": "https://localhost:8080/",
          "height": 849
        },
        "id": "social-registrar",
        "outputId": "7016f5f3-439c-4015-ec7b-76d872c3f05d"
      },
      "source": [
        "# 순차적으로 학습\n",
        "grid_dtree.fit(X_train, y_train)\n",
        "\n",
        "# GridSearchCV 결과 추출해 DataFrame으로 변환\n",
        "scores_df = pd.DataFrame(grid_dtree.cv_results_)\n",
        "scores_df[['params', 'mean_test_score', 'rank_test_score',\n",
        "          'split0_test_score', 'split1_test_score', 'split2_test_score']]"
      ],
      "id": "social-registrar",
      "execution_count": 111,
      "outputs": [
        {
          "output_type": "execute_result",
          "data": {
            "text/html": [
              "<div>\n",
              "<style scoped>\n",
              "    .dataframe tbody tr th:only-of-type {\n",
              "        vertical-align: middle;\n",
              "    }\n",
              "\n",
              "    .dataframe tbody tr th {\n",
              "        vertical-align: top;\n",
              "    }\n",
              "\n",
              "    .dataframe thead th {\n",
              "        text-align: right;\n",
              "    }\n",
              "</style>\n",
              "<table border=\"1\" class=\"dataframe\">\n",
              "  <thead>\n",
              "    <tr style=\"text-align: right;\">\n",
              "      <th></th>\n",
              "      <th>params</th>\n",
              "      <th>mean_test_score</th>\n",
              "      <th>rank_test_score</th>\n",
              "      <th>split0_test_score</th>\n",
              "      <th>split1_test_score</th>\n",
              "      <th>split2_test_score</th>\n",
              "    </tr>\n",
              "  </thead>\n",
              "  <tbody>\n",
              "    <tr>\n",
              "      <th>0</th>\n",
              "      <td>{'max_depth': 8, 'min_samples_split': 8}</td>\n",
              "      <td>0.815588</td>\n",
              "      <td>10</td>\n",
              "      <td>0.839248</td>\n",
              "      <td>0.799582</td>\n",
              "      <td>0.807933</td>\n",
              "    </tr>\n",
              "    <tr>\n",
              "      <th>1</th>\n",
              "      <td>{'max_depth': 8, 'min_samples_split': 9}</td>\n",
              "      <td>0.814892</td>\n",
              "      <td>12</td>\n",
              "      <td>0.839248</td>\n",
              "      <td>0.797495</td>\n",
              "      <td>0.807933</td>\n",
              "    </tr>\n",
              "    <tr>\n",
              "      <th>2</th>\n",
              "      <td>{'max_depth': 8, 'min_samples_split': 10}</td>\n",
              "      <td>0.815588</td>\n",
              "      <td>10</td>\n",
              "      <td>0.830898</td>\n",
              "      <td>0.803758</td>\n",
              "      <td>0.812109</td>\n",
              "    </tr>\n",
              "    <tr>\n",
              "      <th>3</th>\n",
              "      <td>{'max_depth': 8, 'min_samples_split': 11}</td>\n",
              "      <td>0.819763</td>\n",
              "      <td>7</td>\n",
              "      <td>0.841336</td>\n",
              "      <td>0.799582</td>\n",
              "      <td>0.818372</td>\n",
              "    </tr>\n",
              "    <tr>\n",
              "      <th>4</th>\n",
              "      <td>{'max_depth': 9, 'min_samples_split': 8}</td>\n",
              "      <td>0.823243</td>\n",
              "      <td>4</td>\n",
              "      <td>0.845511</td>\n",
              "      <td>0.803758</td>\n",
              "      <td>0.820459</td>\n",
              "    </tr>\n",
              "    <tr>\n",
              "      <th>5</th>\n",
              "      <td>{'max_depth': 9, 'min_samples_split': 9}</td>\n",
              "      <td>0.819763</td>\n",
              "      <td>8</td>\n",
              "      <td>0.847599</td>\n",
              "      <td>0.799582</td>\n",
              "      <td>0.812109</td>\n",
              "    </tr>\n",
              "    <tr>\n",
              "      <th>6</th>\n",
              "      <td>{'max_depth': 9, 'min_samples_split': 10}</td>\n",
              "      <td>0.819068</td>\n",
              "      <td>9</td>\n",
              "      <td>0.839248</td>\n",
              "      <td>0.803758</td>\n",
              "      <td>0.814196</td>\n",
              "    </tr>\n",
              "    <tr>\n",
              "      <th>7</th>\n",
              "      <td>{'max_depth': 9, 'min_samples_split': 11}</td>\n",
              "      <td>0.820459</td>\n",
              "      <td>5</td>\n",
              "      <td>0.837161</td>\n",
              "      <td>0.805846</td>\n",
              "      <td>0.818372</td>\n",
              "    </tr>\n",
              "    <tr>\n",
              "      <th>8</th>\n",
              "      <td>{'max_depth': 10, 'min_samples_split': 8}</td>\n",
              "      <td>0.824635</td>\n",
              "      <td>2</td>\n",
              "      <td>0.843424</td>\n",
              "      <td>0.807933</td>\n",
              "      <td>0.822547</td>\n",
              "    </tr>\n",
              "    <tr>\n",
              "      <th>9</th>\n",
              "      <td>{'max_depth': 10, 'min_samples_split': 9}</td>\n",
              "      <td>0.824635</td>\n",
              "      <td>3</td>\n",
              "      <td>0.839248</td>\n",
              "      <td>0.810021</td>\n",
              "      <td>0.824635</td>\n",
              "    </tr>\n",
              "    <tr>\n",
              "      <th>10</th>\n",
              "      <td>{'max_depth': 10, 'min_samples_split': 10}</td>\n",
              "      <td>0.820459</td>\n",
              "      <td>5</td>\n",
              "      <td>0.828810</td>\n",
              "      <td>0.803758</td>\n",
              "      <td>0.828810</td>\n",
              "    </tr>\n",
              "    <tr>\n",
              "      <th>11</th>\n",
              "      <td>{'max_depth': 10, 'min_samples_split': 11}</td>\n",
              "      <td>0.826722</td>\n",
              "      <td>1</td>\n",
              "      <td>0.849687</td>\n",
              "      <td>0.805846</td>\n",
              "      <td>0.824635</td>\n",
              "    </tr>\n",
              "  </tbody>\n",
              "</table>\n",
              "</div>"
            ],
            "text/plain": [
              "                                        params  ...  split2_test_score\n",
              "0     {'max_depth': 8, 'min_samples_split': 8}  ...           0.807933\n",
              "1     {'max_depth': 8, 'min_samples_split': 9}  ...           0.807933\n",
              "2    {'max_depth': 8, 'min_samples_split': 10}  ...           0.812109\n",
              "3    {'max_depth': 8, 'min_samples_split': 11}  ...           0.818372\n",
              "4     {'max_depth': 9, 'min_samples_split': 8}  ...           0.820459\n",
              "5     {'max_depth': 9, 'min_samples_split': 9}  ...           0.812109\n",
              "6    {'max_depth': 9, 'min_samples_split': 10}  ...           0.814196\n",
              "7    {'max_depth': 9, 'min_samples_split': 11}  ...           0.818372\n",
              "8    {'max_depth': 10, 'min_samples_split': 8}  ...           0.822547\n",
              "9    {'max_depth': 10, 'min_samples_split': 9}  ...           0.824635\n",
              "10  {'max_depth': 10, 'min_samples_split': 10}  ...           0.828810\n",
              "11  {'max_depth': 10, 'min_samples_split': 11}  ...           0.824635\n",
              "\n",
              "[12 rows x 6 columns]"
            ]
          },
          "metadata": {
            "tags": []
          },
          "execution_count": 111
        }
      ]
    },
    {
      "cell_type": "markdown",
      "metadata": {
        "id": "corresponding-arnold"
      },
      "source": [
        "### Random Forest"
      ],
      "id": "corresponding-arnold"
    },
    {
      "cell_type": "code",
      "metadata": {
        "colab": {
          "base_uri": "https://localhost:8080/"
        },
        "id": "suspected-public",
        "outputId": "b2a57286-d6ea-4532-84b8-f605afe9d77f"
      },
      "source": [
        "from sklearn.ensemble import RandomForestClassifier\n",
        "\n",
        "rf_clf = RandomForestClassifier(random_state=32)\n",
        "\n",
        "rf_clf.fit(X_train, y_train)\n",
        "pred = rf_clf.predict(X_test)\n",
        "accuracy = accuracy_score(y_test, pred)\n",
        "print(\"예측 정확도: {0:.4f}\".format(accuracy_score(y_test, pred)))"
      ],
      "id": "suspected-public",
      "execution_count": 112,
      "outputs": [
        {
          "output_type": "stream",
          "text": [
            "예측 정확도: 0.9806\n"
          ],
          "name": "stdout"
        }
      ]
    },
    {
      "cell_type": "code",
      "metadata": {
        "colab": {
          "base_uri": "https://localhost:8080/"
        },
        "id": "cosmetic-revelation",
        "outputId": "55d5fc41-9d81-40df-ab3e-c2dd948864a7"
      },
      "source": [
        "scores = cross_val_score(rf_clf, digits.data, digits.target, scoring='accuracy', cv=5)\n",
        "print(\"교차 검증별 정확도: \", np.round(scores, 4))\n",
        "print(\"평균 검증 정확도: \", np.round(np.mean(scores), 4))"
      ],
      "id": "cosmetic-revelation",
      "execution_count": 113,
      "outputs": [
        {
          "output_type": "stream",
          "text": [
            "교차 검증별 정확도:  [0.9306 0.9083 0.9666 0.961  0.922 ]\n",
            "평균 검증 정확도:  0.9377\n"
          ],
          "name": "stdout"
        }
      ]
    },
    {
      "cell_type": "markdown",
      "metadata": {
        "id": "charitable-tennis"
      },
      "source": [
        "### Support Vector Machine (SVM)"
      ],
      "id": "charitable-tennis"
    },
    {
      "cell_type": "code",
      "metadata": {
        "colab": {
          "base_uri": "https://localhost:8080/"
        },
        "id": "grand-database",
        "outputId": "ed1fa75a-2b9d-44c5-a607-2b0476aa64ed"
      },
      "source": [
        "from sklearn import svm\n",
        "from sklearn.preprocessing import StandardScaler\n",
        "\n",
        "scaler = StandardScaler()\n",
        "scaler.fit(X_train)\n",
        "train_scaled = scaler.transform(X_train) # train data 표준화\n",
        "\n",
        "svm_model = svm.SVC()\n",
        "\n",
        "svm_model.fit(train_scaled, y_train)\n",
        "\n",
        "test_scaled = scaler.transform(X_test) # test data 표준화\n",
        "pred = svm_model.predict(test_scaled)\n",
        "accuracy = accuracy_score(y_test, pred)\n",
        "print(\"예측 정확도: {0:.4f}\".format(accuracy_score(y_test, pred)))"
      ],
      "id": "grand-database",
      "execution_count": 114,
      "outputs": [
        {
          "output_type": "stream",
          "text": [
            "예측 정확도: 0.9806\n"
          ],
          "name": "stdout"
        }
      ]
    },
    {
      "cell_type": "markdown",
      "metadata": {
        "id": "ordered-symposium"
      },
      "source": [
        "### Stochastic Gradient Descent Classifier (SGDClassifier)"
      ],
      "id": "ordered-symposium"
    },
    {
      "cell_type": "code",
      "metadata": {
        "colab": {
          "base_uri": "https://localhost:8080/"
        },
        "id": "eight-roads",
        "outputId": "db3485b6-cb0b-4feb-d690-47aac6fad264"
      },
      "source": [
        "from sklearn.linear_model import SGDClassifier\n",
        "\n",
        "sgc_clf = SGDClassifier()\n",
        "\n",
        "sgc_clf.fit(X_train, y_train)\n",
        "\n",
        "pred = sgc_clf.predict(X_test)\n",
        "accuracy = accuracy_score(y_test, pred)\n",
        "print(\"예측 정확도: {0:.4f}\".format(accuracy_score(y_test, pred)))"
      ],
      "id": "eight-roads",
      "execution_count": 115,
      "outputs": [
        {
          "output_type": "stream",
          "text": [
            "예측 정확도: 0.9583\n"
          ],
          "name": "stdout"
        }
      ]
    },
    {
      "cell_type": "markdown",
      "metadata": {
        "id": "looking-complexity"
      },
      "source": [
        "### Logistic Regression"
      ],
      "id": "looking-complexity"
    },
    {
      "cell_type": "code",
      "metadata": {
        "id": "handled-second",
        "outputId": "932d0c8b-3d49-4fa4-a696-89f2a148b6f4"
      },
      "source": [
        "from sklearn.linear_model import LogisticRegression\n",
        "from sklearn.preprocessing import StandardScaler\n",
        "\n",
        "scaler = StandardScaler()\n",
        "scaler.fit(X_train)\n",
        "train_scaled = scaler.transform(X_train) # train data 표준화\n",
        "\n",
        "lr = LogisticRegression(max_iter=100)\n",
        "lr.fit(train_scaled, y_train)\n",
        "\n",
        "test_scaled = scaler.transform(X_test) # test data 표준화\n",
        "pred = lr.predict(test_scaled)\n",
        "accuracy = accuracy_score(y_test, pred)\n",
        "print(\"예측 정확도: {0:.4f}\".format(accuracy_score(y_test, pred)))"
      ],
      "id": "handled-second",
      "execution_count": null,
      "outputs": [
        {
          "output_type": "stream",
          "text": [
            "예측 정확도: 0.9722\n"
          ],
          "name": "stdout"
        }
      ]
    },
    {
      "cell_type": "markdown",
      "metadata": {
        "id": "wrapped-david"
      },
      "source": [
        "## (6) 모델을 평가해 보기\n",
        "- 학습된 모델들의 테스트데이터 예측 결과를 어떻게 해석해야 할까요? \n",
        "- 모델의 성능을 평가하는 지표로는 무엇이 좋을까요? \n",
        "- sklearn.metrics 에서 제공하는 평가지표 중 적절한 것을 선택해 보세요. 선택하신 이유도 설명해 주세요."
      ],
      "id": "wrapped-david"
    },
    {
      "cell_type": "code",
      "metadata": {
        "id": "straight-remedy",
        "outputId": "a4c981c5-8cec-4423-9037-eb39bd57d33e"
      },
      "source": [
        "from sklearn.metrics import confusion_matrix\n",
        "\n",
        "print(classification_report(y_test, pred))\n",
        "print()\n",
        "confusion_matrix(y_test, pred)"
      ],
      "id": "straight-remedy",
      "execution_count": null,
      "outputs": [
        {
          "output_type": "stream",
          "text": [
            "              precision    recall  f1-score   support\n",
            "\n",
            "           0       1.00      1.00      1.00        33\n",
            "           1       0.97      1.00      0.98        28\n",
            "           2       1.00      1.00      1.00        33\n",
            "           3       0.97      0.97      0.97        34\n",
            "           4       1.00      0.98      0.99        46\n",
            "           5       0.94      0.94      0.94        47\n",
            "           6       0.97      0.97      0.97        35\n",
            "           7       1.00      0.97      0.99        34\n",
            "           8       0.97      0.97      0.97        30\n",
            "           9       0.93      0.95      0.94        40\n",
            "\n",
            "    accuracy                           0.97       360\n",
            "   macro avg       0.97      0.97      0.97       360\n",
            "weighted avg       0.97      0.97      0.97       360\n",
            "\n",
            "\n"
          ],
          "name": "stdout"
        },
        {
          "output_type": "execute_result",
          "data": {
            "text/plain": [
              "array([[33,  0,  0,  0,  0,  0,  0,  0,  0,  0],\n",
              "       [ 0, 28,  0,  0,  0,  0,  0,  0,  0,  0],\n",
              "       [ 0,  0, 33,  0,  0,  0,  0,  0,  0,  0],\n",
              "       [ 0,  0,  0, 33,  0,  1,  0,  0,  0,  0],\n",
              "       [ 0,  1,  0,  0, 45,  0,  0,  0,  0,  0],\n",
              "       [ 0,  0,  0,  0,  0, 44,  1,  0,  0,  2],\n",
              "       [ 0,  0,  0,  0,  0,  1, 34,  0,  0,  0],\n",
              "       [ 0,  0,  0,  0,  0,  0,  0, 33,  0,  1],\n",
              "       [ 0,  0,  0,  0,  0,  1,  0,  0, 29,  0],\n",
              "       [ 0,  0,  0,  1,  0,  0,  0,  0,  1, 38]])"
            ]
          },
          "metadata": {
            "tags": []
          },
          "execution_count": 18
        }
      ]
    },
    {
      "cell_type": "markdown",
      "metadata": {
        "id": "cleared-hypothetical"
      },
      "source": [
        "# 2-12. 프로젝트 (2) load_wine : 와인을 분류해 봅시다\n",
        "- `load_wine` : 와인 데이터 ([링크](https://scikit-learn.org/stable/modules/generated/sklearn.datasets.load_wine.html#sklearn.datasets.load_wine))"
      ],
      "id": "cleared-hypothetical"
    },
    {
      "cell_type": "markdown",
      "metadata": {
        "id": "developmental-worcester"
      },
      "source": [
        "## (1) 필요한 모듈 import하기"
      ],
      "id": "developmental-worcester"
    },
    {
      "cell_type": "code",
      "metadata": {
        "id": "electoral-pixel"
      },
      "source": [
        "from sklearn.datasets import load_wine\n",
        "from sklearn.model_selection import train_test_split\n",
        "from sklearn.metrics import classification_report"
      ],
      "id": "electoral-pixel",
      "execution_count": 8,
      "outputs": []
    },
    {
      "cell_type": "markdown",
      "metadata": {
        "id": "polish-great"
      },
      "source": [
        "## (2) 데이터 준비"
      ],
      "id": "polish-great"
    },
    {
      "cell_type": "code",
      "metadata": {
        "colab": {
          "base_uri": "https://localhost:8080/"
        },
        "id": "auburn-massage",
        "outputId": "49fe0eb1-8e47-4744-999e-746949e385b2"
      },
      "source": [
        "wine = load_wine()\n",
        "\n",
        "print(dir(wine))"
      ],
      "id": "auburn-massage",
      "execution_count": 11,
      "outputs": [
        {
          "output_type": "stream",
          "text": [
            "['DESCR', 'data', 'feature_names', 'target', 'target_names']\n"
          ],
          "name": "stdout"
        }
      ]
    },
    {
      "cell_type": "markdown",
      "metadata": {
        "id": "experienced-allen"
      },
      "source": [
        "## (3) 데이터 이해하기\n",
        "- Feature Data 지정하기\n",
        "- Label Data 지정하기\n",
        "- Target Names 출력해 보기\n",
        "- 데이터 Describe 해 보기"
      ],
      "id": "experienced-allen"
    },
    {
      "cell_type": "code",
      "metadata": {
        "colab": {
          "base_uri": "https://localhost:8080/"
        },
        "id": "living-quarter",
        "outputId": "6849d422-bd27-413f-a84f-b10b1dd4a777"
      },
      "source": [
        "print_data_info(wine)"
      ],
      "id": "living-quarter",
      "execution_count": 10,
      "outputs": [
        {
          "output_type": "stream",
          "text": [
            "data의 type:  <class 'sklearn.utils.Bunch'>\n",
            "data의 shape:  (178, 13)\n",
            "\n",
            "feature_name 출력: \n",
            "['alcohol', 'malic_acid', 'ash', 'alcalinity_of_ash', 'magnesium', 'total_phenols', 'flavanoids', 'nonflavanoid_phenols', 'proanthocyanins', 'color_intensity', 'hue', 'od280/od315_of_diluted_wines', 'proline']\n",
            "\n",
            "feature_name의 type:  <class 'list'>\n",
            "feature_name의 shape:  13\n",
            "\n",
            "target_name:  ['class_0' 'class_1' 'class_2']\n",
            "target_name의 type:  <class 'numpy.ndarray'>\n",
            "target_name의 shape:  3\n",
            "\n",
            "target의 type:  <class 'numpy.ndarray'>\n",
            "target의 shape:  (178,)\n",
            "\n"
          ],
          "name": "stdout"
        }
      ]
    },
    {
      "cell_type": "code",
      "metadata": {
        "id": "identified-panel",
        "outputId": "5971800b-b06e-475f-f3cd-66c80b924fcb"
      },
      "source": [
        "wine_df = pd.DataFrame(data=wine.data, columns=wine.feature_names)\n",
        "wine_df['label'] = wine.target\n",
        "wine_df['label'].value_counts()"
      ],
      "id": "identified-panel",
      "execution_count": null,
      "outputs": [
        {
          "output_type": "execute_result",
          "data": {
            "text/plain": [
              "1    71\n",
              "0    59\n",
              "2    48\n",
              "Name: label, dtype: int64"
            ]
          },
          "metadata": {
            "tags": []
          },
          "execution_count": 22
        }
      ]
    },
    {
      "cell_type": "code",
      "metadata": {
        "id": "cardiac-hanging"
      },
      "source": [
        "wine_data = wine.data\n",
        "wine_target = wine.target"
      ],
      "id": "cardiac-hanging",
      "execution_count": null,
      "outputs": []
    },
    {
      "cell_type": "markdown",
      "metadata": {
        "id": "monthly-blackberry"
      },
      "source": [
        "## (4) train, test 데이터 분리"
      ],
      "id": "monthly-blackberry"
    },
    {
      "cell_type": "code",
      "metadata": {
        "id": "destroyed-reward"
      },
      "source": [
        "from sklearn.model_selection import train_test_split\n",
        "\n",
        "X_train, X_test, y_train, y_test = train_test_split(wine_data,\n",
        "                                                   wine_target,\n",
        "                                                   test_size=0.2,\n",
        "                                                   random_state=42)"
      ],
      "id": "destroyed-reward",
      "execution_count": null,
      "outputs": []
    },
    {
      "cell_type": "markdown",
      "metadata": {
        "id": "after-jackson"
      },
      "source": [
        "## (5) 다양한 모델로 학습시켜보기\n",
        "- Decision Tree 사용해 보기\n",
        "- Random Forest 사용해 보기\n",
        "- SVM 사용해 보기\n",
        "- SGD Classifier 사용해 보기\n",
        "- Logistic Regression 사용해 보기\n",
        "\n",
        "어떤 모델이 가장 좋은 성능을 보일까?"
      ],
      "id": "after-jackson"
    },
    {
      "cell_type": "markdown",
      "metadata": {
        "id": "wireless-twelve"
      },
      "source": [
        "### Decision Tree"
      ],
      "id": "wireless-twelve"
    },
    {
      "cell_type": "code",
      "metadata": {
        "id": "satellite-orleans",
        "outputId": "5e115e0e-e9c0-493b-9b87-f8f33d4ade69"
      },
      "source": [
        "from sklearn.tree import DecisionTreeClassifier\n",
        "\n",
        "dt_clf = DecisionTreeClassifier() \n",
        "\n",
        "dt_clf.fit(X_train, y_train)\n",
        "\n",
        "pred = dt_clf.predict(X_test)\n",
        "accuracy = accuracy_score(y_test, pred)\n",
        "accuracy"
      ],
      "id": "satellite-orleans",
      "execution_count": null,
      "outputs": [
        {
          "output_type": "execute_result",
          "data": {
            "text/plain": [
              "0.9444444444444444"
            ]
          },
          "metadata": {
            "tags": []
          },
          "execution_count": 25
        }
      ]
    },
    {
      "cell_type": "markdown",
      "metadata": {
        "id": "recreational-screening"
      },
      "source": [
        "### Random Forest"
      ],
      "id": "recreational-screening"
    },
    {
      "cell_type": "code",
      "metadata": {
        "id": "static-match",
        "outputId": "82be3636-1060-48a6-9ae2-4d9b1fc55262"
      },
      "source": [
        "from sklearn.ensemble import RandomForestClassifier\n",
        "\n",
        "rf_clf = RandomForestClassifier(random_state=32)\n",
        "\n",
        "rf_clf.fit(X_train, y_train)\n",
        "pred = rf_clf.predict(X_test)\n",
        "accuracy = accuracy_score(y_test, pred)\n",
        "accuracy = accuracy_score(y_test, pred)\n",
        "accuracy"
      ],
      "id": "static-match",
      "execution_count": null,
      "outputs": [
        {
          "output_type": "execute_result",
          "data": {
            "text/plain": [
              "1.0"
            ]
          },
          "metadata": {
            "tags": []
          },
          "execution_count": 26
        }
      ]
    },
    {
      "cell_type": "markdown",
      "metadata": {
        "id": "nutritional-madison"
      },
      "source": [
        "### Support Vector Machine (SVM)"
      ],
      "id": "nutritional-madison"
    },
    {
      "cell_type": "code",
      "metadata": {
        "id": "turned-discipline",
        "outputId": "1b60bb16-f037-49b4-930b-b60452a8eb04"
      },
      "source": [
        "from sklearn import svm\n",
        "from sklearn.preprocessing import StandardScaler\n",
        "\n",
        "scaler = StandardScaler()\n",
        "scaler.fit(X_train)\n",
        "train_scaled = scaler.transform(X_train) # train data 표준화\n",
        "\n",
        "svm_model = svm.SVC()\n",
        "\n",
        "svm_model.fit(train_scaled, y_train)\n",
        "\n",
        "test_scaled = scaler.transform(X_test) # test data 표준화\n",
        "pred = svm_model.predict(test_scaled)\n",
        "accuracy = accuracy_score(y_test, pred)\n",
        "print(\"예측 정확도: {0:.4f}\".format(accuracy_score(y_test, pred)))"
      ],
      "id": "turned-discipline",
      "execution_count": null,
      "outputs": [
        {
          "output_type": "stream",
          "text": [
            "예측 정확도: 1.0000\n"
          ],
          "name": "stdout"
        }
      ]
    },
    {
      "cell_type": "markdown",
      "metadata": {
        "id": "designing-inflation"
      },
      "source": [
        "### Stochastic Gradient Descent Classifier (SGDClassifier)"
      ],
      "id": "designing-inflation"
    },
    {
      "cell_type": "code",
      "metadata": {
        "id": "offensive-swaziland",
        "outputId": "9f75e859-4ce9-450a-9402-23db5f2e2c4e"
      },
      "source": [
        "from sklearn.linear_model import SGDClassifier\n",
        "\n",
        "sgc_clf = SGDClassifier()\n",
        "\n",
        "sgc_clf.fit(X_train, y_train)\n",
        "\n",
        "pred = sgc_clf.predict(X_test)\n",
        "accuracy = accuracy_score(y_test, pred)\n",
        "print(\"예측 정확도: {0:.4f}\".format(accuracy_score(y_test, pred)))"
      ],
      "id": "offensive-swaziland",
      "execution_count": null,
      "outputs": [
        {
          "output_type": "stream",
          "text": [
            "예측 정확도: 0.7222\n"
          ],
          "name": "stdout"
        }
      ]
    },
    {
      "cell_type": "markdown",
      "metadata": {
        "id": "looking-sector"
      },
      "source": [
        "### Logistic Regression"
      ],
      "id": "looking-sector"
    },
    {
      "cell_type": "code",
      "metadata": {
        "id": "shaped-spread",
        "outputId": "b9debaf1-8960-4906-ce33-ba67733da172"
      },
      "source": [
        "from sklearn.linear_model import LogisticRegression\n",
        "from sklearn.preprocessing import StandardScaler\n",
        "\n",
        "scaler = StandardScaler()\n",
        "scaler.fit(X_train)\n",
        "train_scaled = scaler.transform(X_train) # train data 표준화\n",
        "\n",
        "lr = LogisticRegression(max_iter=100)\n",
        "lr.fit(train_scaled, y_train)\n",
        "\n",
        "test_scaled = scaler.transform(X_test) # test data 표준화\n",
        "pred = lr.predict(test_scaled)\n",
        "accuracy = accuracy_score(y_test, pred)\n",
        "print(\"예측 정확도: {0:.4f}\".format(accuracy_score(y_test, pred)))"
      ],
      "id": "shaped-spread",
      "execution_count": null,
      "outputs": [
        {
          "output_type": "stream",
          "text": [
            "예측 정확도: 1.0000\n"
          ],
          "name": "stdout"
        }
      ]
    },
    {
      "cell_type": "markdown",
      "metadata": {
        "id": "danish-muslim"
      },
      "source": [
        "## (6) 모델을 평가해 보기\n",
        "- 학습된 모델들의 테스트데이터 예측 결과를 어떻게 해석해야 할까요? \n",
        "- 모델의 성능을 평가하는 지표로는 무엇이 좋을까요? \n",
        "- sklearn.metrics 에서 제공하는 평가지표 중 적절한 것을 선택해 보세요. 선택하신 이유도 설명해 주세요."
      ],
      "id": "danish-muslim"
    },
    {
      "cell_type": "markdown",
      "metadata": {
        "id": "raising-detroit"
      },
      "source": [
        "# 2-13. 프로젝트 (3) load_breast_cancer : 유방암 여부를 진단해 봅시다\n",
        "\n",
        "\n",
        "- `load_breast_cancer` : 유방암 데이터 ([링크](https://scikit-learn.org/stable/modules/generated/sklearn.datasets.load_breast_cancer.html#sklearn.datasets.load_breast_cancer))\n",
        "\n",
        "- 재현율이 중요"
      ],
      "id": "raising-detroit"
    },
    {
      "cell_type": "markdown",
      "metadata": {
        "id": "marine-lodging"
      },
      "source": [
        "## (1) 필요한 모듈 import하기"
      ],
      "id": "marine-lodging"
    },
    {
      "cell_type": "code",
      "metadata": {
        "id": "confident-danger"
      },
      "source": [
        "from sklearn.datasets import load_breast_cancer\n",
        "from sklearn.model_selection import train_test_split\n",
        "from sklearn.metrics import classification_report"
      ],
      "id": "confident-danger",
      "execution_count": null,
      "outputs": []
    },
    {
      "cell_type": "markdown",
      "metadata": {
        "id": "indie-sheffield"
      },
      "source": [
        "## (2) 데이터 준비"
      ],
      "id": "indie-sheffield"
    },
    {
      "cell_type": "code",
      "metadata": {
        "id": "detailed-irish"
      },
      "source": [
        "breast_cancer = load_breast_cancer()"
      ],
      "id": "detailed-irish",
      "execution_count": null,
      "outputs": []
    },
    {
      "cell_type": "markdown",
      "metadata": {
        "id": "crude-yesterday"
      },
      "source": [
        "## (3) 데이터 이해하기\n",
        "- Feature Data 지정하기\n",
        "- Label Data 지정하기\n",
        "- Target Names 출력해 보기\n",
        "- 데이터 Describe 해 보기"
      ],
      "id": "crude-yesterday"
    },
    {
      "cell_type": "code",
      "metadata": {
        "id": "acceptable-luxembourg",
        "outputId": "0eddd713-e3dc-4a75-9085-3bd7720ceed3"
      },
      "source": [
        "print_data_info(breast_cancer)"
      ],
      "id": "acceptable-luxembourg",
      "execution_count": null,
      "outputs": [
        {
          "output_type": "stream",
          "text": [
            "data의 type:  <class 'sklearn.utils.Bunch'>\n",
            "data의 shape:  (569, 30)\n",
            "\n",
            "feature_name 출력: \n",
            "['mean radius' 'mean texture' 'mean perimeter' 'mean area'\n",
            " 'mean smoothness' 'mean compactness' 'mean concavity'\n",
            " 'mean concave points' 'mean symmetry' 'mean fractal dimension'\n",
            " 'radius error' 'texture error' 'perimeter error' 'area error'\n",
            " 'smoothness error' 'compactness error' 'concavity error'\n",
            " 'concave points error' 'symmetry error' 'fractal dimension error'\n",
            " 'worst radius' 'worst texture' 'worst perimeter' 'worst area'\n",
            " 'worst smoothness' 'worst compactness' 'worst concavity'\n",
            " 'worst concave points' 'worst symmetry' 'worst fractal dimension']\n",
            "\n",
            "feature_name의 type:  <class 'numpy.ndarray'>\n",
            "feature_name의 shape:  30\n",
            "\n",
            "target_name:  ['malignant' 'benign']\n",
            "target_name의 type:  <class 'numpy.ndarray'>\n",
            "target_name의 shape:  2\n",
            "\n",
            "target의 type:  <class 'numpy.ndarray'>\n",
            "target의 shape:  (569,)\n",
            "\n"
          ],
          "name": "stdout"
        }
      ]
    },
    {
      "cell_type": "code",
      "metadata": {
        "id": "dramatic-logging",
        "outputId": "15a744ed-f85b-4fa7-8d6c-aee8c7a7334d"
      },
      "source": [
        "cancer_df = pd.DataFrame(data=breast_cancer.data, columns=breast_cancer.feature_names)\n",
        "cancer_df['label'] = breast_cancer.target\n",
        "cancer_df['label'].value_counts()"
      ],
      "id": "dramatic-logging",
      "execution_count": null,
      "outputs": [
        {
          "output_type": "execute_result",
          "data": {
            "text/plain": [
              "1    357\n",
              "0    212\n",
              "Name: label, dtype: int64"
            ]
          },
          "metadata": {
            "tags": []
          },
          "execution_count": 33
        }
      ]
    },
    {
      "cell_type": "code",
      "metadata": {
        "id": "compliant-subscription"
      },
      "source": [
        "cancer_data = breast_cancer.data\n",
        "cancer_target = breast_cancer.target"
      ],
      "id": "compliant-subscription",
      "execution_count": null,
      "outputs": []
    },
    {
      "cell_type": "markdown",
      "metadata": {
        "id": "sorted-triple"
      },
      "source": [
        "## (4) train, test 데이터 분리"
      ],
      "id": "sorted-triple"
    },
    {
      "cell_type": "code",
      "metadata": {
        "id": "executed-moment"
      },
      "source": [
        "from sklearn.model_selection import train_test_split\n",
        "\n",
        "X_train, X_test, y_train, y_test = train_test_split(cancer_data,\n",
        "                                                   cancer_target,\n",
        "                                                   test_size=0.2,\n",
        "                                                   random_state=42)"
      ],
      "id": "executed-moment",
      "execution_count": null,
      "outputs": []
    },
    {
      "cell_type": "markdown",
      "metadata": {
        "id": "about-amateur"
      },
      "source": [
        "## (5) 다양한 모델로 학습시켜보기\n",
        "- Decision Tree 사용해 보기\n",
        "- Random Forest 사용해 보기\n",
        "- SVM 사용해 보기\n",
        "- SGD Classifier 사용해 보기\n",
        "- Logistic Regression 사용해 보기\n",
        "\n",
        "어떤 모델이 가장 좋은 성능을 보일까?"
      ],
      "id": "about-amateur"
    },
    {
      "cell_type": "markdown",
      "metadata": {
        "id": "saving-narrative"
      },
      "source": [
        "### Decision Tree"
      ],
      "id": "saving-narrative"
    },
    {
      "cell_type": "code",
      "metadata": {
        "id": "mineral-twelve",
        "outputId": "20a125c4-efd7-4edd-c5cf-cde455311eb9"
      },
      "source": [
        "from sklearn.tree import DecisionTreeClassifier\n",
        "\n",
        "dt_clf = DecisionTreeClassifier() \n",
        "\n",
        "dt_clf.fit(X_train, y_train)\n",
        "\n",
        "pred = dt_clf.predict(X_test)\n",
        "accuracy = accuracy_score(y_test, pred)\n",
        "accuracy"
      ],
      "id": "mineral-twelve",
      "execution_count": null,
      "outputs": [
        {
          "output_type": "execute_result",
          "data": {
            "text/plain": [
              "0.9473684210526315"
            ]
          },
          "metadata": {
            "tags": []
          },
          "execution_count": 36
        }
      ]
    },
    {
      "cell_type": "markdown",
      "metadata": {
        "id": "traditional-reputation"
      },
      "source": [
        "### Random Forest"
      ],
      "id": "traditional-reputation"
    },
    {
      "cell_type": "code",
      "metadata": {
        "id": "enormous-vertex",
        "outputId": "84810a22-0dd1-4200-f192-8e9217e54351"
      },
      "source": [
        "from sklearn.ensemble import RandomForestClassifier\n",
        "\n",
        "rf_clf = RandomForestClassifier(random_state=32)\n",
        "\n",
        "rf_clf.fit(X_train, y_train)\n",
        "pred = rf_clf.predict(X_test)\n",
        "accuracy = accuracy_score(y_test, pred)\n",
        "accuracy = accuracy_score(y_test, pred)\n",
        "accuracy"
      ],
      "id": "enormous-vertex",
      "execution_count": null,
      "outputs": [
        {
          "output_type": "execute_result",
          "data": {
            "text/plain": [
              "0.9649122807017544"
            ]
          },
          "metadata": {
            "tags": []
          },
          "execution_count": 37
        }
      ]
    },
    {
      "cell_type": "markdown",
      "metadata": {
        "id": "binding-comment"
      },
      "source": [
        "### Support Vector Machine (SVM)"
      ],
      "id": "binding-comment"
    },
    {
      "cell_type": "code",
      "metadata": {
        "id": "hearing-interim",
        "outputId": "18aef852-14c5-4ea3-ce00-7756a2725139"
      },
      "source": [
        "from sklearn import svm\n",
        "from sklearn.preprocessing import StandardScaler\n",
        "\n",
        "scaler = StandardScaler()\n",
        "scaler.fit(X_train)\n",
        "train_scaled = scaler.transform(X_train) # train data 표준화\n",
        "\n",
        "svm_model = svm.SVC()\n",
        "\n",
        "svm_model.fit(train_scaled, y_train)\n",
        "\n",
        "test_scaled = scaler.transform(X_test) # test data 표준화\n",
        "pred = svm_model.predict(test_scaled)\n",
        "accuracy = accuracy_score(y_test, pred)\n",
        "print(\"예측 정확도: {0:.4f}\".format(accuracy_score(y_test, pred)))"
      ],
      "id": "hearing-interim",
      "execution_count": null,
      "outputs": [
        {
          "output_type": "stream",
          "text": [
            "예측 정확도: 0.9825\n"
          ],
          "name": "stdout"
        }
      ]
    },
    {
      "cell_type": "markdown",
      "metadata": {
        "id": "english-vietnamese"
      },
      "source": [
        "### Stochastic Gradient Descent Classifier (SGDClassifier)"
      ],
      "id": "english-vietnamese"
    },
    {
      "cell_type": "code",
      "metadata": {
        "id": "bibliographic-honey",
        "outputId": "f9a3681e-d4f9-40a4-bede-44e9e75aa7b1"
      },
      "source": [
        "from sklearn.linear_model import SGDClassifier\n",
        "\n",
        "sgc_clf = SGDClassifier()\n",
        "\n",
        "sgc_clf.fit(X_train, y_train)\n",
        "\n",
        "pred = sgc_clf.predict(X_test)\n",
        "accuracy = accuracy_score(y_test, pred)\n",
        "print(\"예측 정확도: {0:.4f}\".format(accuracy_score(y_test, pred)))"
      ],
      "id": "bibliographic-honey",
      "execution_count": null,
      "outputs": [
        {
          "output_type": "stream",
          "text": [
            "예측 정확도: 0.9474\n"
          ],
          "name": "stdout"
        }
      ]
    },
    {
      "cell_type": "markdown",
      "metadata": {
        "id": "frank-blank"
      },
      "source": [
        "### Logistic Regression"
      ],
      "id": "frank-blank"
    },
    {
      "cell_type": "code",
      "metadata": {
        "id": "differential-assessment",
        "outputId": "8a051c62-81b7-454c-a431-9faaa1804a2e"
      },
      "source": [
        "from sklearn.linear_model import LogisticRegression\n",
        "from sklearn.preprocessing import StandardScaler\n",
        "\n",
        "scaler = StandardScaler()\n",
        "scaler.fit(X_train)\n",
        "train_scaled = scaler.transform(X_train) # train data 표준화\n",
        "\n",
        "lr = LogisticRegression(max_iter=100)\n",
        "lr.fit(train_scaled, y_train)\n",
        "\n",
        "test_scaled = scaler.transform(X_test) # test data 표준화\n",
        "pred = lr.predict(test_scaled)\n",
        "accuracy = accuracy_score(y_test, pred)\n",
        "print(\"예측 정확도: {0:.4f}\".format(accuracy_score(y_test, pred)))"
      ],
      "id": "differential-assessment",
      "execution_count": null,
      "outputs": [
        {
          "output_type": "stream",
          "text": [
            "예측 정확도: 0.9737\n"
          ],
          "name": "stdout"
        }
      ]
    },
    {
      "cell_type": "markdown",
      "metadata": {
        "id": "large-hungarian"
      },
      "source": [
        "## (6) 모델을 평가해 보기\n",
        "- 학습된 모델들의 테스트데이터 예측 결과를 어떻게 해석해야 할까요? \n",
        "- 모델의 성능을 평가하는 지표로는 무엇이 좋을까요? \n",
        "- sklearn.metrics 에서 제공하는 평가지표 중 적절한 것을 선택해 보세요. 선택하신 이유도 설명해 주세요."
      ],
      "id": "large-hungarian"
    },
    {
      "cell_type": "markdown",
      "metadata": {
        "id": "chemical-championship"
      },
      "source": [
        "## 참고 자료\n",
        "\n",
        "- [[Python] 어떤 스케일러를 쓸 것인가?](https://mkjjo.github.io/python/2019/01/10/scaler.html)\n",
        "- [로지스틱회귀(Logistic Regression) – 파이썬 코드 예제](http://hleecaster.com/ml-logistic-regression-example/)"
      ],
      "id": "chemical-championship"
    },
    {
      "cell_type": "markdown",
      "metadata": {
        "id": "spare-tulsa"
      },
      "source": [
        "- 교차검증(cross_val_score)\n",
        "- GridSearchCV - 교차 검ㅈ으과 최적 하이퍼파라미터 튜닝 한 \n",
        "- 원핫인코딩\n",
        "- 피처 스케일링\n",
        "    - 표준화(Standardization)\n",
        "    - 정규화(Normalization)\n",
        "- 정밀도와 재현율의 임곗값에 따른 값 변화 그래프\n",
        "- confusion, accuracy, precision, recall, f1\n",
        "- ROC 곡선과 AUC\n",
        "- 결정 트리 시각화\n",
        "- XGBoost, LightGBM"
      ],
      "id": "spare-tulsa"
    }
  ]
}