{
 "cells": [
  {
   "cell_type": "markdown",
   "metadata": {
    "id": "yihuoKWxoJrJ"
   },
   "source": [
    "# 미니 프로젝트 : 가위바위보 분류기를 만들자"
   ]
  },
  {
   "cell_type": "markdown",
   "metadata": {
    "id": "0z776fZ1oObz"
   },
   "source": [
    "## 1. 데이터 준비"
   ]
  },
  {
   "cell_type": "markdown",
   "metadata": {
    "id": "tIidF2sOoTD5"
   },
   "source": [
    "### 1-1. 데이터 만들기\n",
    "노트북 카메라를 이용하여 가위, 바위, 보 이미지 각 100장을 만들어본다. 구글의 teachable machine 사이트에서 쉽게 데이터를 만들 수 있다.\n",
    "\n",
    "[https://teachablemachine.withgoogle.com/](https://teachablemachine.withgoogle.com/)\n",
    "\n",
    "- 여러 각도에서 찍기\n",
    "- 여러 크기로 찍기\n",
    "- 여러 명이 찍기\n",
    "\n",
    "좋은 데이터가 좋은 결과를 낳는다.\n",
    "\n",
    "teachable machine을 통해서 이미지를 저장하면 이미지는 224x224 크기로 되어 있다."
   ]
  },
  {
   "cell_type": "markdown",
   "metadata": {
    "id": "uMw68b9CuGDa"
   },
   "source": [
    "### 1-2. 데이터 불러오기 + Resize 하기\n",
    "가위, 바위, 보 이미지를 28x28로 만들어야 한다. 이를 위해 `PIL` 라이브러리를 사용한다."
   ]
  },
  {
   "cell_type": "code",
   "execution_count": 1,
   "metadata": {},
   "outputs": [],
   "source": [
    "from PIL import Image\n",
    "import os, glob\n",
    "# !nvidia-smi"
   ]
  },
  {
   "cell_type": "code",
   "execution_count": 2,
   "metadata": {},
   "outputs": [],
   "source": [
    "import os\n",
    "\n",
    "IMG_SIZE = 28 # 이미지 사이즈\n",
    "total_image = 0 # 전체 이미지 개수\n",
    "\n",
    "# 이미지를 리사이즈 해주는 함수\n",
    "def resize_images(img_path):\n",
    "    images=glob.glob(img_path + \"/*.jpg\")\n",
    "    global total_image \n",
    "    total_image += len(images)\n",
    "    \n",
    "    print(f\"{len(images)} images will be resized.\")\n",
    "    \n",
    "    # resize all images to 28x28\n",
    "    target_size=(IMG_SIZE, IMG_SIZE) # 28x28 size\n",
    "    for img in images:\n",
    "        old_img=Image.open(img)\n",
    "        new_img=old_img.resize(target_size, Image.ANTIALIAS)\n",
    "        new_img.save(img, \"JPEG\")\n",
    "        \n",
    "    print(f\"{len(images)} images have been resized.\\n\")"
   ]
  },
  {
   "cell_type": "code",
   "execution_count": 3,
   "metadata": {},
   "outputs": [],
   "source": [
    "# local\n",
    "# data_dir = os.path.dirname(os.path.abspath('__file__')) # 현재 위치\n",
    "# data_dir += r'/data/' # 데이터 폴더 위치\n",
    "# print(data_dir)\n",
    "\n",
    "# train_path = data_dir + r'train/'\n",
    "# scissor_train_path = train_path + r'scissors/'\n",
    "# rock_train_path = train_path + r'rock/'\n",
    "# paper_train_path = train_path + r'paper/'\n",
    "\n",
    "# train_paths = [scissor_train_path, rock_train_path, paper_train_path]\n",
    "# print(train_paths)"
   ]
  },
  {
   "cell_type": "code",
   "execution_count": 4,
   "metadata": {},
   "outputs": [],
   "source": [
    "scissor_dir = os.getenv(\"HOME\") + \"/aiffel/rock_scissor_paper/scissor\"\n",
    "rock_dir = os.getenv(\"HOME\") + \"/aiffel/rock_scissor_paper/rock\"\n",
    "paper_dir = os.getenv(\"HOME\") + \"/aiffel/rock_scissor_paper/paper\"\n",
    "\n",
    "# TODO: 폴더 존재하는지 체크해주는 부분 추가\n",
    "\n",
    "img_dir = [scissor_dir, rock_dir, paper_dir]"
   ]
  },
  {
   "cell_type": "code",
   "execution_count": 5,
   "metadata": {},
   "outputs": [
    {
     "name": "stderr",
     "output_type": "stream",
     "text": [
      "  0%|          | 0/3 [00:00<?, ?it/s]"
     ]
    },
    {
     "name": "stdout",
     "output_type": "stream",
     "text": [
      "994 images will be resized.\n"
     ]
    },
    {
     "name": "stderr",
     "output_type": "stream",
     "text": [
      " 33%|███▎      | 1/3 [00:00<00:01,  1.50it/s]"
     ]
    },
    {
     "name": "stdout",
     "output_type": "stream",
     "text": [
      "994 images have been resized.\n",
      "\n",
      "1105 images will be resized.\n"
     ]
    },
    {
     "name": "stderr",
     "output_type": "stream",
     "text": [
      " 67%|██████▋   | 2/3 [00:01<00:00,  1.99it/s]"
     ]
    },
    {
     "name": "stdout",
     "output_type": "stream",
     "text": [
      "1105 images have been resized.\n",
      "\n",
      "1108 images will be resized.\n"
     ]
    },
    {
     "name": "stderr",
     "output_type": "stream",
     "text": [
      "100%|██████████| 3/3 [00:01<00:00,  2.10it/s]"
     ]
    },
    {
     "name": "stdout",
     "output_type": "stream",
     "text": [
      "1108 images have been resized.\n",
      "\n",
      "이미지 resize 완료!\n"
     ]
    },
    {
     "name": "stderr",
     "output_type": "stream",
     "text": [
      "\n"
     ]
    }
   ],
   "source": [
    "from tqdm import tqdm\n",
    "\n",
    "for image in tqdm(img_dir):\n",
    "    resize_images(image)\n",
    "    \n",
    "print(\"이미지 resize 완료!\")"
   ]
  },
  {
   "cell_type": "code",
   "execution_count": 6,
   "metadata": {},
   "outputs": [
    {
     "name": "stdout",
     "output_type": "stream",
     "text": [
      "3207\n"
     ]
    }
   ],
   "source": [
    "# 총 이미지 개수\n",
    "print(total_image)"
   ]
  },
  {
   "cell_type": "markdown",
   "metadata": {},
   "source": [
    "### 1-3. 가위, 바위, 보 데이터를 읽는 `load_data()` 함수 만들기\n",
    "\n",
    "`load_data()` 함수는 입력으로 이미지가 있는 폴더 위치를 받는다. 여기서는 `rock_scissor_paper` 폴더 위치를 적어주면 된다."
   ]
  },
  {
   "cell_type": "code",
   "execution_count": 7,
   "metadata": {},
   "outputs": [],
   "source": [
    "import numpy as np\n",
    "\n",
    "def load_data(img_path, number_of_data=300): \n",
    "    \"\"\"    \n",
    "    parameters:\n",
    "        img_path: The directory path of the rock_scissor_paper\n",
    "        number_of_data: The total nubmer of all images. Default value is 300.\n",
    "    return:\n",
    "        image data, label data\n",
    "    \"\"\"\n",
    "    # scissors: 0, rock: 1, paper: 2\n",
    "    img_size = IMG_SIZE\n",
    "    color = 3\n",
    "    \n",
    "    # image data\n",
    "    imgs = np.zeros(number_of_data * img_size * img_size * color, \n",
    "                    dtype=np.int32).reshape(number_of_data, img_size, img_size, color)\n",
    "    labels = np.zeros(number_of_data, dtype=np.int32)\n",
    "    \n",
    "    idx = 0\n",
    "    for file in glob.iglob(img_path + '/scissor/*.jpg'):\n",
    "        img = np.array(Image.open(file), dtype=np.int32)\n",
    "        imgs[idx, :, :, :] = img # 데이터 영역에 이미지 행렬을 복사\n",
    "        labels[idx] = 0 # 가위 : 0\n",
    "        idx = idx + 1\n",
    "        \n",
    "    for file in glob.iglob(img_path + '/rock/*.jpg'):\n",
    "        img = np.array(Image.open(file), dtype=np.int32)\n",
    "        imgs[idx, :, :, :] = img # 데이터 영역에 이미지 행렬을 복사\n",
    "        labels[idx] = 1 # 바위 : 1\n",
    "        idx = idx + 1\n",
    "    \n",
    "    for file in glob.iglob(img_path + '/paper/*.jpg'):\n",
    "        img = np.array(Image.open(file), dtype=np.int32)\n",
    "        imgs[idx, :, :, :] = img # 데이터 영역에 이미지 행렬을 복사\n",
    "        labels[idx] = 2 # 보 : 2\n",
    "        idx = idx + 1\n",
    "        \n",
    "    print(f\"총 이미지 개수는 {idx} 입니다.\")\n",
    "    return imgs, labels"
   ]
  },
  {
   "cell_type": "code",
   "execution_count": 8,
   "metadata": {},
   "outputs": [
    {
     "name": "stdout",
     "output_type": "stream",
     "text": [
      "총 이미지 개수는 3207 입니다.\n"
     ]
    }
   ],
   "source": [
    "train_data_path = os.getenv(\"HOME\") + \"/aiffel/rock_scissor_paper\"\n",
    "\n",
    "(X, y) = load_data(train_data_path, number_of_data=3207)"
   ]
  },
  {
   "cell_type": "markdown",
   "metadata": {},
   "source": [
    "### 1-4. train, test data 나누기"
   ]
  },
  {
   "cell_type": "code",
   "execution_count": 9,
   "metadata": {},
   "outputs": [
    {
     "name": "stdout",
     "output_type": "stream",
     "text": [
      "X_train shape: (2565, 28, 28, 3)\n",
      "y_train shape: (2565,)\n",
      "X_test shape: (642, 28, 28, 3)\n",
      "y_test shape: (642,)\n"
     ]
    }
   ],
   "source": [
    "# train data와 test data 나누어 주기\n",
    "from sklearn.model_selection import train_test_split\n",
    "\n",
    "X_train, X_test, y_train, y_test = train_test_split(X, y, test_size=0.2, random_state=42)\n",
    "\n",
    "print(\"X_train shape: {}\".format(X_train.shape))\n",
    "print(\"y_train shape: {}\".format(y_train.shape))\n",
    "\n",
    "print(\"X_test shape: {}\".format(X_test.shape))\n",
    "print(\"y_test shape: {}\".format(y_test.shape))"
   ]
  },
  {
   "cell_type": "code",
   "execution_count": 10,
   "metadata": {},
   "outputs": [],
   "source": [
    "# 정규화\n",
    "X_train = X_train / 255.0   # 입력을 0~1 사이의 값으로 정규화"
   ]
  },
  {
   "cell_type": "code",
   "execution_count": 11,
   "metadata": {},
   "outputs": [
    {
     "name": "stdout",
     "output_type": "stream",
     "text": [
      "라벨:  2\n"
     ]
    },
    {
     "data": {
      "image/png": "[encoded data removed]",
      "text/plain": [
       "<Figure size 432x288 with 1 Axes>"
      ]
     },
     "metadata": {
      "needs_background": "light"
     },
     "output_type": "display_data"
    }
   ],
   "source": [
    "# 이미지 확인 (가위:0, 바위:1, 보:2)\n",
    "import matplotlib.pyplot as plt\n",
    "\n",
    "plt.imshow(X_train[1000])\n",
    "print('라벨: ', y_train[1000])"
   ]
  },
  {
   "cell_type": "markdown",
   "metadata": {},
   "source": [
    "## 2. 딥러닝 네트워크 설계하기"
   ]
  },
  {
   "cell_type": "code",
   "execution_count": 12,
   "metadata": {},
   "outputs": [],
   "source": [
    "import tensorflow as tf\n",
    "from tensorflow import keras\n",
    "\n",
    "# mini VGGNet\n",
    "model = tf.keras.Sequential([\n",
    "    tf.keras.layers.Conv2D(input_shape=(IMG_SIZE, IMG_SIZE, 3), kernel_size=(3, 3), \n",
    "                           filters=32, padding='same', activation='relu'),\n",
    "    tf.keras.layers.Conv2D(kernel_size=(3,3), filters=64, padding='same', activation='relu'),\n",
    "    tf.keras.layers.MaxPool2D(pool_size=(2, 2)),\n",
    "    tf.keras.layers.Dropout(rate=0.5),\n",
    "    tf.keras.layers.Conv2D(kernel_size=(3, 3), filters=128, padding='same', activation='relu'),\n",
    "    tf.keras.layers.Conv2D(kernel_size=(3, 3), filters=256, padding='valid', activation='relu'),\n",
    "    tf.keras.layers.MaxPool2D(pool_size=(2, 2)),\n",
    "    tf.keras.layers.Dropout(rate=0.5),\n",
    "    tf.keras.layers.Flatten(),\n",
    "    tf.keras.layers.Dense(units=512, activation='relu'),\n",
    "    tf.keras.layers.Dropout(rate=0.5),\n",
    "    tf.keras.layers.Dense(units=256, activation='relu'),\n",
    "    tf.keras.layers.Dropout(rate=0.5),\n",
    "    tf.keras.layers.Dense(units=3, activation='softmax')\n",
    "])"
   ]
  },
  {
   "cell_type": "code",
   "execution_count": 13,
   "metadata": {},
   "outputs": [],
   "source": [
    "# model = tf.keras.Sequential([\n",
    "#     tf.keras.layers.Conv2D(input_shape=(IMG_SIZE, IMG_SIZE, 3), kernel_size=(3, 3), \n",
    "#                            filters=16, padding='same', activation='relu'),\n",
    "#     tf.keras.layers.Conv2D(kernel_size=(3,3), filters=32, padding='same', activation='relu'),\n",
    "#     tf.keras.layers.MaxPool2D(pool_size=(2, 2)),\n",
    "#     tf.keras.layers.Dropout(rate=0.5),\n",
    "#     tf.keras.layers.Conv2D(kernel_size=(3, 3), filters=64, padding='same', activation='relu'),\n",
    "#     tf.keras.layers.Conv2D(kernel_size=(3, 3), filters=128, padding='valid', activation='relu'),\n",
    "#     tf.keras.layers.MaxPool2D(pool_size=(2, 2)),\n",
    "#     tf.keras.layers.Dropout(rate=0.5),\n",
    "#     tf.keras.layers.Flatten(),\n",
    "#     tf.keras.layers.Dense(units=256, activation='relu'),\n",
    "#     tf.keras.layers.Dropout(rate=0.5),\n",
    "#     tf.keras.layers.Dense(units=128, activation='relu'),\n",
    "#     tf.keras.layers.Dropout(rate=0.5),\n",
    "#     tf.keras.layers.Dense(units=3, activation='softmax') # 10->3\n",
    "# ])"
   ]
  },
  {
   "cell_type": "code",
   "execution_count": 14,
   "metadata": {},
   "outputs": [
    {
     "name": "stdout",
     "output_type": "stream",
     "text": [
      "Model: \"sequential\"\n",
      "_________________________________________________________________\n",
      "Layer (type)                 Output Shape              Param #   \n",
      "=================================================================\n",
      "conv2d (Conv2D)              (None, 28, 28, 32)        896       \n",
      "_________________________________________________________________\n",
      "conv2d_1 (Conv2D)            (None, 28, 28, 64)        18496     \n",
      "_________________________________________________________________\n",
      "max_pooling2d (MaxPooling2D) (None, 14, 14, 64)        0         \n",
      "_________________________________________________________________\n",
      "dropout (Dropout)            (None, 14, 14, 64)        0         \n",
      "_________________________________________________________________\n",
      "conv2d_2 (Conv2D)            (None, 14, 14, 128)       73856     \n",
      "_________________________________________________________________\n",
      "conv2d_3 (Conv2D)            (None, 12, 12, 256)       295168    \n",
      "_________________________________________________________________\n",
      "max_pooling2d_1 (MaxPooling2 (None, 6, 6, 256)         0         \n",
      "_________________________________________________________________\n",
      "dropout_1 (Dropout)          (None, 6, 6, 256)         0         \n",
      "_________________________________________________________________\n",
      "flatten (Flatten)            (None, 9216)              0         \n",
      "_________________________________________________________________\n",
      "dense (Dense)                (None, 512)               4719104   \n",
      "_________________________________________________________________\n",
      "dropout_2 (Dropout)          (None, 512)               0         \n",
      "_________________________________________________________________\n",
      "dense_1 (Dense)              (None, 256)               131328    \n",
      "_________________________________________________________________\n",
      "dropout_3 (Dropout)          (None, 256)               0         \n",
      "_________________________________________________________________\n",
      "dense_2 (Dense)              (None, 3)                 771       \n",
      "=================================================================\n",
      "Total params: 5,239,619\n",
      "Trainable params: 5,239,619\n",
      "Non-trainable params: 0\n",
      "_________________________________________________________________\n"
     ]
    }
   ],
   "source": [
    "model.summary()"
   ]
  },
  {
   "cell_type": "markdown",
   "metadata": {},
   "source": [
    "## 3. 딥러닝 네트워크 학습시키기"
   ]
  },
  {
   "cell_type": "code",
   "execution_count": 15,
   "metadata": {},
   "outputs": [],
   "source": [
    "model.compile(optimizer=tf.keras.optimizers.Adam(),\n",
    "              loss='sparse_categorical_crossentropy',\n",
    "              metrics=['accuracy'])"
   ]
  },
  {
   "cell_type": "code",
   "execution_count": 16,
   "metadata": {},
   "outputs": [
    {
     "name": "stdout",
     "output_type": "stream",
     "text": [
      "Epoch 1/25\n",
      "61/61 [==============================] - 14s 132ms/step - loss: 1.1505 - accuracy: 0.3178 - val_loss: 1.0944 - val_accuracy: 0.3536\n",
      "Epoch 2/25\n",
      "61/61 [==============================] - 1s 17ms/step - loss: 1.0956 - accuracy: 0.3479 - val_loss: 1.0962 - val_accuracy: 0.3505\n",
      "Epoch 3/25\n",
      "61/61 [==============================] - 1s 15ms/step - loss: 1.0978 - accuracy: 0.3536 - val_loss: 1.0956 - val_accuracy: 0.3505\n",
      "Epoch 4/25\n",
      "61/61 [==============================] - 1s 15ms/step - loss: 1.0961 - accuracy: 0.3672 - val_loss: 1.0940 - val_accuracy: 0.4019\n",
      "Epoch 5/25\n",
      "61/61 [==============================] - 1s 15ms/step - loss: 1.0943 - accuracy: 0.3766 - val_loss: 1.0731 - val_accuracy: 0.3863\n",
      "Epoch 6/25\n",
      "61/61 [==============================] - 1s 15ms/step - loss: 1.0443 - accuracy: 0.4198 - val_loss: 0.9564 - val_accuracy: 0.5062\n",
      "Epoch 7/25\n",
      "61/61 [==============================] - 1s 15ms/step - loss: 0.9614 - accuracy: 0.5079 - val_loss: 0.8363 - val_accuracy: 0.6012\n",
      "Epoch 8/25\n",
      "61/61 [==============================] - 1s 15ms/step - loss: 0.7949 - accuracy: 0.6308 - val_loss: 0.6096 - val_accuracy: 0.7383\n",
      "Epoch 9/25\n",
      "61/61 [==============================] - 1s 15ms/step - loss: 0.6842 - accuracy: 0.7138 - val_loss: 0.4799 - val_accuracy: 0.8271\n",
      "Epoch 10/25\n",
      "61/61 [==============================] - 1s 15ms/step - loss: 0.5355 - accuracy: 0.7825 - val_loss: 0.4196 - val_accuracy: 0.8349\n",
      "Epoch 11/25\n",
      "61/61 [==============================] - 1s 15ms/step - loss: 0.4282 - accuracy: 0.8370 - val_loss: 0.5040 - val_accuracy: 0.7960\n",
      "Epoch 12/25\n",
      "61/61 [==============================] - 1s 15ms/step - loss: 0.3809 - accuracy: 0.8539 - val_loss: 0.2593 - val_accuracy: 0.9128\n",
      "Epoch 13/25\n",
      "61/61 [==============================] - 1s 15ms/step - loss: 0.3748 - accuracy: 0.8659 - val_loss: 0.2570 - val_accuracy: 0.8956\n",
      "Epoch 14/25\n",
      "61/61 [==============================] - 1s 15ms/step - loss: 0.3041 - accuracy: 0.8932 - val_loss: 0.1709 - val_accuracy: 0.9408\n",
      "Epoch 15/25\n",
      "61/61 [==============================] - 1s 15ms/step - loss: 0.1971 - accuracy: 0.9145 - val_loss: 0.1231 - val_accuracy: 0.9579\n",
      "Epoch 16/25\n",
      "61/61 [==============================] - 1s 15ms/step - loss: 0.1840 - accuracy: 0.9328 - val_loss: 0.1132 - val_accuracy: 0.9564\n",
      "Epoch 17/25\n",
      "61/61 [==============================] - 1s 15ms/step - loss: 0.1497 - accuracy: 0.9476 - val_loss: 0.1643 - val_accuracy: 0.9346\n",
      "Epoch 18/25\n",
      "61/61 [==============================] - 1s 15ms/step - loss: 0.1906 - accuracy: 0.9229 - val_loss: 0.1086 - val_accuracy: 0.9564\n",
      "Epoch 19/25\n",
      "61/61 [==============================] - 1s 15ms/step - loss: 0.1409 - accuracy: 0.9535 - val_loss: 0.0883 - val_accuracy: 0.9704\n",
      "Epoch 20/25\n",
      "61/61 [==============================] - 1s 15ms/step - loss: 0.0735 - accuracy: 0.9735 - val_loss: 0.1037 - val_accuracy: 0.9642\n",
      "Epoch 21/25\n",
      "61/61 [==============================] - 1s 15ms/step - loss: 0.0775 - accuracy: 0.9726 - val_loss: 0.1496 - val_accuracy: 0.9439\n",
      "Epoch 22/25\n",
      "61/61 [==============================] - 1s 15ms/step - loss: 0.1466 - accuracy: 0.9473 - val_loss: 0.0858 - val_accuracy: 0.9673\n",
      "Epoch 23/25\n",
      "61/61 [==============================] - 1s 15ms/step - loss: 0.1147 - accuracy: 0.9567 - val_loss: 0.0742 - val_accuracy: 0.9766\n",
      "Epoch 24/25\n",
      "61/61 [==============================] - 1s 15ms/step - loss: 0.1257 - accuracy: 0.9575 - val_loss: 0.0696 - val_accuracy: 0.9782\n",
      "Epoch 25/25\n",
      "61/61 [==============================] - 1s 15ms/step - loss: 0.0846 - accuracy: 0.9637 - val_loss: 0.0643 - val_accuracy: 0.9751\n"
     ]
    }
   ],
   "source": [
    "history = model.fit(X_train, y_train, epochs=25, validation_split=0.25)"
   ]
  },
  {
   "cell_type": "code",
   "execution_count": 17,
   "metadata": {},
   "outputs": [
    {
     "data": {
      "image/png": "[encoded data removed]",
      "text/plain": [
       "<Figure size 864x288 with 2 Axes>"
      ]
     },
     "metadata": {
      "needs_background": "light"
     },
     "output_type": "display_data"
    }
   ],
   "source": [
    "import matplotlib.pyplot as plt\n",
    "\n",
    "plt.figure(figsize=(12, 4))\n",
    "\n",
    "plt.subplot(1, 2, 1)\n",
    "plt.plot(history.history['loss'], marker='.', c='red', label='Train-set Loss')\n",
    "plt.plot(history.history['val_loss'], marker='.', c='blue', label='Validation-set Loss')\n",
    "plt.xlabel('Epoch')\n",
    "plt.legend()\n",
    "\n",
    "plt.subplot(1, 2, 2)\n",
    "plt.plot(history.history['accuracy'], 'g--', label='accuracy')\n",
    "plt.plot(history.history['val_accuracy'], 'k--', label='val_accuracy')\n",
    "plt.xlabel('Epoch')\n",
    "plt.ylim(0, 1)\n",
    "plt.legend()\n",
    "\n",
    "plt.show()"
   ]
  },
  {
   "cell_type": "markdown",
   "metadata": {},
   "source": [
    "## 4. test 데이터로 테스트"
   ]
  },
  {
   "cell_type": "code",
   "execution_count": 18,
   "metadata": {},
   "outputs": [
    {
     "name": "stdout",
     "output_type": "stream",
     "text": [
      "21/21 - 0s - loss: 0.0547 - accuracy: 0.9813\n",
      "test_loss: 0.05470649525523186\n",
      "test_accuracy: 0.9813084006309509\n"
     ]
    }
   ],
   "source": [
    "X_test = X_test / 255.0 # \n",
    "\n",
    "test_loss, test_accuracy = model.evaluate(X_test, y_test, verbose=2)\n",
    "\n",
    "print(f\"test_loss: {test_loss}\")\n",
    "print(f\"test_accuracy: {test_accuracy}\")"
   ]
  },
  {
   "cell_type": "code",
   "execution_count": 19,
   "metadata": {},
   "outputs": [
    {
     "name": "stdout",
     "output_type": "stream",
     "text": [
      "models.predict() 결과: [1.0000000e+00 2.5256011e-08 2.6550945e-08]\n",
      "\n",
      "model이 추론한 가장 가능성이 높은 결과 :  0\n",
      "실제 데이터의 라벨 :  0\n"
     ]
    }
   ],
   "source": [
    "predicted_result = model.predict(X_test) # model이 추론한 확률값\n",
    "predicted_labels = np.argmax(predicted_result, axis=1) # 확률의 최대값이 예측하는 숫자를 뜻한다\n",
    "\n",
    "idx = 324\n",
    "print(f\"models.predict() 결과: {predicted_result[idx]}\\n\")\n",
    "print(f\"model이 추론한 가장 가능성이 높은 결과 : \", predicted_labels[idx])\n",
    "print(f\"실제 데이터의 라벨 : \", y_test[idx])"
   ]
  },
  {
   "cell_type": "code",
   "execution_count": 20,
   "metadata": {
    "scrolled": true
   },
   "outputs": [
    {
     "data": {
      "image/png": "[encoded data removed]",
      "text/plain": [
       "<Figure size 432x288 with 1 Axes>"
      ]
     },
     "metadata": {
      "needs_background": "light"
     },
     "output_type": "display_data"
    }
   ],
   "source": [
    "# 실제 이미지 출력\n",
    "plt.imshow(X_test[idx], cmap=plt.cm.binary)\n",
    "plt.show()"
   ]
  },
  {
   "cell_type": "markdown",
   "metadata": {},
   "source": [
    "## 5. 완전히 새로운 데이터로 테스트"
   ]
  },
  {
   "cell_type": "code",
   "execution_count": 21,
   "metadata": {},
   "outputs": [
    {
     "name": "stdout",
     "output_type": "stream",
     "text": [
      "100 images will be resized.\n",
      "100 images have been resized.\n",
      "\n",
      "100 images will be resized.\n",
      "100 images have been resized.\n",
      "\n",
      "100 images will be resized.\n",
      "100 images have been resized.\n",
      "\n",
      "총 이미지 개수는 300 입니다.\n",
      "10/10 - 2s - loss: 2.3354 - accuracy: 0.6700\n",
      "test_loss: 2.335405111312866\n",
      "test_accuracy: 0.6700000166893005\n"
     ]
    }
   ],
   "source": [
    "scissor_test = os.getenv(\"HOME\") + \"/aiffel/rock_scissor_paper/test/scissor\"\n",
    "rock_test = os.getenv(\"HOME\") + \"/aiffel/rock_scissor_paper/test/rock\"\n",
    "paper_test = os.getenv(\"HOME\") + \"/aiffel/rock_scissor_paper/test/paper\"\n",
    "test_path = paper_test_path = os.getenv(\"HOME\") + \"/aiffel/rock_scissor_paper/test\"\n",
    "\n",
    "test_paths = [scissor_test, rock_test, paper_test]\n",
    "\n",
    "# 새로운 데이터 리사이즈\n",
    "for path in test_paths:\n",
    "    resize_images(path) \n",
    "\n",
    "(X_new, y_new)=load_data(test_path)\n",
    "X_new_norm = X_new / 255.0\n",
    "\n",
    "\n",
    "\n",
    "test_loss, test_accuracy = model.evaluate(X_new_norm, y_new, verbose=2)\n",
    "\n",
    "print(f\"test_loss: {test_loss}\")\n",
    "print(f\"test_accuracy: {test_accuracy}\")"
   ]
  },
  {
   "cell_type": "markdown",
   "metadata": {},
   "source": [
    "## 6. 더 좋은 네트워크 만들어보기\n",
    "- [x] 더 많은 데이터 추가하기\n",
    "- [x] Validation Set 만들기\n",
    "- [x] 하이퍼파라미터 변경\n",
    "- [x] 딥러닝 모델 바꾸기"
   ]
  },
  {
   "cell_type": "markdown",
   "metadata": {},
   "source": [
    "### 6-1. 이미지 보강"
   ]
  },
  {
   "cell_type": "code",
   "execution_count": 22,
   "metadata": {},
   "outputs": [],
   "source": [
    "from tensorflow.keras.preprocessing.image import ImageDataGenerator\n",
    "import numpy as np\n",
    "\n",
    "image_generator = ImageDataGenerator(\n",
    "            rotation_range=10,\n",
    "            zoom_range=0.10,\n",
    "            shear_range=0.5,\n",
    "            width_shift_range=0.10,\n",
    "            height_shift_range=0.10,\n",
    "            horizontal_flip=True,\n",
    "            vertical_flip=False)\n",
    "\n",
    "augment_size = 30000\n",
    "\n",
    "randidx = np.random.randint(X_train.shape[0], size=augment_size)\n",
    "x_augmented = X_train[randidx].copy()\n",
    "y_augmented = y_train[randidx].copy()\n",
    "x_augmented = image_generator.flow(x_augmented, np.zeros(augment_size),\n",
    "                                   batch_size=augment_size, shuffle=False).next()[0]"
   ]
  },
  {
   "cell_type": "code",
   "execution_count": 23,
   "metadata": {},
   "outputs": [
    {
     "name": "stdout",
     "output_type": "stream",
     "text": [
      "(32565, 28, 28, 3)\n"
     ]
    }
   ],
   "source": [
    "X_train = np.concatenate((X_train, x_augmented))\n",
    "y_train = np.concatenate((y_train, y_augmented))\n",
    "\n",
    "print(X_train.shape)"
   ]
  },
  {
   "cell_type": "markdown",
   "metadata": {},
   "source": [
    "### 6-2. 다시 학습 및 테스트"
   ]
  },
  {
   "cell_type": "code",
   "execution_count": 24,
   "metadata": {},
   "outputs": [
    {
     "name": "stdout",
     "output_type": "stream",
     "text": [
      "Epoch 1/25\n",
      "764/764 [==============================] - 21s 26ms/step - loss: 1.0902 - accuracy: 0.3681 - val_loss: 0.8366 - val_accuracy: 0.6065\n",
      "Epoch 2/25\n",
      "764/764 [==============================] - 11s 15ms/step - loss: 0.7602 - accuracy: 0.6408 - val_loss: 0.3561 - val_accuracy: 0.8549\n",
      "Epoch 3/25\n",
      "764/764 [==============================] - 11s 15ms/step - loss: 0.3976 - accuracy: 0.8383 - val_loss: 0.1735 - val_accuracy: 0.9363\n",
      "Epoch 4/25\n",
      "764/764 [==============================] - 11s 15ms/step - loss: 0.2501 - accuracy: 0.9019 - val_loss: 0.1072 - val_accuracy: 0.9617\n",
      "Epoch 5/25\n",
      "764/764 [==============================] - 11s 15ms/step - loss: 0.1867 - accuracy: 0.9310 - val_loss: 0.0711 - val_accuracy: 0.9775\n",
      "Epoch 6/25\n",
      "764/764 [==============================] - 11s 15ms/step - loss: 0.1468 - accuracy: 0.9493 - val_loss: 0.0683 - val_accuracy: 0.9770\n",
      "Epoch 7/25\n",
      "764/764 [==============================] - 11s 15ms/step - loss: 0.1334 - accuracy: 0.9518 - val_loss: 0.0593 - val_accuracy: 0.9797\n",
      "Epoch 8/25\n",
      "764/764 [==============================] - 11s 15ms/step - loss: 0.1108 - accuracy: 0.9625 - val_loss: 0.0418 - val_accuracy: 0.9851\n",
      "Epoch 9/25\n",
      "764/764 [==============================] - 11s 15ms/step - loss: 0.0979 - accuracy: 0.9653 - val_loss: 0.0279 - val_accuracy: 0.9910\n",
      "Epoch 10/25\n",
      "764/764 [==============================] - 11s 15ms/step - loss: 0.0885 - accuracy: 0.9683 - val_loss: 0.0682 - val_accuracy: 0.9792\n",
      "Epoch 11/25\n",
      "764/764 [==============================] - 11s 15ms/step - loss: 0.0970 - accuracy: 0.9669 - val_loss: 0.0327 - val_accuracy: 0.9891\n",
      "Epoch 12/25\n",
      "764/764 [==============================] - 11s 15ms/step - loss: 0.0812 - accuracy: 0.9700 - val_loss: 0.0724 - val_accuracy: 0.9738\n",
      "Epoch 13/25\n",
      "764/764 [==============================] - 11s 15ms/step - loss: 0.0833 - accuracy: 0.9723 - val_loss: 0.0315 - val_accuracy: 0.9892\n",
      "Epoch 14/25\n",
      "764/764 [==============================] - 11s 15ms/step - loss: 0.0767 - accuracy: 0.9735 - val_loss: 0.0169 - val_accuracy: 0.9951\n",
      "Epoch 15/25\n",
      "764/764 [==============================] - 11s 15ms/step - loss: 0.0879 - accuracy: 0.9714 - val_loss: 0.0177 - val_accuracy: 0.9939\n",
      "Epoch 16/25\n",
      "764/764 [==============================] - 11s 15ms/step - loss: 0.0687 - accuracy: 0.9787 - val_loss: 0.0113 - val_accuracy: 0.9967\n",
      "Epoch 17/25\n",
      "764/764 [==============================] - 11s 15ms/step - loss: 0.0566 - accuracy: 0.9820 - val_loss: 0.0130 - val_accuracy: 0.9955\n",
      "Epoch 18/25\n",
      "764/764 [==============================] - 11s 15ms/step - loss: 0.0640 - accuracy: 0.9799 - val_loss: 0.0199 - val_accuracy: 0.9932\n",
      "Epoch 19/25\n",
      "764/764 [==============================] - 11s 15ms/step - loss: 0.0557 - accuracy: 0.9806 - val_loss: 0.0531 - val_accuracy: 0.9833\n",
      "Epoch 20/25\n",
      "764/764 [==============================] - 11s 15ms/step - loss: 0.0726 - accuracy: 0.9758 - val_loss: 0.0118 - val_accuracy: 0.9955\n",
      "Epoch 21/25\n",
      "764/764 [==============================] - 11s 15ms/step - loss: 0.0514 - accuracy: 0.9835 - val_loss: 0.0105 - val_accuracy: 0.9964\n",
      "Epoch 22/25\n",
      "764/764 [==============================] - 11s 15ms/step - loss: 0.0489 - accuracy: 0.9844 - val_loss: 0.0111 - val_accuracy: 0.9966\n",
      "Epoch 23/25\n",
      "764/764 [==============================] - 12s 15ms/step - loss: 0.0545 - accuracy: 0.9828 - val_loss: 0.0060 - val_accuracy: 0.9984\n",
      "Epoch 24/25\n",
      "764/764 [==============================] - 11s 15ms/step - loss: 0.0552 - accuracy: 0.9822 - val_loss: 0.0092 - val_accuracy: 0.9975\n",
      "Epoch 25/25\n",
      "764/764 [==============================] - 11s 15ms/step - loss: 0.0587 - accuracy: 0.9833 - val_loss: 0.0118 - val_accuracy: 0.9964\n"
     ]
    }
   ],
   "source": [
    "model = tf.keras.Sequential([\n",
    "    tf.keras.layers.Conv2D(input_shape=(IMG_SIZE, IMG_SIZE, 3), kernel_size=(3, 3), \n",
    "                           filters=32, padding='same', activation='relu'),\n",
    "    tf.keras.layers.Conv2D(kernel_size=(3,3), filters=64, padding='same', activation='relu'),\n",
    "    tf.keras.layers.MaxPool2D(pool_size=(2, 2)),\n",
    "    tf.keras.layers.Dropout(rate=0.5),\n",
    "    tf.keras.layers.Conv2D(kernel_size=(3, 3), filters=128, padding='same', activation='relu'),\n",
    "    tf.keras.layers.Conv2D(kernel_size=(3, 3), filters=256, padding='valid', activation='relu'),\n",
    "    tf.keras.layers.MaxPool2D(pool_size=(2, 2)),\n",
    "    tf.keras.layers.Dropout(rate=0.5),\n",
    "    tf.keras.layers.Flatten(),\n",
    "    tf.keras.layers.Dense(units=512, activation='relu'),\n",
    "    tf.keras.layers.Dropout(rate=0.5),\n",
    "    tf.keras.layers.Dense(units=256, activation='relu'),\n",
    "    tf.keras.layers.Dropout(rate=0.5),\n",
    "    tf.keras.layers.Dense(units=3, activation='softmax')\n",
    "])\n",
    "\n",
    "model.compile(optimizer=tf.keras.optimizers.Adam(),\n",
    "              loss='sparse_categorical_crossentropy',\n",
    "              metrics=['accuracy'])\n",
    "\n",
    "history = model.fit(X_train, y_train, epochs=25, validation_split=0.25)"
   ]
  },
  {
   "cell_type": "code",
   "execution_count": 25,
   "metadata": {},
   "outputs": [
    {
     "data": {
      "image/png": "[encoded data removed]",
      "text/plain": [
       "<Figure size 864x288 with 2 Axes>"
      ]
     },
     "metadata": {
      "needs_background": "light"
     },
     "output_type": "display_data"
    }
   ],
   "source": [
    "import matplotlib.pyplot as plt\n",
    "\n",
    "plt.figure(figsize=(12, 4))\n",
    "\n",
    "plt.subplot(1, 2, 1)\n",
    "plt.plot(history.history['loss'], marker='.', c='red', label='Train-set Loss')\n",
    "plt.plot(history.history['val_loss'], marker='.', c='blue', label='Validation-set Loss')\n",
    "plt.xlabel('Epoch')\n",
    "plt.legend()\n",
    "\n",
    "plt.subplot(1, 2, 2)\n",
    "plt.plot(history.history['accuracy'], 'g--', label='accuracy')\n",
    "plt.plot(history.history['val_accuracy'], 'k--', label='val_accuracy')\n",
    "plt.xlabel('Epoch')\n",
    "plt.ylim(0, 1)\n",
    "plt.legend()\n",
    "\n",
    "plt.show()"
   ]
  },
  {
   "cell_type": "code",
   "execution_count": 26,
   "metadata": {},
   "outputs": [
    {
     "name": "stdout",
     "output_type": "stream",
     "text": [
      "21/21 - 0s - loss: 0.0012 - accuracy: 1.0000\n",
      "test_loss: 0.0012156030861660838\n",
      "test_accuracy: 1.0\n"
     ]
    }
   ],
   "source": [
    "test_loss, test_accuracy = model.evaluate(X_test, y_test, verbose=2)\n",
    "\n",
    "print(f\"test_loss: {test_loss}\")\n",
    "print(f\"test_accuracy: {test_accuracy}\")"
   ]
  },
  {
   "cell_type": "markdown",
   "metadata": {},
   "source": [
    "## 7. 결론(회고)\n",
    "\n",
    "- 책을 보고 공부하면서 많이 배웠는데 다음과 같은 내용들을 배웠다.\n",
    "    - Sequential model 만드는 방법\n",
    "    - 모델의 각 layer의 의미\n",
    "    - compile 옵션과 그 의미\n",
    "    - history와 history 그래프 그리기\n",
    "    - 이미지 보강하여 데이터 증폭 시키기\n",
    "  \n",
    "  \n",
    "- 평가 지표를 맞추기 위해 다음과 같은 시도를 했다.\n",
    "    - 더 많은 데이터 추가하기: 처음에 내가 찍은 사진 데이터 300장으로만 테스트 했는데 정확도 15%가 나왔었다. 이 후 사진을 더 추가하여 3000여장으로 늘렸다. 그 결과 정확도가 40% 정도 되었다.\n",
    "    - train, test 세트 나누기: 처음에는 train, test 셋으로 나누지 않고, 전체 데이터를 학습 시킨 후 완전 새로운 데이터로 테스트를 했었다. 이 방법 대신 train_test_split으로 train, test 셋을 나누어주었다. 그 결과 정확도가 70~80% 정도가 되었다. 완전 새로운 데이터보다는 정확도가 더 높게 나오게 된 것이다.\n",
    "    - Validation Set 만들기: train, test set 뿐만 아니라 validation set도 추가하였다. 이전에는 scikit-learn의 train_test_split을 두 번 사용해서 나눴었는데, tensorflow의 fit에 옵션을 validation_split 넣어주면서 간단히 validation set이 나누어 주었다.\n",
    "    - history 부분 추가: history를 이용해 그래프를 그림으로써 나의 모델이 무엇이 부족한지 한 눈에 보이도록 만들었다.\n",
    "    - 딥러닝 모델 바꾸기: 책을 보면서 컨벌루션 레이어, 풀링 레이어, 드롭 아웃 레이어 등을 추가 하였다. \n",
    "    - 하이퍼파라미터 변경: 하이퍼파라미터 부분은 손을 대면 댈수록 결과가 나빠져서 되도록 그대로 두었다. \n",
    "    - 이미지 데이터 증폭: 이 부분이 신기했다. 이미지들을 약간씩 수정해 데이터를 증폭시켜 이미지 데이터의 부족함을 극복하는 것이다. 그 결과 테스트 정확도가 100%가 되었다.\n",
    "- Tensorflow를 사실상 처음 사용해봤고 딥러닝에 대한 지식 특히 CNN에 대한 지식이 거의 없어서 많이 힘들었다. 이번 프로젝트에서 만든 모델의 각 부분이 무엇을 의미하는지는 알겠는데 왜 이렇게 레이어들을 쌓았고, 하이퍼파라미터 값은 왜 이 값으로 넣었는지는 아직 잘 모르겠다. CNN, Tensorflow에 대해 더 공부해야 한다."
   ]
  },
  {
   "cell_type": "code",
   "execution_count": null,
   "metadata": {},
   "outputs": [],
   "source": []
  }
 ],
 "metadata": {
  "colab": {
   "name": "Untitled23.ipynb",
   "private_outputs": true,
   "provenance": []
  },
  "kernelspec": {
   "display_name": "Python 3",
   "language": "python",
   "name": "python3"
  },
  "language_info": {
   "codemirror_mode": {
    "name": "ipython",
    "version": 3
   },
   "file_extension": ".py",
   "mimetype": "text/x-python",
   "name": "python",
   "nbconvert_exporter": "python",
   "pygments_lexer": "ipython3",
   "version": "3.8.5"
  }
 },
 "nbformat": 4,
 "nbformat_minor": 4
}
