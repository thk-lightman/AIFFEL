{
 "cells": [
  {
   "cell_type": "markdown",
   "metadata": {
    "id": "yihuoKWxoJrJ"
   },
   "source": [
    "# 1-7. 미니 프로젝트 : 가위바위보 분류기를 만들자"
   ]
  },
  {
   "cell_type": "markdown",
   "metadata": {
    "id": "0z776fZ1oObz"
   },
   "source": [
    "## 데이터 준비"
   ]
  },
  {
   "cell_type": "markdown",
   "metadata": {
    "id": "tIidF2sOoTD5"
   },
   "source": [
    "### 데이터 만들기\n",
    "노트북 카메라를 이용하여 가위, 바위, 보 이미지 각 100장을 만들어본다. 구글의 teachable machine 사이트에서 쉽게 데이터를 만들 수 있다.\n",
    "\n",
    "[https://teachablemachine.withgoogle.com/](https://teachablemachine.withgoogle.com/)\n",
    "\n",
    "- 여러 각도에서 찍기\n",
    "- 여러 크기로 찍기\n",
    "- 여러 명이 찍기\n",
    "\n",
    "좋은 데이터가 좋은 결과를 낳는다.\n",
    "\n",
    "teachable machine을 통해서 이미지를 저장하면 이미지는 224x224 크기로 되어 있다."
   ]
  },
  {
   "cell_type": "markdown",
   "metadata": {
    "id": "uMw68b9CuGDa"
   },
   "source": [
    "### 데이터 불러오기 + Resize 하기\n",
    "가위, 바위, 보 이미지를 28x28로 만들어야 한다. 이를 위해 `PIL` 라이브러리를 사용한다."
   ]
  },
  {
   "cell_type": "code",
   "execution_count": 1,
   "metadata": {},
   "outputs": [],
   "source": [
    "from PIL import Image\n",
    "import os, glob"
   ]
  },
  {
   "cell_type": "code",
   "execution_count": 2,
   "metadata": {},
   "outputs": [],
   "source": [
    "import os\n",
    "\n",
    "total_image = 0\n",
    "RESIZE = 28\n",
    "\n",
    "# 이미지를 리사이즈 해주는 함수\n",
    "def resize_images(img_path):\n",
    "    images=glob.glob(img_path + \"/*.jpg\")\n",
    "    global total_image \n",
    "    total_image += len(images)\n",
    "    \n",
    "    print(f\"{len(images)} images will be resized.\")\n",
    "    \n",
    "    # resize all images to 28x28\n",
    "    target_size=(RESIZE, RESIZE) # 28x28 size\n",
    "    for img in images:\n",
    "        old_img=Image.open(img)\n",
    "        new_img=old_img.resize(target_size, Image.ANTIALIAS)\n",
    "        new_img.save(img, \"JPEG\")\n",
    "        \n",
    "    print(f\"{len(images)} images have been resized.\\n\")\n"
   ]
  },
  {
   "cell_type": "code",
   "execution_count": 3,
   "metadata": {},
   "outputs": [
    {
     "name": "stdout",
     "output_type": "stream",
     "text": [
      "/aiffel/data/\n"
     ]
    }
   ],
   "source": [
    "data_dir = os.path.dirname(os.path.abspath('__file__')) # 현재 위치\n",
    "data_dir += r'/data/' # 데이터 폴더 위치\n",
    "print(data_dir)"
   ]
  },
  {
   "cell_type": "code",
   "execution_count": 4,
   "metadata": {},
   "outputs": [
    {
     "name": "stdout",
     "output_type": "stream",
     "text": [
      "['/aiffel/data/train/scissors/', '/aiffel/data/train/rock/', '/aiffel/data/train/paper/']\n"
     ]
    }
   ],
   "source": [
    "train_path = data_dir + r'train/'\n",
    "scissor_train_path = train_path + r'scissors/'\n",
    "rock_train_path = train_path + r'rock/'\n",
    "paper_train_path = train_path + r'paper/'\n",
    "\n",
    "train_paths = [scissor_train_path, rock_train_path, paper_train_path]\n",
    "print(train_paths)"
   ]
  },
  {
   "cell_type": "code",
   "execution_count": 5,
   "metadata": {},
   "outputs": [
    {
     "name": "stdout",
     "output_type": "stream",
     "text": [
      "994 images will be resized.\n",
      "994 images have been resized.\n",
      "\n",
      "1105 images will be resized.\n",
      "1105 images have been resized.\n",
      "\n",
      "1108 images will be resized.\n",
      "1108 images have been resized.\n",
      "\n",
      "3207\n"
     ]
    }
   ],
   "source": [
    "for path in train_paths:\n",
    "    resize_images(path)\n",
    "\n",
    "print(total_image)"
   ]
  },
  {
   "cell_type": "markdown",
   "metadata": {},
   "source": [
    "### 가위, 바위, 보 데이터를 읽는 `load_data()` 함수 만들기\n",
    "\n",
    "`load_data()` 함수는 입력으로 이미지가 있는 폴더 위치를 받는다. 여기서는 `rock_scissor_paper` 폴더 위치를 적어주면 된다."
   ]
  },
  {
   "cell_type": "code",
   "execution_count": 6,
   "metadata": {},
   "outputs": [],
   "source": [
    "import numpy as np\n",
    "\n",
    "def load_data(img_path, number_of_data=300): \n",
    "    \"\"\"    \n",
    "    parameters:\n",
    "        img_path: The directory path of the rock_scissor_paper\n",
    "        number_of_data: The total nubmer of all images. Default value is 300.\n",
    "    return:\n",
    "        image data, label data\n",
    "    \"\"\"\n",
    "    # scissors: 0, rock: 1, paper: 2\n",
    "    img_size = RESIZE\n",
    "    color = 3\n",
    "    \n",
    "    # image data\n",
    "    imgs = np.zeros(number_of_data * img_size * img_size * color, \n",
    "                    dtype=np.int32).reshape(number_of_data, img_size, img_size, color)\n",
    "    labels = np.zeros(number_of_data, dtype=np.int32)\n",
    "    \n",
    "    idx = 0\n",
    "    for file in glob.iglob(img_path + '/scissors/*.jpg'):\n",
    "        img = np.array(Image.open(file), dtype=np.int32)\n",
    "        imgs[idx, :, :, :] = img # 데이터 영역에 이미지 행렬을 복사\n",
    "        labels[idx] = 0 # 가위 : 0\n",
    "        idx = idx + 1\n",
    "        \n",
    "    for file in glob.iglob(img_path + '/rock/*.jpg'):\n",
    "        img = np.array(Image.open(file), dtype=np.int32)\n",
    "        imgs[idx, :, :, :] = img # 데이터 영역에 이미지 행렬을 복사\n",
    "        labels[idx] = 1 # 바위 : 1\n",
    "        idx = idx + 1\n",
    "    \n",
    "    for file in glob.iglob(img_path + '/paper/*.jpg'):\n",
    "        img = np.array(Image.open(file), dtype=np.int32)\n",
    "        imgs[idx, :, :, :] = img # 데이터 영역에 이미지 행렬을 복사\n",
    "        labels[idx] = 2 # 보 : 2\n",
    "        idx = idx + 1\n",
    "        \n",
    "    print(f\"이미지 개수는 {idx} 입니다.\")\n",
    "    return imgs, labels"
   ]
  },
  {
   "cell_type": "code",
   "execution_count": 7,
   "metadata": {},
   "outputs": [
    {
     "name": "stdout",
     "output_type": "stream",
     "text": [
      "이미지 개수는 3207 입니다.\n"
     ]
    }
   ],
   "source": [
    "(X, y) = load_data(train_path, number_of_data=3207)"
   ]
  },
  {
   "cell_type": "code",
   "execution_count": 8,
   "metadata": {},
   "outputs": [
    {
     "name": "stdout",
     "output_type": "stream",
     "text": [
      "X_train shape: (1923, 28, 28, 3)\n",
      "y_train shape: (1923,)\n",
      "X_val shape: (642, 28, 28, 3)\n",
      "y_val shape: (642,)\n",
      "X_test shape: (642, 28, 28, 3)\n",
      "y_test shape: (642,)\n"
     ]
    }
   ],
   "source": [
    "from sklearn.model_selection import train_test_split\n",
    "\n",
    "X_train, X_test, y_train, y_test = train_test_split(X, y, test_size=0.2, random_state=42)\n",
    "\n",
    "# validation 추가\n",
    "X_train, X_val, y_train, y_val = train_test_split(X_train, y_train, \n",
    "                                                  test_size=0.25, stratify=y_train, \n",
    "                                                  random_state=1)\n",
    "\n",
    "print(\"X_train shape: {}\".format(X_train.shape))\n",
    "print(\"y_train shape: {}\".format(y_train.shape))\n",
    "\n",
    "print(\"X_val shape: {}\".format(X_val.shape))\n",
    "print(\"y_val shape: {}\".format(y_val.shape))\n",
    "\n",
    "print(\"X_test shape: {}\".format(X_test.shape))\n",
    "print(\"y_test shape: {}\".format(y_test.shape))"
   ]
  },
  {
   "cell_type": "code",
   "execution_count": 9,
   "metadata": {},
   "outputs": [],
   "source": [
    "# 정규화\n",
    "X_train = X_train / 255.0   # 입력은 0~1 사이의 값으로 정규화"
   ]
  },
  {
   "cell_type": "code",
   "execution_count": 10,
   "metadata": {},
   "outputs": [
    {
     "name": "stdout",
     "output_type": "stream",
     "text": [
      "라벨:  1\n"
     ]
    },
    {
     "data": {
      "image/png": "[encoded data removed]",
      "text/plain": [
       "<Figure size 432x288 with 1 Axes>"
      ]
     },
     "metadata": {
      "needs_background": "light"
     },
     "output_type": "display_data"
    }
   ],
   "source": [
    "import matplotlib.pyplot as plt\n",
    "\n",
    "# 이미지 확인\n",
    "plt.imshow(X_train[0])\n",
    "print('라벨: ', y_train[0])"
   ]
  },
  {
   "cell_type": "markdown",
   "metadata": {},
   "source": [
    "## 딥러닝 네트워크 설계하기"
   ]
  },
  {
   "cell_type": "code",
   "execution_count": 11,
   "metadata": {},
   "outputs": [
    {
     "name": "stdout",
     "output_type": "stream",
     "text": [
      "Model에 추가된 Layer 개수:  10\n"
     ]
    }
   ],
   "source": [
    "import tensorflow as tf\n",
    "from tensorflow import keras\n",
    "from tensorflow.keras import layers\n",
    "from tensorflow.keras.models import Sequential\n",
    "import numpy as np\n",
    "\n",
    "model = keras.models.Sequential()\n",
    "model.add(keras.layers.Conv2D(32, (3, 3), activation='relu', input_shape=(RESIZE, RESIZE, 3)))\n",
    "model.add(keras.layers.MaxPool2D(2, 2))\n",
    "model.add(keras.layers.Conv2D(64, (3, 3), activation='relu'))\n",
    "model.add(keras.layers.MaxPool2D((2, 2)))\n",
    "model.add(keras.layers.Conv2D(128, (3, 3), activation='relu'))\n",
    "model.add(keras.layers.MaxPool2D((2, 2)))\n",
    "model.add(keras.layers.Dropout(0.2))\n",
    "model.add(keras.layers.Flatten())\n",
    "model.add(keras.layers.Dense(64, activation='relu'))\n",
    "model.add(keras.layers.Dense(3, activation='softmax'))\n",
    "\n",
    "print('Model에 추가된 Layer 개수: ', len(model.layers))"
   ]
  },
  {
   "cell_type": "code",
   "execution_count": 12,
   "metadata": {},
   "outputs": [
    {
     "name": "stdout",
     "output_type": "stream",
     "text": [
      "Model: \"sequential\"\n",
      "_________________________________________________________________\n",
      "Layer (type)                 Output Shape              Param #   \n",
      "=================================================================\n",
      "conv2d (Conv2D)              (None, 26, 26, 32)        896       \n",
      "_________________________________________________________________\n",
      "max_pooling2d (MaxPooling2D) (None, 13, 13, 32)        0         \n",
      "_________________________________________________________________\n",
      "conv2d_1 (Conv2D)            (None, 11, 11, 64)        18496     \n",
      "_________________________________________________________________\n",
      "max_pooling2d_1 (MaxPooling2 (None, 5, 5, 64)          0         \n",
      "_________________________________________________________________\n",
      "conv2d_2 (Conv2D)            (None, 3, 3, 128)         73856     \n",
      "_________________________________________________________________\n",
      "max_pooling2d_2 (MaxPooling2 (None, 1, 1, 128)         0         \n",
      "_________________________________________________________________\n",
      "dropout (Dropout)            (None, 1, 1, 128)         0         \n",
      "_________________________________________________________________\n",
      "flatten (Flatten)            (None, 128)               0         \n",
      "_________________________________________________________________\n",
      "dense (Dense)                (None, 64)                8256      \n",
      "_________________________________________________________________\n",
      "dense_1 (Dense)              (None, 3)                 195       \n",
      "=================================================================\n",
      "Total params: 101,699\n",
      "Trainable params: 101,699\n",
      "Non-trainable params: 0\n",
      "_________________________________________________________________\n"
     ]
    }
   ],
   "source": [
    "model.summary()"
   ]
  },
  {
   "cell_type": "markdown",
   "metadata": {},
   "source": [
    "## 딥러닝 네트워크 학습시키기"
   ]
  },
  {
   "cell_type": "code",
   "execution_count": 13,
   "metadata": {},
   "outputs": [
    {
     "name": "stdout",
     "output_type": "stream",
     "text": [
      "Epoch 1/30\n",
      "61/61 [==============================] - 9s 76ms/step - loss: 1.0910 - accuracy: 0.3652 - val_loss: 38.3454 - val_accuracy: 0.4128\n",
      "Epoch 2/30\n",
      "61/61 [==============================] - 0s 6ms/step - loss: 1.0197 - accuracy: 0.4815 - val_loss: 68.3951 - val_accuracy: 0.5234\n",
      "Epoch 3/30\n",
      "61/61 [==============================] - 0s 6ms/step - loss: 0.8597 - accuracy: 0.6012 - val_loss: 58.9558 - val_accuracy: 0.6137\n",
      "Epoch 4/30\n",
      "61/61 [==============================] - 0s 5ms/step - loss: 0.7565 - accuracy: 0.6466 - val_loss: 83.8829 - val_accuracy: 0.6402\n",
      "Epoch 5/30\n",
      "61/61 [==============================] - 0s 5ms/step - loss: 0.5344 - accuracy: 0.7667 - val_loss: 220.0453 - val_accuracy: 0.5125\n",
      "Epoch 6/30\n",
      "61/61 [==============================] - 0s 5ms/step - loss: 0.5509 - accuracy: 0.7556 - val_loss: 87.0177 - val_accuracy: 0.7040\n",
      "Epoch 7/30\n",
      "61/61 [==============================] - 0s 5ms/step - loss: 0.3403 - accuracy: 0.8670 - val_loss: 84.0164 - val_accuracy: 0.6994\n",
      "Epoch 8/30\n",
      "61/61 [==============================] - 0s 5ms/step - loss: 0.2825 - accuracy: 0.8908 - val_loss: 102.7433 - val_accuracy: 0.7103\n",
      "Epoch 9/30\n",
      "61/61 [==============================] - 0s 5ms/step - loss: 0.2329 - accuracy: 0.9153 - val_loss: 78.1625 - val_accuracy: 0.7632\n",
      "Epoch 10/30\n",
      "61/61 [==============================] - 0s 5ms/step - loss: 0.1707 - accuracy: 0.9385 - val_loss: 215.3402 - val_accuracy: 0.6604\n",
      "Epoch 11/30\n",
      "61/61 [==============================] - 0s 5ms/step - loss: 0.1470 - accuracy: 0.9431 - val_loss: 110.3737 - val_accuracy: 0.7477\n",
      "Epoch 12/30\n",
      "61/61 [==============================] - 0s 5ms/step - loss: 0.1098 - accuracy: 0.9658 - val_loss: 123.4840 - val_accuracy: 0.7165\n",
      "Epoch 13/30\n",
      "61/61 [==============================] - 0s 5ms/step - loss: 0.1210 - accuracy: 0.9570 - val_loss: 187.7390 - val_accuracy: 0.6822\n",
      "Epoch 14/30\n",
      "61/61 [==============================] - 0s 5ms/step - loss: 0.0919 - accuracy: 0.9715 - val_loss: 159.9926 - val_accuracy: 0.7040\n",
      "Epoch 15/30\n",
      "61/61 [==============================] - 0s 5ms/step - loss: 0.0786 - accuracy: 0.9741 - val_loss: 198.4758 - val_accuracy: 0.6822\n",
      "Epoch 16/30\n",
      "61/61 [==============================] - 0s 5ms/step - loss: 0.0854 - accuracy: 0.9687 - val_loss: 214.0517 - val_accuracy: 0.7009\n",
      "Epoch 17/30\n",
      "61/61 [==============================] - 0s 5ms/step - loss: 0.0568 - accuracy: 0.9807 - val_loss: 312.4093 - val_accuracy: 0.6464\n",
      "Epoch 18/30\n",
      "61/61 [==============================] - 0s 5ms/step - loss: 0.0436 - accuracy: 0.9853 - val_loss: 303.4745 - val_accuracy: 0.6184\n",
      "Epoch 19/30\n",
      "61/61 [==============================] - 0s 5ms/step - loss: 0.0734 - accuracy: 0.9690 - val_loss: 341.9588 - val_accuracy: 0.6012\n",
      "Epoch 20/30\n",
      "61/61 [==============================] - 0s 5ms/step - loss: 0.0787 - accuracy: 0.9769 - val_loss: 115.0455 - val_accuracy: 0.7866\n",
      "Epoch 21/30\n",
      "61/61 [==============================] - 0s 5ms/step - loss: 0.0618 - accuracy: 0.9711 - val_loss: 279.8175 - val_accuracy: 0.7056\n",
      "Epoch 22/30\n",
      "61/61 [==============================] - 0s 5ms/step - loss: 0.1529 - accuracy: 0.9543 - val_loss: 129.8426 - val_accuracy: 0.7991\n",
      "Epoch 23/30\n",
      "61/61 [==============================] - 0s 5ms/step - loss: 0.0666 - accuracy: 0.9806 - val_loss: 40.0313 - val_accuracy: 0.8551\n",
      "Epoch 24/30\n",
      "61/61 [==============================] - 0s 5ms/step - loss: 0.1713 - accuracy: 0.9450 - val_loss: 54.2375 - val_accuracy: 0.8318\n",
      "Epoch 25/30\n",
      "61/61 [==============================] - 0s 5ms/step - loss: 0.0735 - accuracy: 0.9762 - val_loss: 34.5400 - val_accuracy: 0.8894\n",
      "Epoch 26/30\n",
      "61/61 [==============================] - 0s 5ms/step - loss: 0.0426 - accuracy: 0.9837 - val_loss: 44.5505 - val_accuracy: 0.8956\n",
      "Epoch 27/30\n",
      "61/61 [==============================] - 0s 5ms/step - loss: 0.0302 - accuracy: 0.9896 - val_loss: 69.8880 - val_accuracy: 0.8583\n",
      "Epoch 28/30\n",
      "61/61 [==============================] - 0s 5ms/step - loss: 0.0602 - accuracy: 0.9780 - val_loss: 32.9622 - val_accuracy: 0.8785\n",
      "Epoch 29/30\n",
      "61/61 [==============================] - 0s 5ms/step - loss: 0.0288 - accuracy: 0.9935 - val_loss: 76.4658 - val_accuracy: 0.8567\n",
      "Epoch 30/30\n",
      "61/61 [==============================] - 0s 5ms/step - loss: 0.0183 - accuracy: 0.9945 - val_loss: 83.0123 - val_accuracy: 0.8349\n"
     ]
    }
   ],
   "source": [
    "# x_train 학습 데이터로 딥러닝 네트워크 학습\n",
    "model.compile(optimizer='adam',\n",
    "              loss='sparse_categorical_crossentropy',\n",
    "              metrics=['accuracy'])\n",
    "\n",
    "history = model.fit(X_train, y_train, epochs=30, validation_data=(X_val, y_val)) # epochs은 반복 횟수"
   ]
  },
  {
   "cell_type": "code",
   "execution_count": 14,
   "metadata": {},
   "outputs": [
    {
     "data": {
      "image/png": "[encoded data removed]",
      "text/plain": [
       "<Figure size 432x288 with 1 Axes>"
      ]
     },
     "metadata": {
      "needs_background": "light"
     },
     "output_type": "display_data"
    }
   ],
   "source": [
    "val_accuracy = history.history['val_accuracy']\n",
    "accuracy = history.history['accuracy']\n",
    "\n",
    "x_len = np.arange(len(accuracy))\n",
    "plt.plot(x_len, val_accuracy, marker='.', c='red', label=\"Validation-accuracy\")\n",
    "plt.plot(x_len, accuracy, marker='.', c='blue', label=\"accuracy\")\n",
    "\n",
    "plt.legend(loc='upper right')\n",
    "plt.grid()\n",
    "plt.xlabel('epoch')\n",
    "plt.ylabel('loss')\n",
    "plt.show()"
   ]
  },
  {
   "cell_type": "code",
   "execution_count": 15,
   "metadata": {},
   "outputs": [
    {
     "data": {
      "image/png": "[encoded data removed]",
      "text/plain": [
       "<Figure size 432x288 with 1 Axes>"
      ]
     },
     "metadata": {
      "needs_background": "light"
     },
     "output_type": "display_data"
    }
   ],
   "source": [
    "y_vloss = history.history['val_loss']\n",
    "y_loss = history.history['loss']\n",
    "\n",
    "x_len = np.arange(len(y_loss))\n",
    "plt.plot(x_len, y_vloss, marker='.', c='red', label=\"Validation-set Loss\")\n",
    "plt.plot(x_len, y_loss, marker='.', c='blue', label=\"Train-set Loss\")\n",
    "\n",
    "plt.legend(loc='upper right')\n",
    "plt.grid()\n",
    "plt.xlabel('epoch')\n",
    "plt.ylabel('loss')\n",
    "plt.show()"
   ]
  },
  {
   "cell_type": "markdown",
   "metadata": {},
   "source": [
    "## test 데이터로 테스트"
   ]
  },
  {
   "cell_type": "code",
   "execution_count": 16,
   "metadata": {},
   "outputs": [
    {
     "name": "stdout",
     "output_type": "stream",
     "text": [
      "21/21 - 0s - loss: 92.1968 - accuracy: 0.8427\n",
      "test_loss: 92.19679260253906\n",
      "test_accuracy: 0.8426791429519653\n"
     ]
    }
   ],
   "source": [
    "test_loss, test_accuracy = model.evaluate(X_test, y_test, verbose=2)\n",
    "\n",
    "print(f\"test_loss: {test_loss}\")\n",
    "print(f\"test_accuracy: {test_accuracy}\")"
   ]
  },
  {
   "cell_type": "code",
   "execution_count": 17,
   "metadata": {},
   "outputs": [
    {
     "name": "stdout",
     "output_type": "stream",
     "text": [
      "models.predict() 결과: [0. 1. 0.]\n",
      "\n",
      "model이 추론한 가장 가능성이 높은 결과 :  1\n",
      "실제 데이터의 라벨 :  0\n"
     ]
    }
   ],
   "source": [
    "predicted_result = model.predict(X_test) # model이 추론한 확률값\n",
    "predicted_labels = np.argmax(predicted_result, axis=1) # 확률의 최대값이 예측하는 숫자를 뜻한다\n",
    "\n",
    "idx = 0\n",
    "print(f\"models.predict() 결과: {predicted_result[idx]}\\n\")\n",
    "print(f\"model이 추론한 가장 가능성이 높은 결과 : \", predicted_labels[idx])\n",
    "print(f\"실제 데이터의 라벨 : \", y_test[idx])"
   ]
  },
  {
   "cell_type": "code",
   "execution_count": 18,
   "metadata": {
    "scrolled": true
   },
   "outputs": [
    {
     "data": {
      "image/png": "[encoded data removed]",
      "text/plain": [
       "<Figure size 432x288 with 1 Axes>"
      ]
     },
     "metadata": {
      "needs_background": "light"
     },
     "output_type": "display_data"
    }
   ],
   "source": [
    "# 실제 이미지 출력\n",
    "plt.imshow(X_test[idx], cmap=plt.cm.binary)\n",
    "plt.show()"
   ]
  },
  {
   "cell_type": "markdown",
   "metadata": {},
   "source": [
    "## 새로운 데이터로 테스트"
   ]
  },
  {
   "cell_type": "code",
   "execution_count": 19,
   "metadata": {},
   "outputs": [
    {
     "name": "stdout",
     "output_type": "stream",
     "text": [
      "100 images will be resized.\n",
      "100 images have been resized.\n",
      "\n",
      "100 images will be resized.\n",
      "100 images have been resized.\n",
      "\n",
      "100 images will be resized.\n",
      "100 images have been resized.\n",
      "\n",
      "이미지 개수는 300 입니다.\n",
      "(300, 28, 28, 3)\n",
      "10/10 - 2s - loss: 7.4607 - accuracy: 0.5767\n",
      "test_loss: 7.460700511932373\n",
      "test_accuracy: 0.5766666531562805\n"
     ]
    }
   ],
   "source": [
    "test_path = data_dir + r'/test/'\n",
    "scissor_test_path = test_path + r'/scissors'\n",
    "rock_test_path = test_path + r'/rock'\n",
    "paper_test_path = test_path + r'/paper'\n",
    "\n",
    "test_paths = [scissor_test_path, rock_test_path, paper_test_path]\n",
    "\n",
    "for path in test_paths:\n",
    "    resize_images(path)\n",
    "\n",
    "(x_test, y_test)=load_data(test_path)\n",
    "x_test_norm = x_test / 255.0\n",
    "\n",
    "print(x_test_norm.shape)\n",
    "\n",
    "test_loss, test_accuracy = model.evaluate(x_test_norm, y_test, verbose=2)\n",
    "\n",
    "print(f\"test_loss: {test_loss}\")\n",
    "print(f\"test_accuracy: {test_accuracy}\")"
   ]
  },
  {
   "cell_type": "markdown",
   "metadata": {},
   "source": [
    "## 더 좋은 네트워크 만들어보기\n",
    "- [x] 더 많은 데이터 추가하기\n",
    "- [x] Validation Set 만들기\n",
    "- [ ] 하이퍼파라미터 변경\n",
    "- [ ] 딥러닝 모델 바꾸기"
   ]
  },
  {
   "cell_type": "code",
   "execution_count": null,
   "metadata": {},
   "outputs": [],
   "source": []
  },
  {
   "cell_type": "code",
   "execution_count": null,
   "metadata": {},
   "outputs": [],
   "source": []
  },
  {
   "cell_type": "code",
   "execution_count": null,
   "metadata": {},
   "outputs": [],
   "source": []
  }
 ],
 "metadata": {
  "colab": {
   "name": "Untitled23.ipynb",
   "private_outputs": true,
   "provenance": []
  },
  "kernelspec": {
   "display_name": "Python 3",
   "language": "python",
   "name": "python3"
  },
  "language_info": {
   "codemirror_mode": {
    "name": "ipython",
    "version": 3
   },
   "file_extension": ".py",
   "mimetype": "text/x-python",
   "name": "python",
   "nbconvert_exporter": "python",
   "pygments_lexer": "ipython3",
   "version": "3.7.9"
  }
 },
 "nbformat": 4,
 "nbformat_minor": 1
}
