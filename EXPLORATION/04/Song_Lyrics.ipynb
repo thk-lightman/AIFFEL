{
  "nbformat": 4,
  "nbformat_minor": 0,
  "metadata": {
    "colab": {
      "name": "Untitled35.ipynb",
      "provenance": [],
      "toc_visible": true,
      "mount_file_id": "1LEogPuLDsw_deOifs45kpHb1_JDget3y",
      "authorship_tag": "ABX9TyPXYQqIeealUeXNP8fy0Dyp",
      "include_colab_link": true
    },
    "kernelspec": {
      "name": "python3",
      "display_name": "Python 3"
    },
    "language_info": {
      "name": "python"
    },
    "accelerator": "GPU"
  },
  "cells": [
    {
      "cell_type": "markdown",
      "metadata": {
        "id": "view-in-github",
        "colab_type": "text"
      },
      "source": [
        "<a href=\"https://colab.research.google.com/github/t1seo/AIFFEL/blob/master/EXPLORATION/04/Song_Lyrics.ipynb\" target=\"_parent\"><img src=\"https://colab.research.google.com/assets/colab-badge.svg\" alt=\"Open In Colab\"/></a>"
      ]
    },
    {
      "cell_type": "markdown",
      "metadata": {
        "id": "aEH6HOJFhHvc"
      },
      "source": [
        "# 프로젝트: 멋진 작사가 만들기"
      ]
    },
    {
      "cell_type": "markdown",
      "metadata": {
        "id": "HQFxEapRnAW9"
      },
      "source": [
        "## 1. 데이터 다운로드\n",
        "\n",
        "- [Kaggle: Song Lyrics](https://www.kaggle.com/paultimothymooney/poetry)"
      ]
    },
    {
      "cell_type": "markdown",
      "metadata": {
        "id": "FO0r5oNdhJmY"
      },
      "source": [
        "## 2. 데이터 읽어오기\n",
        "- `glob` 모듈을 활용하여 모든 `txt` 파일을 읽어온 후, `raw_corpus` 리스트에 문장 단위로 저장한다."
      ]
    },
    {
      "cell_type": "code",
      "metadata": {
        "colab": {
          "base_uri": "https://localhost:8080/"
        },
        "id": "x7QPckWMkF_4",
        "outputId": "bed1f1bc-0d21-4688-82f4-b1ba7074d708"
      },
      "source": [
        "from google.colab import drive\n",
        "drive.mount('/content/drive')"
      ],
      "execution_count": 1,
      "outputs": [
        {
          "output_type": "stream",
          "text": [
            "Drive already mounted at /content/drive; to attempt to forcibly remount, call drive.mount(\"/content/drive\", force_remount=True).\n"
          ],
          "name": "stdout"
        }
      ]
    },
    {
      "cell_type": "code",
      "metadata": {
        "colab": {
          "base_uri": "https://localhost:8080/"
        },
        "id": "4VNVzZZZhMUH",
        "outputId": "0e6bed40-49be-4cd8-ddac-3b5e91618db8"
      },
      "source": [
        "import glob\n",
        "import os\n",
        "\n",
        "txt_file_path = \"/content/drive/MyDrive/data/lyrics/*\"\n",
        "\n",
        "txt_list = glob.glob(txt_file_path)\n",
        "\n",
        "raw_corpus = []\n",
        "\n",
        "# 여러개의 txt 파일을 모두 읽어서 raw_corpus에 담는다\n",
        "for txt_file in txt_list:\n",
        "    with open(txt_file, \"r\") as f:\n",
        "        raw = f.read().splitlines()\n",
        "        raw_corpus.extend(raw)\n",
        "\n",
        "print(f\"데이터의 크기: {len(raw_corpus)}\")\n",
        "print(f\"Examples: \\n {raw_corpus[:10]}\")"
      ],
      "execution_count": 2,
      "outputs": [
        {
          "output_type": "stream",
          "text": [
            "데이터의 크기: 187088\n",
            "Examples: \n",
            " ['I hear you callin\\', \"Here I come baby\"', 'To save you, oh oh', \"Baby no more stallin'\", 'These hands have been longing to touch you baby', \"And now that you've come around, to seein' it my way\", \"You won't regret it baby, and you surely won't forget it baby\", \"It's unbelieveable how your body's calling for me\", \"I can just hear it callin' callin' for me My body's callin' for you\", \"My body's callin' for you\", \"My body's callin' for you\"]\n"
          ],
          "name": "stdout"
        }
      ]
    },
    {
      "cell_type": "markdown",
      "metadata": {
        "id": "uBvWuFlBksQe"
      },
      "source": [
        "## 3. 데이터 정제\n",
        "- `preprocessing_sentence()` 함수를 활용해 데이터를 정제\n",
        "- 추가로 지나치게 긴 문장은 다른 데이터들이 과도한 Padding을 갖게 하므로 제거한다. 너무 긴 문장은 노래 가사 작사하기에 어울리지 않을 수도 있다.\n",
        "- 이번에는 문장을 토큰화 했을 때 토큰의 개수가 15개를 넘어가는 문장을 학습데이터에서 제외하기를 권한다."
      ]
    },
    {
      "cell_type": "code",
      "metadata": {
        "id": "PFFBAHtPk3UK"
      },
      "source": [
        "import re\n",
        "\n",
        "# 입력된 문장\n",
        "#     1. 소문자로 바꾸고, 양쪽 공백을 지웁니다\n",
        "#     2. 특수문자 양쪽에 공백을 넣고\n",
        "#     3. 여러개의 공백은 하나의 공백으로 바꿉니다\n",
        "#     4. a-zA-Z?.!,¿가 아닌 모든 문자를 하나의 공백으로 바꿉니다\n",
        "#     5. 다시 양쪽 공백을 지웁니다\n",
        "#     6. 문장 시작에는 <start>, 끝에는 <end>를 추가합니다\n",
        "def preprocess_sentence(sentence):\n",
        "    sentence = sentence.lower().strip() # 1\n",
        "    sentence = re.sub(r\"([?.!,¿])\", r\" \\1 \", sentence) # 2\n",
        "    sentence = re.sub(r'[\" \"]+', \" \", sentence) # 3\n",
        "    sentence = re.sub(r\"[^a-zA-Z?.!,¿]+\", \" \", sentence) # 4\n",
        "    sentence = sentence.strip() # 5\n",
        "    sentence = '<start> ' + sentence + ' <end>' # 6\n",
        "\n",
        "    return sentence"
      ],
      "execution_count": 3,
      "outputs": []
    },
    {
      "cell_type": "code",
      "metadata": {
        "colab": {
          "base_uri": "https://localhost:8080/"
        },
        "id": "OuXdIy62nw08",
        "outputId": "a86d87c1-2dba-4807-beb8-b9532123c43d"
      },
      "source": [
        "# 정제 함수를 이용해 정제 데이터 구해보기\n",
        "corpus = []\n",
        "\n",
        "for sentence in raw_corpus:\n",
        "    if len(sentence) == 0: \n",
        "        continue\n",
        "    if len(sentence.split()) > 15: # 토큰의 개수가 15개 넘어가면 학습 데이터에서 제외\n",
        "        continue\n",
        "    corpus.append(preprocess_sentence(sentence))\n",
        "\n",
        "corpus[:10]"
      ],
      "execution_count": 4,
      "outputs": [
        {
          "output_type": "execute_result",
          "data": {
            "text/plain": [
              "['<start> i hear you callin , here i come baby <end>',\n",
              " '<start> to save you , oh oh <end>',\n",
              " '<start> baby no more stallin <end>',\n",
              " '<start> these hands have been longing to touch you baby <end>',\n",
              " '<start> and now that you ve come around , to seein it my way <end>',\n",
              " '<start> you won t regret it baby , and you surely won t forget it baby <end>',\n",
              " '<start> it s unbelieveable how your body s calling for me <end>',\n",
              " '<start> i can just hear it callin callin for me my body s callin for you <end>',\n",
              " '<start> my body s callin for you <end>',\n",
              " '<start> my body s callin for you <end>']"
            ]
          },
          "metadata": {
            "tags": []
          },
          "execution_count": 4
        }
      ]
    },
    {
      "cell_type": "markdown",
      "metadata": {
        "id": "XlCWzEkPoEF3"
      },
      "source": [
        "## 4. 평가 데이터셋 분리\n",
        "\n",
        "- `tokenize()` 함수로 데이터를 Tensor로 변환한 후, `sklearn` 모듈의 `train_test_split()` 함수를 사용해 훈련 데이터와 평가 데이터를 분리한다.\n",
        "- 단어장의 크기는 **12,000 이상**으로 설정한다\n",
        "- 총 데이터의 **20%를 평가 데이터셋**으로 사용한다."
      ]
    },
    {
      "cell_type": "markdown",
      "metadata": {
        "id": "0F5YsLbGps5G"
      },
      "source": [
        "### 데이터를 Tensor로 변환"
      ]
    },
    {
      "cell_type": "code",
      "metadata": {
        "colab": {
          "base_uri": "https://localhost:8080/"
        },
        "id": "OXmXNliVoe96",
        "outputId": "411aa7be-fbd6-4034-af82-067366126db6"
      },
      "source": [
        "import tensorflow as tf\n",
        "\n",
        "def tokenize(corpus):\n",
        "    tokenizer = tf.keras.preprocessing.text.Tokenizer(\n",
        "        num_words = 12000, # 단어장 크기\n",
        "        filters = ' ',\n",
        "        oov_token = \"<unk>\" # 12000 단어에 포함되지 못한 단어\n",
        "    )\n",
        "    tokenizer.fit_on_texts(corpus) # 내부 단어장\n",
        "    tensor = tokenizer.texts_to_sequences(corpus) # corpus를 Tensor로 변환\n",
        "    tensor = tf.keras.preprocessing.sequence.pad_sequences(tensor, padding='post') # 입력 데이터의 시퀀스 길이를 일정하게 맞춰준다\n",
        "\n",
        "    print(tensor)\n",
        "    print(tokenizer)\n",
        "\n",
        "    return tensor, tokenizer\n",
        "\n",
        "tensor, tokenizer = tokenize(corpus)"
      ],
      "execution_count": 5,
      "outputs": [
        {
          "output_type": "stream",
          "text": [
            "[[  2   5 188 ...   0   0   0]\n",
            " [  2  10 579 ...   0   0   0]\n",
            " [  2  51  38 ...   0   0   0]\n",
            " ...\n",
            " [  2  43 899 ...   0   0   0]\n",
            " [  2  43  67 ...   0   0   0]\n",
            " [  2   8  82 ...   0   0   0]]\n",
            "<keras_preprocessing.text.Tokenizer object at 0x7f0f1f9df750>\n"
          ],
          "name": "stdout"
        }
      ]
    },
    {
      "cell_type": "markdown",
      "metadata": {
        "id": "03Y7pWMVpflB"
      },
      "source": [
        "### 훈련 데이터와 평가 데이터로 분리"
      ]
    },
    {
      "cell_type": "code",
      "metadata": {
        "colab": {
          "base_uri": "https://localhost:8080/"
        },
        "id": "QivFoqPgpySL",
        "outputId": "6ec64cf2-7aed-4f5c-9e81-3f9dd3fd690d"
      },
      "source": [
        "import numpy as np\n",
        "from sklearn.model_selection import train_test_split\n",
        "\n",
        "src_input = tensor[:, :-1] # tensor에서 마지막 토큰을 잘라내서 소스 문장 생성\n",
        "tgt_input = tensor[:, 1:] # tensor에서 <start>를 잘라내서 타겟 문장 생성\n",
        "\n",
        "print(src_input[0])\n",
        "print(tgt_input[0])"
      ],
      "execution_count": 6,
      "outputs": [
        {
          "output_type": "stream",
          "text": [
            "[  2   5 188   7 798   4  93   5  67  51   3   0   0   0   0   0   0   0\n",
            "   0   0   0   0   0   0   0   0   0   0   0   0   0   0]\n",
            "[  5 188   7 798   4  93   5  67  51   3   0   0   0   0   0   0   0   0\n",
            "   0   0   0   0   0   0   0   0   0   0   0   0   0   0]\n"
          ],
          "name": "stdout"
        }
      ]
    },
    {
      "cell_type": "code",
      "metadata": {
        "id": "0kvCqowbqrvp"
      },
      "source": [
        "enc_train, enc_val, dec_train, dec_val = train_test_split(src_input,\n",
        "                                                          tgt_input,\n",
        "                                                          test_size=0.2,\n",
        "                                                          random_state=42)"
      ],
      "execution_count": 7,
      "outputs": []
    },
    {
      "cell_type": "code",
      "metadata": {
        "colab": {
          "base_uri": "https://localhost:8080/"
        },
        "id": "dsFrwSIerKgG",
        "outputId": "f5e3d8f0-03a0-4717-e6d0-38dfa30a6224"
      },
      "source": [
        "print(f\"enc_train: {enc_train.shape}\")\n",
        "print(f\"dec_train: {dec_train.shape}\")\n",
        "print(f\"enc_val: {enc_val.shape}\")\n",
        "print(f\"dec_val: {dec_val.shape}\")"
      ],
      "execution_count": 8,
      "outputs": [
        {
          "output_type": "stream",
          "text": [
            "enc_train: (134872, 32)\n",
            "dec_train: (134872, 32)\n",
            "enc_val: (33718, 32)\n",
            "dec_val: (33718, 32)\n"
          ],
          "name": "stdout"
        }
      ]
    },
    {
      "cell_type": "markdown",
      "metadata": {
        "id": "Hk4kr-rEtCSm"
      },
      "source": [
        "### tf.data.Dataset 객체 생성"
      ]
    },
    {
      "cell_type": "code",
      "metadata": {
        "id": "MY6kyHOCtsEC"
      },
      "source": [
        "BUFFER_SIZE = len(src_input)\n",
        "BATCH_SIZE = 256\n",
        "steps_per_epoch = len(src_input) // BATCH_SIZE\n",
        "\n",
        "VOCAB_SIZE = tokenizer.num_words + 1 # tokenizer가 구축한 단어장 크기 + 여기 포함되지 않은 0:<pad> "
      ],
      "execution_count": 9,
      "outputs": []
    },
    {
      "cell_type": "code",
      "metadata": {
        "colab": {
          "base_uri": "https://localhost:8080/"
        },
        "id": "bqAKQsHVun2o",
        "outputId": "b4ad413e-a1a7-4a22-b0a8-26c7a4a6367a"
      },
      "source": [
        "# train datset\n",
        "train_dataset = tf.data.Dataset.from_tensor_slices((enc_train, dec_train))\n",
        "train_dataset = train_dataset.shuffle(BUFFER_SIZE)\n",
        "train_dataset = train_dataset.batch(BATCH_SIZE, drop_remainder=True)\n",
        "train_dataset"
      ],
      "execution_count": 10,
      "outputs": [
        {
          "output_type": "execute_result",
          "data": {
            "text/plain": [
              "<BatchDataset shapes: ((256, 32), (256, 32)), types: (tf.int32, tf.int32)>"
            ]
          },
          "metadata": {
            "tags": []
          },
          "execution_count": 10
        }
      ]
    },
    {
      "cell_type": "code",
      "metadata": {
        "colab": {
          "base_uri": "https://localhost:8080/"
        },
        "id": "tLOO4sVUu3cv",
        "outputId": "af7a56f6-a09d-44ad-d324-22cb1c1bc347"
      },
      "source": [
        "# test dataset\n",
        "test_dataset = tf.data.Dataset.from_tensor_slices((enc_val, dec_val))\n",
        "test_dataset = test_dataset.shuffle(BUFFER_SIZE)\n",
        "test_dataset = test_dataset.batch(BATCH_SIZE, drop_remainder=True)\n",
        "test_dataset"
      ],
      "execution_count": 11,
      "outputs": [
        {
          "output_type": "execute_result",
          "data": {
            "text/plain": [
              "<BatchDataset shapes: ((256, 32), (256, 32)), types: (tf.int32, tf.int32)>"
            ]
          },
          "metadata": {
            "tags": []
          },
          "execution_count": 11
        }
      ]
    },
    {
      "cell_type": "markdown",
      "metadata": {
        "id": "LjBd3csKvBlR"
      },
      "source": [
        "## 5. 인공지능 만들기\n",
        "- 모델의 `Embedding Size`와 `Hidden Size`를 조절하며 10 Epoch 안에 `val_loss` 값을 2.2 수준으로 줄 일 수 있는 모델을 설계\n",
        "- Loss는 아래 제시된 Loss 함수를 그대로 사용"
      ]
    },
    {
      "cell_type": "code",
      "metadata": {
        "id": "298wS7tavEds"
      },
      "source": [
        "class TextGenerator(tf.keras.Model):\n",
        "    def __init__(self, vocab_size, embedding_size, hidden_size):\n",
        "        super().__init__()\n",
        "\n",
        "        self.embedding = tf.keras.layers.Embedding(vocab_size, embedding_size) # Embedding layer\n",
        "        self.rnn_1 = tf.keras.layers.LSTM(hidden_size, return_sequences=True) # LSTM layer\n",
        "        self.rnn_2 = tf.keras.layers.LSTM(hidden_size, return_sequences=True) # LSTM layer\n",
        "        self.linear = tf.keras.layers.Dense(vocab_size) # Dense layer\n",
        "\n",
        "    def call(self, x):\n",
        "        out = self.embedding(x)\n",
        "        out = self.rnn_1(out)\n",
        "        out = self.rnn_2(out)\n",
        "        out = self.linear(out)\n",
        "\n",
        "        return out\n",
        "\n",
        "embedding_size = 256\n",
        "hidden_size = 1024\n",
        "model = TextGenerator(tokenizer.num_words + 1, embedding_size, hidden_size)"
      ],
      "execution_count": 12,
      "outputs": []
    },
    {
      "cell_type": "code",
      "metadata": {
        "colab": {
          "base_uri": "https://localhost:8080/"
        },
        "id": "3e-JIrbAvuJb",
        "outputId": "00444b12-a865-4c5b-cc01-177e49487ddf"
      },
      "source": [
        "# 데이터셋에서 데이터 한 배치만 불러온다\n",
        "for src_sample, tgt_sample in train_dataset.take(1): \n",
        "    break\n",
        "\n",
        "# 한 배치만 불러온 데이터를 모델에 넣어본다\n",
        "model(src_sample)"
      ],
      "execution_count": 13,
      "outputs": [
        {
          "output_type": "execute_result",
          "data": {
            "text/plain": [
              "<tf.Tensor: shape=(256, 32, 12001), dtype=float32, numpy=\n",
              "array([[[ 3.73724062e-04, -8.43362286e-05, -1.02122489e-04, ...,\n",
              "         -1.38638032e-04, -2.44665833e-04, -1.46010816e-05],\n",
              "        [ 7.07619358e-04, -2.07468911e-04, -6.56708071e-05, ...,\n",
              "         -1.73437147e-04, -5.06732613e-04,  1.42590099e-04],\n",
              "        [ 5.99500723e-04, -3.54654592e-04, -4.63576034e-05, ...,\n",
              "         -1.44710342e-04, -8.21792230e-04,  1.70517917e-04],\n",
              "        ...,\n",
              "        [ 7.14552472e-04,  1.45974348e-03, -4.55857589e-05, ...,\n",
              "         -2.39412929e-03,  3.92725255e-04,  6.54931704e-04],\n",
              "        [ 6.96372066e-04,  1.49834610e-03, -6.98013682e-05, ...,\n",
              "         -2.40531610e-03,  4.32653935e-04,  6.83644321e-04],\n",
              "        [ 6.79311343e-04,  1.53259339e-03, -9.15423152e-05, ...,\n",
              "         -2.41421047e-03,  4.67341713e-04,  7.08466163e-04]],\n",
              "\n",
              "       [[ 3.73724062e-04, -8.43362286e-05, -1.02122489e-04, ...,\n",
              "         -1.38638032e-04, -2.44665833e-04, -1.46010816e-05],\n",
              "        [ 6.47824781e-04, -2.17768538e-04,  4.95408094e-05, ...,\n",
              "         -3.60009406e-04, -2.91372766e-04, -1.12507099e-04],\n",
              "        [ 7.50544365e-04, -4.02539154e-04,  1.45154047e-07, ...,\n",
              "         -7.36198912e-04, -2.95735954e-04, -9.64848587e-05],\n",
              "        ...,\n",
              "        [ 7.53594039e-04,  1.45766675e-03, -6.56080811e-05, ...,\n",
              "         -2.31187465e-03,  1.92415057e-04,  6.00475236e-04],\n",
              "        [ 7.49336265e-04,  1.48103735e-03, -7.63459175e-05, ...,\n",
              "         -2.33398913e-03,  2.53804057e-04,  6.39088626e-04],\n",
              "        [ 7.40540097e-04,  1.50396221e-03, -8.85977424e-05, ...,\n",
              "         -2.35104514e-03,  3.09288327e-04,  6.73355593e-04]],\n",
              "\n",
              "       [[ 3.73724062e-04, -8.43362286e-05, -1.02122489e-04, ...,\n",
              "         -1.38638032e-04, -2.44665833e-04, -1.46010816e-05],\n",
              "        [ 7.72885105e-04, -2.40565001e-04, -4.13686103e-05, ...,\n",
              "          5.58886495e-05, -5.43991046e-04, -1.66373531e-04],\n",
              "        [ 6.57683122e-04, -4.75812296e-04,  2.11603779e-04, ...,\n",
              "          1.55005710e-05, -7.20544136e-04,  7.76657107e-05],\n",
              "        ...,\n",
              "        [ 7.37427152e-04,  1.48386811e-03,  4.94770647e-05, ...,\n",
              "         -2.44427659e-03,  3.56891222e-04,  6.04450295e-04],\n",
              "        [ 7.14747061e-04,  1.51977316e-03,  1.41164019e-05, ...,\n",
              "         -2.44777394e-03,  3.99773213e-04,  6.40440732e-04],\n",
              "        [ 6.94007089e-04,  1.55155722e-03, -1.84445034e-05, ...,\n",
              "         -2.44984822e-03,  4.37407463e-04,  6.71541377e-04]],\n",
              "\n",
              "       ...,\n",
              "\n",
              "       [[ 3.73724062e-04, -8.43362286e-05, -1.02122489e-04, ...,\n",
              "         -1.38638032e-04, -2.44665833e-04, -1.46010816e-05],\n",
              "        [ 4.61626245e-04, -3.59618047e-04, -2.54489132e-04, ...,\n",
              "         -2.87116709e-04, -2.81828834e-04,  3.17616359e-04],\n",
              "        [ 7.07118073e-04, -3.79090052e-04, -4.05366591e-04, ...,\n",
              "         -2.71176134e-04, -5.58236672e-04,  7.59512419e-04],\n",
              "        ...,\n",
              "        [ 6.54222153e-04,  1.60105480e-03, -1.06820997e-04, ...,\n",
              "         -2.38067727e-03,  4.80496179e-04,  7.93345331e-04],\n",
              "        [ 6.42877945e-04,  1.61987834e-03, -1.23544756e-04, ...,\n",
              "         -2.39162496e-03,  5.05389529e-04,  8.02942901e-04],\n",
              "        [ 6.32277923e-04,  1.63696811e-03, -1.38218456e-04, ...,\n",
              "         -2.40094424e-03,  5.27116645e-04,  8.10964790e-04]],\n",
              "\n",
              "       [[ 3.73724062e-04, -8.43362286e-05, -1.02122489e-04, ...,\n",
              "         -1.38638032e-04, -2.44665833e-04, -1.46010816e-05],\n",
              "        [ 1.00237841e-03, -4.12439025e-04, -2.60569534e-04, ...,\n",
              "         -1.70152882e-04, -3.28846625e-04, -5.99502746e-05],\n",
              "        [ 1.37892528e-03, -7.01839337e-04, -3.23575747e-04, ...,\n",
              "         -1.44225793e-04, -2.79002415e-04, -3.11528966e-05],\n",
              "        ...,\n",
              "        [ 8.44743627e-04,  8.63942842e-04,  1.24645725e-04, ...,\n",
              "         -1.69086200e-03, -1.87477475e-04,  2.39255896e-04],\n",
              "        [ 8.63805471e-04,  9.74650146e-04,  1.19806857e-04, ...,\n",
              "         -1.81405270e-03, -1.29572247e-04,  3.07428971e-04],\n",
              "        [ 8.71502270e-04,  1.07194914e-03,  1.09582201e-04, ...,\n",
              "         -1.92008051e-03, -6.70636582e-05,  3.74393887e-04]],\n",
              "\n",
              "       [[ 3.73724062e-04, -8.43362286e-05, -1.02122489e-04, ...,\n",
              "         -1.38638032e-04, -2.44665833e-04, -1.46010816e-05],\n",
              "        [ 4.61626245e-04, -3.59618047e-04, -2.54489132e-04, ...,\n",
              "         -2.87116709e-04, -2.81828834e-04,  3.17616359e-04],\n",
              "        [ 2.08163139e-04, -4.15337447e-04, -4.46634542e-04, ...,\n",
              "         -4.93661384e-04, -4.42580640e-04,  5.15812542e-04],\n",
              "        ...,\n",
              "        [ 6.53183844e-04,  1.44381938e-03, -9.63605344e-05, ...,\n",
              "         -2.41482747e-03,  4.37954004e-04,  7.32257904e-04],\n",
              "        [ 6.41186314e-04,  1.48219080e-03, -1.12858375e-04, ...,\n",
              "         -2.41958234e-03,  4.70733969e-04,  7.48640101e-04],\n",
              "        [ 6.29811431e-04,  1.51673600e-03, -1.28231812e-04, ...,\n",
              "         -2.42320215e-03,  4.99071553e-04,  7.62954762e-04]]],\n",
              "      dtype=float32)>"
            ]
          },
          "metadata": {
            "tags": []
          },
          "execution_count": 13
        }
      ]
    },
    {
      "cell_type": "code",
      "metadata": {
        "colab": {
          "base_uri": "https://localhost:8080/"
        },
        "id": "8f4ZeV2yvv05",
        "outputId": "3322138d-cf85-42c0-c0af-5ab991e14b94"
      },
      "source": [
        "model.summary()"
      ],
      "execution_count": 14,
      "outputs": [
        {
          "output_type": "stream",
          "text": [
            "Model: \"text_generator\"\n",
            "_________________________________________________________________\n",
            "Layer (type)                 Output Shape              Param #   \n",
            "=================================================================\n",
            "embedding (Embedding)        multiple                  3072256   \n",
            "_________________________________________________________________\n",
            "lstm (LSTM)                  multiple                  5246976   \n",
            "_________________________________________________________________\n",
            "lstm_1 (LSTM)                multiple                  8392704   \n",
            "_________________________________________________________________\n",
            "dense (Dense)                multiple                  12301025  \n",
            "=================================================================\n",
            "Total params: 29,012,961\n",
            "Trainable params: 29,012,961\n",
            "Non-trainable params: 0\n",
            "_________________________________________________________________\n"
          ],
          "name": "stdout"
        }
      ]
    },
    {
      "cell_type": "code",
      "metadata": {
        "colab": {
          "base_uri": "https://localhost:8080/"
        },
        "id": "CvevbNI3wEpT",
        "outputId": "eecf9174-6b73-465e-b6b6-5441797d2a35"
      },
      "source": [
        "optimizer = tf.keras.optimizers.Adam() # optimizer: Adam\n",
        "loss = tf.keras.losses.SparseCategoricalCrossentropy(\n",
        "    from_logits=True, reduction='none')\n",
        "\n",
        "model.compile(loss=loss, optimizer=optimizer)\n",
        "history = model.fit(train_dataset, epochs=10, validation_data=test_dataset)"
      ],
      "execution_count": 15,
      "outputs": [
        {
          "output_type": "stream",
          "text": [
            "Epoch 1/10\n",
            "526/526 [==============================] - 227s 427ms/step - loss: 1.7086 - val_loss: 1.4742\n",
            "Epoch 2/10\n",
            "526/526 [==============================] - 225s 428ms/step - loss: 1.4221 - val_loss: 1.3927\n",
            "Epoch 3/10\n",
            "526/526 [==============================] - 226s 429ms/step - loss: 1.3454 - val_loss: 1.3350\n",
            "Epoch 4/10\n",
            "526/526 [==============================] - 225s 428ms/step - loss: 1.2858 - val_loss: 1.2970\n",
            "Epoch 5/10\n",
            "526/526 [==============================] - 224s 426ms/step - loss: 1.2360 - val_loss: 1.2661\n",
            "Epoch 6/10\n",
            "526/526 [==============================] - 224s 426ms/step - loss: 1.1912 - val_loss: 1.2389\n",
            "Epoch 7/10\n",
            "526/526 [==============================] - 225s 427ms/step - loss: 1.1501 - val_loss: 1.2183\n",
            "Epoch 8/10\n",
            "526/526 [==============================] - 224s 426ms/step - loss: 1.1120 - val_loss: 1.1996\n",
            "Epoch 9/10\n",
            "526/526 [==============================] - 225s 427ms/step - loss: 1.0760 - val_loss: 1.1844\n",
            "Epoch 10/10\n",
            "526/526 [==============================] - 226s 430ms/step - loss: 1.0420 - val_loss: 1.1711\n"
          ],
          "name": "stdout"
        }
      ]
    },
    {
      "cell_type": "code",
      "metadata": {
        "colab": {
          "base_uri": "https://localhost:8080/",
          "height": 334
        },
        "id": "J-6QaoH1wvoW",
        "outputId": "880c3807-fa19-4878-b943-8a8fa60d5949"
      },
      "source": [
        "import matplotlib.pyplot as plt\n",
        "\n",
        "plt.figure(figsize=(8, 5))\n",
        "\n",
        "plt.plot(history.history['loss'], marker='.', c='red', label='Train-set Loss')\n",
        "plt.plot(history.history['val_loss'], marker='.', c='blue', label='Validation-set Loss')\n",
        "plt.xlabel('Epoch')\n",
        "plt.legend()\n",
        "plt.show()"
      ],
      "execution_count": 20,
      "outputs": [
        {
          "output_type": "display_data",
          "data": {
            "image/png": "[encoded data removed]",
            "text/plain": [
              "<Figure size 576x360 with 1 Axes>"
            ]
          },
          "metadata": {
            "tags": [],
            "needs_background": "light"
          }
        }
      ]
    },
    {
      "cell_type": "markdown",
      "metadata": {
        "id": "oUlxDORbzPao"
      },
      "source": [
        "## 6. 가사 만들어보기"
      ]
    },
    {
      "cell_type": "code",
      "metadata": {
        "id": "ppniM03gw1VO"
      },
      "source": [
        "# 모델에게 시작 문장을 전달하면 모델이 시작 문장을 바탕으로 작문\n",
        "def generate_text(model, tokenizer, init_sentence=\"<start>\", max_len=20):\n",
        "    # 테스트를 위해서 입력받은 init_sentence도 텐서로 변환합니다\n",
        "    test_input = tokenizer.texts_to_sequences([init_sentence])\n",
        "    test_tensor = tf.convert_to_tensor(test_input, dtype=tf.int64)\n",
        "    end_token = tokenizer.word_index[\"<end>\"]\n",
        "\n",
        "    # 단어 하나씩 예측해 문장을 만듭니다\n",
        "    #    1. 입력받은 문장의 텐서를 입력합니다\n",
        "    #    2. 예측된 값 중 가장 높은 확률인 word index를 뽑아냅니다\n",
        "    #    3. 2에서 예측된 word index를 문장 뒤에 붙입니다\n",
        "    #    4. 모델이 <end>를 예측했거나, max_len에 도달했다면 문장 생성을 마칩니다\n",
        "    while True:\n",
        "        # 1\n",
        "        predict = model(test_tensor) \n",
        "        # 2\n",
        "        predict_word = tf.argmax(tf.nn.softmax(predict, axis=-1), axis=-1)[:, -1] \n",
        "        # 3 \n",
        "        test_tensor = tf.concat([test_tensor, tf.expand_dims(predict_word, axis=0)], axis=-1)\n",
        "        # 4\n",
        "        if predict_word.numpy()[0] == end_token:\n",
        "            break\n",
        "        if test_tensor.shape[1] >= max_len: \n",
        "            break\n",
        "\n",
        "    generated = \"\"\n",
        "    # tokenizer를 이용해 word index를 단어로 하나씩 변환합니다 \n",
        "    for word_index in test_tensor[0].numpy():\n",
        "        generated += tokenizer.index_word[word_index] + \" \"\n",
        "\n",
        "    return generated"
      ],
      "execution_count": 21,
      "outputs": []
    },
    {
      "cell_type": "code",
      "metadata": {
        "colab": {
          "base_uri": "https://localhost:8080/",
          "height": 35
        },
        "id": "ovi3e6112xf1",
        "outputId": "81ec6d02-3ebd-4d7a-a15a-35852272bafd"
      },
      "source": [
        "generate_text(model, tokenizer, init_sentence=\"<start> i love\", max_len=20)"
      ],
      "execution_count": 23,
      "outputs": [
        {
          "output_type": "execute_result",
          "data": {
            "application/vnd.google.colaboratory.intrinsic+json": {
              "type": "string"
            },
            "text/plain": [
              "'<start> i love you so much <end> '"
            ]
          },
          "metadata": {
            "tags": []
          },
          "execution_count": 23
        }
      ]
    },
    {
      "cell_type": "code",
      "metadata": {
        "colab": {
          "base_uri": "https://localhost:8080/",
          "height": 35
        },
        "id": "mML9IXC2Bgub",
        "outputId": "c4327d6b-7947-434c-93ce-970123ddad1d"
      },
      "source": [
        "generate_text(model, tokenizer, init_sentence=\"<start> i want\", max_len=20)"
      ],
      "execution_count": 25,
      "outputs": [
        {
          "output_type": "execute_result",
          "data": {
            "application/vnd.google.colaboratory.intrinsic+json": {
              "type": "string"
            },
            "text/plain": [
              "'<start> i want to be a little selfish <end> '"
            ]
          },
          "metadata": {
            "tags": []
          },
          "execution_count": 25
        }
      ]
    },
    {
      "cell_type": "code",
      "metadata": {
        "colab": {
          "base_uri": "https://localhost:8080/",
          "height": 35
        },
        "id": "14L3y4bvBkP2",
        "outputId": "8760bfeb-7e6a-4dff-c8a2-09f4e53bd117"
      },
      "source": [
        "generate_text(model, tokenizer, init_sentence=\"<start> i wonder\", max_len=20)"
      ],
      "execution_count": 26,
      "outputs": [
        {
          "output_type": "execute_result",
          "data": {
            "application/vnd.google.colaboratory.intrinsic+json": {
              "type": "string"
            },
            "text/plain": [
              "'<start> i wonder if i m in love with you <end> '"
            ]
          },
          "metadata": {
            "tags": []
          },
          "execution_count": 26
        }
      ]
    },
    {
      "cell_type": "code",
      "metadata": {
        "colab": {
          "base_uri": "https://localhost:8080/",
          "height": 35
        },
        "id": "MZB-xWEmBn2a",
        "outputId": "249fe182-a991-4b25-ac17-a01403970deb"
      },
      "source": [
        "generate_text(model, tokenizer, init_sentence=\"<start> i think\", max_len=20)"
      ],
      "execution_count": 27,
      "outputs": [
        {
          "output_type": "execute_result",
          "data": {
            "application/vnd.google.colaboratory.intrinsic+json": {
              "type": "string"
            },
            "text/plain": [
              "'<start> i think i could be a <unk> <end> '"
            ]
          },
          "metadata": {
            "tags": []
          },
          "execution_count": 27
        }
      ]
    },
    {
      "cell_type": "code",
      "metadata": {
        "colab": {
          "base_uri": "https://localhost:8080/",
          "height": 35
        },
        "id": "8YhX1BrvBqiN",
        "outputId": "3532d6f7-07e0-457a-f419-6c9eadb44179"
      },
      "source": [
        "generate_text(model, tokenizer, init_sentence=\"<start> she loves\", max_len=20)"
      ],
      "execution_count": 28,
      "outputs": [
        {
          "output_type": "execute_result",
          "data": {
            "application/vnd.google.colaboratory.intrinsic+json": {
              "type": "string"
            },
            "text/plain": [
              "'<start> she loves me , i m not gonna be <end> '"
            ]
          },
          "metadata": {
            "tags": []
          },
          "execution_count": 28
        }
      ]
    },
    {
      "cell_type": "markdown",
      "metadata": {
        "id": "31xfPOkmBun6"
      },
      "source": [
        "## 결론\n",
        "### 루브릭\n",
        "1. 가사 텍스트 생성 모델이 정상적으로 동작하는가? - 텍스트 제너레이션 결과가 그럴듯한 문장으로 생성되는가?\n",
        "2. 데이터의 전처리와 데이터셋 구성 과정이 체계적으로 진행되었는가? - 특수문자 제거, 토크나이저 생성, 패딩처리 등의 과정이 빠짐없이 진행되었는가?\n",
        "3. 텍스트 생성모델이 안정적으로 학습되었는가? - 텍스트 생성모델의 validation loss가 2.2 이하로 낮아졌는가?"
      ]
    },
    {
      "cell_type": "markdown",
      "metadata": {
        "id": "OV8hVd95ByFK"
      },
      "source": [
        "### 회고\n",
        "- 문자열 데이터를 어떻게 train 데이터와 test 데이터로 나누어서 학습시킬지\n",
        "- 데이터의 전처리 과정\n",
        "    - token화 \n",
        "    - 사전\n",
        "- LSTM 모델"
      ]
    },
    {
      "cell_type": "code",
      "metadata": {
        "id": "_pkvVZ08FUka"
      },
      "source": [
        ""
      ],
      "execution_count": null,
      "outputs": []
    }
  ]
}