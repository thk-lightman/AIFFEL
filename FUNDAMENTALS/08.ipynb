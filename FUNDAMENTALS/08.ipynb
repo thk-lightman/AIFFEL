{
  "nbformat": 4,
  "nbformat_minor": 0,
  "metadata": {
    "colab": {
      "name": "Untitled12.ipynb",
      "private_outputs": true,
      "provenance": [],
      "authorship_tag": "ABX9TyOFhQd40Sf1krF5YCUenNkF",
      "include_colab_link": true
    },
    "kernelspec": {
      "name": "python3",
      "display_name": "Python 3"
    },
    "language_info": {
      "name": "python"
    }
  },
  "cells": [
    {
      "cell_type": "markdown",
      "metadata": {
        "id": "view-in-github",
        "colab_type": "text"
      },
      "source": [
        "<a href=\"https://colab.research.google.com/github/t1seo/AIFFEL/blob/master/FUNDAMENTALS/08.ipynb\" target=\"_parent\"><img src=\"https://colab.research.google.com/assets/colab-badge.svg\" alt=\"Open In Colab\"/></a>"
      ]
    },
    {
      "cell_type": "markdown",
      "metadata": {
        "id": "8ZRd5_gGYIpP"
      },
      "source": [
        "# 데이터를 한눈에! Visualization"
      ]
    },
    {
      "cell_type": "markdown",
      "metadata": {
        "id": "Rz-rr75TYK2O"
      },
      "source": [
        "- Matplotlib\n",
        "- Seaborn\n",
        "\n",
        "```\n",
        "# 설치된 라이브러리 확인\n",
        "pip list | grep matplotlib\n",
        "pip list | grep seaborn\n",
        "```\n",
        "\n",
        "```\n",
        "# 설치 명령어\n",
        "pip install matplotlib\n",
        "pip install seaborn\n",
        "```"
      ]
    },
    {
      "cell_type": "code",
      "metadata": {
        "id": "l9MbGqrwYPHf"
      },
      "source": [
        "import matplotlib.pyplot as plt\n",
        "%matplotlib inline\n",
        "\n",
        "#그래프 데이터 \n",
        "subject = ['English', 'Math', 'Korean', 'Science', 'Computer']\n",
        "points = [40, 90, 50, 60, 100]\n",
        "\n",
        "# 축 그리기\n",
        "fig = plt.figure()\n",
        "ax1 = fig.add_subplot(1,1,1)\n",
        "\n",
        "# 그래프 그리기\n",
        "ax1.bar(subject, points)\n",
        "\n",
        "# 라벨, 타이틀 달기\n",
        "plt.xlabel('Subject')\n",
        "plt.ylabel('Points')\n",
        "plt.title(\"Yuna's Test Result\")\n",
        "\n",
        "# 보여주기\n",
        "plt.savefig('./barplot.png')  # 그래프를 이미지로 출력\n",
        "plt.show()                            # 그래프를 화면으로 출력"
      ],
      "execution_count": null,
      "outputs": []
    },
    {
      "cell_type": "markdown",
      "metadata": {
        "id": "QEY1mCOOY7nM"
      },
      "source": [
        "## 간단한 그래프 그리기 (1) 막대그래프 그려보기"
      ]
    },
    {
      "cell_type": "markdown",
      "metadata": {
        "id": "hWDyPECjZAmY"
      },
      "source": [
        "\n",
        "- [IPython 매직 명령어 정리](https://studymake.tistory.com/601)"
      ]
    },
    {
      "cell_type": "code",
      "metadata": {
        "id": "8TxBZslDZf8J"
      },
      "source": [
        "## 데이터 정의하기\n",
        "import matplotlib.pyplot as plt\n",
        "%matplotlib inline\n",
        "\n",
        "# 그래프 데이터\n",
        "subject = ['English', 'Math', 'Korean', 'Science', 'Computer']\n",
        "points = [40, 90, 50, 60, 100]"
      ],
      "execution_count": null,
      "outputs": []
    },
    {
      "cell_type": "code",
      "metadata": {
        "id": "9wG3oT7DaumP"
      },
      "source": [
        "# 도화지(그래프) 객체 생성\n",
        "fig = plt.figure() "
      ],
      "execution_count": null,
      "outputs": []
    },
    {
      "cell_type": "code",
      "metadata": {
        "id": "6LihfBW4bWVW"
      },
      "source": [
        "# figure() 객체에 add_plot 메소드를 이용해 축을 그려준다\n",
        "ax1 = fig.add_subplot(1, 1, 1) \n",
        "fig"
      ],
      "execution_count": null,
      "outputs": []
    },
    {
      "cell_type": "code",
      "metadata": {
        "id": "zMNmBqbhbYQ7"
      },
      "source": [
        "fig = plt.figure(figsize=(5,2)) # 그래프 크기 설정\n",
        "ax1 = fig.add_subplot(1,1,1)"
      ],
      "execution_count": null,
      "outputs": []
    },
    {
      "cell_type": "code",
      "metadata": {
        "id": "27vxKmq6btVu"
      },
      "source": [
        "# 여러 개의 축 그리기\n",
        "fig = plt.figure()\n",
        "ax1 = fig.add_subplot(2, 2, 1) # 2행 2열의 첫 번째\n",
        "ax1 = fig.add_subplot(2, 2, 2)\n",
        "ax1 = fig.add_subplot(2, 2, 3)\n",
        "ax1 = fig.add_subplot(2, 2, 4)"
      ],
      "execution_count": null,
      "outputs": []
    },
    {
      "cell_type": "code",
      "metadata": {
        "id": "eFtx7SATcPkL"
      },
      "source": [
        "## 그래프 그리기\n",
        "\n",
        "# 데이터\n",
        "subject = ['English', 'Math', 'Korean', 'Science', 'Computer']\n",
        "points = [40, 90, 50, 60, 100]\n",
        "\n",
        "# 축 그리기\n",
        "fig = plt.figure()\n",
        "ax1 = fig.add_subplot(1, 1, 1)\n",
        "\n",
        "# 그래프 그리기\n",
        "ax1.bar(subject, points)"
      ],
      "execution_count": null,
      "outputs": []
    },
    {
      "cell_type": "code",
      "metadata": {
        "id": "HDqLjXhrcpN8"
      },
      "source": [
        "## 그래프 요소 추가\n",
        "\n",
        "# 데이터\n",
        "subject = ['English', 'Math', 'Korean', 'Science', 'Computer']\n",
        "points = [40, 90, 50, 60, 100]\n",
        "\n",
        "# 축 그리기\n",
        "fig = plt.figure()\n",
        "ax1 = fig.add_subplot(1, 1, 1)\n",
        "\n",
        "# 그래프 그리기\n",
        "ax1.bar(subject, points)\n",
        "\n",
        "# 라벨, 타이틀 달기\n",
        "plt.xlabel('Subject')\n",
        "plt.ylabel('Points')\n",
        "plt.title(\"Results\")"
      ],
      "execution_count": null,
      "outputs": []
    },
    {
      "cell_type": "markdown",
      "metadata": {
        "id": "C2ucRvUzc_6z"
      },
      "source": [
        "## 간단한 그래프 그리기 (2) 선 그래프 그려보기\n",
        "\n",
        "- [과거 아마존 주가 데이터](https://finance.yahoo.com/quote/AMZN/history?p=AMZN)"
      ]
    },
    {
      "cell_type": "code",
      "metadata": {
        "id": "NPiAbtoZdIro"
      },
      "source": [
        "from google.colab import files\n",
        "file_upload = files.upload()"
      ],
      "execution_count": null,
      "outputs": []
    },
    {
      "cell_type": "code",
      "metadata": {
        "id": "rEBhqdwIdP8X"
      },
      "source": [
        "AMZN = \"AMZN.csv\""
      ],
      "execution_count": null,
      "outputs": []
    },
    {
      "cell_type": "code",
      "metadata": {
        "id": "ZsofMO-9fUwB"
      },
      "source": [
        "from datetime import datetime\n",
        "import matplotlib.pyplot as plt\n",
        "import pandas as pd\n",
        "%matplotlib inline\n",
        "\n",
        "# 그래프 데이터\n",
        "data = pd.read_csv(AMZN, index_col=0, parse_dates=True)\n",
        "price = data['Close']\n",
        "\n",
        "# 축 그리기 및 좌표축 설정\n",
        "fig = plt.figure()\n",
        "ax = fig.add_subplot(1, 1, 1)\n",
        "price.plot(ax=ax)\n",
        "plt.ylim([1600, 2200]) # y축 범위 설정\n",
        "plt.xlim(['2019-05-01', '2020-03-01']) # x축 범위 설정\n",
        "\n",
        "# 주석 달기\n",
        "important_data = [(datetime(2019, 6, 3), \"Low Price\"), \n",
        "                  (datetime(2020, 2, 19), \"Peak Price\")]\n",
        "\n",
        "for d, label in important_data:\n",
        "    # annotate 주석 달기\n",
        "    ax.annotate(\n",
        "        label, xy=(d, price.asof(d)+10), # 주석을 달 좌표(x, y)\n",
        "        xytext=(d, price.asof(d) + 100), # 주석 텍스트가 위치할 좌표(x, y)\n",
        "        arrowprops=dict(facecolor='red')) # 화살표 추가 및 색 설정\n",
        "\n",
        "# 그리드, 타이틀 달기\n",
        "plt.grid() # 격자\n",
        "ax.set_title('StockPrice')\n",
        "\n",
        "# 보여주기\n",
        "plt.show()"
      ],
      "execution_count": null,
      "outputs": []
    },
    {
      "cell_type": "markdown",
      "metadata": {
        "id": "4KogtsrxhmQl"
      },
      "source": [
        "## 간단한 그래프 그리기 (3) plot 사용법 상세"
      ]
    },
    {
      "cell_type": "markdown",
      "metadata": {
        "id": "gPf8HdttihnB"
      },
      "source": [
        "### plt.plot()로 그래프 그리기"
      ]
    },
    {
      "cell_type": "code",
      "metadata": {
        "id": "oFO8zBTvisyF"
      },
      "source": [
        "import numpy as np\n",
        "x = np.linspace(0, 10, 100) # 0부터 10까지 균등한 간격으로 100개의 숫자\n",
        "\n",
        "# sin, cos 그래프\n",
        "plt.plot(x, np.sin(x), 'o')\n",
        "plt.plot(x, np.cos(x), '--', color='black')\n",
        "\n",
        "plt.show()"
      ],
      "execution_count": null,
      "outputs": []
    },
    {
      "cell_type": "code",
      "metadata": {
        "id": "zyz5EBCWi8S0"
      },
      "source": [
        "x = np.linspace(0 ,10, 100)\n",
        "\n",
        "plt.subplot(2, 1, 1)\n",
        "plt.plot(x, np.sin(x), '--', color='orange')\n",
        "\n",
        "plt.subplot(2, 1, 2)\n",
        "plt.plot(x, np.cos(x), color='red')"
      ],
      "execution_count": null,
      "outputs": []
    },
    {
      "cell_type": "markdown",
      "metadata": {
        "id": "Uq56wn_ekb1G"
      },
      "source": [
        "### linestyle, marker옵션"
      ]
    },
    {
      "cell_type": "code",
      "metadata": {
        "id": "PgnGHbmVlaUZ"
      },
      "source": [
        "x = np.linspace(0, 10, 100) \n",
        "\n",
        "plt.plot(x, x + 0, linestyle='solid') \n",
        "plt.plot(x, x + 1, linestyle='dashed') \n",
        "plt.plot(x, x + 2, linestyle='dashdot') \n",
        "plt.plot(x, x + 3, linestyle='dotted')\n",
        "plt.plot(x, x + 0, '-g') # solid green \n",
        "plt.plot(x, x + 1, '--c') # dashed cyan \n",
        "plt.plot(x, x + 2, '-.k') # dashdot black \n",
        "plt.plot(x, x + 3, ':r'); # dotted red\n",
        "plt.plot(x, x + 4, linestyle='-') # solid \n",
        "plt.plot(x, x + 5, linestyle='--') # dashed \n",
        "plt.plot(x, x + 6, linestyle='-.') # dashdot \n",
        "plt.plot(x, x + 7, linestyle=':'); # dotted"
      ],
      "execution_count": null,
      "outputs": []
    },
    {
      "cell_type": "markdown",
      "metadata": {
        "id": "d0EKq6pZlcdO"
      },
      "source": [
        "## Pandas로 그래프 그리기\n",
        "Pandas도 `plot()` 메소드를 통해서 여러 가지 그래프를 그릴 수 있다.\n",
        "\n",
        "**pandas.plot메서드 인자**\n",
        "\n",
        "- `label`: 그래프의 범례이름.\n",
        "- `ax`: 그래프를 그릴 matplotlib의 서브플롯 객체.\n",
        "- `style`: matplotlib에 전달할 'ko--'같은 스타일의 문자열\n",
        "- `alpha`: 투명도 (0 ~1)\n",
        "- `kind`: 그래프의 종류: line, bar, barh, kde\n",
        "- `logy`: Y축에 대한 로그스케일\n",
        "- `use_index`: 객체의 색인을 눈금 이름으로 사용할지의 여부\n",
        "- `rot`: 눈금 이름을 로테이션(0 ~ 360)\n",
        "- `xticks, yticks`: x축, y축으로 사용할 값\n",
        "- `xlim, ylim`: x축, y축 한계\n",
        "- `grid`: 축의 그리드 표시할 지 여부\n",
        "\n",
        "**pandas의 data가 DataFrame일때 plot 메서드 인자**\n",
        "- `subplots`: 각 DataFrame의 칼럼을 독립된 서브플롯에 그린다.\n",
        "- `sharex`: subplots=True면 같은 X축을 공유하고 눈금과 한계를 연결한다.\n",
        "- `sharey`: subplots=True면 같은 Y축을 공유한다.\n",
        "- `figsize`: 그래프의 크기, 튜플로 지정\n",
        "- `title`: 그래프의 제목을 문자열로 지정\n",
        "- `sort_columns`: 칼럼을 알파벳 순서로 그린다.\n",
        "\n"
      ]
    },
    {
      "cell_type": "code",
      "metadata": {
        "id": "O-q1OdpWmBGz"
      },
      "source": [
        "data = pd.Series(np.random.rand(5), index=list('abcde'))\n",
        "data"
      ],
      "execution_count": null,
      "outputs": []
    },
    {
      "cell_type": "code",
      "metadata": {
        "id": "IVMGn5o8mMPX"
      },
      "source": [
        "fig, axes = plt.subplots(2, 1)\n",
        "\n",
        "# 막대 그래프\n",
        "data.plot(kind='bar', ax=axes[0], color='blue', alpha=1)\n",
        "data.plot(kind='barh', ax=axes[1], color='red', alpha=0.3)"
      ],
      "execution_count": null,
      "outputs": []
    },
    {
      "cell_type": "code",
      "metadata": {
        "id": "6Jrb2Da9mXwX"
      },
      "source": [
        "# 선 그래프\n",
        "df = pd.DataFrame(np.random.rand(6, 4), columns=pd.Index(['A', 'B', 'C', 'D']))\n",
        "df.plot(kind='line')"
      ],
      "execution_count": null,
      "outputs": []
    },
    {
      "cell_type": "markdown",
      "metadata": {
        "id": "uyzmX7pjmqKd"
      },
      "source": [
        "## 간단한 그래프 그리기 (4) 정리해 보자\n",
        "\n",
        "그래프를 그리는 과정\n",
        "1. `fig = plt.figure()`: figure 객체를 선언해 '도화지를 펼쳐' 줍니다.\n",
        "2. `ax1 = fig.add_subplot(1,1,1)` : 축을 그립니다.\n",
        "3. `ax1.bar(x, y)` 축안에 어떤 그래프를 그릴지 메소드를 선택한 다음, 인자로 데이터를 넣어줍니다.\n",
        "4. 그래프 타이틀 축의 레이블 등을 plt의 여러 메소드 `grid`, `xlabel`, `ylabel` 을 이용해서 추가해주고\n",
        "5. `plt.savefig` 메소드를 이용해 저장해 줍니다."
      ]
    },
    {
      "cell_type": "markdown",
      "metadata": {
        "id": "y6rLzdsWnBWv"
      },
      "source": [
        "![image.png](data:image/png;base64,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)"
      ]
    },
    {
      "cell_type": "markdown",
      "metadata": {
        "id": "amF3pDxxnFwh"
      },
      "source": [
        "## 그래프 4대 천왕 (1) 데이터 준비\n",
        "\n",
        "- [tips data](https://github.com/mwaskom/seaborn-data/blob/master/tips.csv)\n",
        "\n"
      ]
    },
    {
      "cell_type": "markdown",
      "metadata": {
        "id": "Zi3-VjLPoCeW"
      },
      "source": [
        "### 데이터 불러오기"
      ]
    },
    {
      "cell_type": "code",
      "metadata": {
        "id": "VFwbvnlEnVOT"
      },
      "source": [
        "from google.colab import files\n",
        "file_upload = files.upload()"
      ],
      "execution_count": null,
      "outputs": []
    },
    {
      "cell_type": "code",
      "metadata": {
        "id": "d3KXQaHhndZI"
      },
      "source": [
        "tips_data = \"tips.csv\""
      ],
      "execution_count": null,
      "outputs": []
    },
    {
      "cell_type": "code",
      "metadata": {
        "id": "p3hTvWvlnqB_"
      },
      "source": [
        "import pandas as pd\n",
        "import seaborn as sns\n",
        "\n",
        "tips = sns.load_dataset(\"tips\")"
      ],
      "execution_count": null,
      "outputs": []
    },
    {
      "cell_type": "markdown",
      "metadata": {
        "id": "RekLJju_nyDm"
      },
      "source": [
        "### 데이터 살펴보기 (EDA)"
      ]
    },
    {
      "cell_type": "code",
      "metadata": {
        "id": "rwq3S0q1oHHk"
      },
      "source": [
        "df = pd.DataFrame(tips)\n",
        "df.head()"
      ],
      "execution_count": null,
      "outputs": []
    },
    {
      "cell_type": "code",
      "metadata": {
        "id": "x0pf7rTGoJs4"
      },
      "source": [
        "df.shape"
      ],
      "execution_count": null,
      "outputs": []
    },
    {
      "cell_type": "code",
      "metadata": {
        "id": "cr6579RtoNKs"
      },
      "source": [
        "df.describe()"
      ],
      "execution_count": null,
      "outputs": []
    },
    {
      "cell_type": "code",
      "metadata": {
        "id": "lpR9P6a9oObF"
      },
      "source": [
        "df.info()"
      ],
      "execution_count": null,
      "outputs": []
    },
    {
      "cell_type": "markdown",
      "metadata": {
        "id": "_QQfkU2ZoPq3"
      },
      "source": [
        "- 데이터 변수들 중에서 sex, smoker, day, time이 범주형 데이터이고, tips, total_bill, size는 수치형 데이터이다.\n",
        "- 그러나 size는 테이블 인원을 의미하니까 범주형 데이터로 봐야 한다."
      ]
    },
    {
      "cell_type": "code",
      "metadata": {
        "id": "7y8K5rpConM-"
      },
      "source": [
        "# 범주형 변수의 카테고리별 개수 확인\n",
        "def category_value_counts(column_name):\n",
        "    print(df[column_name].value_counts())\n",
        "    print('=' * 20, '\\n')\n",
        "\n",
        "category_value_counts('sex')\n",
        "category_value_counts('time')\n",
        "category_value_counts('smoker')\n",
        "category_value_counts('day')\n",
        "category_value_counts('size')"
      ],
      "execution_count": null,
      "outputs": []
    },
    {
      "cell_type": "markdown",
      "metadata": {
        "id": "ogmIS2Cgo8ag"
      },
      "source": [
        "## 그래프 4대 천왕 (2) 범주형 데이터\n",
        "\n",
        "tips데이터에서 범주형 변수는 sex, smoker, day, time, size 이다."
      ]
    },
    {
      "cell_type": "markdown",
      "metadata": {
        "id": "90cP2WvGpSgR"
      },
      "source": [
        "### 막대 그래프(bar garph) 그리기 - 1 Pandas와 Matplotlib를 활용한 방법"
      ]
    },
    {
      "cell_type": "markdown",
      "metadata": {
        "id": "d9nU9inXpjBO"
      },
      "source": [
        "matplotlib에 데이터를 인자로 넣기 위해서는 pandas 데이터를 바로 이용할 수는 없다.\n",
        "\n",
        "데이털르 x에 series 또는 list, y에 list 형태로 각각 나눠 주어야 한다."
      ]
    },
    {
      "cell_type": "code",
      "metadata": {
        "id": "82mew2AHpx50"
      },
      "source": [
        "df.head()"
      ],
      "execution_count": null,
      "outputs": []
    },
    {
      "cell_type": "code",
      "metadata": {
        "id": "l3cHK6axp0Xu"
      },
      "source": [
        "## tips 컬럼을 성별에 대한 평균으로 나눈다\n",
        "\n",
        "# tip을 성별 기준으로 groupby\n",
        "grouped = df['tip'].groupby(df['sex'])"
      ],
      "execution_count": null,
      "outputs": []
    },
    {
      "cell_type": "code",
      "metadata": {
        "id": "FXQZN_lwrabQ"
      },
      "source": [
        "grouped.mean() # 성별에 따른 팁의 평균"
      ],
      "execution_count": null,
      "outputs": []
    },
    {
      "cell_type": "code",
      "metadata": {
        "id": "F8zuOPChrnvv"
      },
      "source": [
        "grouped.size() # 성별에 따른 데이터 량(팁의 횟수)"
      ],
      "execution_count": null,
      "outputs": []
    },
    {
      "cell_type": "code",
      "metadata": {
        "id": "y6dtNRAZruBn"
      },
      "source": [
        "import numpy as np\n",
        "\n",
        "sex = dict(grouped.mean()) # 평균 데이터를 딕셔너리 형태로 바꿔준다\n",
        "sex"
      ],
      "execution_count": null,
      "outputs": []
    },
    {
      "cell_type": "code",
      "metadata": {
        "id": "VTaZs5HEr3z2"
      },
      "source": [
        "x = list(sex.keys())\n",
        "y = list(sex.values())\n",
        "\n",
        "import matplotlib.pyplot as plt\n",
        "\n",
        "plt.bar(x = x, height = y)\n",
        "plt.ylabel('tip[$]')\n",
        "plt.title('Tip by Sex')\n",
        "plt.legend()"
      ],
      "execution_count": null,
      "outputs": []
    },
    {
      "cell_type": "markdown",
      "metadata": {
        "id": "nMe7A7iqsGBO"
      },
      "source": [
        "### 막대 그래프(bar garph) 그리기 - - 2 Seaborn과 Matplotlib을 활용한 간단한 방법\n",
        "\n",
        "Seaborn을 이용하면 더 쉽게 나타낼 수 있다."
      ]
    },
    {
      "cell_type": "code",
      "metadata": {
        "id": "HZ2U0Jv1sP0K"
      },
      "source": [
        "import seaborn as sns\n",
        "\n",
        "sns.barplot(data=df, x='sex', y='tip')"
      ],
      "execution_count": null,
      "outputs": []
    },
    {
      "cell_type": "code",
      "metadata": {
        "id": "LjQDcdWRsU4Q"
      },
      "source": [
        "# matplot과 함께 사용하여 figsize, title 등의 옵션 추가\n",
        "plt.figure(figsize=(10, 6))\n",
        "sns.barplot(data=df, x='sex', y='tip')\n",
        "plt.ylim(0, 4)\n",
        "plt.title('Tip by sex')"
      ],
      "execution_count": null,
      "outputs": []
    },
    {
      "cell_type": "code",
      "metadata": {
        "id": "rHoTrEJNsnZg"
      },
      "source": [
        "# 요일에 따른 tips 그래프\n",
        "plt.figure(figsize=(10, 6))\n",
        "sns.barplot(data=df, x='day', y='tip')\n",
        "plt.ylim(0, 4)\n",
        "plt.title('Tip by day')"
      ],
      "execution_count": null,
      "outputs": []
    },
    {
      "cell_type": "code",
      "metadata": {
        "id": "vMvn3oLcs3NK"
      },
      "source": [
        "## subplot 만들기\n",
        "fig = plt.figure(figsize=(10, 7))\n",
        "\n",
        "# barplot\n",
        "ax1 = fig.add_subplot(2, 2, 1)\n",
        "sns.barplot(data=df, x='day', y='tip', palette=\"ch:.25\")\n",
        "\n",
        "ax2 = fig.add_subplot(2, 2, 2)\n",
        "sns.barplot(data=df, x='sex', y='tip')\n",
        "\n",
        "# violinplot\n",
        "ax3 = fig.add_subplot(2, 2, 3)\n",
        "sns.violinplot(data=df, x='day', y='tip', pallette=\"ch:.25\")\n",
        "\n",
        "ax4 = fig.add_subplot(2, 2, 4)\n",
        "sns.violinplot(data=df, x='sex', y='tip')"
      ],
      "execution_count": null,
      "outputs": []
    },
    {
      "cell_type": "code",
      "metadata": {
        "id": "EOEFm7iQtTHC"
      },
      "source": [
        "# catplot\n",
        "sns.catplot(x='day', y='tip', jitter=False, data=tips)"
      ],
      "execution_count": null,
      "outputs": []
    },
    {
      "cell_type": "markdown",
      "metadata": {
        "id": "6wYBee4rt1dG"
      },
      "source": [
        "## 그래프 4대 천왕 (3) 수치형 데이터"
      ]
    },
    {
      "cell_type": "markdown",
      "metadata": {
        "id": "Uwo2BHyVt8OH"
      },
      "source": [
        "### 산점도(scatter plot)"
      ]
    },
    {
      "cell_type": "code",
      "metadata": {
        "id": "pmF9Bnl6uUkb"
      },
      "source": [
        "sns.scatterplot(data=df, x='total_bill', y='tip', palette=\"ch:r=-.2, d=.3_r\")"
      ],
      "execution_count": null,
      "outputs": []
    },
    {
      "cell_type": "code",
      "metadata": {
        "id": "W1VjA1MSuntC"
      },
      "source": [
        "sns.scatterplot(data=df, x='total_bill', y='tip', hue='day')"
      ],
      "execution_count": null,
      "outputs": []
    },
    {
      "cell_type": "markdown",
      "metadata": {
        "id": "m7p9amQpu0sL"
      },
      "source": [
        "### 선 그래프(line graph)"
      ]
    },
    {
      "cell_type": "code",
      "metadata": {
        "id": "LLyFq8zyu5dc"
      },
      "source": [
        "# np.random.randn 표준 정규분포에서 난수 생성하는 함수\n",
        "# cumsum() 누적합을 구하는 함수\n",
        "plt.plot(np.random.randn(50).cumsum())"
      ],
      "execution_count": null,
      "outputs": []
    },
    {
      "cell_type": "code",
      "metadata": {
        "id": "i1bbQOi5vFhR"
      },
      "source": [
        "x = np.linspace(0, 10, 100)\n",
        "plt.plot(x, np.sin(x), '--', color='red')\n",
        "plt.plot(x, np.cos(x), '--', color='blue')\n",
        "plt.show()"
      ],
      "execution_count": null,
      "outputs": []
    },
    {
      "cell_type": "code",
      "metadata": {
        "id": "lXfyuks0vO3g"
      },
      "source": [
        "# seaborn\n",
        "sns.lineplot(x, np.sin(x))\n",
        "sns.lineplot(x, np.cos(x))"
      ],
      "execution_count": null,
      "outputs": []
    },
    {
      "cell_type": "markdown",
      "metadata": {
        "id": "jnL2YhbpviYS"
      },
      "source": [
        "### 히스토그램\n",
        "- 가로축\n",
        "    - 계급: 변수의 구간, bin(or bucket)\n",
        "- 세로축\n",
        "    - 도수: 빈도수, frequency\n",
        "- 전체 총량: n"
      ]
    },
    {
      "cell_type": "code",
      "metadata": {
        "id": "NGtS0T4svwGJ"
      },
      "source": [
        "## 임의 데이터\n",
        "# x1은 평균은 100이고 표준편차는 15인 정규분포를 따릅니다.\n",
        "# x2는 평균은 130이고 표준편차는 15인 정규분포를 따릅니다.\n",
        "# 도수를 50개의 구간으로 표시하며, 확률 밀도가 아닌 빈도로 표기합니다.\n",
        "\n",
        "# 그래프 데이터\n",
        "mu1, mu2, sigma = 100, 130, 15\n",
        "x1 = mu1 + sigma * np.random.randn(10000)\n",
        "x2 = mu2 + sigma * np.random.randn(10000)\n",
        "\n",
        "# print(x1)\n",
        "# print(x2)\n",
        "\n",
        "# 축 그리기\n",
        "fig = plt.figure()\n",
        "ax1 = fig.add_subplot(1, 1, 1)\n",
        "\n",
        "# 그래프 그리기\n",
        "patches = ax1.hist(x1, bins=50, density=False) # bins는 x값을 50개 구간으로 나눈다\n",
        "patches = ax1.hist(x2, bins=50, density=False, alpha=0.5)\n",
        "\n",
        "ax1.xaxis.set_ticks_position('bottom') # x축의 눈금을 아래 표시\n",
        "ax1.yaxis.set_ticks_position('left') # y축의 눈금을 왼쪽에 표시\n",
        "\n",
        "# 라벨, 타이틀 달기\n",
        "plt.xlabel('Bins')\n",
        "plt.ylabel('Numbers of Values in Bin')\n",
        "ax1.set_title('Two Frequency Distributions')\n",
        "\n",
        "plt.show()"
      ],
      "execution_count": null,
      "outputs": []
    },
    {
      "cell_type": "code",
      "metadata": {
        "id": "L_d8UFcCxSuv"
      },
      "source": [
        "## 예제 데이터의 히스토그램\n",
        "sns.distplot(df['total_bill'], label=\"total_bill\")\n",
        "sns.distplot(df['tip'], label='tip').legend() # 범례"
      ],
      "execution_count": null,
      "outputs": []
    },
    {
      "cell_type": "code",
      "metadata": {
        "id": "yjKoSHmX0pyK"
      },
      "source": [
        "# 전체 결제 금액 대비 팁의 비율\n",
        "df['tip_pct'] = df['tip'] / df['total_bill']\n",
        "df['tip_pct'].hist(bins=50)"
      ],
      "execution_count": null,
      "outputs": []
    },
    {
      "cell_type": "code",
      "metadata": {
        "id": "IXqoR0BV1DBJ"
      },
      "source": [
        "sns.displot(df['tip_pct'], bins=50)"
      ],
      "execution_count": null,
      "outputs": []
    },
    {
      "cell_type": "code",
      "metadata": {
        "id": "ZsdKZ7_01IAt"
      },
      "source": [
        "# 확률 밀도 그래프\n",
        "df['tip_pct'].plot(kind='kde')"
      ],
      "execution_count": null,
      "outputs": []
    },
    {
      "cell_type": "markdown",
      "metadata": {
        "id": "OB7rX9Xw1a1X"
      },
      "source": [
        "- [Kernel Density Estimation(커널밀도추정)에 대한 이해](https://darkpgmr.tistory.com/147#:~:text=Kernel%20Density%20Estimation%20(%EC%BB%A4%EB%84%90%20%EB%B0%80%EB%8F%84%20%EC%B6%94%EC%A0%95)%20%EB%B0%A9%EB%B2%95%EC%9D%80%20non%2D,%EC%9D%84%20%EA%B0%9C%EC%84%A0%ED%95%9C%20%EB%B0%A9%EB%B2%95%EC%9D%B4%EB%8B%A4.)"
      ]
    },
    {
      "cell_type": "markdown",
      "metadata": {
        "id": "8Vss27st1nYC"
      },
      "source": [
        "## 시계열 데이터 시각화하기"
      ]
    },
    {
      "cell_type": "code",
      "metadata": {
        "id": "LWyH7Mc512lr"
      },
      "source": [
        "from google.colab import files\n",
        "file_upload = files.upload()"
      ],
      "execution_count": null,
      "outputs": []
    },
    {
      "cell_type": "code",
      "metadata": {
        "id": "eMRbh8t_1587"
      },
      "source": [
        "data = pd.read_csv('flights.csv')\n",
        "flights = pd.DataFrame(data)\n",
        "flights"
      ],
      "execution_count": null,
      "outputs": []
    },
    {
      "cell_type": "code",
      "metadata": {
        "id": "1v_iZXA62Hjr"
      },
      "source": [
        "sns.barplot(data=flights, x='year', y='passengers')"
      ],
      "execution_count": null,
      "outputs": []
    },
    {
      "cell_type": "code",
      "metadata": {
        "id": "TofdaWzP2Qty"
      },
      "source": [
        "sns.pointplot(data=flights, x='year', y='passengers')"
      ],
      "execution_count": null,
      "outputs": []
    },
    {
      "cell_type": "code",
      "metadata": {
        "id": "FZ0Ktj022XD1"
      },
      "source": [
        "sns.lineplot(data=flights, x='year', y='passengers')"
      ],
      "execution_count": null,
      "outputs": []
    },
    {
      "cell_type": "code",
      "metadata": {
        "id": "MISNI8ng2cWL"
      },
      "source": [
        "# 달 별로 나누어 보기 위해 hue인자에 month 할당\n",
        "sns.lineplot(data=flights, x='year', y='passengers', hue='month')\n",
        "plt.legend(bbox_to_anchor=(1.03, 1), loc=2) # legend 밖으로"
      ],
      "execution_count": null,
      "outputs": []
    },
    {
      "cell_type": "markdown",
      "metadata": {
        "id": "w_jssBlZ2sor"
      },
      "source": [
        "## Heatmap\n",
        "Heatmap은 방대한 양의 데이터와 현상을 수치대 따른 색상으로 나타낸다.\n",
        "\n"
      ]
    },
    {
      "cell_type": "code",
      "metadata": {
        "id": "z6Gh0xJB28ls"
      },
      "source": [
        "# pivot : 어떤 축, 점을 기준으로 바꾼다\n",
        "pivot = flights.pivot(index='year', columns='month', values='passengers') # pivot\n",
        "pivot"
      ],
      "execution_count": null,
      "outputs": []
    },
    {
      "cell_type": "code",
      "metadata": {
        "id": "KCGGzaVj3M7g"
      },
      "source": [
        "sns.heatmap(pivot)"
      ],
      "execution_count": null,
      "outputs": []
    },
    {
      "cell_type": "code",
      "metadata": {
        "id": "rEw8Jz5O3Oz1"
      },
      "source": [
        "sns.heatmap(pivot, linewidth=.2, annot=True, fmt='d')"
      ],
      "execution_count": null,
      "outputs": []
    },
    {
      "cell_type": "code",
      "metadata": {
        "id": "_RojCmu73TQ2"
      },
      "source": [
        "sns.heatmap(pivot, cmap=\"YlGnBu\")"
      ],
      "execution_count": null,
      "outputs": []
    },
    {
      "cell_type": "code",
      "metadata": {
        "id": "aP28zm0r3WOV"
      },
      "source": [
        ""
      ],
      "execution_count": null,
      "outputs": []
    }
  ]
}