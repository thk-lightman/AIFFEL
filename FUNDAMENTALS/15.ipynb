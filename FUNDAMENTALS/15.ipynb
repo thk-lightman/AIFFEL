{
  "nbformat": 4,
  "nbformat_minor": 0,
  "metadata": {
    "colab": {
      "name": "Untitled33.ipynb",
      "provenance": [],
      "authorship_tag": "ABX9TyMyJM49/TKgmwuhNMK1ZqPY",
      "include_colab_link": true
    },
    "kernelspec": {
      "name": "python3",
      "display_name": "Python 3"
    },
    "language_info": {
      "name": "python"
    },
    "accelerator": "GPU"
  },
  "cells": [
    {
      "cell_type": "markdown",
      "metadata": {
        "id": "view-in-github",
        "colab_type": "text"
      },
      "source": [
        "<a href=\"https://colab.research.google.com/github/t1seo/AIFFEL/blob/master/FUNDAMENTALS/15.ipynb\" target=\"_parent\"><img src=\"https://colab.research.google.com/assets/colab-badge.svg\" alt=\"Open In Colab\"/></a>"
      ]
    },
    {
      "cell_type": "markdown",
      "metadata": {
        "id": "elvbP2ytX80B"
      },
      "source": [
        "# 15. 딥러닝 들여다보기"
      ]
    },
    {
      "cell_type": "markdown",
      "metadata": {
        "id": "0arzyu8bYT8T"
      },
      "source": [
        "## 15-1. 들어가며\n",
        "\n",
        "- 딥러닝 문제 구성에 대한 기본적인 이해를 높인다.\n",
        "- Neural Network에 사용되는 용어들에 대한 이해를 높인다.\n",
        "- 딥러닝 프레임워크를 사용하지 않고, Numpy만을 이용해 딥러닝 모델과 훈련 과정을 직접 구현해 본다."
      ]
    },
    {
      "cell_type": "markdown",
      "metadata": {
        "id": "4Alp80dCYa9c"
      },
      "source": [
        "## 15-2. 신경망 구성 (1) 개요\n",
        "\n",
        "- **신경망(Neural Network)**\n",
        "- **퍼셉트론(Perceptron)**"
      ]
    },
    {
      "cell_type": "markdown",
      "metadata": {
        "id": "B3ux8QB0Yrvh"
      },
      "source": [
        "### MNIST Revisited"
      ]
    },
    {
      "cell_type": "code",
      "metadata": {
        "colab": {
          "base_uri": "https://localhost:8080/"
        },
        "id": "mJu7zRAcYuJJ",
        "outputId": "86fc1e3e-23c9-47f1-81b0-2ce075773d56"
      },
      "source": [
        "# Tensorflow 기반 분류\n",
        "import tensorflow as tf\n",
        "from tensorflow import keras\n",
        "import numpy as np\n",
        "import matplotlib.pyplot as plt\n",
        "\n",
        "# MNIST 데이터를 로드\n",
        "mnist = keras.datasets.mnist\n",
        "\n",
        "(x_train, y_train), (x_test, y_test) = mnist.load_data()\n",
        "\n",
        "# 모델에 맞게 데이터 가공\n",
        "x_train_norm, x_test_norm = x_train / 255.0, x_test / 255.0\n",
        "x_train_reshaped = x_train_norm.reshape(-1, x_train_norm.shape[1] * x_train_norm.shape[2])\n",
        "x_test_reshaped = x_test_norm.reshape(-1, x_test_norm.shape[1] * x_test_norm.shape[2])\n",
        "print(x_train_norm.shape)\n",
        "print(x_train_reshaped.shape)\n",
        "\n",
        "# 딥러닝 모델 구성 - 2 Layer Peceptron\n",
        "model = keras.models.Sequential()\n",
        "model.add(keras.layers.Dense(50, activation='sigmoid', input_shape=(784, ))) # 입력층 d=784, 은닉층 레이어 H=50\n",
        "model.add(keras.layers.Dense(10, activation='softmax')) # 출력층 레이어 K=10\n",
        "model.summary()\n",
        "\n",
        "# 모델 구성과 학습\n",
        "model.compile(optimizer='adam',\n",
        "              loss='sparse_categorical_crossentropy',\n",
        "              metrics=['accuracy'])\n",
        "model.fit(x_train_reshaped, y_train, epochs=10)\n",
        "\n",
        "# 모델 테스트 결과\n",
        "test_loss, test_accuracy = model.evaluate(x_test_reshaped, y_test, verbose=2)\n",
        "print(\"test_loss: {}\".format(test_loss))\n",
        "print(\"test_accuracy: {}\".format(test_accuracy))"
      ],
      "execution_count": 1,
      "outputs": [
        {
          "output_type": "stream",
          "text": [
            "(60000, 28, 28)\n",
            "(60000, 784)\n",
            "Model: \"sequential\"\n",
            "_________________________________________________________________\n",
            "Layer (type)                 Output Shape              Param #   \n",
            "=================================================================\n",
            "dense (Dense)                (None, 50)                39250     \n",
            "_________________________________________________________________\n",
            "dense_1 (Dense)              (None, 10)                510       \n",
            "=================================================================\n",
            "Total params: 39,760\n",
            "Trainable params: 39,760\n",
            "Non-trainable params: 0\n",
            "_________________________________________________________________\n",
            "Epoch 1/10\n",
            "1875/1875 [==============================] - 4s 2ms/step - loss: 0.4948 - accuracy: 0.8813\n",
            "Epoch 2/10\n",
            "1875/1875 [==============================] - 3s 2ms/step - loss: 0.2306 - accuracy: 0.9344\n",
            "Epoch 3/10\n",
            "1875/1875 [==============================] - 3s 2ms/step - loss: 0.1813 - accuracy: 0.9479\n",
            "Epoch 4/10\n",
            "1875/1875 [==============================] - 3s 2ms/step - loss: 0.1510 - accuracy: 0.9572\n",
            "Epoch 5/10\n",
            "1875/1875 [==============================] - 3s 2ms/step - loss: 0.1303 - accuracy: 0.9626\n",
            "Epoch 6/10\n",
            "1875/1875 [==============================] - 3s 2ms/step - loss: 0.1142 - accuracy: 0.9680\n",
            "Epoch 7/10\n",
            "1875/1875 [==============================] - 3s 2ms/step - loss: 0.1018 - accuracy: 0.9720\n",
            "Epoch 8/10\n",
            "1875/1875 [==============================] - 3s 2ms/step - loss: 0.0915 - accuracy: 0.9750\n",
            "Epoch 9/10\n",
            "1875/1875 [==============================] - 3s 2ms/step - loss: 0.0828 - accuracy: 0.9772\n",
            "Epoch 10/10\n",
            "1875/1875 [==============================] - 3s 2ms/step - loss: 0.0756 - accuracy: 0.9795\n",
            "313/313 - 0s - loss: 0.1050 - accuracy: 0.9669\n",
            "test_loss: 0.1049971804022789\n",
            "test_accuracy: 0.9668999910354614\n"
          ],
          "name": "stdout"
        }
      ]
    },
    {
      "cell_type": "markdown",
      "metadata": {
        "id": "skVWoRt7Z9f-"
      },
      "source": [
        "### 다층 퍼셉트론 Overview\n",
        "\n",
        "- [What is the role of the bias in neural networks?](https://stackoverflow.com/questions/2480650/what-is-the-role-of-the-bias-in-neural-networks)\n",
        "- **다층 퍼셉트론(Multi-Layer Perceptron; MLP)**\n",
        "- **DNN(Deep Neural Network)**\n",
        "- **Fully-Connected Neural Network** -> MLP"
      ]
    },
    {
      "cell_type": "markdown",
      "metadata": {
        "id": "_XySlYE8a79P"
      },
      "source": [
        "### Parameters/Weights"
      ]
    },
    {
      "cell_type": "code",
      "metadata": {
        "colab": {
          "base_uri": "https://localhost:8080/"
        },
        "id": "_ZSrAMhlcsyT",
        "outputId": "c4aed1fa-5a70-4a88-c483-ed7d5be8ffb5"
      },
      "source": [
        "# 입력층의 모양(shape)\n",
        "print(x_train_reshaped.shape)\n",
        "\n",
        "# 테스트를 위해 x_train_reshaped의 앞 5개의 데이터를 가져온다\n",
        "X = x_train_reshaped[:5]\n",
        "print(X.shape)"
      ],
      "execution_count": 2,
      "outputs": [
        {
          "output_type": "stream",
          "text": [
            "(60000, 784)\n",
            "(5, 784)\n"
          ],
          "name": "stdout"
        }
      ]
    },
    {
      "cell_type": "code",
      "metadata": {
        "colab": {
          "base_uri": "https://localhost:8080/"
        },
        "id": "_gaUnHwOdPnR",
        "outputId": "df60bb72-be11-401f-e1b2-70a2e95331f3"
      },
      "source": [
        "# MLP 기반 딥러닝 모델을 Numpy로 다시 만들어본다\n",
        "weight_init_std = 0.1\n",
        "input_size = 784\n",
        "hidden_size = 50\n",
        "\n",
        "# 인접 레이어간 관계를 나타내는 파라미터 W를 생성하고 random 초기화\n",
        "W1 = weight_init_std * np.random.randn(input_size, hidden_size) # 가우시안 표준 정규 분포에서 난수 matrix array생성\n",
        "\n",
        "# 바이어스 파라미터 b를 생성하고 Zero로 초기화\n",
        "b1 = np.zeros(hidden_size)\n",
        "\n",
        "a1 = np.dot(X, W1) + b1 # 은닉층 출력\n",
        "\n",
        "print(W1.shape)\n",
        "print(b1.shape)\n",
        "print(a1.shape)"
      ],
      "execution_count": 3,
      "outputs": [
        {
          "output_type": "stream",
          "text": [
            "(784, 50)\n",
            "(50,)\n",
            "(5, 50)\n"
          ],
          "name": "stdout"
        }
      ]
    },
    {
      "cell_type": "code",
      "metadata": {
        "colab": {
          "base_uri": "https://localhost:8080/"
        },
        "id": "Qmr4yZGMd4ot",
        "outputId": "687fa004-a4f6-4adb-e409-d4b734535583"
      },
      "source": [
        "# 첫 번째 데이터의 은닉층 출력을 확인\n",
        "a1[0]"
      ],
      "execution_count": 4,
      "outputs": [
        {
          "output_type": "execute_result",
          "data": {
            "text/plain": [
              "array([-0.40568981,  0.15020417,  0.47497495,  0.03525855,  0.53463739,\n",
              "       -0.69223711, -1.02827081, -0.66427713, -0.65970925, -0.84804427,\n",
              "       -1.70924481, -1.1731063 , -1.61316629, -0.03663305,  0.23086301,\n",
              "        0.19410678,  0.41699383, -0.41171827, -0.19711678,  1.3274777 ,\n",
              "       -0.26938213,  0.30773385,  1.52529566, -0.18763187,  0.14848796,\n",
              "       -1.35574837, -0.53211084,  0.28227038, -0.44606402, -1.64236562,\n",
              "        0.31380329, -0.39327461, -0.8045489 ,  0.34814073, -0.36791301,\n",
              "       -0.52171896, -0.26980426,  1.69966868, -2.26197246,  0.55425936,\n",
              "        1.1913375 , -0.08898262, -0.97574425,  1.40141454,  1.21526803,\n",
              "       -0.4414148 ,  0.25681239,  1.50017038, -0.29444604, -1.07834535])"
            ]
          },
          "metadata": {
            "tags": []
          },
          "execution_count": 4
        }
      ]
    },
    {
      "cell_type": "markdown",
      "metadata": {
        "id": "pH9oPvuseBHq"
      },
      "source": [
        "## 15-3. 신경망 구성 (2) 활성화 함수와 손실 함수"
      ]
    },
    {
      "cell_type": "markdown",
      "metadata": {
        "id": "aEwbIFPEfKrN"
      },
      "source": [
        "### 활성화 함수 (Activation Functions)\n",
        "\n",
        "- [Why must a nonlinear activation function be used in a backpropagation neural network?](https://stackoverflow.com/questions/9782071/why-must-a-nonlinear-activation-function-be-used-in-a-backpropagation-neural-net/54503251#54503251)"
      ]
    },
    {
      "cell_type": "markdown",
      "metadata": {
        "id": "S7v4k8h5fR4C"
      },
      "source": [
        "### 1. sigmoid\n",
        "\n",
        "sigmoid보다 ReLU 함수를 더 많이 사용하는 이유\n",
        "- [vanishing gradient](https://brunch.co.kr/@chris-song/39) 현상이 발생한다.\n",
        "- exp 함수 사용 시 비용이 크다."
      ]
    },
    {
      "cell_type": "code",
      "metadata": {
        "colab": {
          "base_uri": "https://localhost:8080/"
        },
        "id": "r-g3CfGmhLWl",
        "outputId": "e0be7e7a-8104-47b7-efd0-4bd46803e897"
      },
      "source": [
        "def sigmoid(x):\n",
        "    return 1 / (1 + np.exp(-x))\n",
        "\n",
        "z1 = sigmoid(a1)\n",
        "print(z1[0]) # sigmoid의 출력은 모든 element가 0에서 1사이"
      ],
      "execution_count": 5,
      "outputs": [
        {
          "output_type": "stream",
          "text": [
            "[0.39994607 0.5374806  0.61656058 0.50881373 0.63056406 0.3335356\n",
            " 0.26341948 0.33977947 0.34080493 0.29984328 0.15326169 0.23629397\n",
            " 0.16614948 0.49084276 0.55746077 0.5483749  0.60276368 0.39850019\n",
            " 0.45087975 0.79042311 0.43305879 0.57633202 0.82131697 0.45322917\n",
            " 0.53705393 0.20493217 0.3700247  0.57010275 0.39029699 0.16214343\n",
            " 0.57781333 0.40292925 0.30905331 0.58616664 0.40904541 0.37245037\n",
            " 0.43295515 0.84549146 0.09432174 0.63512323 0.76698019 0.47776901\n",
            " 0.27373703 0.80240826 0.77122974 0.3914039  0.56385255 0.81759989\n",
            " 0.42691575 0.25381927]\n"
          ],
          "name": "stdout"
        }
      ]
    },
    {
      "cell_type": "markdown",
      "metadata": {
        "id": "Rihv4zfbhVok"
      },
      "source": [
        "### 2. Tanh\n",
        "- tanh 함수는 함수의 중심값을 0으로 옮겨 sigmoid의 최적화 과정이 느려지는 문제를 해결.\n",
        "- **vanishing gradient** 문제 존재."
      ]
    },
    {
      "cell_type": "markdown",
      "metadata": {
        "id": "xlqPElDVhxAV"
      },
      "source": [
        "### 3. ReLU\n",
        "- sigmoid, tanh 함수에 비해 학습이 빠름.\n",
        "- 연산 비용이 크지 않고, 구현이 매우 간단하다."
      ]
    },
    {
      "cell_type": "markdown",
      "metadata": {
        "id": "jt9kJVJbh2fE"
      },
      "source": [
        "#### 참고 자료\n",
        "- [딥러닝에서 사용하는 활성화 함수](https://reniew.github.io/12/)\n",
        "- [Activation Function](https://pozalabs.github.io/Activation_Function/)\n",
        "- [위키독스: 비선형 활성화 함수](https://wikidocs.net/60683)"
      ]
    },
    {
      "cell_type": "code",
      "metadata": {
        "id": "aU627AF4iPb_"
      },
      "source": [
        "# 단일 레이어 구현 함수\n",
        "def affine_layer_forward(X, W, b):\n",
        "    y = np.dot(X, W) + b\n",
        "    cache = (X, W, b)\n",
        "    return y, cache"
      ],
      "execution_count": 6,
      "outputs": []
    },
    {
      "cell_type": "code",
      "metadata": {
        "colab": {
          "base_uri": "https://localhost:8080/"
        },
        "id": "X-BzJpPYiXrO",
        "outputId": "43184212-34d5-44d0-bc70-5b90ac3fd0dd"
      },
      "source": [
        "input_size = 784\n",
        "hidden_size = 50\n",
        "output_size = 10\n",
        "\n",
        "W1 = weight_init_std * np.random.randn(input_size, hidden_size)\n",
        "b1 = np.zeros(hidden_size)\n",
        "W2 = weight_init_std * np.random.randn(hidden_size, output_size)\n",
        "b2 = np.zeros(output_size)\n",
        "\n",
        "a1, cache1 = affine_layer_forward(X, W1, b1)\n",
        "z1 = sigmoid(a1)\n",
        "a2, cache2 = affine_layer_forward(z1, W2, b2) # z1이 다시 두 번째 레이어의 입력이 된다\n",
        "\n",
        "print(a2[0]) # 최종 출력이 output_size 만큼의 벡터가 되었다"
      ],
      "execution_count": 7,
      "outputs": [
        {
          "output_type": "stream",
          "text": [
            "[-0.18749483  0.52671038  0.04811686  0.69348891  0.65440072  0.63875405\n",
            "  0.93367759  0.17532607  0.63499428 -0.32050926]\n"
          ],
          "name": "stdout"
        }
      ]
    },
    {
      "cell_type": "code",
      "metadata": {
        "id": "j2X35-whjHsB"
      },
      "source": [
        "# softmax 함수\n",
        "def softmax(x):\n",
        "    if x.ndim == 2:\n",
        "        x = x.T\n",
        "        x = x - np.max(x, axis=0)\n",
        "        y = np.exp(x) / np.sum(np.exp(x), axis=0)\n",
        "        return y.T\n",
        "\n",
        "    x = x - np.max(x) # 오버플로 대책\n",
        "    return np.exp(x) / np.sum(np.exp(x))"
      ],
      "execution_count": 8,
      "outputs": []
    },
    {
      "cell_type": "code",
      "metadata": {
        "colab": {
          "base_uri": "https://localhost:8080/"
        },
        "id": "71mO-U1GkiWJ",
        "outputId": "cbde308c-d661-4e6e-8ba1-67de7d0e2414"
      },
      "source": [
        "y_hat = softmax(a2)\n",
        "y_hat[0] # 10개의 숫자 중 하나일 확률"
      ],
      "execution_count": 9,
      "outputs": [
        {
          "output_type": "execute_result",
          "data": {
            "text/plain": [
              "array([0.05267469, 0.10759135, 0.06666944, 0.12711838, 0.12224541,\n",
              "       0.12034756, 0.16162962, 0.07571346, 0.11989593, 0.04611418])"
            ]
          },
          "metadata": {
            "tags": []
          },
          "execution_count": 9
        }
      ]
    },
    {
      "cell_type": "markdown",
      "metadata": {
        "id": "_C012-jTknTf"
      },
      "source": [
        "### 손실함수\n",
        "\n",
        "#### 평균제곱오차(MSE: Mean Square Error)\n",
        "#### 교차 엔트로피(Cross Entropy)\n",
        "#### 참고 자료\n",
        "- [Understanding different Loss Functions for Neural Networks.](https://towardsdatascience.com/understanding-different-loss-functions-for-neural-networks-dd1ed0274718)\n",
        "- [손실함수(Loss Function)](http://www.gisdeveloper.co.kr/?p=7631)"
      ]
    },
    {
      "cell_type": "code",
      "metadata": {
        "colab": {
          "base_uri": "https://localhost:8080/"
        },
        "id": "30n3b9ZKk_9v",
        "outputId": "bd8cfea7-2435-4714-8721-bde1362ee602"
      },
      "source": [
        "# 정답 라벨을 One-hot 인코딩하는 함수\n",
        "def _change_one_hot_label(X, num_category):\n",
        "    T = np.zeros((X.size, num_category))\n",
        "    for idx, row in enumerate(T):\n",
        "        row[X[idx]] = 1\n",
        "    return T\n",
        "\n",
        "Y_digit = y_train[:5]\n",
        "t = _change_one_hot_label(Y_digit, 10)\n",
        "t # 정답 라벨의 One-hot 인코딩"
      ],
      "execution_count": 10,
      "outputs": [
        {
          "output_type": "execute_result",
          "data": {
            "text/plain": [
              "array([[0., 0., 0., 0., 0., 1., 0., 0., 0., 0.],\n",
              "       [1., 0., 0., 0., 0., 0., 0., 0., 0., 0.],\n",
              "       [0., 0., 0., 0., 1., 0., 0., 0., 0., 0.],\n",
              "       [0., 1., 0., 0., 0., 0., 0., 0., 0., 0.],\n",
              "       [0., 0., 0., 0., 0., 0., 0., 0., 0., 1.]])"
            ]
          },
          "metadata": {
            "tags": []
          },
          "execution_count": 10
        }
      ]
    },
    {
      "cell_type": "code",
      "metadata": {
        "colab": {
          "base_uri": "https://localhost:8080/"
        },
        "id": "8Ld1zSM8luyA",
        "outputId": "732fc408-276b-4733-cc66-c37a0d989c26"
      },
      "source": [
        "print(y_hat[0])\n",
        "print(t[0])"
      ],
      "execution_count": 11,
      "outputs": [
        {
          "output_type": "stream",
          "text": [
            "[0.05267469 0.10759135 0.06666944 0.12711838 0.12224541 0.12034756\n",
            " 0.16162962 0.07571346 0.11989593 0.04611418]\n",
            "[0. 0. 0. 0. 0. 1. 0. 0. 0. 0.]\n"
          ],
          "name": "stdout"
        }
      ]
    },
    {
      "cell_type": "code",
      "metadata": {
        "colab": {
          "base_uri": "https://localhost:8080/"
        },
        "id": "DxA9ofmQlyKl",
        "outputId": "ccf502e2-e177-4247-ca2a-b32f5b07350a"
      },
      "source": [
        "def cross_entropy_error(y, t):\n",
        "    if y.ndim ==1:\n",
        "        t = t.reshape(1, t.size)\n",
        "        y = y.reshape(1, y.size)\n",
        "\n",
        "    # 훈련 데이터가 원-핫 벡터라면 정답 레이블의 인덱스로 반환\n",
        "    if t.size == y.size:\n",
        "        t = t.argmax(axis=1)\n",
        "\n",
        "    batch_size = y.shape[0]\n",
        "    return -np.sum(np.log(y[np.arange(batch_size), t])) / batch_size\n",
        "\n",
        "Loss = cross_entropy_error(y_hat, t)\n",
        "Loss"
      ],
      "execution_count": 12,
      "outputs": [
        {
          "output_type": "execute_result",
          "data": {
            "text/plain": [
              "2.5852455568289363"
            ]
          },
          "metadata": {
            "tags": []
          },
          "execution_count": 12
        }
      ]
    },
    {
      "cell_type": "markdown",
      "metadata": {
        "id": "H29MZrOWnXOc"
      },
      "source": [
        "## 15-4. 경사하강법\n",
        "\n",
        "- [[ ML ] 모두를 위한 TensorFlow (3) Gradient descent algorithm 기본](https://medium.com/@peteryun/ml-%EB%AA%A8%EB%91%90%EB%A5%BC-%EC%9C%84%ED%95%9C-tensorflow-3-gradient-descent-algorithm-%EA%B8%B0%EB%B3%B8-c0688208fc59)\n",
        "- [[머신러닝] lec 7-1 : 학습 Learning rate, Overfitting, 그리고 일반화](https://aileen93.tistory.com/71)\n",
        "- [가중치 초기화 (Weight Initialization)](https://reniew.github.io/13/)\n",
        "- [Classification and Loss Evaluation - Softmax and Cross Entropy Loss](https://deepnotes.io/softmax-crossentropy)"
      ]
    },
    {
      "cell_type": "code",
      "metadata": {
        "colab": {
          "base_uri": "https://localhost:8080/"
        },
        "id": "Caesf5PQpYZV",
        "outputId": "f50331c4-6003-401f-977b-aa9f6bf43420"
      },
      "source": [
        "batch_num = y_hat.shape[0]\n",
        "dy = (y_hat - t) / batch_num\n",
        "dy # softmax값의 출력으로 Loss를 미분한 값"
      ],
      "execution_count": 13,
      "outputs": [
        {
          "output_type": "execute_result",
          "data": {
            "text/plain": [
              "array([[ 0.01053494,  0.02151827,  0.01333389,  0.02542368,  0.02444908,\n",
              "        -0.17593049,  0.03232592,  0.01514269,  0.02397919,  0.00922284],\n",
              "       [-0.19199804,  0.01979818,  0.01417711,  0.02882605,  0.02195335,\n",
              "         0.02676875,  0.0274539 ,  0.02082192,  0.02260808,  0.0095907 ],\n",
              "       [ 0.00891656,  0.0184666 ,  0.0169811 ,  0.02314872, -0.17812648,\n",
              "         0.02979259,  0.03064169,  0.01955448,  0.01980502,  0.01081973],\n",
              "       [ 0.00945165, -0.18090059,  0.01346373,  0.02518908,  0.02206237,\n",
              "         0.02750219,  0.02686516,  0.02218515,  0.0234314 ,  0.01074987],\n",
              "       [ 0.00995296,  0.02164623,  0.0122209 ,  0.02263612,  0.02270527,\n",
              "         0.0259472 ,  0.03043491,  0.0224797 ,  0.02229931, -0.19032261]])"
            ]
          },
          "metadata": {
            "tags": []
          },
          "execution_count": 13
        }
      ]
    },
    {
      "cell_type": "code",
      "metadata": {
        "colab": {
          "base_uri": "https://localhost:8080/"
        },
        "id": "YiJhVx7Cpgyt",
        "outputId": "acdd12ac-b0ca-48c8-ce26-09b24e90e63f"
      },
      "source": [
        "dW2 = np.dot(z1.T, dy)\n",
        "dW2"
      ],
      "execution_count": 14,
      "outputs": [
        {
          "output_type": "execute_result",
          "data": {
            "text/plain": [
              "array([[-0.06358718, -0.0883621 ,  0.03074016,  0.05597507, -0.00943171,\n",
              "        -0.01312346,  0.06499961,  0.04569905,  0.05049071, -0.07340016],\n",
              "       [-0.00354152, -0.00809688,  0.01783798,  0.02958066, -0.06598501,\n",
              "        -0.0204293 ,  0.03705108,  0.02399722,  0.02678487, -0.0371991 ],\n",
              "       [-0.13953288, -0.07537005,  0.04921683,  0.08823934, -0.05636151,\n",
              "         0.01185671,  0.10271765,  0.07233924,  0.07846951, -0.13157484],\n",
              "       [-0.06733841, -0.00107882,  0.03537477,  0.06410259, -0.01907823,\n",
              "        -0.08939943,  0.07746137,  0.05004268,  0.05810953, -0.10819604],\n",
              "       [-0.1273039 , -0.04417295,  0.03813584,  0.06995668, -0.01955229,\n",
              "        -0.09804377,  0.08019985,  0.05214234,  0.06168883, -0.01305063],\n",
              "       [-0.09098096, -0.07797502,  0.04643734,  0.08406593, -0.02804386,\n",
              "        -0.08203172,  0.09915687,  0.06621202,  0.07578346, -0.09262405],\n",
              "       [-0.12778561, -0.03209086,  0.0472985 ,  0.08472446, -0.05961241,\n",
              "        -0.07111219,  0.09961016,  0.06606868,  0.07527645, -0.08237719],\n",
              "       [-0.12976954, -0.07187125,  0.03772383,  0.06868131, -0.02974823,\n",
              "        -0.04085916,  0.07797149,  0.05317857,  0.06037377, -0.0256808 ],\n",
              "       [-0.09279134, -0.04645287,  0.03606089,  0.06480916, -0.03631335,\n",
              "        -0.0186477 ,  0.07604024,  0.05234133,  0.057894  , -0.09294036],\n",
              "       [-0.12284711, -0.04821943,  0.04920318,  0.08884002, -0.04185034,\n",
              "        -0.07527908,  0.10458302,  0.06981037,  0.07944705, -0.10368768],\n",
              "       [-0.10766937, -0.01396778,  0.03264723,  0.05927959, -0.02406027,\n",
              "        -0.01208009,  0.06934598,  0.04783627,  0.05266782, -0.10399941],\n",
              "       [-0.05770125, -0.05716579,  0.02528027,  0.0441543 , -0.05607585,\n",
              "        -0.01459097,  0.0511777 ,  0.0348892 ,  0.03896458, -0.0089322 ],\n",
              "       [-0.09560773, -0.04771703,  0.04589386,  0.08229197, -0.04808511,\n",
              "        -0.08121172,  0.09763589,  0.06454851,  0.07387661, -0.09162524],\n",
              "       [-0.13969311, -0.02369548,  0.0483495 ,  0.0868305 , -0.05735752,\n",
              "        -0.06540812,  0.10199611,  0.06794974,  0.07705795, -0.09602956],\n",
              "       [-0.12916365, -0.05641464,  0.05405783,  0.09700356, -0.05863905,\n",
              "        -0.07651273,  0.11436056,  0.07640624,  0.08669809, -0.10779621],\n",
              "       [-0.03012703, -0.09241197,  0.01971295,  0.03664146,  0.01317715,\n",
              "        -0.02427266,  0.04190085,  0.02944637,  0.03335633, -0.02742345],\n",
              "       [-0.07826289, -0.06695017,  0.03637383,  0.06685743,  0.00194615,\n",
              "        -0.04936695,  0.07854832,  0.05358233,  0.0605125 , -0.10324054],\n",
              "       [-0.11007938, -0.05294179,  0.04639787,  0.08353018, -0.043871  ,\n",
              "        -0.07004359,  0.09836637,  0.06568987,  0.0747368 , -0.09178532],\n",
              "       [-0.07197981, -0.05286507,  0.02783268,  0.04839366, -0.06624558,\n",
              "         0.02132141,  0.05625872,  0.03979622,  0.0426421 , -0.04515432],\n",
              "       [-0.13820974, -0.08505394,  0.04562306,  0.08372545, -0.01388579,\n",
              "        -0.05775907,  0.09617718,  0.06557096,  0.07445113, -0.07063923],\n",
              "       [-0.07258831, -0.03220448,  0.02853125,  0.05221236, -0.00757439,\n",
              "        -0.04423241,  0.06134075,  0.04126108,  0.0469072 , -0.07365303],\n",
              "       [-0.14133329, -0.04440797,  0.0486216 ,  0.0871705 , -0.06192409,\n",
              "        -0.05892128,  0.10169282,  0.06816466,  0.07717013, -0.07623308],\n",
              "       [-0.10982081, -0.07877196,  0.03804815,  0.06940159, -0.02126705,\n",
              "        -0.05527682,  0.07962148,  0.05388329,  0.06161209, -0.03742996],\n",
              "       [-0.04124004, -0.08747108,  0.03578493,  0.06176654, -0.08170122,\n",
              "         0.01068792,  0.07371311,  0.05157641,  0.05564738, -0.07876397],\n",
              "       [-0.13500433, -0.08851739,  0.0333629 ,  0.06326419,  0.02810578,\n",
              "        -0.04361149,  0.07027842,  0.04881886,  0.05583409, -0.03253104],\n",
              "       [-0.07916748, -0.02558577,  0.02789184,  0.04836318, -0.07327772,\n",
              "        -0.00524502,  0.05651747,  0.0384447 ,  0.04235241, -0.03029362],\n",
              "       [-0.05106301, -0.0452919 ,  0.02677434,  0.04801843, -0.02592969,\n",
              "        -0.03563924,  0.05674036,  0.03821891,  0.04321752, -0.05504572],\n",
              "       [-0.07165822, -0.05640927,  0.03518224,  0.06192767, -0.06555214,\n",
              "        -0.05725873,  0.07278616,  0.04799833,  0.05506198, -0.02207802],\n",
              "       [-0.11281655, -0.02947927,  0.03621215,  0.06393696, -0.06963792,\n",
              "        -0.00565639,  0.07447973,  0.05112687,  0.05620087, -0.06436644],\n",
              "       [-0.09663815, -0.03765721,  0.04053038,  0.07221621, -0.05713224,\n",
              "        -0.06453474,  0.08517326,  0.0563165 ,  0.06432268, -0.06259667],\n",
              "       [-0.06260146, -0.0895521 ,  0.03000862,  0.05433527, -0.01798477,\n",
              "        -0.02169946,  0.06283181,  0.04368857,  0.04878978, -0.04781627],\n",
              "       [-0.10716477, -0.02644635,  0.03316021,  0.05941554, -0.04308853,\n",
              "        -0.00149784,  0.06918576,  0.04800072,  0.05250502, -0.08406975],\n",
              "       [-0.11112668, -0.01624448,  0.02449817,  0.04528749, -0.00831853,\n",
              "        -0.0087095 ,  0.05126197,  0.03564708,  0.03956086, -0.05185639],\n",
              "       [-0.12342414,  0.00915089,  0.03489403,  0.06168093, -0.06818202,\n",
              "        -0.00018174,  0.07237706,  0.04953055,  0.05406512, -0.08991068],\n",
              "       [-0.08897102, -0.02932063,  0.04415927,  0.07838221, -0.0628137 ,\n",
              "        -0.05936067,  0.09377685,  0.06234867,  0.0703643 , -0.10856528],\n",
              "       [-0.05292947, -0.03348638,  0.03848844,  0.0681525 , -0.05015102,\n",
              "        -0.04260783,  0.08266228,  0.05549478,  0.06191038, -0.12753369],\n",
              "       [-0.01526164, -0.03689445,  0.03031643,  0.05183486, -0.07400968,\n",
              "         0.00196152,  0.06405938,  0.04400562,  0.04734375, -0.11335579],\n",
              "       [-0.05249212, -0.07458459,  0.04415918,  0.07710522, -0.08472381,\n",
              "        -0.06317057,  0.09251209,  0.06135471,  0.06953038, -0.06969049],\n",
              "       [-0.01247148, -0.03497612,  0.02421253,  0.04233784, -0.03790402,\n",
              "        -0.01954823,  0.05201696,  0.03523807,  0.03886553, -0.08777108],\n",
              "       [-0.11605595, -0.01778314,  0.03336965,  0.06155617, -0.00384523,\n",
              "        -0.02527306,  0.07159704,  0.049225  ,  0.05480096, -0.10759144],\n",
              "       [-0.03537421, -0.09096907,  0.04062907,  0.07217435, -0.04209131,\n",
              "        -0.0383938 ,  0.08685567,  0.0593081 ,  0.06597773, -0.11811653],\n",
              "       [-0.1044653 , -0.02244784,  0.03343722,  0.06101881, -0.01899994,\n",
              "        -0.05213654,  0.07112508,  0.04752052,  0.05422488, -0.06927689],\n",
              "       [-0.04421518, -0.07376506,  0.0301388 ,  0.05437174, -0.02039555,\n",
              "        -0.06959294,  0.06398882,  0.04219491,  0.04915434, -0.03187988],\n",
              "       [-0.05700583, -0.03826991,  0.03104649,  0.05423925, -0.06005151,\n",
              "         0.01023524,  0.06493742,  0.04529478,  0.04871372, -0.09913964],\n",
              "       [-0.04333887, -0.07716592,  0.01861919,  0.03457017,  0.00843553,\n",
              "        -0.00635768,  0.03920248,  0.02812052,  0.03114817, -0.03323359],\n",
              "       [-0.14552562, -0.04862028,  0.03984055,  0.07377886, -0.00467377,\n",
              "        -0.07206941,  0.08419798,  0.05637376,  0.06512732, -0.0484294 ],\n",
              "       [-0.11244252, -0.0572627 ,  0.03397975,  0.06308137,  0.00545613,\n",
              "        -0.03535149,  0.07234056,  0.04987199,  0.05618314, -0.07585622],\n",
              "       [-0.10033241, -0.04834848,  0.03179855,  0.05700902, -0.03958632,\n",
              "         0.01043712,  0.06584681,  0.04645942,  0.05038732, -0.07367102],\n",
              "       [-0.13588012, -0.02414064,  0.04246708,  0.0743357 , -0.10195785,\n",
              "        -0.04539183,  0.08632119,  0.05714235,  0.06477509, -0.01767098],\n",
              "       [-0.12397913, -0.07335835,  0.05074329,  0.0910197 , -0.05584882,\n",
              "        -0.05092855,  0.10664375,  0.07233593,  0.08123689, -0.09786472]])"
            ]
          },
          "metadata": {
            "tags": []
          },
          "execution_count": 14
        }
      ]
    },
    {
      "cell_type": "code",
      "metadata": {
        "id": "EPHQmvSrpmv9"
      },
      "source": [
        "dW2 = np.dot(z1.T, dy)\n",
        "db2 = np.sum(dy, axis=0)"
      ],
      "execution_count": 15,
      "outputs": []
    },
    {
      "cell_type": "code",
      "metadata": {
        "id": "n5UckOQiptfs"
      },
      "source": [
        "def sigmoid_grad(x):\n",
        "    return (1.0 - sigmoid(x)) * sigmoid(x)"
      ],
      "execution_count": 16,
      "outputs": []
    },
    {
      "cell_type": "code",
      "metadata": {
        "id": "lgWbYSnZpxdr"
      },
      "source": [
        "dz1 = np.dot(dy, W2.T)\n",
        "da1 = sigmoid_grad(a1) * dz1\n",
        "dW1 = np.dot(X.T, da1)\n",
        "db1 = np.sum(dz1, axis=0)"
      ],
      "execution_count": 17,
      "outputs": []
    },
    {
      "cell_type": "code",
      "metadata": {
        "id": "LOUgyuHXsRl0"
      },
      "source": [
        "learning_rate = 0.1 # 파라미터 업데이트하는데 learning rate 고려\n",
        "\n",
        "def update_params(W1, b1, W2, b2, dW1, db1, dW2, db2, learning_rate):\n",
        "    W1 = W1 - learning_rate*dW1\n",
        "    b1 = b1 - learning_rate*db1\n",
        "    W2 = W2 - learning_rate*dW2\n",
        "    b2 = b2 - learning_rate*db2\n",
        "    return W1, b1, W2, b2"
      ],
      "execution_count": 18,
      "outputs": []
    },
    {
      "cell_type": "markdown",
      "metadata": {
        "id": "scK8d4QrsZi7"
      },
      "source": [
        "## 15-5. 오차역전파법이란?\n"
      ]
    },
    {
      "cell_type": "code",
      "metadata": {
        "id": "0TzwC6GIsxkQ"
      },
      "source": [
        "def affine_layer_backward(dy, cache):\n",
        "    X, W, b = cache\n",
        "    dX = np.dot(dy, W.T)\n",
        "    dW = np.dot(X.T, dy)\n",
        "    db = np.sum(dy, axis=0)\n",
        "    return dX, dW, db"
      ],
      "execution_count": 19,
      "outputs": []
    },
    {
      "cell_type": "code",
      "metadata": {
        "colab": {
          "base_uri": "https://localhost:8080/"
        },
        "id": "E4SaaAD8sx2q",
        "outputId": "264508dd-ba14-441c-88dc-27ab5ccd5a2f"
      },
      "source": [
        "# 파라미터 초기화\n",
        "W1 = weight_init_std * np.random.randn(input_size, hidden_size)\n",
        "b1 = np.zeros(hidden_size)\n",
        "W2 = weight_init_std * np.random.randn(hidden_size, output_size)\n",
        "b2 = np.zeros(output_size)\n",
        "\n",
        "# Forward Propagation\n",
        "a1, cache1 = affine_layer_forward(X, W1, b1)\n",
        "z1 = sigmoid(a1)\n",
        "a2, cache2 = affine_layer_forward(z1, W2, b2)\n",
        "\n",
        "# 추론과 오차(Loss) 계산\n",
        "y_hat = softmax(a2)\n",
        "t = _change_one_hot_label(Y_digit, 10)   # 정답 One-hot 인코딩\n",
        "Loss = cross_entropy_error(y_hat, t)\n",
        "\n",
        "print(y_hat)\n",
        "print(t)\n",
        "print('Loss: ', Loss)\n",
        "        \n",
        "dy = (y_hat - t) / X.shape[0]\n",
        "dz1, dW2, db2 = affine_layer_backward(dy, cache2)\n",
        "da1 = sigmoid_grad(a1) * dz1\n",
        "dX, dW1, db1 = affine_layer_backward(da1, cache1)\n",
        "\n",
        "# 경사하강법을 통한 파라미터 업데이트    \n",
        "learning_rate = 0.1\n",
        "W1, b1, W2, b2 = update_params(W1, b1, W2, b2, dW1, db1, dW2, db2, learning_rate)"
      ],
      "execution_count": 20,
      "outputs": [
        {
          "output_type": "stream",
          "text": [
            "[[0.07854101 0.08583584 0.16195867 0.03628619 0.14363453 0.14344054\n",
            "  0.08655567 0.13248348 0.04979976 0.08146432]\n",
            " [0.08929667 0.07754062 0.14601446 0.04120935 0.16415818 0.13229204\n",
            "  0.07506148 0.13046724 0.04908107 0.0948789 ]\n",
            " [0.0741119  0.0724017  0.14967661 0.03875492 0.13515956 0.16858943\n",
            "  0.08003447 0.14433994 0.05161978 0.08531168]\n",
            " [0.08529008 0.09120665 0.18317372 0.03813327 0.14060426 0.11646996\n",
            "  0.0772531  0.14050043 0.04609904 0.08126948]\n",
            " [0.09147438 0.07906725 0.18298582 0.03998373 0.13211183 0.11414967\n",
            "  0.08231523 0.14287568 0.04860581 0.0864306 ]]\n",
            "[[0. 0. 0. 0. 0. 1. 0. 0. 0. 0.]\n",
            " [1. 0. 0. 0. 0. 0. 0. 0. 0. 0.]\n",
            " [0. 0. 0. 0. 1. 0. 0. 0. 0. 0.]\n",
            " [0. 1. 0. 0. 0. 0. 0. 0. 0. 0.]\n",
            " [0. 0. 0. 0. 0. 0. 0. 0. 0. 1.]]\n",
            "Loss:  2.2403931915505937\n"
          ],
          "name": "stdout"
        }
      ]
    },
    {
      "cell_type": "markdown",
      "metadata": {
        "id": "1zuPOcXZs0QK"
      },
      "source": [
        "## 15-6. 모델 학습 Step-by-Step"
      ]
    },
    {
      "cell_type": "code",
      "metadata": {
        "id": "jeQ-3mBFs5eH"
      },
      "source": [
        "W1 = weight_init_std * np.random.randn(input_size, hidden_size)\n",
        "b1 = np.zeros(hidden_size)\n",
        "W2 = weight_init_std * np.random.randn(hidden_size, output_size)\n",
        "b2 = np.zeros(output_size)\n",
        "\n",
        "def train_step(X, Y, W1, b1, W2, b2, learning_rate=0.1, verbose=False):\n",
        "    a1, cache1 = affine_layer_forward(X, W1, b1)\n",
        "    z1 = sigmoid(a1)\n",
        "    a2, cache2 = affine_layer_forward(z1, W2, b2)\n",
        "    y_hat = softmax(a2)\n",
        "    t = _change_one_hot_label(Y, 10)\n",
        "    Loss = cross_entropy_error(y_hat, t)\n",
        "\n",
        "    if verbose:\n",
        "        print('---------')\n",
        "        print(y_hat)\n",
        "        print(t)\n",
        "        print('Loss: ', Loss)\n",
        "        \n",
        "    dy = (y_hat - t) / X.shape[0]\n",
        "    dz1, dW2, db2 = affine_layer_backward(dy, cache2)\n",
        "    da1 = sigmoid_grad(a1) * dz1\n",
        "    dX, dW1, db1 = affine_layer_backward(da1, cache1)\n",
        "    \n",
        "    W1, b1, W2, b2 = update_params(W1, b1, W2, b2, dW1, db1, dW2, db2, learning_rate)\n",
        "    \n",
        "    return W1, b1, W2, b2, Loss"
      ],
      "execution_count": 21,
      "outputs": []
    },
    {
      "cell_type": "code",
      "metadata": {
        "colab": {
          "base_uri": "https://localhost:8080/"
        },
        "id": "xntfNDcZs6vT",
        "outputId": "29cfbd5b-302b-45d0-897a-c6318abef368"
      },
      "source": [
        "X = x_train_reshaped[:5]\n",
        "Y = y_train[:5]\n",
        "\n",
        "# train_step을 다섯 번 반복 돌립니다.\n",
        "for i in range(5):\n",
        "    W1, b1, W2, b2, _ = train_step(X, Y, W1, b1, W2, b2, learning_rate=0.1, verbose=True)"
      ],
      "execution_count": 22,
      "outputs": [
        {
          "output_type": "stream",
          "text": [
            "---------\n",
            "[[0.10751559 0.08953856 0.12133613 0.05899732 0.1883878  0.07261783\n",
            "  0.08164345 0.13325444 0.06017146 0.08653743]\n",
            " [0.1154696  0.08658154 0.11797907 0.06141441 0.14453371 0.10248901\n",
            "  0.08397174 0.14921289 0.0611604  0.07718763]\n",
            " [0.12322821 0.07252239 0.11183499 0.05027784 0.18469764 0.1017306\n",
            "  0.06775562 0.13777928 0.05961889 0.09055457]\n",
            " [0.10763685 0.08898321 0.09976611 0.06538768 0.18751228 0.09320573\n",
            "  0.08291292 0.12495163 0.06141159 0.08823199]\n",
            " [0.10844757 0.07460602 0.13157959 0.06320404 0.16558187 0.08236353\n",
            "  0.08821284 0.1332635  0.05970736 0.09303368]]\n",
            "[[0. 0. 0. 0. 0. 1. 0. 0. 0. 0.]\n",
            " [1. 0. 0. 0. 0. 0. 0. 0. 0. 0.]\n",
            " [0. 0. 0. 0. 1. 0. 0. 0. 0. 0.]\n",
            " [0. 1. 0. 0. 0. 0. 0. 0. 0. 0.]\n",
            " [0. 0. 0. 0. 0. 0. 0. 0. 0. 1.]]\n",
            "Loss:  2.25288584731265\n",
            "---------\n",
            "[[0.12403336 0.10805693 0.09791501 0.05248309 0.19404796 0.09144132\n",
            "  0.07043472 0.10571426 0.05341281 0.10246055]\n",
            " [0.13837199 0.10394777 0.09547357 0.05437695 0.14726454 0.12345676\n",
            "  0.07220959 0.11877882 0.05412003 0.09199999]\n",
            " [0.13768286 0.08621492 0.09021292 0.04432964 0.19872833 0.11942875\n",
            "  0.05772962 0.10648521 0.05293617 0.10625158]\n",
            " [0.12151686 0.11147272 0.08013996 0.05766119 0.19078852 0.10972579\n",
            "  0.0712821  0.09802345 0.05456378 0.10482562]\n",
            " [0.12458371 0.09057492 0.10793291 0.05607658 0.17130598 0.09759934\n",
            "  0.07637229 0.10522727 0.05360723 0.11671977]]\n",
            "[[0. 0. 0. 0. 0. 1. 0. 0. 0. 0.]\n",
            " [1. 0. 0. 0. 0. 0. 0. 0. 0. 0.]\n",
            " [0. 0. 0. 0. 1. 0. 0. 0. 0. 0.]\n",
            " [0. 1. 0. 0. 0. 0. 0. 0. 0. 0.]\n",
            " [0. 0. 0. 0. 0. 0. 0. 0. 0. 1.]]\n",
            "Loss:  2.0655277631925113\n",
            "---------\n",
            "[[0.13632162 0.12394793 0.08046567 0.0463563  0.19415023 0.10943942\n",
            "  0.06074045 0.0863718  0.04698923 0.11521735]\n",
            " [0.15773543 0.11843249 0.07863254 0.04776397 0.14560933 0.14110111\n",
            "  0.06199232 0.09723316 0.04741683 0.10408283]\n",
            " [0.14705208 0.09781991 0.07429232 0.03890651 0.20810436 0.13381775\n",
            "  0.04930172 0.08499659 0.04672071 0.11898805]\n",
            " [0.13099503 0.13309969 0.06569185 0.05059683 0.18889634 0.12314431\n",
            "  0.06139974 0.07938154 0.04814315 0.11865152]\n",
            " [0.13620954 0.10448112 0.09003993 0.04933858 0.17193973 0.10982303\n",
            "  0.06601848 0.08546355 0.04765655 0.13902947]]\n",
            "[[0. 0. 0. 0. 0. 1. 0. 0. 0. 0.]\n",
            " [1. 0. 0. 0. 0. 0. 0. 0. 0. 0.]\n",
            " [0. 0. 0. 0. 1. 0. 0. 0. 0. 0.]\n",
            " [0. 1. 0. 0. 0. 0. 0. 0. 0. 0.]\n",
            " [0. 0. 0. 0. 0. 0. 0. 0. 0. 1.]]\n",
            "Loss:  1.9237324401758844\n",
            "---------\n",
            "[[0.1452071  0.13699987 0.06729541 0.04099714 0.19203384 0.12630475\n",
            "  0.05269366 0.07223447 0.041341   0.12489277]\n",
            " [0.17419043 0.12998924 0.06592333 0.04201622 0.14232388 0.15547867\n",
            "  0.05353468 0.0814391  0.04154886 0.1135556 ]\n",
            " [0.15264508 0.10730009 0.06242113 0.03427264 0.21580691 0.14511612\n",
            "  0.04247028 0.06965672 0.04134627 0.12896477]\n",
            " [0.1370661  0.15341542 0.05487471 0.04451656 0.18507789 0.13357615\n",
            "  0.05328732 0.06590906 0.04253258 0.12974418]\n",
            " [0.1442194  0.11611956 0.07637302 0.04342906 0.17042652 0.11911477\n",
            "  0.05736939 0.07099487 0.04233886 0.15961456]]\n",
            "[[0. 0. 0. 0. 0. 1. 0. 0. 0. 0.]\n",
            " [1. 0. 0. 0. 0. 0. 0. 0. 0. 0.]\n",
            " [0. 0. 0. 0. 1. 0. 0. 0. 0. 0.]\n",
            " [0. 1. 0. 0. 0. 0. 0. 0. 0. 0.]\n",
            " [0. 0. 0. 0. 0. 0. 0. 0. 0. 1.]]\n",
            "Loss:  1.811926854239399\n",
            "---------\n",
            "[[0.15161335 0.14731498 0.05719076 0.03644738 0.18936662 0.14199354\n",
            "  0.0461037  0.06158875 0.03653223 0.13184869]\n",
            " [0.18856779 0.13884162 0.05619338 0.03717494 0.13873174 0.16696453\n",
            "  0.04664595 0.06954451 0.03658448 0.12075107]\n",
            " [0.15562607 0.11477312 0.05339999 0.03040303 0.2233887  0.15372702\n",
            "  0.03697549 0.05834572 0.03682137 0.13653949]\n",
            " [0.1407245  0.17225241 0.04662014 0.03940692 0.18089347 0.14139449\n",
            "  0.0466912  0.05585116 0.03776893 0.13839678]\n",
            " [0.14958765 0.1255478  0.06578629 0.03840432 0.16826734 0.12582454\n",
            "  0.05025677 0.06009473 0.03775819 0.17847237]]\n",
            "[[0. 0. 0. 0. 0. 1. 0. 0. 0. 0.]\n",
            " [1. 0. 0. 0. 0. 0. 0. 0. 0. 0.]\n",
            " [0. 0. 0. 0. 1. 0. 0. 0. 0. 0.]\n",
            " [0. 1. 0. 0. 0. 0. 0. 0. 0. 0.]\n",
            " [0. 0. 0. 0. 0. 0. 0. 0. 0. 1.]]\n",
            "Loss:  1.7202458542019656\n"
          ],
          "name": "stdout"
        }
      ]
    },
    {
      "cell_type": "markdown",
      "metadata": {
        "id": "FsFkxArXtGzg"
      },
      "source": [
        "## 15-7. 추론 과정 구현과 정확도(Accuracy) 계산"
      ]
    },
    {
      "cell_type": "code",
      "metadata": {
        "id": "-jQzSKaktMvB"
      },
      "source": [
        "def predict(W1, b1, W2, b2, X):\n",
        "    a1 = np.dot(X, W1) + b1\n",
        "    z1 = sigmoid(a1)\n",
        "    a2 = np.dot(z1, W2) + b2\n",
        "    y = softmax(a2)\n",
        "\n",
        "    return y"
      ],
      "execution_count": 23,
      "outputs": []
    },
    {
      "cell_type": "code",
      "metadata": {
        "colab": {
          "base_uri": "https://localhost:8080/"
        },
        "id": "5nqQVgjEtPE1",
        "outputId": "42d75389-ed96-4dbe-8fa0-f35731ca5298"
      },
      "source": [
        "# X = x_train[:100] 에 대해 모델 추론을 시도합니다. \n",
        "X = x_train_reshaped[:100]\n",
        "Y = y_test[:100]\n",
        "result = predict(W1, b1, W2, b2, X)\n",
        "result[0]"
      ],
      "execution_count": 24,
      "outputs": [
        {
          "output_type": "execute_result",
          "data": {
            "text/plain": [
              "array([0.15631047, 0.15517733, 0.04930513, 0.03262571, 0.18684658,\n",
              "       0.15661544, 0.04071253, 0.0533748 , 0.0324866 , 0.13654542])"
            ]
          },
          "metadata": {
            "tags": []
          },
          "execution_count": 24
        }
      ]
    },
    {
      "cell_type": "code",
      "metadata": {
        "id": "RV_LUEsrtQHn"
      },
      "source": [
        "def accuracy(W1, b1, W2, b2, x, y):\n",
        "    y_hat = predict(W1, b1, W2, b2, x)\n",
        "    y_hat = np.argmax(y_hat, axis=1)\n",
        "\n",
        "    accuracy = np.sum(y_hat == y) / float(x.shape[0])\n",
        "    return accuracy"
      ],
      "execution_count": 25,
      "outputs": []
    },
    {
      "cell_type": "code",
      "metadata": {
        "colab": {
          "base_uri": "https://localhost:8080/"
        },
        "id": "aQjIsRa8tRLc",
        "outputId": "ac814b82-d277-4c42-a155-beeea03fa991"
      },
      "source": [
        "acc = accuracy(W1, b1, W2, b2, X, Y)\n",
        "\n",
        "t = _change_one_hot_label(Y, 10)\n",
        "print(result[0])\n",
        "print(t[0])\n",
        "print(acc)"
      ],
      "execution_count": 26,
      "outputs": [
        {
          "output_type": "stream",
          "text": [
            "[0.15631047 0.15517733 0.04930513 0.03262571 0.18684658 0.15661544\n",
            " 0.04071253 0.0533748  0.0324866  0.13654542]\n",
            "[0. 0. 0. 0. 0. 0. 0. 1. 0. 0.]\n",
            "0.07\n"
          ],
          "name": "stdout"
        }
      ]
    },
    {
      "cell_type": "markdown",
      "metadata": {
        "id": "RPf8XEFTtSCH"
      },
      "source": [
        "## 15-8. 전체 학습 사이클 수행"
      ]
    },
    {
      "cell_type": "code",
      "metadata": {
        "id": "aLevUaVttWLO"
      },
      "source": [
        "def init_params(input_size, hidden_size, output_size, weight_init_std=0.01):\n",
        "\n",
        "    W1 = weight_init_std * np.random.randn(input_size, hidden_size)\n",
        "    b1 = np.zeros(hidden_size)\n",
        "    W2 = weight_init_std * np.random.randn(hidden_size, output_size)\n",
        "    b2 = np.zeros(output_size)\n",
        "\n",
        "    print(W1.shape)\n",
        "    print(b1.shape)\n",
        "    print(W2.shape)\n",
        "    print(b2.shape)\n",
        "    \n",
        "    return W1, b1, W2, b2"
      ],
      "execution_count": 27,
      "outputs": []
    },
    {
      "cell_type": "code",
      "metadata": {
        "colab": {
          "base_uri": "https://localhost:8080/"
        },
        "id": "jJvUDcYotXSX",
        "outputId": "4904437c-8338-49b2-f95d-b52f17d594eb"
      },
      "source": [
        "# 하이퍼파라미터\n",
        "iters_num = 50000  # 반복 횟수를 적절히 설정한다.\n",
        "train_size = x_train.shape[0]\n",
        "batch_size = 100   # 미니배치 크기\n",
        "learning_rate = 0.1\n",
        "\n",
        "train_loss_list = []\n",
        "train_acc_list = []\n",
        "test_acc_list = []\n",
        "\n",
        "# 1에폭당 반복 수\n",
        "iter_per_epoch = max(train_size / batch_size, 1)\n",
        "\n",
        "W1, b1, W2, b2 = init_params(784, 50, 10)\n",
        "\n",
        "for i in range(iters_num):\n",
        "    # 미니배치 획득\n",
        "    batch_mask = np.random.choice(train_size, batch_size)\n",
        "    x_batch = x_train_reshaped[batch_mask]\n",
        "    y_batch = y_train[batch_mask]\n",
        "    \n",
        "    W1, b1, W2, b2, Loss = train_step(x_batch, y_batch, W1, b1, W2, b2, learning_rate=0.1, verbose=False)\n",
        "\n",
        "    # 학습 경과 기록\n",
        "    train_loss_list.append(Loss)\n",
        "    \n",
        "    # 1에폭당 정확도 계산\n",
        "    if i % iter_per_epoch == 0:\n",
        "        print('Loss: ', Loss)\n",
        "        train_acc = accuracy(W1, b1, W2, b2, x_train_reshaped, y_train)\n",
        "        test_acc = accuracy(W1, b1, W2, b2, x_test_reshaped, y_test)\n",
        "        train_acc_list.append(train_acc)\n",
        "        test_acc_list.append(test_acc)\n",
        "        print(\"train acc, test acc | \" + str(train_acc) + \", \" + str(test_acc))"
      ],
      "execution_count": 28,
      "outputs": [
        {
          "output_type": "stream",
          "text": [
            "(784, 50)\n",
            "(50,)\n",
            "(50, 10)\n",
            "(10,)\n",
            "Loss:  2.304916422295134\n",
            "train acc, test acc | 0.10218333333333333, 0.101\n",
            "Loss:  0.8743931164224138\n",
            "train acc, test acc | 0.7884833333333333, 0.7905\n",
            "Loss:  0.4243152357162353\n",
            "train acc, test acc | 0.87615, 0.8826\n",
            "Loss:  0.4261118386612813\n",
            "train acc, test acc | 0.8974166666666666, 0.9022\n",
            "Loss:  0.27563586170171583\n",
            "train acc, test acc | 0.9083833333333333, 0.9098\n",
            "Loss:  0.23214605122402215\n",
            "train acc, test acc | 0.9149666666666667, 0.9179\n",
            "Loss:  0.34510938148487214\n",
            "train acc, test acc | 0.9200333333333334, 0.9233\n",
            "Loss:  0.28068647988640405\n",
            "train acc, test acc | 0.9239833333333334, 0.9244\n",
            "Loss:  0.2778968612347907\n",
            "train acc, test acc | 0.9286833333333333, 0.9296\n",
            "Loss:  0.12112261164424493\n",
            "train acc, test acc | 0.93165, 0.9337\n",
            "Loss:  0.27210503358485244\n",
            "train acc, test acc | 0.9345833333333333, 0.9355\n",
            "Loss:  0.24932533219533226\n",
            "train acc, test acc | 0.9376333333333333, 0.9371\n",
            "Loss:  0.23033720822430495\n",
            "train acc, test acc | 0.9399166666666666, 0.9394\n",
            "Loss:  0.18758175424755155\n",
            "train acc, test acc | 0.9423833333333334, 0.9411\n",
            "Loss:  0.20961124517460028\n",
            "train acc, test acc | 0.9433166666666667, 0.9436\n",
            "Loss:  0.13666858759181513\n",
            "train acc, test acc | 0.9460333333333333, 0.9444\n",
            "Loss:  0.1338978502791449\n",
            "train acc, test acc | 0.9472666666666667, 0.9459\n",
            "Loss:  0.073359782919483\n",
            "train acc, test acc | 0.9486833333333333, 0.9465\n",
            "Loss:  0.2188364717250057\n",
            "train acc, test acc | 0.9501333333333334, 0.9477\n",
            "Loss:  0.22315431231019078\n",
            "train acc, test acc | 0.9512666666666667, 0.949\n",
            "Loss:  0.29797048264560966\n",
            "train acc, test acc | 0.95205, 0.9492\n",
            "Loss:  0.2042182762433344\n",
            "train acc, test acc | 0.9536166666666667, 0.951\n",
            "Loss:  0.1465123788652029\n",
            "train acc, test acc | 0.9551666666666667, 0.9521\n",
            "Loss:  0.15371327160096712\n",
            "train acc, test acc | 0.95595, 0.9531\n",
            "Loss:  0.13334551244392895\n",
            "train acc, test acc | 0.95695, 0.9534\n",
            "Loss:  0.18696802046410632\n",
            "train acc, test acc | 0.9580333333333333, 0.9544\n",
            "Loss:  0.14585085245849944\n",
            "train acc, test acc | 0.9592166666666667, 0.9555\n",
            "Loss:  0.11497098105176588\n",
            "train acc, test acc | 0.9599333333333333, 0.9567\n",
            "Loss:  0.09858925065544419\n",
            "train acc, test acc | 0.9607666666666667, 0.9564\n",
            "Loss:  0.19138840988151318\n",
            "train acc, test acc | 0.9614666666666667, 0.9568\n",
            "Loss:  0.14730601806611865\n",
            "train acc, test acc | 0.9626833333333333, 0.9575\n",
            "Loss:  0.23020457744863393\n",
            "train acc, test acc | 0.9632166666666667, 0.9587\n",
            "Loss:  0.09815590445851574\n",
            "train acc, test acc | 0.9647833333333333, 0.9596\n",
            "Loss:  0.0970915618536823\n",
            "train acc, test acc | 0.9650666666666666, 0.9595\n",
            "Loss:  0.12200224798876906\n",
            "train acc, test acc | 0.9652833333333334, 0.9609\n",
            "Loss:  0.13419001706898692\n",
            "train acc, test acc | 0.9660333333333333, 0.961\n",
            "Loss:  0.15357422987375313\n",
            "train acc, test acc | 0.9667666666666667, 0.9625\n",
            "Loss:  0.1822212880828496\n",
            "train acc, test acc | 0.9671666666666666, 0.9622\n",
            "Loss:  0.07071743483352937\n",
            "train acc, test acc | 0.9678666666666667, 0.9628\n",
            "Loss:  0.08373831867751452\n",
            "train acc, test acc | 0.96835, 0.9632\n",
            "Loss:  0.09256343767929065\n",
            "train acc, test acc | 0.9691166666666666, 0.963\n",
            "Loss:  0.08229618471059451\n",
            "train acc, test acc | 0.96945, 0.9641\n",
            "Loss:  0.09413677597452018\n",
            "train acc, test acc | 0.9701166666666666, 0.9644\n",
            "Loss:  0.10352093865645483\n",
            "train acc, test acc | 0.9704333333333334, 0.9645\n",
            "Loss:  0.11357603123805518\n",
            "train acc, test acc | 0.9711166666666666, 0.9642\n",
            "Loss:  0.07293496114806511\n",
            "train acc, test acc | 0.9716833333333333, 0.9657\n",
            "Loss:  0.1339197422079295\n",
            "train acc, test acc | 0.9722166666666666, 0.9652\n",
            "Loss:  0.2338908284132539\n",
            "train acc, test acc | 0.97265, 0.9651\n",
            "Loss:  0.0636088572366687\n",
            "train acc, test acc | 0.9731333333333333, 0.9655\n",
            "Loss:  0.17065453413141937\n",
            "train acc, test acc | 0.9735333333333334, 0.9664\n",
            "Loss:  0.060602924579589414\n",
            "train acc, test acc | 0.9734833333333334, 0.9657\n",
            "Loss:  0.0603259651529239\n",
            "train acc, test acc | 0.9743, 0.9668\n",
            "Loss:  0.16146249929369622\n",
            "train acc, test acc | 0.9742, 0.9665\n",
            "Loss:  0.06962792605149991\n",
            "train acc, test acc | 0.9747166666666667, 0.9672\n",
            "Loss:  0.08902316245074599\n",
            "train acc, test acc | 0.97505, 0.9672\n",
            "Loss:  0.07636617486459928\n",
            "train acc, test acc | 0.9753833333333334, 0.9669\n",
            "Loss:  0.0586974450351636\n",
            "train acc, test acc | 0.9762, 0.9678\n",
            "Loss:  0.10340650631825093\n",
            "train acc, test acc | 0.9763833333333334, 0.9682\n",
            "Loss:  0.13505052844404047\n",
            "train acc, test acc | 0.97665, 0.968\n",
            "Loss:  0.09828582519640268\n",
            "train acc, test acc | 0.9768833333333333, 0.9682\n",
            "Loss:  0.10661072292097776\n",
            "train acc, test acc | 0.9771, 0.9688\n",
            "Loss:  0.08098566475366545\n",
            "train acc, test acc | 0.9776333333333334, 0.9682\n",
            "Loss:  0.06663507716198556\n",
            "train acc, test acc | 0.9776333333333334, 0.9687\n",
            "Loss:  0.0766521910964074\n",
            "train acc, test acc | 0.97795, 0.9683\n",
            "Loss:  0.09512709271918379\n",
            "train acc, test acc | 0.9783666666666667, 0.9694\n",
            "Loss:  0.11679183532107837\n",
            "train acc, test acc | 0.9785666666666667, 0.9693\n",
            "Loss:  0.07608189372007726\n",
            "train acc, test acc | 0.979, 0.9706\n",
            "Loss:  0.07883465638600594\n",
            "train acc, test acc | 0.9791833333333333, 0.9692\n",
            "Loss:  0.08361847408065644\n",
            "train acc, test acc | 0.9795166666666667, 0.9701\n",
            "Loss:  0.07926453418993386\n",
            "train acc, test acc | 0.9799666666666667, 0.9704\n",
            "Loss:  0.04830425546435805\n",
            "train acc, test acc | 0.9798166666666667, 0.9713\n",
            "Loss:  0.06169233025283525\n",
            "train acc, test acc | 0.9803666666666667, 0.9708\n",
            "Loss:  0.13023864955877848\n",
            "train acc, test acc | 0.9806666666666667, 0.9701\n",
            "Loss:  0.11412245441633803\n",
            "train acc, test acc | 0.9805166666666667, 0.9715\n",
            "Loss:  0.109715608718284\n",
            "train acc, test acc | 0.9806166666666667, 0.9714\n",
            "Loss:  0.05800602417771726\n",
            "train acc, test acc | 0.9810833333333333, 0.9717\n",
            "Loss:  0.08729156397037509\n",
            "train acc, test acc | 0.9814833333333334, 0.9715\n",
            "Loss:  0.05928789274870807\n",
            "train acc, test acc | 0.9816333333333334, 0.9714\n",
            "Loss:  0.08538115372236293\n",
            "train acc, test acc | 0.9818666666666667, 0.9719\n",
            "Loss:  0.08395431496162399\n",
            "train acc, test acc | 0.9815666666666667, 0.9719\n",
            "Loss:  0.0270715630180103\n",
            "train acc, test acc | 0.9823, 0.9727\n",
            "Loss:  0.12693556872867784\n",
            "train acc, test acc | 0.98235, 0.9722\n",
            "Loss:  0.04329931795835353\n",
            "train acc, test acc | 0.9825166666666667, 0.9714\n",
            "Loss:  0.06727230776093905\n",
            "train acc, test acc | 0.9825333333333334, 0.9718\n"
          ],
          "name": "stdout"
        }
      ]
    },
    {
      "cell_type": "code",
      "metadata": {
        "colab": {
          "base_uri": "https://localhost:8080/",
          "height": 392
        },
        "id": "gPHhrsDztZUr",
        "outputId": "6a9f75cc-c42d-44b0-ca92-6c3fe35ad942"
      },
      "source": [
        "from matplotlib.pylab import rcParams\n",
        "rcParams['figure.figsize'] = 12, 6 \n",
        "\n",
        "# Accuracy 그래프 그리기\n",
        "markers = {'train': 'o', 'test': 's'}\n",
        "x = np.arange(len(train_acc_list))\n",
        "plt.plot(x, train_acc_list, label='train acc')\n",
        "plt.plot(x, test_acc_list, label='test acc', linestyle='--')\n",
        "plt.xlabel(\"epochs\")\n",
        "plt.ylabel(\"accuracy\")\n",
        "plt.ylim(0, 1.0)\n",
        "plt.legend(loc='lower right')\n",
        "plt.show()"
      ],
      "execution_count": 29,
      "outputs": [
        {
          "output_type": "display_data",
          "data": {
            "image/png": "[encoded data removed]",
            "text/plain": [
              "<Figure size 864x432 with 1 Axes>"
            ]
          },
          "metadata": {
            "tags": [],
            "needs_background": "light"
          }
        }
      ]
    },
    {
      "cell_type": "code",
      "metadata": {
        "colab": {
          "base_uri": "https://localhost:8080/",
          "height": 392
        },
        "id": "u3T7VXtHtbV_",
        "outputId": "11f1470e-f2dc-4ed2-b6e1-1431a9ef0985"
      },
      "source": [
        "# Loss 그래프 그리기\n",
        "x = np.arange(len(train_loss_list))\n",
        "plt.plot(x, train_loss_list, label='train acc')\n",
        "plt.xlabel(\"epochs\")\n",
        "plt.ylabel(\"Loss\")\n",
        "plt.ylim(0, 3.0)\n",
        "plt.legend(loc='best')\n",
        "plt.show()"
      ],
      "execution_count": 30,
      "outputs": [
        {
          "output_type": "display_data",
          "data": {
            "image/png": "[encoded data removed]",
            "text/plain": [
              "<Figure size 864x432 with 1 Axes>"
            ]
          },
          "metadata": {
            "tags": [],
            "needs_background": "light"
          }
        }
      ]
    },
    {
      "cell_type": "code",
      "metadata": {
        "id": "Oo-IuIWGtcTW"
      },
      "source": [
        ""
      ],
      "execution_count": 30,
      "outputs": []
    }
  ]
}