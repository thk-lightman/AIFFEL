{
  "nbformat": 4,
  "nbformat_minor": 0,
  "metadata": {
    "colab": {
      "name": "Untitled26.ipynb",
      "private_outputs": true,
      "provenance": [],
      "authorship_tag": "ABX9TyPRhff6VTPbtQt5hGqUTP7z",
      "include_colab_link": true
    },
    "kernelspec": {
      "name": "python3",
      "display_name": "Python 3"
    },
    "language_info": {
      "name": "python"
    }
  },
  "cells": [
    {
      "cell_type": "markdown",
      "metadata": {
        "id": "view-in-github",
        "colab_type": "text"
      },
      "source": [
        "<a href=\"https://colab.research.google.com/github/t1seo/AIFFEL/blob/master/FUNDAMENTALS/13.ipynb\" target=\"_parent\"><img src=\"https://colab.research.google.com/assets/colab-badge.svg\" alt=\"Open In Colab\"/></a>"
      ]
    },
    {
      "cell_type": "markdown",
      "metadata": {
        "id": "3fSP_1uMhB8o"
      },
      "source": [
        "# 13. 당신의 행운의 숫자는? 나만의 n면체 주사위 위젯 만들기\n",
        "\n"
      ]
    },
    {
      "cell_type": "markdown",
      "metadata": {
        "id": "0JHgSngDhQ5o"
      },
      "source": [
        "## 13-1. 들어가며"
      ]
    },
    {
      "cell_type": "markdown",
      "metadata": {
        "id": "ebj9M0hAhTLs"
      },
      "source": [
        "## 13-2. 객체 지향 프로그래밍 (1) 객체란?"
      ]
    },
    {
      "cell_type": "markdown",
      "metadata": {
        "id": "VC-tl_vXhXVQ"
      },
      "source": [
        "### 1) 객체\n",
        "> Everything in Python is an object, and almost everything has attributes and methods.\n",
        "\n",
        "- [Everything is an Object](https://linux.die.net/diveintopython/html/getting_to_know_python/everything_is_an_object.html)\n",
        "\n",
        "파이썬에서 object라 불리는 것들은 모두 변수에 할당 될 수 있고, 함수의 인자로 넘겨질 수 있는 것들이다. 그러므로 파이썬에 나오는 모든 것들은 object이다."
      ]
    },
    {
      "cell_type": "markdown",
      "metadata": {
        "id": "FTTg9w1Qhcro"
      },
      "source": [
        "### 2) 변수"
      ]
    },
    {
      "cell_type": "code",
      "metadata": {
        "id": "zwD0u_RCh96E"
      },
      "source": [
        "var = 'cat'"
      ],
      "execution_count": null,
      "outputs": []
    },
    {
      "cell_type": "code",
      "metadata": {
        "id": "LoKfZAXhiFRf"
      },
      "source": [
        "var.upper()"
      ],
      "execution_count": null,
      "outputs": []
    },
    {
      "cell_type": "markdown",
      "metadata": {
        "id": "Bz_nuJP_iGZl"
      },
      "source": [
        "- [참고: 파이썬 공식 문서: id() 함수](https://docs.python.org/3/library/functions.html#id)"
      ]
    },
    {
      "cell_type": "code",
      "metadata": {
        "id": "CEASLmL8im_M"
      },
      "source": [
        "var = 4\n",
        "\n",
        "print(id(var), id(4)) # id가 같다"
      ],
      "execution_count": null,
      "outputs": []
    },
    {
      "cell_type": "markdown",
      "metadata": {
        "id": "BeY2j7T7iou1"
      },
      "source": [
        "### 3) 얕은 복사, 깊은 복사"
      ]
    },
    {
      "cell_type": "code",
      "metadata": {
        "id": "4kwxWATfi0Ed"
      },
      "source": [
        "mylist = [1, 2, 3]\n",
        "var = mylist\n",
        "\n",
        "mylist.append(4)\n",
        "print(var)\n",
        "print(mylist)"
      ],
      "execution_count": null,
      "outputs": []
    },
    {
      "cell_type": "code",
      "metadata": {
        "id": "KG9YnwXAi8Hp"
      },
      "source": [
        "print(id(var))\n",
        "print(id(mylist))"
      ],
      "execution_count": null,
      "outputs": []
    },
    {
      "cell_type": "markdown",
      "metadata": {
        "id": "_5kxwe7Ci-6C"
      },
      "source": [
        "- [파이썬 공식 문서: copy() 모듈](https://docs.python.org/3/library/copy.html)"
      ]
    },
    {
      "cell_type": "markdown",
      "metadata": {
        "id": "in0bkqhojGtc"
      },
      "source": [
        "## 13-3. 객체 지향 프로그래밍 (2) 객체 지향 프로그래밍이란?\n",
        "\n",
        "- [객체 지향이란 무엇인가 - 절차지향과의 차이점](https://pjh3749.tistory.com/244)"
      ]
    },
    {
      "cell_type": "markdown",
      "metadata": {
        "id": "SlnMGGmWjKMW"
      },
      "source": [
        "## 13-4. 클래스 기본 문법 (1) 클래스 선언 및 인스턴스화"
      ]
    },
    {
      "cell_type": "markdown",
      "metadata": {
        "id": "D2luzZRjjV4F"
      },
      "source": [
        "### 클래스 선언"
      ]
    },
    {
      "cell_type": "code",
      "metadata": {
        "id": "ihmt5RAWjZUE"
      },
      "source": [
        "class Car:\n",
        "    pass\n",
        "\n",
        "class Car():\n",
        "    pass\n",
        "\n",
        "#id(Car)는 여러번 호출해도 같은 값이 얻어집니다. \n",
        "print(id(Car))\n",
        "print(id(Car))\n",
        "\n",
        "#id(Car())는 Car()가 호출될 때마다 다른 값이 얻어집니다. \n",
        "print(id(Car()))\n",
        "print(id(Car()))\n",
        "\n",
        "# 두 객체의 type을 살펴봅니다. \n",
        "print(type(Car))\n",
        "print(type(Car()))"
      ],
      "execution_count": null,
      "outputs": []
    },
    {
      "cell_type": "markdown",
      "metadata": {
        "id": "oFnzH9HNjcOQ"
      },
      "source": [
        "- `Car()`를 호출할 떄마다 새로운 `Car` 타입의 객체가 생성된다.\n",
        "- `id(Car)`의 값은 몇 번 호출되더라도 동일하지만 `id(Car())`는 호출될 떄마다 다른 id 값을 가진다.\n",
        "- `Car` 클래스는 `type` 유형의 객체이다. `Car()`가 호출될 떄 `Car` 타입의 객체가 생성된다."
      ]
    },
    {
      "cell_type": "markdown",
      "metadata": {
        "id": "VQSfbHn0kJpz"
      },
      "source": [
        "### 클래스 사용 - 객체 인스턴스화\n"
      ]
    },
    {
      "cell_type": "code",
      "metadata": {
        "id": "D17j7VEFkNrn"
      },
      "source": [
        "mycar = Car()\n",
        "mycar2 = Car()\n",
        "print(id(mycar))\n",
        "print(id(mycar2))"
      ],
      "execution_count": null,
      "outputs": []
    },
    {
      "cell_type": "markdown",
      "metadata": {
        "id": "G-NbE1HykOzc"
      },
      "source": [
        "### 표기법\n",
        "\n",
        "- [PEP 8 -- Style Guide for Python Code](https://www.python.org/dev/peps/pep-0008/)\n",
        "---\n",
        "- 클래스명 표기법: 카멜 케이스\n",
        "- 함수명 표기법: 스네이크 케이스\n",
        "\n",
        "\n",
        "클래스명은 주로 명사로, 함수명은 주로 동사로 명명한다."
      ]
    },
    {
      "cell_type": "markdown",
      "metadata": {
        "id": "GswMZWhOkSB3"
      },
      "source": [
        "## 13-5. 클래스 기본 문법 (2) 클래스 속성과 메소드\n",
        "![image.png](data:image/png;base64,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)"
      ]
    },
    {
      "cell_type": "markdown",
      "metadata": {
        "id": "mTfM8Uv6pNp0"
      },
      "source": [
        "**self**\n",
        "- `self`는 자기 자신입니다.\n",
        "- 클래스에 의해 생성된 객체(인스턴스)를 가리킵니다.\n",
        "- 클래스의 메서드는 인자로 해당 인스턴스(`self`)를 받아야 합니다.\n",
        "- 메소드를 호출할 때는 `self` 인자를 전달하지 않습니다. self의 값은 인터프리터가 제공합니다.\n",
        "- 인스턴스 변수를 정의할 때에는 접두사 `self.`을 붙여줍니다."
      ]
    },
    {
      "cell_type": "markdown",
      "metadata": {
        "id": "flNy6rirqGPU"
      },
      "source": [
        "## 13-6. 클래스 기본 문법 (3) 생성자"
      ]
    },
    {
      "cell_type": "markdown",
      "metadata": {
        "id": "cKtvhL1uqIjx"
      },
      "source": [
        "### 생성자 `__init__`\n",
        "- [파이썬 문서-클래스](https://docs.python.org/3.8/tutorial/classes.html)\n",
        "\n",
        "---\n",
        "- `__init__`이라고 쓰고, \"던더(Double Under) 이닛\"이라고 발음합니다.\n",
        "- 다른 객체 지향 언어를 알고 있는 독자라면 생성자라는 말을 들으면 객체 인스턴스화와 초기화 2가지 작업을 생각할 수 있습니다.\n",
        "- 그러나 파이썬의 생성자는 초기화만 수행합니다. 그럼 객체 인스턴스화는 누가 할까요? 기억나시나요? 네, 바로 클래스 사용 시 변수 할당을 통해 이루어집니다.\n",
        "- 그리고 이 `__init__`처럼 앞뒤에 언더바(_)가 두 개씩 있는 **메소드**를 매직 메소드 라고 합니다.\n",
        "- 매직 메서드에 대해 더 알아보고 싶은 분은 여기 링크를 참고해 보세요. \n",
        "\n",
        "\n",
        "\n",
        "[https://rszalski.github.io/magicmethods/](https://rszalski.github.io/magicmethods/)\n"
      ]
    },
    {
      "cell_type": "markdown",
      "metadata": {
        "id": "eOqXVurXq9aE"
      },
      "source": [
        "## 13-7. 클래스 기본 문법 (4) 클래스 변수와 인스턴스 변수"
      ]
    },
    {
      "cell_type": "code",
      "metadata": {
        "id": "PJBni3nVrbx9"
      },
      "source": [
        "class Car:\n",
        "    Manufacture = \"India\" # 클래스 변수\n",
        "\n",
        "    def __init__(self, color, category='sedan'):\n",
        "        self.color = color # 인스턴스 변수\n",
        "        self.category = category"
      ],
      "execution_count": null,
      "outputs": []
    },
    {
      "cell_type": "code",
      "metadata": {
        "id": "X2m_6sE2r07Q"
      },
      "source": [
        "car1 = Car('red','sports car')\n",
        "car2 = Car('white')\n",
        "print(car1.Manufacture, car1.color, car1.category)\n",
        "print(car2.Manufacture, car2.color, car2.category)"
      ],
      "execution_count": null,
      "outputs": []
    },
    {
      "cell_type": "markdown",
      "metadata": {
        "id": "dBEnNK48r1J0"
      },
      "source": [
        "**클래스 변수**\n",
        "\n",
        "- 클래스에 바로 선언된 속성을 클래스 변수라고 하며 클래스에 의해 생성된 **모든 객체에서 같은 값을 조회**할 때 가능합니다.\n",
        "- Manufacture는 클래스 변수에요.\n",
        "- Manufacture 속성은 car1과 car2가 공유합니다.\n",
        "\n",
        "**인스턴스 변수**\n",
        "\n",
        "- `__init__()` 안에서 `self`를 사용해 선언된 변수를 인스턴스 변수라고 합니다. 객체가 인스턴스화될 때마다 새로운 값이 할당되며 서로 다른 객체 간에는 값을 공유할 수 없습니다.\n",
        "- color와 category는 인스턴스 변수에요.\n",
        "- color와 category 속성은 car1과 car2가 공유하지 않습니다."
      ]
    },
    {
      "cell_type": "markdown",
      "metadata": {
        "id": "bOxuL7-gsDDL"
      },
      "source": [
        "## 13-8. 객체 지향 프로그래밍을 하는 이유\n",
        "\n",
        "- [위키피디아-추상화(컴퓨터 과학)](https://ko.wikipedia.org/wiki/%EC%B6%94%EC%83%81%ED%99%94_(%EC%BB%B4%ED%93%A8%ED%84%B0_%EA%B3%BC%ED%95%99))\n",
        "- [위키피디아-캡슐화](https://ko.wikipedia.org/wiki/%EC%BA%A1%EC%8A%90%ED%99%94)\n",
        "---\n",
        "- 추상화(abstraction): 컴퓨터 과학에서 추상화는 복잡한 자료, 모듈, 시스템 등으로부터 핵심적인 개념 또는 기능을 간추려 내는 것을 말한다.\n",
        "- 캡슐화(encapsulation): 객체의 속성(data fields)과 행위(methods)를 하나로 묶는다. 실제 구현 내용 일부를 외부에 감추어 은닉한다.(-> 모듈, 패키지, 라이브러리)"
      ]
    },
    {
      "cell_type": "markdown",
      "metadata": {
        "id": "FyDz1CrCsFVi"
      },
      "source": [
        "## 13-9. 클래스, 조금 더 알아보기 - 상속\n",
        "- 상속받은 클래스를 **\"자식 클래스\", \"서브 클래스(sub class)\", \"파생된 클래스(derived class)\"**라고 합니다.\n",
        "- 기존 클래스를 **\"부모 클래스\", \"슈퍼 클래스(super class)\", \"베이스 클래스(base class)\"**라고 합니다."
      ]
    },
    {
      "cell_type": "markdown",
      "metadata": {
        "id": "MtkbIs5mswNB"
      },
      "source": [
        "### 상속 사용하기\n",
        "- 메소드 추가하기(add)\n",
        "- 메소드 재정의하기(override)\n",
        "- 부모 메소드 호출하기(`super()`)\n",
        "\n",
        "상속받은 클래스에서 없는 메소드를 정의 하는 것을 메소드 추가라고 하고 상속받은 클래스에서 있는 메소드를 다시 정의하는 것을 메소드 오버라이드라 하낟.\n",
        "\n",
        "\n",
        "---\n",
        "\n",
        "- [Built-in Functions (super()) - Python 3.8.2 documentation](https://docs.python.org/3/library/functions.html#super)"
      ]
    },
    {
      "cell_type": "code",
      "metadata": {
        "id": "YqioQBDUuqHx"
      },
      "source": [
        ""
      ],
      "execution_count": null,
      "outputs": []
    }
  ]
}